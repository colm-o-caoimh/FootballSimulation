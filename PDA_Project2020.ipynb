{
 "cells": [
  {
   "cell_type": "markdown",
   "metadata": {},
   "source": [
    "# Programming for Data Analytics Project 2020\n",
    "***\n",
    "\n"
   ]
  },
  {
   "cell_type": "markdown",
   "metadata": {},
   "source": [
    "### Project brief\n",
    "\n",
    "For this project you must create a data set by simulating a real-world phenomenon of your choosing.  You may pick any phenomenon you wish. Then, rather than collect data related to the phenomenon, you should model and synthesise such data using Python. We suggest you use the `numpy.random` package for this purpose. Specifically, in this project you should:\n",
    "\n",
    "* Choose a real-world phenomenon that can be measured and for which you could collect at least one-hundred data points across at least four different variables.\n",
    "* Investigate  the  types  of  variables  involved,  their  likely  distributions,  and  their relationships with each other.\n",
    "* Synthesise/simulate a data set as closely matching their properties as possible.\n",
    "* Detail your research and implement the simulation in a Jupyter notebook – the data set itself can simply be displayed in an output cell within the notebook."
   ]
  },
  {
   "cell_type": "markdown",
   "metadata": {},
   "source": [
    "<br>\n",
    "\n"
   ]
  },
  {
   "cell_type": "markdown",
   "metadata": {},
   "source": [
    "## Introduction\n",
    "\n",
    "I have divided this project into 4 sections, each one representing a bullet point listed in the brief above. \n"
   ]
  },
  {
   "cell_type": "markdown",
   "metadata": {},
   "source": [
    "<br>\n",
    "\n"
   ]
  },
  {
   "cell_type": "markdown",
   "metadata": {},
   "source": [
    "## 1. Phenomenon - football team performance\n",
    "***"
   ]
  },
  {
   "cell_type": "markdown",
   "metadata": {},
   "source": [
    "For this project, I synthesise a data set containing 4 variables related to team performance in football. It contains 200 observations, with each representing an individual football match. For the most part, my simualated data is based on a dataset from the English Premier League 2018/2019 season [1]. Each observation is from one team's perspective - the home team.\n",
    "\n",
    "3 of the variables are taken directly from the this real world data set - *shots, possession* and *result*. The fourth - *BMI* - represents the average BMI of the team concerned. I decided to add this variable myself to make the simulated data more interesting, as the original data set does not contain any useful continuous variables. The idea of introducing a continuous variable was influenced by an informative blog entry on data siumulation found on alteryx.com [2]. The values for BMI will not be simulated based on the body mass index of Premier League players, rather they will be drawn from the observed BMI of the average male in the UK.\n",
    "\n",
    "My final synthesised data set therefore will not be fully representative of Premier League matches. It will contain BMI values more likely to be found in an amateur pub league teams.\n",
    "\n",
    "On a personal level, the most interesting variable is the result of each match (win, loss or draw). More specifically, I am curious to investigate and simulate the variables which may give an good indication as to the outcome of a match. \n",
    "\n",
    "In order to accurately simulate the real world data, it is necessary to examine the properties of these variables. This includes establishing the distribution of each one as well as the relationship between each of the them. \n",
    "<br>\n",
    "\n",
    "\n",
    "\n",
    "\n",
    "\n"
   ]
  },
  {
   "cell_type": "markdown",
   "metadata": {},
   "source": [
    "<br>\n",
    "\n",
    "***"
   ]
  },
  {
   "cell_type": "markdown",
   "metadata": {},
   "source": [
    "## 2. Investigation of variables\n",
    "***\n",
    "\n",
    "<br>"
   ]
  },
  {
   "cell_type": "markdown",
   "metadata": {},
   "source": [
    "As detailed above, I am interested in simulating football team performance and investigating the properties of the variables which impact the outcome of the match. The real world dataset includes data for both home and away teams. For the purposes of this project, I isolate the data for the home team so that each observation is from a single team's perspective. My rationale for selecting the for variables is as follows:\n",
    "\n",
    "#### Possession\n",
    "Possession in football has long been the focus of analysis of performance and results. Over time, as the game of football has evolved, high possession rate has become less of an indicator of match victory (and conversely for low possession rate and match loss). Its influence on the match result has fluctuated, yet it is always central in the analysis of any match. When Inter Milan beat Barcelona in the 2010 Champions League final with only 16% possession, it was heralded by some commentators as a turning point in match tactics [3]. I was keen to investigate this premier league season to determine how impactful possession was in the outcome of games. As we will see below, there is a clear and visible positive linear relationship between possession and shots.\n",
    "\n",
    "#### Shots\n",
    "The shots variable is self-explanatory. It is no surprise that the more shots on goal a team has, the more likely their chance of scoring and thus winning. This is borne out by the real world data as explored below.\n",
    "\n",
    "#### BMI\n",
    "There are a number of reasons for which I decided to add a BMI variable:\n",
    "\n",
    "* Firstly, as an amateur football player myself having played in many amateur but competitive leagues, there is a visible, increased variance in the BMI of the players in these leagues. On a personal level, I wonder to what extent it impacts the outcome of the matches across an entire season.\n",
    "* Second, the source data set does not have many interesting continuous variables which have a bearing on the result. * Third, I wanted to simulate variables with an inverse relationship given that the other two independent variables are positively correlated. \n",
    "\n",
    "With the BMI variable, I have taken some liberties to \"force\" it into my data set. In the real world, average BMI does not vary significantly from team to team. These are elite professionals who have access to strength and conditioning coaches of the highest calibre. However it is worth noting that \"the top six teams in England were taller and leaner than the less successful teams in the league\" [5]. This is an indication that lower BMI is associated with better performance in football even at elite level, with a much narrower lower standard deviation.\n",
    "\n",
    "#### Result\n",
    "'Result' will be the dependent variable in my simulated data set. I will investigate the properties of the other three variables relative to each of the three possible results - win, lose or draw. \n",
    "\n",
    "<br>\n",
    "\n"
   ]
  },
  {
   "cell_type": "markdown",
   "metadata": {},
   "source": [
    "### 2.1 Data preparation\n",
    "\n",
    "<br>"
   ]
  },
  {
   "cell_type": "markdown",
   "metadata": {},
   "source": [
    "Firstly, I import the relevant Python packages for investigaion and simulation. "
   ]
  },
  {
   "cell_type": "code",
   "execution_count": 1,
   "metadata": {},
   "outputs": [],
   "source": [
    "#!pip install seaborn --upgrade"
   ]
  },
  {
   "cell_type": "code",
   "execution_count": 2,
   "metadata": {},
   "outputs": [],
   "source": [
    "#import seaborn as sns\n",
    "#sns.__version__"
   ]
  },
  {
   "cell_type": "code",
   "execution_count": 3,
   "metadata": {},
   "outputs": [],
   "source": [
    "import numpy as np\n",
    "import pandas as pd\n",
    "import matplotlib.pyplot as plt\n",
    "import seaborn as sns\n",
    "\n",
    "plt.style.use('fivethirtyeight')"
   ]
  },
  {
   "cell_type": "markdown",
   "metadata": {},
   "source": [
    "<br>\n",
    "\n",
    "Next, I read in the csv file which contains the necessary real world data and perform some basic operations on it to get an overview of the data."
   ]
  },
  {
   "cell_type": "code",
   "execution_count": 4,
   "metadata": {},
   "outputs": [],
   "source": [
    "# Read in csv file\n",
    "df = pd.read_csv(\"pl_stats.csv.html\")"
   ]
  },
  {
   "cell_type": "code",
   "execution_count": 5,
   "metadata": {},
   "outputs": [
    {
     "name": "stdout",
     "output_type": "stream",
     "text": [
      "<class 'pandas.core.frame.DataFrame'>\n",
      "RangeIndex: 380 entries, 0 to 379\n",
      "Data columns (total 64 columns):\n",
      " #   Column                               Non-Null Count  Dtype  \n",
      "---  ------                               --------------  -----  \n",
      " 0   timestamp                            380 non-null    int64  \n",
      " 1   date_GMT                             380 non-null    object \n",
      " 2   status                               380 non-null    object \n",
      " 3   attendance                           380 non-null    int64  \n",
      " 4   home_team_name                       380 non-null    object \n",
      " 5   away_team_name                       380 non-null    object \n",
      " 6   referee                              380 non-null    object \n",
      " 7   Game Week                            380 non-null    int64  \n",
      " 8   Pre-Match PPG (Home)                 380 non-null    float64\n",
      " 9   Pre-Match PPG (Away)                 380 non-null    float64\n",
      " 10  home_ppg                             380 non-null    float64\n",
      " 11  away_ppg                             380 non-null    float64\n",
      " 12  home_team_goal_count                 380 non-null    int64  \n",
      " 13  away_team_goal_count                 380 non-null    int64  \n",
      " 14  total_goal_count                     380 non-null    int64  \n",
      " 15  total_goals_at_half_time             380 non-null    int64  \n",
      " 16  home_team_goal_count_half_time       380 non-null    int64  \n",
      " 17  away_team_goal_count_half_time       380 non-null    int64  \n",
      " 18  home_team_goal_timings               292 non-null    object \n",
      " 19  away_team_goal_timings               261 non-null    object \n",
      " 20  home_team_corner_count               380 non-null    int64  \n",
      " 21  away_team_corner_count               380 non-null    int64  \n",
      " 22  home_team_yellow_cards               380 non-null    int64  \n",
      " 23  home_team_red_cards                  380 non-null    int64  \n",
      " 24  away_team_yellow_cards               380 non-null    int64  \n",
      " 25  away_team_red_cards                  380 non-null    int64  \n",
      " 26  home_team_first_half_cards           380 non-null    int64  \n",
      " 27  home_team_second_half_cards          380 non-null    int64  \n",
      " 28  away_team_first_half_cards           380 non-null    int64  \n",
      " 29  away_team_second_half_cards          380 non-null    int64  \n",
      " 30  home_team_shots                      380 non-null    int64  \n",
      " 31  away_team_shots                      380 non-null    int64  \n",
      " 32  home_team_shots_on_target            380 non-null    int64  \n",
      " 33  away_team_shots_on_target            380 non-null    int64  \n",
      " 34  home_team_shots_off_target           380 non-null    int64  \n",
      " 35  away_team_shots_off_target           380 non-null    int64  \n",
      " 36  home_team_fouls                      380 non-null    int64  \n",
      " 37  away_team_fouls                      380 non-null    int64  \n",
      " 38  home_team_possession                 380 non-null    int64  \n",
      " 39  away_team_possession                 380 non-null    int64  \n",
      " 40  team_a_xg                            380 non-null    float64\n",
      " 41  team_b_xg                            380 non-null    float64\n",
      " 42  average_goals_per_match_pre_match    380 non-null    float64\n",
      " 43  btts_percentage_pre_match            380 non-null    int64  \n",
      " 44  over_15_percentage_pre_match         380 non-null    int64  \n",
      " 45  over_25_percentage_pre_match         380 non-null    int64  \n",
      " 46  over_35_percentage_pre_match         380 non-null    int64  \n",
      " 47  over_45_percentage_pre_match         380 non-null    int64  \n",
      " 48  over_15_HT_FHG_percentage_pre_match  380 non-null    int64  \n",
      " 49  over_05_HT_FHG_percentage_pre_match  380 non-null    int64  \n",
      " 50  over_15_2HG_percentage_pre_match     380 non-null    int64  \n",
      " 51  over_05_2HG_percentage_pre_match     380 non-null    int64  \n",
      " 52  average_corners_per_match_pre_match  380 non-null    float64\n",
      " 53  average_cards_per_match_pre_match    380 non-null    float64\n",
      " 54  odds_ft_home_team_win                380 non-null    float64\n",
      " 55  odds_ft_draw                         380 non-null    float64\n",
      " 56  odds_ft_away_team_win                380 non-null    float64\n",
      " 57  odds_ft_over15                       380 non-null    float64\n",
      " 58  odds_ft_over25                       380 non-null    float64\n",
      " 59  odds_ft_over35                       380 non-null    float64\n",
      " 60  odds_ft_over45                       380 non-null    float64\n",
      " 61  odds_btts_yes                        380 non-null    float64\n",
      " 62  odds_btts_no                         380 non-null    float64\n",
      " 63  stadium_name                         380 non-null    object \n",
      "dtypes: float64(18), int64(38), object(8)\n",
      "memory usage: 190.1+ KB\n"
     ]
    }
   ],
   "source": [
    "# The .info method gives us an overview of the data types of each variable\n",
    "df.info()"
   ]
  },
  {
   "cell_type": "code",
   "execution_count": 6,
   "metadata": {},
   "outputs": [
    {
     "data": {
      "text/html": [
       "<div>\n",
       "<style scoped>\n",
       "    .dataframe tbody tr th:only-of-type {\n",
       "        vertical-align: middle;\n",
       "    }\n",
       "\n",
       "    .dataframe tbody tr th {\n",
       "        vertical-align: top;\n",
       "    }\n",
       "\n",
       "    .dataframe thead th {\n",
       "        text-align: right;\n",
       "    }\n",
       "</style>\n",
       "<table border=\"1\" class=\"dataframe\">\n",
       "  <thead>\n",
       "    <tr style=\"text-align: right;\">\n",
       "      <th></th>\n",
       "      <th>timestamp</th>\n",
       "      <th>attendance</th>\n",
       "      <th>Game Week</th>\n",
       "      <th>Pre-Match PPG (Home)</th>\n",
       "      <th>Pre-Match PPG (Away)</th>\n",
       "      <th>home_ppg</th>\n",
       "      <th>away_ppg</th>\n",
       "      <th>home_team_goal_count</th>\n",
       "      <th>away_team_goal_count</th>\n",
       "      <th>total_goal_count</th>\n",
       "      <th>...</th>\n",
       "      <th>average_cards_per_match_pre_match</th>\n",
       "      <th>odds_ft_home_team_win</th>\n",
       "      <th>odds_ft_draw</th>\n",
       "      <th>odds_ft_away_team_win</th>\n",
       "      <th>odds_ft_over15</th>\n",
       "      <th>odds_ft_over25</th>\n",
       "      <th>odds_ft_over35</th>\n",
       "      <th>odds_ft_over45</th>\n",
       "      <th>odds_btts_yes</th>\n",
       "      <th>odds_btts_no</th>\n",
       "    </tr>\n",
       "  </thead>\n",
       "  <tbody>\n",
       "    <tr>\n",
       "      <th>count</th>\n",
       "      <td>3.800000e+02</td>\n",
       "      <td>380.000000</td>\n",
       "      <td>380.000000</td>\n",
       "      <td>380.000000</td>\n",
       "      <td>380.000000</td>\n",
       "      <td>380.000000</td>\n",
       "      <td>380.000000</td>\n",
       "      <td>380.000000</td>\n",
       "      <td>380.000000</td>\n",
       "      <td>380.000000</td>\n",
       "      <td>...</td>\n",
       "      <td>380.000000</td>\n",
       "      <td>380.000000</td>\n",
       "      <td>380.000000</td>\n",
       "      <td>380.000000</td>\n",
       "      <td>380.000000</td>\n",
       "      <td>380.000000</td>\n",
       "      <td>380.000000</td>\n",
       "      <td>380.000000</td>\n",
       "      <td>380.000000</td>\n",
       "      <td>380.000000</td>\n",
       "    </tr>\n",
       "    <tr>\n",
       "      <th>mean</th>\n",
       "      <td>1.546145e+09</td>\n",
       "      <td>38186.847368</td>\n",
       "      <td>19.500000</td>\n",
       "      <td>1.480895</td>\n",
       "      <td>1.167632</td>\n",
       "      <td>1.615500</td>\n",
       "      <td>1.198000</td>\n",
       "      <td>1.568421</td>\n",
       "      <td>1.252632</td>\n",
       "      <td>2.821053</td>\n",
       "      <td>...</td>\n",
       "      <td>3.354763</td>\n",
       "      <td>3.219421</td>\n",
       "      <td>4.471316</td>\n",
       "      <td>5.381816</td>\n",
       "      <td>1.261000</td>\n",
       "      <td>1.821474</td>\n",
       "      <td>3.101158</td>\n",
       "      <td>5.897763</td>\n",
       "      <td>1.842316</td>\n",
       "      <td>1.908868</td>\n",
       "    </tr>\n",
       "    <tr>\n",
       "      <th>std</th>\n",
       "      <td>6.877351e+06</td>\n",
       "      <td>16720.334767</td>\n",
       "      <td>10.980313</td>\n",
       "      <td>0.831446</td>\n",
       "      <td>0.761209</td>\n",
       "      <td>0.590587</td>\n",
       "      <td>0.534085</td>\n",
       "      <td>1.312836</td>\n",
       "      <td>1.180031</td>\n",
       "      <td>1.601312</td>\n",
       "      <td>...</td>\n",
       "      <td>1.169849</td>\n",
       "      <td>2.962683</td>\n",
       "      <td>1.906924</td>\n",
       "      <td>5.540953</td>\n",
       "      <td>0.107498</td>\n",
       "      <td>0.312900</td>\n",
       "      <td>0.833400</td>\n",
       "      <td>2.032061</td>\n",
       "      <td>0.214528</td>\n",
       "      <td>0.228041</td>\n",
       "    </tr>\n",
       "    <tr>\n",
       "      <th>min</th>\n",
       "      <td>1.533928e+09</td>\n",
       "      <td>9980.000000</td>\n",
       "      <td>1.000000</td>\n",
       "      <td>0.000000</td>\n",
       "      <td>0.000000</td>\n",
       "      <td>0.470000</td>\n",
       "      <td>0.260000</td>\n",
       "      <td>0.000000</td>\n",
       "      <td>0.000000</td>\n",
       "      <td>0.000000</td>\n",
       "      <td>...</td>\n",
       "      <td>0.000000</td>\n",
       "      <td>1.070000</td>\n",
       "      <td>2.900000</td>\n",
       "      <td>1.120000</td>\n",
       "      <td>1.050000</td>\n",
       "      <td>1.200000</td>\n",
       "      <td>1.540000</td>\n",
       "      <td>2.300000</td>\n",
       "      <td>1.430000</td>\n",
       "      <td>1.380000</td>\n",
       "    </tr>\n",
       "    <tr>\n",
       "      <th>25%</th>\n",
       "      <td>1.540656e+09</td>\n",
       "      <td>25034.750000</td>\n",
       "      <td>10.000000</td>\n",
       "      <td>1.000000</td>\n",
       "      <td>0.630000</td>\n",
       "      <td>1.210000</td>\n",
       "      <td>0.840000</td>\n",
       "      <td>1.000000</td>\n",
       "      <td>0.000000</td>\n",
       "      <td>2.000000</td>\n",
       "      <td>...</td>\n",
       "      <td>2.922500</td>\n",
       "      <td>1.570000</td>\n",
       "      <td>3.350000</td>\n",
       "      <td>2.300000</td>\n",
       "      <td>1.180000</td>\n",
       "      <td>1.585000</td>\n",
       "      <td>2.450000</td>\n",
       "      <td>4.437500</td>\n",
       "      <td>1.690000</td>\n",
       "      <td>1.740000</td>\n",
       "    </tr>\n",
       "    <tr>\n",
       "      <th>50%</th>\n",
       "      <td>1.546018e+09</td>\n",
       "      <td>31948.000000</td>\n",
       "      <td>19.500000</td>\n",
       "      <td>1.470000</td>\n",
       "      <td>1.075000</td>\n",
       "      <td>1.475000</td>\n",
       "      <td>1.160000</td>\n",
       "      <td>1.000000</td>\n",
       "      <td>1.000000</td>\n",
       "      <td>3.000000</td>\n",
       "      <td>...</td>\n",
       "      <td>3.500000</td>\n",
       "      <td>2.300000</td>\n",
       "      <td>3.750000</td>\n",
       "      <td>3.350000</td>\n",
       "      <td>1.250000</td>\n",
       "      <td>1.770000</td>\n",
       "      <td>2.950000</td>\n",
       "      <td>5.500000</td>\n",
       "      <td>1.830000</td>\n",
       "      <td>1.890000</td>\n",
       "    </tr>\n",
       "    <tr>\n",
       "      <th>75%</th>\n",
       "      <td>1.551541e+09</td>\n",
       "      <td>53282.750000</td>\n",
       "      <td>29.000000</td>\n",
       "      <td>2.062500</td>\n",
       "      <td>1.610000</td>\n",
       "      <td>1.917500</td>\n",
       "      <td>1.542500</td>\n",
       "      <td>2.000000</td>\n",
       "      <td>2.000000</td>\n",
       "      <td>4.000000</td>\n",
       "      <td>...</td>\n",
       "      <td>4.000000</td>\n",
       "      <td>3.350000</td>\n",
       "      <td>4.850000</td>\n",
       "      <td>6.312500</td>\n",
       "      <td>1.330000</td>\n",
       "      <td>2.000000</td>\n",
       "      <td>3.600000</td>\n",
       "      <td>7.050000</td>\n",
       "      <td>1.962500</td>\n",
       "      <td>2.050000</td>\n",
       "    </tr>\n",
       "    <tr>\n",
       "      <th>max</th>\n",
       "      <td>1.557670e+09</td>\n",
       "      <td>81332.000000</td>\n",
       "      <td>38.000000</td>\n",
       "      <td>3.000000</td>\n",
       "      <td>3.000000</td>\n",
       "      <td>2.840000</td>\n",
       "      <td>2.320000</td>\n",
       "      <td>6.000000</td>\n",
       "      <td>6.000000</td>\n",
       "      <td>8.000000</td>\n",
       "      <td>...</td>\n",
       "      <td>8.000000</td>\n",
       "      <td>22.000000</td>\n",
       "      <td>15.750000</td>\n",
       "      <td>42.750000</td>\n",
       "      <td>1.570000</td>\n",
       "      <td>2.750000</td>\n",
       "      <td>5.650000</td>\n",
       "      <td>15.000000</td>\n",
       "      <td>2.800000</td>\n",
       "      <td>2.550000</td>\n",
       "    </tr>\n",
       "  </tbody>\n",
       "</table>\n",
       "<p>8 rows × 56 columns</p>\n",
       "</div>"
      ],
      "text/plain": [
       "          timestamp    attendance   Game Week  Pre-Match PPG (Home)  \\\n",
       "count  3.800000e+02    380.000000  380.000000            380.000000   \n",
       "mean   1.546145e+09  38186.847368   19.500000              1.480895   \n",
       "std    6.877351e+06  16720.334767   10.980313              0.831446   \n",
       "min    1.533928e+09   9980.000000    1.000000              0.000000   \n",
       "25%    1.540656e+09  25034.750000   10.000000              1.000000   \n",
       "50%    1.546018e+09  31948.000000   19.500000              1.470000   \n",
       "75%    1.551541e+09  53282.750000   29.000000              2.062500   \n",
       "max    1.557670e+09  81332.000000   38.000000              3.000000   \n",
       "\n",
       "       Pre-Match PPG (Away)    home_ppg    away_ppg  home_team_goal_count  \\\n",
       "count            380.000000  380.000000  380.000000            380.000000   \n",
       "mean               1.167632    1.615500    1.198000              1.568421   \n",
       "std                0.761209    0.590587    0.534085              1.312836   \n",
       "min                0.000000    0.470000    0.260000              0.000000   \n",
       "25%                0.630000    1.210000    0.840000              1.000000   \n",
       "50%                1.075000    1.475000    1.160000              1.000000   \n",
       "75%                1.610000    1.917500    1.542500              2.000000   \n",
       "max                3.000000    2.840000    2.320000              6.000000   \n",
       "\n",
       "       away_team_goal_count  total_goal_count  ...  \\\n",
       "count            380.000000        380.000000  ...   \n",
       "mean               1.252632          2.821053  ...   \n",
       "std                1.180031          1.601312  ...   \n",
       "min                0.000000          0.000000  ...   \n",
       "25%                0.000000          2.000000  ...   \n",
       "50%                1.000000          3.000000  ...   \n",
       "75%                2.000000          4.000000  ...   \n",
       "max                6.000000          8.000000  ...   \n",
       "\n",
       "       average_cards_per_match_pre_match  odds_ft_home_team_win  odds_ft_draw  \\\n",
       "count                         380.000000             380.000000    380.000000   \n",
       "mean                            3.354763               3.219421      4.471316   \n",
       "std                             1.169849               2.962683      1.906924   \n",
       "min                             0.000000               1.070000      2.900000   \n",
       "25%                             2.922500               1.570000      3.350000   \n",
       "50%                             3.500000               2.300000      3.750000   \n",
       "75%                             4.000000               3.350000      4.850000   \n",
       "max                             8.000000              22.000000     15.750000   \n",
       "\n",
       "       odds_ft_away_team_win  odds_ft_over15  odds_ft_over25  odds_ft_over35  \\\n",
       "count             380.000000      380.000000      380.000000      380.000000   \n",
       "mean                5.381816        1.261000        1.821474        3.101158   \n",
       "std                 5.540953        0.107498        0.312900        0.833400   \n",
       "min                 1.120000        1.050000        1.200000        1.540000   \n",
       "25%                 2.300000        1.180000        1.585000        2.450000   \n",
       "50%                 3.350000        1.250000        1.770000        2.950000   \n",
       "75%                 6.312500        1.330000        2.000000        3.600000   \n",
       "max                42.750000        1.570000        2.750000        5.650000   \n",
       "\n",
       "       odds_ft_over45  odds_btts_yes  odds_btts_no  \n",
       "count      380.000000     380.000000    380.000000  \n",
       "mean         5.897763       1.842316      1.908868  \n",
       "std          2.032061       0.214528      0.228041  \n",
       "min          2.300000       1.430000      1.380000  \n",
       "25%          4.437500       1.690000      1.740000  \n",
       "50%          5.500000       1.830000      1.890000  \n",
       "75%          7.050000       1.962500      2.050000  \n",
       "max         15.000000       2.800000      2.550000  \n",
       "\n",
       "[8 rows x 56 columns]"
      ]
     },
     "execution_count": 6,
     "metadata": {},
     "output_type": "execute_result"
    }
   ],
   "source": [
    "# The describe() method gives a summary of the data contained in the data set\n",
    "df.describe()"
   ]
  },
  {
   "cell_type": "markdown",
   "metadata": {},
   "source": [
    "<br>\n",
    "\n"
   ]
  },
  {
   "cell_type": "code",
   "execution_count": 7,
   "metadata": {},
   "outputs": [
    {
     "data": {
      "text/html": [
       "<div>\n",
       "<style scoped>\n",
       "    .dataframe tbody tr th:only-of-type {\n",
       "        vertical-align: middle;\n",
       "    }\n",
       "\n",
       "    .dataframe tbody tr th {\n",
       "        vertical-align: top;\n",
       "    }\n",
       "\n",
       "    .dataframe thead th {\n",
       "        text-align: right;\n",
       "    }\n",
       "</style>\n",
       "<table border=\"1\" class=\"dataframe\">\n",
       "  <thead>\n",
       "    <tr style=\"text-align: right;\">\n",
       "      <th></th>\n",
       "      <th>timestamp</th>\n",
       "      <th>date_GMT</th>\n",
       "      <th>status</th>\n",
       "      <th>attendance</th>\n",
       "      <th>home_team_name</th>\n",
       "      <th>away_team_name</th>\n",
       "      <th>referee</th>\n",
       "      <th>Game Week</th>\n",
       "      <th>Pre-Match PPG (Home)</th>\n",
       "      <th>Pre-Match PPG (Away)</th>\n",
       "      <th>...</th>\n",
       "      <th>odds_ft_home_team_win</th>\n",
       "      <th>odds_ft_draw</th>\n",
       "      <th>odds_ft_away_team_win</th>\n",
       "      <th>odds_ft_over15</th>\n",
       "      <th>odds_ft_over25</th>\n",
       "      <th>odds_ft_over35</th>\n",
       "      <th>odds_ft_over45</th>\n",
       "      <th>odds_btts_yes</th>\n",
       "      <th>odds_btts_no</th>\n",
       "      <th>stadium_name</th>\n",
       "    </tr>\n",
       "  </thead>\n",
       "  <tbody>\n",
       "    <tr>\n",
       "      <th>0</th>\n",
       "      <td>1533927600</td>\n",
       "      <td>Aug 10 2018 - 7:00pm</td>\n",
       "      <td>complete</td>\n",
       "      <td>74439</td>\n",
       "      <td>Manchester United</td>\n",
       "      <td>Leicester City</td>\n",
       "      <td>Andre Marriner</td>\n",
       "      <td>1</td>\n",
       "      <td>0.0</td>\n",
       "      <td>0.0</td>\n",
       "      <td>...</td>\n",
       "      <td>1.37</td>\n",
       "      <td>4.98</td>\n",
       "      <td>9.81</td>\n",
       "      <td>1.33</td>\n",
       "      <td>2.00</td>\n",
       "      <td>3.60</td>\n",
       "      <td>7.50</td>\n",
       "      <td>2.05</td>\n",
       "      <td>1.69</td>\n",
       "      <td>Old Trafford (Manchester)</td>\n",
       "    </tr>\n",
       "    <tr>\n",
       "      <th>1</th>\n",
       "      <td>1533987000</td>\n",
       "      <td>Aug 11 2018 - 11:30am</td>\n",
       "      <td>complete</td>\n",
       "      <td>51749</td>\n",
       "      <td>Newcastle United</td>\n",
       "      <td>Tottenham Hotspur</td>\n",
       "      <td>Martin Atkinson</td>\n",
       "      <td>1</td>\n",
       "      <td>0.0</td>\n",
       "      <td>0.0</td>\n",
       "      <td>...</td>\n",
       "      <td>4.51</td>\n",
       "      <td>3.77</td>\n",
       "      <td>1.84</td>\n",
       "      <td>1.31</td>\n",
       "      <td>1.95</td>\n",
       "      <td>3.50</td>\n",
       "      <td>5.75</td>\n",
       "      <td>1.83</td>\n",
       "      <td>1.87</td>\n",
       "      <td>St. James' Park (Newcastle upon Tyne)</td>\n",
       "    </tr>\n",
       "    <tr>\n",
       "      <th>2</th>\n",
       "      <td>1533996000</td>\n",
       "      <td>Aug 11 2018 - 2:00pm</td>\n",
       "      <td>complete</td>\n",
       "      <td>10353</td>\n",
       "      <td>AFC Bournemouth</td>\n",
       "      <td>Cardiff City</td>\n",
       "      <td>Kevin Friend</td>\n",
       "      <td>1</td>\n",
       "      <td>0.0</td>\n",
       "      <td>0.0</td>\n",
       "      <td>...</td>\n",
       "      <td>2.03</td>\n",
       "      <td>3.51</td>\n",
       "      <td>3.96</td>\n",
       "      <td>1.31</td>\n",
       "      <td>1.95</td>\n",
       "      <td>3.45</td>\n",
       "      <td>6.70</td>\n",
       "      <td>1.83</td>\n",
       "      <td>1.83</td>\n",
       "      <td>Vitality Stadium (Bournemouth- Dorset)</td>\n",
       "    </tr>\n",
       "    <tr>\n",
       "      <th>3</th>\n",
       "      <td>1533996000</td>\n",
       "      <td>Aug 11 2018 - 2:00pm</td>\n",
       "      <td>complete</td>\n",
       "      <td>24821</td>\n",
       "      <td>Fulham</td>\n",
       "      <td>Crystal Palace</td>\n",
       "      <td>Mike Dean</td>\n",
       "      <td>1</td>\n",
       "      <td>0.0</td>\n",
       "      <td>0.0</td>\n",
       "      <td>...</td>\n",
       "      <td>2.31</td>\n",
       "      <td>3.44</td>\n",
       "      <td>3.26</td>\n",
       "      <td>1.28</td>\n",
       "      <td>1.87</td>\n",
       "      <td>3.20</td>\n",
       "      <td>7.00</td>\n",
       "      <td>1.71</td>\n",
       "      <td>2.00</td>\n",
       "      <td>Craven Cottage (London)</td>\n",
       "    </tr>\n",
       "    <tr>\n",
       "      <th>4</th>\n",
       "      <td>1533996000</td>\n",
       "      <td>Aug 11 2018 - 2:00pm</td>\n",
       "      <td>complete</td>\n",
       "      <td>24121</td>\n",
       "      <td>Huddersfield Town</td>\n",
       "      <td>Chelsea</td>\n",
       "      <td>Chris Kavanagh</td>\n",
       "      <td>1</td>\n",
       "      <td>0.0</td>\n",
       "      <td>0.0</td>\n",
       "      <td>...</td>\n",
       "      <td>7.47</td>\n",
       "      <td>4.27</td>\n",
       "      <td>1.51</td>\n",
       "      <td>1.29</td>\n",
       "      <td>1.91</td>\n",
       "      <td>3.30</td>\n",
       "      <td>6.95</td>\n",
       "      <td>2.00</td>\n",
       "      <td>1.71</td>\n",
       "      <td>John Smith's Stadium (Huddersfield- West Yorks...</td>\n",
       "    </tr>\n",
       "  </tbody>\n",
       "</table>\n",
       "<p>5 rows × 64 columns</p>\n",
       "</div>"
      ],
      "text/plain": [
       "    timestamp               date_GMT    status  attendance     home_team_name  \\\n",
       "0  1533927600   Aug 10 2018 - 7:00pm  complete       74439  Manchester United   \n",
       "1  1533987000  Aug 11 2018 - 11:30am  complete       51749   Newcastle United   \n",
       "2  1533996000   Aug 11 2018 - 2:00pm  complete       10353    AFC Bournemouth   \n",
       "3  1533996000   Aug 11 2018 - 2:00pm  complete       24821             Fulham   \n",
       "4  1533996000   Aug 11 2018 - 2:00pm  complete       24121  Huddersfield Town   \n",
       "\n",
       "      away_team_name          referee  Game Week  Pre-Match PPG (Home)  \\\n",
       "0     Leicester City   Andre Marriner          1                   0.0   \n",
       "1  Tottenham Hotspur  Martin Atkinson          1                   0.0   \n",
       "2       Cardiff City     Kevin Friend          1                   0.0   \n",
       "3     Crystal Palace        Mike Dean          1                   0.0   \n",
       "4            Chelsea   Chris Kavanagh          1                   0.0   \n",
       "\n",
       "   Pre-Match PPG (Away)  ...  odds_ft_home_team_win  odds_ft_draw  \\\n",
       "0                   0.0  ...                   1.37          4.98   \n",
       "1                   0.0  ...                   4.51          3.77   \n",
       "2                   0.0  ...                   2.03          3.51   \n",
       "3                   0.0  ...                   2.31          3.44   \n",
       "4                   0.0  ...                   7.47          4.27   \n",
       "\n",
       "   odds_ft_away_team_win  odds_ft_over15  odds_ft_over25  odds_ft_over35  \\\n",
       "0                   9.81            1.33            2.00            3.60   \n",
       "1                   1.84            1.31            1.95            3.50   \n",
       "2                   3.96            1.31            1.95            3.45   \n",
       "3                   3.26            1.28            1.87            3.20   \n",
       "4                   1.51            1.29            1.91            3.30   \n",
       "\n",
       "   odds_ft_over45  odds_btts_yes odds_btts_no  \\\n",
       "0            7.50           2.05         1.69   \n",
       "1            5.75           1.83         1.87   \n",
       "2            6.70           1.83         1.83   \n",
       "3            7.00           1.71         2.00   \n",
       "4            6.95           2.00         1.71   \n",
       "\n",
       "                                        stadium_name  \n",
       "0                          Old Trafford (Manchester)  \n",
       "1              St. James' Park (Newcastle upon Tyne)  \n",
       "2             Vitality Stadium (Bournemouth- Dorset)  \n",
       "3                            Craven Cottage (London)  \n",
       "4  John Smith's Stadium (Huddersfield- West Yorks...  \n",
       "\n",
       "[5 rows x 64 columns]"
      ]
     },
     "execution_count": 7,
     "metadata": {},
     "output_type": "execute_result"
    }
   ],
   "source": [
    "# The head() method outputs the five first rows of the data set\n",
    "df.head()"
   ]
  },
  {
   "cell_type": "markdown",
   "metadata": {},
   "source": [
    "<br>\n",
    "\n",
    "There are 64 columns in the dataframe, each representing a different variable associated with each of the 380 matches played during the season. I am interested only in 4 variables (listed above) for the purposes of this project. Directly below, I use the `list` function to output each column header. This gives me a better picture of which ones I need to retain and which ones I will discard. I found the code for this on geeksforgeeks.org [2]."
   ]
  },
  {
   "cell_type": "code",
   "execution_count": 8,
   "metadata": {},
   "outputs": [
    {
     "data": {
      "text/plain": [
       "['timestamp',\n",
       " 'date_GMT',\n",
       " 'status',\n",
       " 'attendance',\n",
       " 'home_team_name',\n",
       " 'away_team_name',\n",
       " 'referee',\n",
       " 'Game Week',\n",
       " 'Pre-Match PPG (Home)',\n",
       " 'Pre-Match PPG (Away)',\n",
       " 'home_ppg',\n",
       " 'away_ppg',\n",
       " 'home_team_goal_count',\n",
       " 'away_team_goal_count',\n",
       " 'total_goal_count',\n",
       " 'total_goals_at_half_time',\n",
       " 'home_team_goal_count_half_time',\n",
       " 'away_team_goal_count_half_time',\n",
       " 'home_team_goal_timings',\n",
       " 'away_team_goal_timings',\n",
       " 'home_team_corner_count',\n",
       " 'away_team_corner_count',\n",
       " 'home_team_yellow_cards',\n",
       " 'home_team_red_cards',\n",
       " 'away_team_yellow_cards',\n",
       " 'away_team_red_cards',\n",
       " 'home_team_first_half_cards',\n",
       " 'home_team_second_half_cards',\n",
       " 'away_team_first_half_cards',\n",
       " 'away_team_second_half_cards',\n",
       " 'home_team_shots',\n",
       " 'away_team_shots',\n",
       " 'home_team_shots_on_target',\n",
       " 'away_team_shots_on_target',\n",
       " 'home_team_shots_off_target',\n",
       " 'away_team_shots_off_target',\n",
       " 'home_team_fouls',\n",
       " 'away_team_fouls',\n",
       " 'home_team_possession',\n",
       " 'away_team_possession',\n",
       " 'team_a_xg',\n",
       " 'team_b_xg',\n",
       " 'average_goals_per_match_pre_match',\n",
       " 'btts_percentage_pre_match',\n",
       " 'over_15_percentage_pre_match',\n",
       " 'over_25_percentage_pre_match',\n",
       " 'over_35_percentage_pre_match',\n",
       " 'over_45_percentage_pre_match',\n",
       " 'over_15_HT_FHG_percentage_pre_match',\n",
       " 'over_05_HT_FHG_percentage_pre_match',\n",
       " 'over_15_2HG_percentage_pre_match',\n",
       " 'over_05_2HG_percentage_pre_match',\n",
       " 'average_corners_per_match_pre_match',\n",
       " 'average_cards_per_match_pre_match',\n",
       " 'odds_ft_home_team_win',\n",
       " 'odds_ft_draw',\n",
       " 'odds_ft_away_team_win',\n",
       " 'odds_ft_over15',\n",
       " 'odds_ft_over25',\n",
       " 'odds_ft_over35',\n",
       " 'odds_ft_over45',\n",
       " 'odds_btts_yes',\n",
       " 'odds_btts_no',\n",
       " 'stadium_name']"
      ]
     },
     "execution_count": 8,
     "metadata": {},
     "output_type": "execute_result"
    }
   ],
   "source": [
    "# Create a list of every column header\n",
    "list(df.columns)"
   ]
  },
  {
   "cell_type": "markdown",
   "metadata": {},
   "source": [
    "### 2.2 Aggregation\n",
    "\n",
    "<br>\n",
    "\n",
    "First, I set about aggregating the data set so that it contains only the columns relevant to the current project. The dependent variable (result) does not have its own column in the original data set so I will need to create this. In order to do that, I include the 'away_team_goal_count' and 'home_team_goal' in the dataframe below:"
   ]
  },
  {
   "cell_type": "code",
   "execution_count": 9,
   "metadata": {},
   "outputs": [
    {
     "data": {
      "text/html": [
       "<div>\n",
       "<style scoped>\n",
       "    .dataframe tbody tr th:only-of-type {\n",
       "        vertical-align: middle;\n",
       "    }\n",
       "\n",
       "    .dataframe tbody tr th {\n",
       "        vertical-align: top;\n",
       "    }\n",
       "\n",
       "    .dataframe thead th {\n",
       "        text-align: right;\n",
       "    }\n",
       "</style>\n",
       "<table border=\"1\" class=\"dataframe\">\n",
       "  <thead>\n",
       "    <tr style=\"text-align: right;\">\n",
       "      <th></th>\n",
       "      <th>away_team_goal_count</th>\n",
       "      <th>home_team_goal_count</th>\n",
       "      <th>home_team_possession</th>\n",
       "      <th>home_team_shots</th>\n",
       "    </tr>\n",
       "  </thead>\n",
       "  <tbody>\n",
       "    <tr>\n",
       "      <th>0</th>\n",
       "      <td>1</td>\n",
       "      <td>2</td>\n",
       "      <td>46</td>\n",
       "      <td>8</td>\n",
       "    </tr>\n",
       "    <tr>\n",
       "      <th>1</th>\n",
       "      <td>2</td>\n",
       "      <td>1</td>\n",
       "      <td>40</td>\n",
       "      <td>11</td>\n",
       "    </tr>\n",
       "    <tr>\n",
       "      <th>2</th>\n",
       "      <td>0</td>\n",
       "      <td>2</td>\n",
       "      <td>62</td>\n",
       "      <td>11</td>\n",
       "    </tr>\n",
       "    <tr>\n",
       "      <th>3</th>\n",
       "      <td>2</td>\n",
       "      <td>0</td>\n",
       "      <td>66</td>\n",
       "      <td>11</td>\n",
       "    </tr>\n",
       "    <tr>\n",
       "      <th>4</th>\n",
       "      <td>3</td>\n",
       "      <td>0</td>\n",
       "      <td>37</td>\n",
       "      <td>6</td>\n",
       "    </tr>\n",
       "  </tbody>\n",
       "</table>\n",
       "</div>"
      ],
      "text/plain": [
       "   away_team_goal_count  home_team_goal_count  home_team_possession  \\\n",
       "0                     1                     2                    46   \n",
       "1                     2                     1                    40   \n",
       "2                     0                     2                    62   \n",
       "3                     2                     0                    66   \n",
       "4                     3                     0                    37   \n",
       "\n",
       "   home_team_shots  \n",
       "0                8  \n",
       "1               11  \n",
       "2               11  \n",
       "3               11  \n",
       "4                6  "
      ]
     },
     "execution_count": 9,
     "metadata": {},
     "output_type": "execute_result"
    }
   ],
   "source": [
    "# Create dataframe with relevant variables\n",
    "df1 = df[[\"away_team_goal_count\", \"home_team_goal_count\", \"home_team_possession\", \"home_team_shots\"]]\n",
    "df1.head()     "
   ]
  },
  {
   "cell_type": "markdown",
   "metadata": {},
   "source": [
    "<br>\n",
    "\n"
   ]
  },
  {
   "cell_type": "markdown",
   "metadata": {},
   "source": [
    "In order to create and fill the result column, I use the code below. The `np.where()` function enables us to compare values in different columns. There is some useful information available online for this function [3], [4]. I create a new column called 'home_team_result' and assign a value to each row: W = win, L = lose, D = draw\n",
    "\n",
    "**note: this operation raises a SettingWithCopyWarning. I have checked the documentation and many discussions and blog posts about this but have not managed to find a solution to date**\n"
   ]
  },
  {
   "cell_type": "code",
   "execution_count": 10,
   "metadata": {
    "scrolled": true
   },
   "outputs": [
    {
     "name": "stderr",
     "output_type": "stream",
     "text": [
      "<ipython-input-10-a48efddfe741>:2: SettingWithCopyWarning: \n",
      "A value is trying to be set on a copy of a slice from a DataFrame.\n",
      "Try using .loc[row_indexer,col_indexer] = value instead\n",
      "\n",
      "See the caveats in the documentation: https://pandas.pydata.org/pandas-docs/stable/user_guide/indexing.html#returning-a-view-versus-a-copy\n",
      "  df1['home_team_result'] = np.where(df1['away_team_goal_count'] < df1['home_team_goal_count'], 'W',\n"
     ]
    }
   ],
   "source": [
    "# Create 'result' column based on real world data set goal count columns\n",
    "df1['home_team_result'] = np.where(df1['away_team_goal_count'] < df1['home_team_goal_count'], 'W', \n",
    "         (np.where(df1['away_team_goal_count'] == df1['home_team_goal_count'], 'D', 'L')))\n"
   ]
  },
  {
   "cell_type": "code",
   "execution_count": 11,
   "metadata": {},
   "outputs": [
    {
     "data": {
      "text/html": [
       "<div>\n",
       "<style scoped>\n",
       "    .dataframe tbody tr th:only-of-type {\n",
       "        vertical-align: middle;\n",
       "    }\n",
       "\n",
       "    .dataframe tbody tr th {\n",
       "        vertical-align: top;\n",
       "    }\n",
       "\n",
       "    .dataframe thead th {\n",
       "        text-align: right;\n",
       "    }\n",
       "</style>\n",
       "<table border=\"1\" class=\"dataframe\">\n",
       "  <thead>\n",
       "    <tr style=\"text-align: right;\">\n",
       "      <th></th>\n",
       "      <th>away_team_goal_count</th>\n",
       "      <th>home_team_goal_count</th>\n",
       "      <th>home_team_possession</th>\n",
       "      <th>home_team_shots</th>\n",
       "      <th>home_team_result</th>\n",
       "    </tr>\n",
       "  </thead>\n",
       "  <tbody>\n",
       "    <tr>\n",
       "      <th>0</th>\n",
       "      <td>1</td>\n",
       "      <td>2</td>\n",
       "      <td>46</td>\n",
       "      <td>8</td>\n",
       "      <td>W</td>\n",
       "    </tr>\n",
       "    <tr>\n",
       "      <th>1</th>\n",
       "      <td>2</td>\n",
       "      <td>1</td>\n",
       "      <td>40</td>\n",
       "      <td>11</td>\n",
       "      <td>L</td>\n",
       "    </tr>\n",
       "    <tr>\n",
       "      <th>2</th>\n",
       "      <td>0</td>\n",
       "      <td>2</td>\n",
       "      <td>62</td>\n",
       "      <td>11</td>\n",
       "      <td>W</td>\n",
       "    </tr>\n",
       "    <tr>\n",
       "      <th>3</th>\n",
       "      <td>2</td>\n",
       "      <td>0</td>\n",
       "      <td>66</td>\n",
       "      <td>11</td>\n",
       "      <td>L</td>\n",
       "    </tr>\n",
       "    <tr>\n",
       "      <th>4</th>\n",
       "      <td>3</td>\n",
       "      <td>0</td>\n",
       "      <td>37</td>\n",
       "      <td>6</td>\n",
       "      <td>L</td>\n",
       "    </tr>\n",
       "  </tbody>\n",
       "</table>\n",
       "</div>"
      ],
      "text/plain": [
       "   away_team_goal_count  home_team_goal_count  home_team_possession  \\\n",
       "0                     1                     2                    46   \n",
       "1                     2                     1                    40   \n",
       "2                     0                     2                    62   \n",
       "3                     2                     0                    66   \n",
       "4                     3                     0                    37   \n",
       "\n",
       "   home_team_shots home_team_result  \n",
       "0                8                W  \n",
       "1               11                L  \n",
       "2               11                W  \n",
       "3               11                L  \n",
       "4                6                L  "
      ]
     },
     "execution_count": 11,
     "metadata": {},
     "output_type": "execute_result"
    }
   ],
   "source": [
    "df1.head()"
   ]
  },
  {
   "cell_type": "markdown",
   "metadata": {},
   "source": [
    "<br>\n",
    "\n"
   ]
  },
  {
   "cell_type": "markdown",
   "metadata": {},
   "source": [
    "The 'away_team_goal_count' and 'home_team_goal_count' columns are no longer relevant for the purposes of the project so I remove them from the data set:"
   ]
  },
  {
   "cell_type": "code",
   "execution_count": 12,
   "metadata": {},
   "outputs": [
    {
     "name": "stderr",
     "output_type": "stream",
     "text": [
      "C:\\Users\\colmo\\anaconda3\\lib\\site-packages\\pandas\\core\\frame.py:4167: SettingWithCopyWarning: \n",
      "A value is trying to be set on a copy of a slice from a DataFrame\n",
      "\n",
      "See the caveats in the documentation: https://pandas.pydata.org/pandas-docs/stable/user_guide/indexing.html#returning-a-view-versus-a-copy\n",
      "  return super().drop(\n"
     ]
    }
   ],
   "source": [
    "# Delete superfluous variables\n",
    "df1.drop(df1.loc[:, 'away_team_goal_count':'home_team_goal_count'].columns, axis = 1, inplace=True)"
   ]
  },
  {
   "cell_type": "markdown",
   "metadata": {},
   "source": [
    "<br>"
   ]
  },
  {
   "cell_type": "code",
   "execution_count": 13,
   "metadata": {},
   "outputs": [
    {
     "data": {
      "text/html": [
       "<div>\n",
       "<style scoped>\n",
       "    .dataframe tbody tr th:only-of-type {\n",
       "        vertical-align: middle;\n",
       "    }\n",
       "\n",
       "    .dataframe tbody tr th {\n",
       "        vertical-align: top;\n",
       "    }\n",
       "\n",
       "    .dataframe thead th {\n",
       "        text-align: right;\n",
       "    }\n",
       "</style>\n",
       "<table border=\"1\" class=\"dataframe\">\n",
       "  <thead>\n",
       "    <tr style=\"text-align: right;\">\n",
       "      <th></th>\n",
       "      <th>home_team_possession</th>\n",
       "      <th>home_team_shots</th>\n",
       "      <th>home_team_result</th>\n",
       "    </tr>\n",
       "  </thead>\n",
       "  <tbody>\n",
       "    <tr>\n",
       "      <th>0</th>\n",
       "      <td>46</td>\n",
       "      <td>8</td>\n",
       "      <td>W</td>\n",
       "    </tr>\n",
       "    <tr>\n",
       "      <th>1</th>\n",
       "      <td>40</td>\n",
       "      <td>11</td>\n",
       "      <td>L</td>\n",
       "    </tr>\n",
       "    <tr>\n",
       "      <th>2</th>\n",
       "      <td>62</td>\n",
       "      <td>11</td>\n",
       "      <td>W</td>\n",
       "    </tr>\n",
       "    <tr>\n",
       "      <th>3</th>\n",
       "      <td>66</td>\n",
       "      <td>11</td>\n",
       "      <td>L</td>\n",
       "    </tr>\n",
       "    <tr>\n",
       "      <th>4</th>\n",
       "      <td>37</td>\n",
       "      <td>6</td>\n",
       "      <td>L</td>\n",
       "    </tr>\n",
       "    <tr>\n",
       "      <th>...</th>\n",
       "      <td>...</td>\n",
       "      <td>...</td>\n",
       "      <td>...</td>\n",
       "    </tr>\n",
       "    <tr>\n",
       "      <th>375</th>\n",
       "      <td>59</td>\n",
       "      <td>11</td>\n",
       "      <td>W</td>\n",
       "    </tr>\n",
       "    <tr>\n",
       "      <th>376</th>\n",
       "      <td>73</td>\n",
       "      <td>21</td>\n",
       "      <td>L</td>\n",
       "    </tr>\n",
       "    <tr>\n",
       "      <th>377</th>\n",
       "      <td>53</td>\n",
       "      <td>7</td>\n",
       "      <td>D</td>\n",
       "    </tr>\n",
       "    <tr>\n",
       "      <th>378</th>\n",
       "      <td>55</td>\n",
       "      <td>9</td>\n",
       "      <td>D</td>\n",
       "    </tr>\n",
       "    <tr>\n",
       "      <th>379</th>\n",
       "      <td>48</td>\n",
       "      <td>11</td>\n",
       "      <td>L</td>\n",
       "    </tr>\n",
       "  </tbody>\n",
       "</table>\n",
       "<p>380 rows × 3 columns</p>\n",
       "</div>"
      ],
      "text/plain": [
       "     home_team_possession  home_team_shots home_team_result\n",
       "0                      46                8                W\n",
       "1                      40               11                L\n",
       "2                      62               11                W\n",
       "3                      66               11                L\n",
       "4                      37                6                L\n",
       "..                    ...              ...              ...\n",
       "375                    59               11                W\n",
       "376                    73               21                L\n",
       "377                    53                7                D\n",
       "378                    55                9                D\n",
       "379                    48               11                L\n",
       "\n",
       "[380 rows x 3 columns]"
      ]
     },
     "execution_count": 13,
     "metadata": {},
     "output_type": "execute_result"
    }
   ],
   "source": [
    "df1"
   ]
  },
  {
   "cell_type": "markdown",
   "metadata": {},
   "source": [
    "### 2.2 Variable relationships and properties\n",
    "\n",
    "<br>"
   ]
  },
  {
   "cell_type": "markdown",
   "metadata": {},
   "source": [
    "Now that I have the 3 real world variables I am interested in, I investigate the properties of each one and their relationships with each other. \n",
    "<br> \n",
    "\n",
    "In this section, I select 3 subsets of my dataframe, each pertaining one of the three categorical variables - W, L, and D. This is executed using code I sourced on stackoverflow.com [5]. \n",
    "\n",
    "Analysis will be done on each of these three subsets and then compared with each other. First, I investigate variables when the result was a win.\n",
    "<br>"
   ]
  },
  {
   "cell_type": "markdown",
   "metadata": {},
   "source": [
    "<br>\n",
    "\n",
    "#### 2.2.1 Win dataset\n",
    "\n",
    "Below, I investigate the data for when the home team won. For each of the three variables (possession, shots and BMI) I output a summary stats table and plot their distributions for visualisation. It is useful to get a picture of the distribution for simulation later on. "
   ]
  },
  {
   "cell_type": "markdown",
   "metadata": {},
   "source": [
    "<br>"
   ]
  },
  {
   "cell_type": "code",
   "execution_count": 14,
   "metadata": {},
   "outputs": [
    {
     "data": {
      "text/html": [
       "<div>\n",
       "<style scoped>\n",
       "    .dataframe tbody tr th:only-of-type {\n",
       "        vertical-align: middle;\n",
       "    }\n",
       "\n",
       "    .dataframe tbody tr th {\n",
       "        vertical-align: top;\n",
       "    }\n",
       "\n",
       "    .dataframe thead th {\n",
       "        text-align: right;\n",
       "    }\n",
       "</style>\n",
       "<table border=\"1\" class=\"dataframe\">\n",
       "  <thead>\n",
       "    <tr style=\"text-align: right;\">\n",
       "      <th></th>\n",
       "      <th>home_team_possession</th>\n",
       "      <th>home_team_shots</th>\n",
       "      <th>home_team_result</th>\n",
       "    </tr>\n",
       "  </thead>\n",
       "  <tbody>\n",
       "    <tr>\n",
       "      <th>0</th>\n",
       "      <td>46</td>\n",
       "      <td>8</td>\n",
       "      <td>W</td>\n",
       "    </tr>\n",
       "    <tr>\n",
       "      <th>2</th>\n",
       "      <td>62</td>\n",
       "      <td>11</td>\n",
       "      <td>W</td>\n",
       "    </tr>\n",
       "    <tr>\n",
       "      <th>5</th>\n",
       "      <td>53</td>\n",
       "      <td>15</td>\n",
       "      <td>W</td>\n",
       "    </tr>\n",
       "    <tr>\n",
       "      <th>7</th>\n",
       "      <td>64</td>\n",
       "      <td>16</td>\n",
       "      <td>W</td>\n",
       "    </tr>\n",
       "    <tr>\n",
       "      <th>11</th>\n",
       "      <td>58</td>\n",
       "      <td>11</td>\n",
       "      <td>W</td>\n",
       "    </tr>\n",
       "  </tbody>\n",
       "</table>\n",
       "</div>"
      ],
      "text/plain": [
       "    home_team_possession  home_team_shots home_team_result\n",
       "0                     46                8                W\n",
       "2                     62               11                W\n",
       "5                     53               15                W\n",
       "7                     64               16                W\n",
       "11                    58               11                W"
      ]
     },
     "execution_count": 14,
     "metadata": {},
     "output_type": "execute_result"
    }
   ],
   "source": [
    "# Split dataframe based on result (wins)\n",
    "win_only_df = df1.loc[df1['home_team_result'] == 'W']\n",
    "win_only_df.head()"
   ]
  },
  {
   "cell_type": "markdown",
   "metadata": {},
   "source": [
    "<br>\n",
    "\n"
   ]
  },
  {
   "cell_type": "markdown",
   "metadata": {},
   "source": [
    "##### Win possession"
   ]
  },
  {
   "cell_type": "code",
   "execution_count": 15,
   "metadata": {},
   "outputs": [
    {
     "data": {
      "text/plain": [
       "count    181.000000\n",
       "mean      53.867403\n",
       "std       13.482255\n",
       "min       23.000000\n",
       "25%       43.000000\n",
       "50%       55.000000\n",
       "75%       64.000000\n",
       "max       80.000000\n",
       "Name: home_team_possession, dtype: float64"
      ]
     },
     "execution_count": 15,
     "metadata": {},
     "output_type": "execute_result"
    }
   ],
   "source": [
    "# Create series with possession data only\n",
    "win_possession = win_only_df[\"home_team_possession\"]\n",
    "\n",
    "# Summary of possession variable\n",
    "win_possession.describe()"
   ]
  },
  {
   "cell_type": "code",
   "execution_count": 16,
   "metadata": {},
   "outputs": [
    {
     "data": {
      "text/plain": [
       "(array([ 2., 13., 22., 18., 22., 21., 31., 22., 19., 11.]),\n",
       " array([23. , 28.7, 34.4, 40.1, 45.8, 51.5, 57.2, 62.9, 68.6, 74.3, 80. ]),\n",
       " <BarContainer object of 10 artists>)"
      ]
     },
     "execution_count": 16,
     "metadata": {},
     "output_type": "execute_result"
    },
    {
     "data": {
      "image/png": "[encoded data removed]",
      "text/plain": [
       "<Figure size 432x288 with 1 Axes>"
      ]
     },
     "metadata": {},
     "output_type": "display_data"
    }
   ],
   "source": [
    "# Output a histogram representing the distribution for the possession variable\n",
    "plt.hist(win_possession)"
   ]
  },
  {
   "cell_type": "markdown",
   "metadata": {},
   "source": [
    "While certainly not perfectly symmetrical, a normal distribution might be a decent enough approximation for the simulated data set. This will be explored below."
   ]
  },
  {
   "cell_type": "markdown",
   "metadata": {},
   "source": [
    "<br>\n",
    "\n"
   ]
  },
  {
   "cell_type": "markdown",
   "metadata": {},
   "source": [
    "##### Win shots"
   ]
  },
  {
   "cell_type": "code",
   "execution_count": 17,
   "metadata": {},
   "outputs": [
    {
     "data": {
      "text/plain": [
       "count    181.000000\n",
       "mean      12.696133\n",
       "std        4.195426\n",
       "min        5.000000\n",
       "25%        9.000000\n",
       "50%       13.000000\n",
       "75%       16.000000\n",
       "max       26.000000\n",
       "Name: home_team_shots, dtype: float64"
      ]
     },
     "execution_count": 17,
     "metadata": {},
     "output_type": "execute_result"
    }
   ],
   "source": [
    "# Create series with the shots variable\n",
    "win_shots = win_only_df['home_team_shots']\n",
    "\n",
    "# Summary of shots variable\n",
    "win_shots.describe()"
   ]
  },
  {
   "cell_type": "code",
   "execution_count": 18,
   "metadata": {},
   "outputs": [
    {
     "data": {
      "text/plain": [
       "<AxesSubplot:>"
      ]
     },
     "execution_count": 18,
     "metadata": {},
     "output_type": "execute_result"
    },
    {
     "data": {
      "image/png": "[encoded data removed]",
      "text/plain": [
       "<Figure size 432x288 with 1 Axes>"
      ]
     },
     "metadata": {},
     "output_type": "display_data"
    }
   ],
   "source": [
    "# Use the value_counts function to count each unique value in the shots columns\n",
    "win_shots_distribution = win_only_df['home_team_shots'].value_counts()\n",
    "\n",
    "# Sort the values for visualisation\n",
    "win_shots_distribution = win_shots_distribution.sort_index()\n",
    "\n",
    "# Plot on a bar chart\n",
    "win_shots_distribution.plot(kind='bar')"
   ]
  },
  {
   "cell_type": "markdown",
   "metadata": {},
   "source": [
    "Here, we can see the precise distribution of the winning team's shots when plotted on a bar chart. If we say that one shot is an *event*, we may be able to use a poisson distribution to simulate the shots variable. The poisson distribution is \"...the discrete probability distribution of the number of events occurring in a given time period\" [6]. We can let the time period for this variable be 90 minutes (or the length of a football match), with lamba equal to 12.69 shots, representing both the mean and variance. This will be explored further in section 3 below."
   ]
  },
  {
   "cell_type": "markdown",
   "metadata": {},
   "source": [
    "<br>\n",
    "\n",
    "##### Relationship between variables\n",
    "\n",
    "Next, I will examine the relationship between the variables for when result='W'. We would expect to see a positive linear relationship between possession and shots. Intuitively we might suggest that the more possession a team has, the more likely that team is to have more shots on goal. Below, I plot both variables on a scatter plot to visualise the relationship. Scatter plots provide an effective way of visualising trends between two variables. Using `numpy.polyfit` we can fit a line to the data [7]."
   ]
  },
  {
   "cell_type": "code",
   "execution_count": 19,
   "metadata": {},
   "outputs": [
    {
     "data": {
      "text/plain": [
       "[<matplotlib.lines.Line2D at 0x2697cc1a7f0>]"
      ]
     },
     "execution_count": 19,
     "metadata": {},
     "output_type": "execute_result"
    },
    {
     "data": {
      "image/png": "[encoded data removed]",
      "text/plain": [
       "<Figure size 432x288 with 1 Axes>"
      ]
     },
     "metadata": {},
     "output_type": "display_data"
    }
   ],
   "source": [
    "# Plot possession and shots on a scatter plot\n",
    "plt.scatter(win_possession, win_shots)\n",
    "\n",
    "# Fit line to data\n",
    "m, b = np.polyfit(win_possession, win_shots, 1)\n",
    "\n",
    "\n",
    "plt.title(\"Winning Team\")\n",
    "plt.xlabel(\"Possession\")\n",
    "plt.ylabel(\"Shots\")\n",
    "\n",
    "# Plot line on scatter plot\n",
    "plt.plot(win_possession, m*win_possession + b, color='red')"
   ]
  },
  {
   "cell_type": "markdown",
   "metadata": {},
   "source": [
    "There is a clear positive linear relationship between the two variables. In the context of real world football matches, this would indeed be expected, although there are some interesting outliers. The relationship is perhaps not as strong as one might have expected.\n",
    "\n",
    "Using Pandas `.corr()` function we can calculate the Pearson Correlation Coefficient [7]. This value is a measure of the statistical relationship between two variables [8]."
   ]
  },
  {
   "cell_type": "code",
   "execution_count": 20,
   "metadata": {},
   "outputs": [
    {
     "name": "stdout",
     "output_type": "stream",
     "text": [
      "0.5301493611687801\n"
     ]
    }
   ],
   "source": [
    "# Caculate Pearson's Correlation Coefficient\n",
    "corr_win = win_possession.corr(win_shots)\n",
    "\n",
    "# Print to the screen\n",
    "print(corr_win)"
   ]
  },
  {
   "cell_type": "markdown",
   "metadata": {},
   "source": [
    "Here we see the correlation coefficient is approximately **0.53**. This indicates that the variables are *moderately* correlated: \"Correlation coefficients whose magnitude are between 0.5 and 0.7 indicate variables which can be considered moderately correlated [9].\""
   ]
  },
  {
   "cell_type": "markdown",
   "metadata": {},
   "source": [
    "<br>\n",
    "\n"
   ]
  },
  {
   "cell_type": "markdown",
   "metadata": {},
   "source": [
    "#### 2.2.2 Lose dataset\n",
    "\n",
    "<br>\n",
    "\n",
    "In this section, I investigate the properties of the variables for when the home team lost. This process will follow in precisely the same path as the previous section to maintain consistency for the simulated data set below."
   ]
  },
  {
   "cell_type": "code",
   "execution_count": 21,
   "metadata": {},
   "outputs": [
    {
     "data": {
      "text/html": [
       "<div>\n",
       "<style scoped>\n",
       "    .dataframe tbody tr th:only-of-type {\n",
       "        vertical-align: middle;\n",
       "    }\n",
       "\n",
       "    .dataframe tbody tr th {\n",
       "        vertical-align: top;\n",
       "    }\n",
       "\n",
       "    .dataframe thead th {\n",
       "        text-align: right;\n",
       "    }\n",
       "</style>\n",
       "<table border=\"1\" class=\"dataframe\">\n",
       "  <thead>\n",
       "    <tr style=\"text-align: right;\">\n",
       "      <th></th>\n",
       "      <th>home_team_possession</th>\n",
       "      <th>home_team_shots</th>\n",
       "      <th>home_team_result</th>\n",
       "    </tr>\n",
       "  </thead>\n",
       "  <tbody>\n",
       "    <tr>\n",
       "      <th>1</th>\n",
       "      <td>40</td>\n",
       "      <td>11</td>\n",
       "      <td>L</td>\n",
       "    </tr>\n",
       "    <tr>\n",
       "      <th>3</th>\n",
       "      <td>66</td>\n",
       "      <td>11</td>\n",
       "      <td>L</td>\n",
       "    </tr>\n",
       "    <tr>\n",
       "      <th>4</th>\n",
       "      <td>37</td>\n",
       "      <td>6</td>\n",
       "      <td>L</td>\n",
       "    </tr>\n",
       "    <tr>\n",
       "      <th>9</th>\n",
       "      <td>42</td>\n",
       "      <td>8</td>\n",
       "      <td>L</td>\n",
       "    </tr>\n",
       "    <tr>\n",
       "      <th>14</th>\n",
       "      <td>61</td>\n",
       "      <td>9</td>\n",
       "      <td>L</td>\n",
       "    </tr>\n",
       "  </tbody>\n",
       "</table>\n",
       "</div>"
      ],
      "text/plain": [
       "    home_team_possession  home_team_shots home_team_result\n",
       "1                     40               11                L\n",
       "3                     66               11                L\n",
       "4                     37                6                L\n",
       "9                     42                8                L\n",
       "14                    61                9                L"
      ]
     },
     "execution_count": 21,
     "metadata": {},
     "output_type": "execute_result"
    }
   ],
   "source": [
    "# Split dataframe based on result (losses)\n",
    "lose_only_df = df1.loc[df1['home_team_result'] == 'L']\n",
    "lose_only_df.head()"
   ]
  },
  {
   "cell_type": "markdown",
   "metadata": {},
   "source": [
    "<br>\n",
    "\n"
   ]
  },
  {
   "cell_type": "markdown",
   "metadata": {},
   "source": [
    "<br>\n",
    "\n"
   ]
  },
  {
   "cell_type": "markdown",
   "metadata": {},
   "source": [
    "##### Lose possession"
   ]
  },
  {
   "cell_type": "code",
   "execution_count": 22,
   "metadata": {},
   "outputs": [
    {
     "data": {
      "text/plain": [
       "count    128.000000\n",
       "mean      46.445312\n",
       "std       13.953697\n",
       "min       18.000000\n",
       "25%       35.750000\n",
       "50%       47.000000\n",
       "75%       57.250000\n",
       "max       78.000000\n",
       "Name: home_team_possession, dtype: float64"
      ]
     },
     "execution_count": 22,
     "metadata": {},
     "output_type": "execute_result"
    }
   ],
   "source": [
    "# Create series with possession data only\n",
    "lose_possession = lose_only_df[\"home_team_possession\"]\n",
    "\n",
    "# Summary of possession data\n",
    "lose_possession.describe()"
   ]
  },
  {
   "cell_type": "markdown",
   "metadata": {},
   "source": [
    "Below, I plot the possession variable on a histogram. There is a much more obvious symmetry to this distribution than the *win_possession* variale. This would appear to follow a normal distribution, just from taking a quick look at the plot. This differs from the distribution for the same variable in the win dataset above, where the shape was less symmetrical. Below, we will explore what kind of impact this difference will have on the simulated data."
   ]
  },
  {
   "cell_type": "code",
   "execution_count": 23,
   "metadata": {},
   "outputs": [
    {
     "data": {
      "text/plain": [
       "(array([ 6., 10., 16., 18., 16., 20., 16., 13.,  8.,  5.]),\n",
       " array([18., 24., 30., 36., 42., 48., 54., 60., 66., 72., 78.]),\n",
       " <BarContainer object of 10 artists>)"
      ]
     },
     "execution_count": 23,
     "metadata": {},
     "output_type": "execute_result"
    },
    {
     "data": {
      "image/png": "[encoded data removed]",
      "text/plain": [
       "<Figure size 432x288 with 1 Axes>"
      ]
     },
     "metadata": {},
     "output_type": "display_data"
    }
   ],
   "source": [
    "# Plot lose possession variable on a histogram\n",
    "plt.hist(lose_possession)"
   ]
  },
  {
   "cell_type": "markdown",
   "metadata": {},
   "source": [
    "<br>\n",
    "\n"
   ]
  },
  {
   "cell_type": "markdown",
   "metadata": {},
   "source": [
    "##### Lose shots"
   ]
  },
  {
   "cell_type": "code",
   "execution_count": 24,
   "metadata": {},
   "outputs": [
    {
     "data": {
      "text/plain": [
       "count    128.000000\n",
       "mean       9.562500\n",
       "std        3.658127\n",
       "min        0.000000\n",
       "25%        7.000000\n",
       "50%        9.000000\n",
       "75%       12.000000\n",
       "max       21.000000\n",
       "Name: home_team_shots, dtype: float64"
      ]
     },
     "execution_count": 24,
     "metadata": {},
     "output_type": "execute_result"
    }
   ],
   "source": [
    "# Create series with the shots variable\n",
    "lose_shots = lose_only_df['home_team_shots']\n",
    "\n",
    "# Summary of shots variable\n",
    "lose_shots.describe()"
   ]
  },
  {
   "cell_type": "code",
   "execution_count": 25,
   "metadata": {},
   "outputs": [
    {
     "data": {
      "text/plain": [
       "<AxesSubplot:>"
      ]
     },
     "execution_count": 25,
     "metadata": {},
     "output_type": "execute_result"
    },
    {
     "data": {
      "image/png": "[encoded data removed]",
      "text/plain": [
       "<Figure size 432x288 with 1 Axes>"
      ]
     },
     "metadata": {},
     "output_type": "display_data"
    }
   ],
   "source": [
    "# Use the value_counts function to count each unique value in the shots columns\n",
    "lose_shots_distribution = lose_only_df['home_team_shots'].value_counts()\n",
    "\n",
    "# Sort the values for visualisation\n",
    "lose_shots_distribution = lose_shots_distribution.sort_index()\n",
    "\n",
    "# Plot on a bar chart\n",
    "lose_shots_distribution.plot(kind='bar')"
   ]
  },
  {
   "cell_type": "markdown",
   "metadata": {},
   "source": [
    "<br>\n",
    "\n"
   ]
  },
  {
   "cell_type": "markdown",
   "metadata": {},
   "source": [
    "As would be expected, for the matches where the home team lost, we see a lower mean value for shots and possession when compared with the winning team. \n",
    "\n",
    "<br>\n",
    "\n",
    "##### Relationship between variables\n",
    "Let us now visualise the relationship between both variables on a scatter plot."
   ]
  },
  {
   "cell_type": "code",
   "execution_count": 26,
   "metadata": {},
   "outputs": [
    {
     "data": {
      "text/plain": [
       "[<matplotlib.lines.Line2D at 0x2697d214460>]"
      ]
     },
     "execution_count": 26,
     "metadata": {},
     "output_type": "execute_result"
    },
    {
     "data": {
      "image/png": "[encoded data removed]",
      "text/plain": [
       "<Figure size 432x288 with 1 Axes>"
      ]
     },
     "metadata": {},
     "output_type": "display_data"
    }
   ],
   "source": [
    "# Plot possession and shots on a scatter plot\n",
    "plt.scatter(lose_possession, lose_shots)\n",
    "\n",
    "# Fit line to data\n",
    "m, b = np.polyfit(lose_possession, lose_shots, 1)\n",
    "\n",
    "\n",
    "plt.title(\"Losing Team\")\n",
    "plt.xlabel(\"Possession\")\n",
    "plt.ylabel(\"Shots\")\n",
    "\n",
    "# Plot line on scatter plot\n",
    "plt.plot(lose_possession, m*lose_possession + b, color='red')"
   ]
  },
  {
   "cell_type": "code",
   "execution_count": 27,
   "metadata": {},
   "outputs": [
    {
     "name": "stdout",
     "output_type": "stream",
     "text": [
      "0.5435962829456304\n"
     ]
    }
   ],
   "source": [
    "# Caculate Pearson's Correlation Coefficient\n",
    "corr_lose = lose_possession.corr(lose_shots)\n",
    "\n",
    "# Print output to screem\n",
    "print(corr_lose)"
   ]
  },
  {
   "cell_type": "markdown",
   "metadata": {},
   "source": [
    "Pearson's Correlation Coefficient is approximately **0.54**. There is a consistency here with the relationship observed above between these two variables for the winning team. Pearson's coefficient is almost identical, again moderately correlated."
   ]
  },
  {
   "cell_type": "markdown",
   "metadata": {},
   "source": [
    "#### 2.2.3 Draw dataset\n",
    "\n",
    "<br>\n",
    "\n",
    "The draw dataset will contain variable values pertaining to the drawn matches. As above with the win and lose datasets, I will investigate the properties of each variable and visualise their distributions. I will then compare each variable, examining their relationships."
   ]
  },
  {
   "cell_type": "markdown",
   "metadata": {},
   "source": [
    "<br>\n",
    "\n"
   ]
  },
  {
   "cell_type": "code",
   "execution_count": 28,
   "metadata": {},
   "outputs": [
    {
     "data": {
      "text/html": [
       "<div>\n",
       "<style scoped>\n",
       "    .dataframe tbody tr th:only-of-type {\n",
       "        vertical-align: middle;\n",
       "    }\n",
       "\n",
       "    .dataframe tbody tr th {\n",
       "        vertical-align: top;\n",
       "    }\n",
       "\n",
       "    .dataframe thead th {\n",
       "        text-align: right;\n",
       "    }\n",
       "</style>\n",
       "<table border=\"1\" class=\"dataframe\">\n",
       "  <thead>\n",
       "    <tr style=\"text-align: right;\">\n",
       "      <th></th>\n",
       "      <th>home_team_possession</th>\n",
       "      <th>home_team_shots</th>\n",
       "      <th>home_team_result</th>\n",
       "    </tr>\n",
       "  </thead>\n",
       "  <tbody>\n",
       "    <tr>\n",
       "      <th>6</th>\n",
       "      <td>57</td>\n",
       "      <td>10</td>\n",
       "      <td>D</td>\n",
       "    </tr>\n",
       "    <tr>\n",
       "      <th>8</th>\n",
       "      <td>47</td>\n",
       "      <td>10</td>\n",
       "      <td>D</td>\n",
       "    </tr>\n",
       "    <tr>\n",
       "      <th>10</th>\n",
       "      <td>51</td>\n",
       "      <td>8</td>\n",
       "      <td>D</td>\n",
       "    </tr>\n",
       "    <tr>\n",
       "      <th>20</th>\n",
       "      <td>28</td>\n",
       "      <td>9</td>\n",
       "      <td>D</td>\n",
       "    </tr>\n",
       "    <tr>\n",
       "      <th>21</th>\n",
       "      <td>49</td>\n",
       "      <td>16</td>\n",
       "      <td>D</td>\n",
       "    </tr>\n",
       "    <tr>\n",
       "      <th>...</th>\n",
       "      <td>...</td>\n",
       "      <td>...</td>\n",
       "      <td>...</td>\n",
       "    </tr>\n",
       "    <tr>\n",
       "      <th>367</th>\n",
       "      <td>35</td>\n",
       "      <td>6</td>\n",
       "      <td>D</td>\n",
       "    </tr>\n",
       "    <tr>\n",
       "      <th>368</th>\n",
       "      <td>70</td>\n",
       "      <td>14</td>\n",
       "      <td>D</td>\n",
       "    </tr>\n",
       "    <tr>\n",
       "      <th>374</th>\n",
       "      <td>46</td>\n",
       "      <td>8</td>\n",
       "      <td>D</td>\n",
       "    </tr>\n",
       "    <tr>\n",
       "      <th>377</th>\n",
       "      <td>53</td>\n",
       "      <td>7</td>\n",
       "      <td>D</td>\n",
       "    </tr>\n",
       "    <tr>\n",
       "      <th>378</th>\n",
       "      <td>55</td>\n",
       "      <td>9</td>\n",
       "      <td>D</td>\n",
       "    </tr>\n",
       "  </tbody>\n",
       "</table>\n",
       "<p>71 rows × 3 columns</p>\n",
       "</div>"
      ],
      "text/plain": [
       "     home_team_possession  home_team_shots home_team_result\n",
       "6                      57               10                D\n",
       "8                      47               10                D\n",
       "10                     51                8                D\n",
       "20                     28                9                D\n",
       "21                     49               16                D\n",
       "..                    ...              ...              ...\n",
       "367                    35                6                D\n",
       "368                    70               14                D\n",
       "374                    46                8                D\n",
       "377                    53                7                D\n",
       "378                    55                9                D\n",
       "\n",
       "[71 rows x 3 columns]"
      ]
     },
     "execution_count": 28,
     "metadata": {},
     "output_type": "execute_result"
    }
   ],
   "source": [
    "# Split dataframe based on result (draws)\n",
    "draw_only_df = df1.loc[df1['home_team_result'] == 'D']\n",
    "draw_only_df"
   ]
  },
  {
   "cell_type": "markdown",
   "metadata": {},
   "source": [
    "<br>\n",
    "\n"
   ]
  },
  {
   "cell_type": "markdown",
   "metadata": {},
   "source": [
    "##### Draw possession"
   ]
  },
  {
   "cell_type": "code",
   "execution_count": 29,
   "metadata": {},
   "outputs": [
    {
     "data": {
      "text/plain": [
       "count    71.000000\n",
       "mean     52.690141\n",
       "std      12.418410\n",
       "min      26.000000\n",
       "25%      44.000000\n",
       "50%      54.000000\n",
       "75%      61.000000\n",
       "max      76.000000\n",
       "Name: home_team_possession, dtype: float64"
      ]
     },
     "execution_count": 29,
     "metadata": {},
     "output_type": "execute_result"
    }
   ],
   "source": [
    "# Create series with possession data only\n",
    "draw_possession = draw_only_df[\"home_team_possession\"]\n",
    "\n",
    "# Summary of possession data\n",
    "draw_possession.describe()"
   ]
  },
  {
   "cell_type": "code",
   "execution_count": 30,
   "metadata": {},
   "outputs": [
    {
     "data": {
      "text/plain": [
       "(array([ 4.,  4.,  3.,  9.,  9., 11., 12.,  9.,  3.,  7.]),\n",
       " array([26., 31., 36., 41., 46., 51., 56., 61., 66., 71., 76.]),\n",
       " <BarContainer object of 10 artists>)"
      ]
     },
     "execution_count": 30,
     "metadata": {},
     "output_type": "execute_result"
    },
    {
     "data": {
      "image/png": "[encoded data removed]",
      "text/plain": [
       "<Figure size 432x288 with 1 Axes>"
      ]
     },
     "metadata": {},
     "output_type": "display_data"
    }
   ],
   "source": [
    "plt.hist(draw_possession)"
   ]
  },
  {
   "cell_type": "markdown",
   "metadata": {},
   "source": [
    "<br>\n",
    "\n",
    "From visualising the possession distribution for drawn games, we can see that there is a relatively high frequency of >70%. This might tell the story of a dominant team who could not manage to secure the winning goal, or of a team playing a conservative game, retaining majority possession but not willing to attack and settling for a draw. Either way, instant conclusions are not as intuitive as they might be for the win and lose equivalents."
   ]
  },
  {
   "cell_type": "markdown",
   "metadata": {},
   "source": [
    "###### Draw shots\n",
    "\n",
    "<br>"
   ]
  },
  {
   "cell_type": "code",
   "execution_count": 31,
   "metadata": {},
   "outputs": [
    {
     "data": {
      "text/plain": [
       "count    71.000000\n",
       "mean     11.042254\n",
       "std       4.350490\n",
       "min       0.000000\n",
       "25%       8.000000\n",
       "50%      10.000000\n",
       "75%      13.500000\n",
       "max      21.000000\n",
       "Name: home_team_shots, dtype: float64"
      ]
     },
     "execution_count": 31,
     "metadata": {},
     "output_type": "execute_result"
    }
   ],
   "source": [
    "# Create series with the shots variable\n",
    "draw_shots = draw_only_df['home_team_shots']\n",
    "\n",
    "# Summary of shots variable\n",
    "draw_shots.describe()"
   ]
  },
  {
   "cell_type": "code",
   "execution_count": 32,
   "metadata": {},
   "outputs": [
    {
     "data": {
      "text/plain": [
       "<AxesSubplot:>"
      ]
     },
     "execution_count": 32,
     "metadata": {},
     "output_type": "execute_result"
    },
    {
     "data": {
      "image/png": "[encoded data removed]",
      "text/plain": [
       "<Figure size 432x288 with 1 Axes>"
      ]
     },
     "metadata": {},
     "output_type": "display_data"
    }
   ],
   "source": [
    "# Use the value_counts function to count each unique value in the shots columns\n",
    "draw_shots_distribution = draw_only_df['home_team_shots'].value_counts()\n",
    "\n",
    "# Sort the values for visualisation\n",
    "draw_shots_distribution = draw_shots_distribution.sort_index()\n",
    "\n",
    "# Plot on a bar chart\n",
    "draw_shots_distribution.plot(kind='bar')"
   ]
  },
  {
   "cell_type": "markdown",
   "metadata": {},
   "source": [
    "<br>\n",
    "\n"
   ]
  },
  {
   "cell_type": "markdown",
   "metadata": {},
   "source": [
    "##### Relationship between variables\n",
    "As above, I plot the variable relationship on a scatter plot"
   ]
  },
  {
   "cell_type": "code",
   "execution_count": 33,
   "metadata": {},
   "outputs": [
    {
     "data": {
      "text/plain": [
       "[<matplotlib.lines.Line2D at 0x2697d1b4e20>]"
      ]
     },
     "execution_count": 33,
     "metadata": {},
     "output_type": "execute_result"
    },
    {
     "data": {
      "image/png": "[encoded data removed]",
      "text/plain": [
       "<Figure size 432x288 with 1 Axes>"
      ]
     },
     "metadata": {},
     "output_type": "display_data"
    }
   ],
   "source": [
    "# Plot possession and shots on a scatter plot\n",
    "plt.scatter(draw_possession, draw_shots)\n",
    "\n",
    "# Fit line to data\n",
    "m, b = np.polyfit(draw_possession, draw_shots, 1)\n",
    "\n",
    "\n",
    "plt.title(\"Drawn Team\")\n",
    "plt.xlabel(\"Possession\")\n",
    "plt.ylabel(\"Shots\")\n",
    "\n",
    "# Plot line on scatter plot\n",
    "plt.plot(draw_possession, m*draw_possession + b, color='red')"
   ]
  },
  {
   "cell_type": "code",
   "execution_count": 34,
   "metadata": {},
   "outputs": [
    {
     "name": "stdout",
     "output_type": "stream",
     "text": [
      "0.3331532857392999\n"
     ]
    }
   ],
   "source": [
    "# Caculate Pearson's Correlation Coefficient\n",
    "corr_draw = draw_possession.corr(draw_shots)\n",
    "\n",
    "# Print to the screen\n",
    "print(corr_draw)"
   ]
  },
  {
   "cell_type": "markdown",
   "metadata": {},
   "source": [
    "Calculating the Pearson Coefficient, we observe a low correlation, (approximately **0.33**) between the two variables for the drawn games. The notable difference in value here may be linked to the lower number of observations in the draw data set. There were 71 drawn matches in the 2018/2019 season, in contrast to 128 and 181 for lose and win respectively. Likewise, there could be any number of real world reasons for the difference: It is common for the weaker team to 'play for a draw' - try to retain possession without making attempts to score. It would be interesting to analyse this relationship in a greater number of observations. For the current project, I will stick to the data set at hand."
   ]
  },
  {
   "cell_type": "markdown",
   "metadata": {},
   "source": [
    "<br>\n",
    "\n"
   ]
  },
  {
   "cell_type": "markdown",
   "metadata": {},
   "source": [
    "#### 2.2.4 Comparing features by categorical variable\n",
    "\n",
    "Below, I plot each feature across the three categorical variables on the same figure. Viewed side by side, we can observe and compare each feature through visualisation.\n",
    "\n",
    "First, I create a dataframe containing each of the three series (win_shots_distribution, lose_shots_distribution and draw_shots_distribution). I used code from a combination of these two blog plosts to generate this plot [9], [10]:"
   ]
  },
  {
   "cell_type": "code",
   "execution_count": 52,
   "metadata": {},
   "outputs": [
    {
     "data": {
      "text/plain": [
       "Text(0, 0.5, 'No. of Matches')"
      ]
     },
     "execution_count": 52,
     "metadata": {},
     "output_type": "execute_result"
    },
    {
     "data": {
      "image/png": "[encoded data removed]",
      "text/plain": [
       "<Figure size 2160x720 with 1 Axes>"
      ]
     },
     "metadata": {},
     "output_type": "display_data"
    }
   ],
   "source": [
    "# Create a dictionary so we can combine the meta data for the series\n",
    "shots_dict = { 'win': win_shots_distribution, 'lose': lose_shots_distribution, 'draw': draw_shots_distribution } \n",
    "\n",
    "# Create a dataframe from dict and plot on a bar graph\n",
    "shots_comparison = pd.DataFrame(shots_dict) \n",
    "shots_comparison.plot(kind=\"bar\", figsize=(30, 10), stacked=True)\n",
    "\n",
    "plt.title(\"Shots Taken\")\n",
    "plt.xlabel(\"No. of Shots\")\n",
    "plt.ylabel(\"No. of Matches\")"
   ]
  },
  {
   "cell_type": "code",
   "execution_count": 36,
   "metadata": {},
   "outputs": [
    {
     "data": {
      "text/plain": [
       "<AxesSubplot:xlabel='draw', ylabel='Count'>"
      ]
     },
     "execution_count": 36,
     "metadata": {},
     "output_type": "execute_result"
    },
    {
     "data": {
      "image/png": "[encoded data removed]",
      "text/plain": [
       "<Figure size 2160x720 with 3 Axes>"
      ]
     },
     "metadata": {},
     "output_type": "display_data"
    }
   ],
   "source": [
    "# \n",
    "sns.set(font_scale = 2)\n",
    "\n",
    "# Create a dictionary so we can combine the meta data for the series\n",
    "possession_dict = { 'win': win_possession, 'lose': lose_possession, 'draw': draw_possession } \n",
    "\n",
    "# Create a dataframe from the dict\n",
    "possession_comparison = pd.DataFrame(possession_dict) \n",
    "\n",
    "# plot on three separate histograms side by side \n",
    "f, axes = plt.subplots(1, 3, figsize=(30, 10), sharex=True)\n",
    "\n",
    "axes[0].set_xlabel('win', fontdict={'fontsize' : 40})\n",
    "axes[1].set_xlabel('lose', fontdict={'fontsize' : 40})\n",
    "axes[2].set_xlabel('draw', fontdict={'fontsize' : 40})\n",
    "\n",
    "sns.histplot( possession_comparison[\"win\"] , bins=10, color=\"skyblue\", kde=True, ax=axes[0])\n",
    "sns.histplot( possession_comparison[\"lose\"] , bins=10, color=\"olive\", kde=True, ax=axes[1])\n",
    "sns.histplot( possession_comparison[\"draw\"] , bins=10, color=\"gold\", kde=True, ax=axes[2])"
   ]
  },
  {
   "cell_type": "markdown",
   "metadata": {},
   "source": [
    "These plots give us an overview of the distribution of the variables across categories. We can see that there is visible difference particularly between the win and lose variables. It is somewhat less clear for drawn games. "
   ]
  },
  {
   "cell_type": "markdown",
   "metadata": {},
   "source": [
    "<br>\n",
    "\n"
   ]
  },
  {
   "cell_type": "markdown",
   "metadata": {},
   "source": [
    "#### 2.2.5 BMI\n",
    "\n",
    "<br>\n",
    "\n",
    "In England for the age group 20-44, the average BMI is around 26.2kg/m²[4]. It has been demonstrated that the optimal BMI for footballers is somewhere around 22Kg/m² [5]. \n",
    "\n",
    "There are numerous studies which demonstrate a negative correlation between BMI and physical fitenss/sports performance [6], [7]. In one such study conducted by Pantelis Theo Nikolaidis in 2012 [6] on the association between BMI, body fat and muscle power output in soccer players, a hypothesised inverse relationship between BMI, body fat and physical fitness in soccer players was confirmed. More specifically, and more relevant to the current project, it was concluded that there was an inverse correlation between muscle power output and BMI. \n",
    "\n",
    "It must be added that the relationship between BMI and performance in football is not an exact science. There are innumerable factors at play when assessing the quality of sports performance genrally. Indeed, according to NHS standards, at least 25 Premier League players are overweight [7]. BMI should always be used merely as a guide to associated physical fitness and performance. This is something that was necessary to bear in mind for the generation of the synthesised data below. \n"
   ]
  },
  {
   "cell_type": "markdown",
   "metadata": {},
   "source": [
    "##### Distribution of BMI\n",
    "\n",
    "While there has been some debate around the distribution of BMI in the population as a whole [8], with some commentators detecting a right skewness with increasing age, when confined to given age ranges it does appear to follow a normal distribution [9]. For the purposes of this project, BMI will follow a normal distribution."
   ]
  },
  {
   "cell_type": "code",
   "execution_count": null,
   "metadata": {},
   "outputs": [],
   "source": []
  },
  {
   "cell_type": "code",
   "execution_count": null,
   "metadata": {},
   "outputs": [],
   "source": []
  },
  {
   "cell_type": "code",
   "execution_count": null,
   "metadata": {},
   "outputs": [],
   "source": []
  },
  {
   "cell_type": "code",
   "execution_count": null,
   "metadata": {},
   "outputs": [],
   "source": []
  },
  {
   "cell_type": "code",
   "execution_count": null,
   "metadata": {},
   "outputs": [],
   "source": []
  },
  {
   "cell_type": "code",
   "execution_count": null,
   "metadata": {},
   "outputs": [],
   "source": []
  },
  {
   "cell_type": "code",
   "execution_count": null,
   "metadata": {},
   "outputs": [],
   "source": []
  },
  {
   "cell_type": "code",
   "execution_count": null,
   "metadata": {},
   "outputs": [],
   "source": []
  },
  {
   "cell_type": "code",
   "execution_count": null,
   "metadata": {},
   "outputs": [],
   "source": []
  },
  {
   "cell_type": "code",
   "execution_count": null,
   "metadata": {},
   "outputs": [],
   "source": []
  },
  {
   "cell_type": "code",
   "execution_count": 37,
   "metadata": {},
   "outputs": [
    {
     "data": {
      "text/plain": [
       "(array([ 4.,  9., 17., 26., 37., 30., 33., 17.,  4.,  4.]),\n",
       " array([23.8755209 , 24.51253331, 25.14954572, 25.78655813, 26.42357054,\n",
       "        27.06058295, 27.69759536, 28.33460778, 28.97162019, 29.6086326 ,\n",
       "        30.24564501]),\n",
       " <BarContainer object of 10 artists>)"
      ]
     },
     "execution_count": 37,
     "metadata": {},
     "output_type": "execute_result"
    },
    {
     "data": {
      "image/png": "[encoded data removed]",
      "text/plain": [
       "<Figure size 432x288 with 1 Axes>"
      ]
     },
     "metadata": {},
     "output_type": "display_data"
    }
   ],
   "source": [
    "rng = np.random.default_rng()\n",
    "\n",
    "mu, sigma = 27, 1.15 # mean and standard deviation\n",
    "\n",
    "win_bmi = rng.normal(mu, sigma, 181)\n",
    "plt.hist(win_bmi)"
   ]
  },
  {
   "cell_type": "code",
   "execution_count": null,
   "metadata": {},
   "outputs": [],
   "source": []
  },
  {
   "cell_type": "code",
   "execution_count": null,
   "metadata": {},
   "outputs": [],
   "source": []
  },
  {
   "cell_type": "markdown",
   "metadata": {},
   "source": [
    "<br>\n",
    "\n"
   ]
  },
  {
   "cell_type": "code",
   "execution_count": null,
   "metadata": {},
   "outputs": [],
   "source": []
  },
  {
   "cell_type": "markdown",
   "metadata": {},
   "source": [
    "## 3. Simulation\n",
    "\n",
    "***"
   ]
  },
  {
   "cell_type": "markdown",
   "metadata": {},
   "source": [
    "In this section, I apply the variable characteristics established in section 2 in order to generate a simulated data set. Using the `numpy.random` package, I generate values for each variable according to the properties and relationships investigated above. In order to populate the synthesised data set, it is once again necessary to divide the task into the 3 relevant sections - for win, lose and draw. The variable investigation in Section 2 has been guided by the categorical variable. For each category, the independent variables exhibit distinct behaviour. It is my aim to capture this in the simulated data set."
   ]
  },
  {
   "cell_type": "markdown",
   "metadata": {},
   "source": [
    "<br>\n",
    "\n"
   ]
  },
  {
   "cell_type": "markdown",
   "metadata": {},
   "source": [
    "First of all, I construct a new Generator as recommended in the `numpy.random` documentation [8]. This constructs a new Generator with `numpy.random`'s BitGenerator (PCG64)"
   ]
  },
  {
   "cell_type": "code",
   "execution_count": 38,
   "metadata": {},
   "outputs": [],
   "source": [
    "# Construct new Generator\n",
    "rng = np.random.default_rng()"
   ]
  },
  {
   "cell_type": "markdown",
   "metadata": {},
   "source": [
    "<br>\n",
    "\n"
   ]
  },
  {
   "cell_type": "markdown",
   "metadata": {},
   "source": [
    "#### Categorical variable - 'result'"
   ]
  },
  {
   "cell_type": "markdown",
   "metadata": {},
   "source": [
    "The simulated data set will be populated according to the values corresponding to each target variable i.e win, lose and draw. It is this column therefore which will be the first added to the new dataframe:"
   ]
  },
  {
   "cell_type": "markdown",
   "metadata": {},
   "source": [
    "I create a list containing each variable"
   ]
  },
  {
   "cell_type": "code",
   "execution_count": 39,
   "metadata": {},
   "outputs": [],
   "source": [
    "# Create a list containing each categorical variable\n",
    "sim_result = ['W', 'L', 'D']"
   ]
  },
  {
   "cell_type": "markdown",
   "metadata": {},
   "source": [
    "Next, I calculate the proportion of each one as they appear in the real world data set:"
   ]
  },
  {
   "cell_type": "code",
   "execution_count": 40,
   "metadata": {},
   "outputs": [],
   "source": [
    "# Calculate the proportion of each result in the real world data set\n",
    "W, L, D = 181/380, 128/380, 71/380\n",
    "\n",
    "# Add probabilities to a list\n",
    "result_prob = [W, L, D]"
   ]
  },
  {
   "cell_type": "markdown",
   "metadata": {},
   "source": [
    "These values will be passed to the probability parameter of the `random.choice` function in order to distribute them according to the real world data set:"
   ]
  },
  {
   "cell_type": "code",
   "execution_count": 41,
   "metadata": {},
   "outputs": [],
   "source": [
    "# Each of the categorical variables chosen at random and distributed according to the probability values \n",
    "# calculated above\n",
    "sim_results = rng.choice(sim_result, 500, p=result_prob)"
   ]
  },
  {
   "cell_type": "markdown",
   "metadata": {},
   "source": [
    "Next, I create a new dataframe containing the simulated results column generated above:"
   ]
  },
  {
   "cell_type": "code",
   "execution_count": 42,
   "metadata": {},
   "outputs": [
    {
     "data": {
      "text/html": [
       "<div>\n",
       "<style scoped>\n",
       "    .dataframe tbody tr th:only-of-type {\n",
       "        vertical-align: middle;\n",
       "    }\n",
       "\n",
       "    .dataframe tbody tr th {\n",
       "        vertical-align: top;\n",
       "    }\n",
       "\n",
       "    .dataframe thead th {\n",
       "        text-align: right;\n",
       "    }\n",
       "</style>\n",
       "<table border=\"1\" class=\"dataframe\">\n",
       "  <thead>\n",
       "    <tr style=\"text-align: right;\">\n",
       "      <th></th>\n",
       "      <th>result</th>\n",
       "    </tr>\n",
       "  </thead>\n",
       "  <tbody>\n",
       "    <tr>\n",
       "      <th>0</th>\n",
       "      <td>W</td>\n",
       "    </tr>\n",
       "    <tr>\n",
       "      <th>1</th>\n",
       "      <td>W</td>\n",
       "    </tr>\n",
       "    <tr>\n",
       "      <th>2</th>\n",
       "      <td>W</td>\n",
       "    </tr>\n",
       "    <tr>\n",
       "      <th>3</th>\n",
       "      <td>L</td>\n",
       "    </tr>\n",
       "    <tr>\n",
       "      <th>4</th>\n",
       "      <td>L</td>\n",
       "    </tr>\n",
       "    <tr>\n",
       "      <th>...</th>\n",
       "      <td>...</td>\n",
       "    </tr>\n",
       "    <tr>\n",
       "      <th>485</th>\n",
       "      <td>L</td>\n",
       "    </tr>\n",
       "    <tr>\n",
       "      <th>486</th>\n",
       "      <td>L</td>\n",
       "    </tr>\n",
       "    <tr>\n",
       "      <th>487</th>\n",
       "      <td>W</td>\n",
       "    </tr>\n",
       "    <tr>\n",
       "      <th>488</th>\n",
       "      <td>L</td>\n",
       "    </tr>\n",
       "    <tr>\n",
       "      <th>489</th>\n",
       "      <td>L</td>\n",
       "    </tr>\n",
       "  </tbody>\n",
       "</table>\n",
       "<p>490 rows × 1 columns</p>\n",
       "</div>"
      ],
      "text/plain": [
       "    result\n",
       "0        W\n",
       "1        W\n",
       "2        W\n",
       "3        L\n",
       "4        L\n",
       "..     ...\n",
       "485      L\n",
       "486      L\n",
       "487      W\n",
       "488      L\n",
       "489      L\n",
       "\n",
       "[490 rows x 1 columns]"
      ]
     },
     "execution_count": 42,
     "metadata": {},
     "output_type": "execute_result"
    }
   ],
   "source": [
    "# Create new simulated dataframe with result column\n",
    "sim_df = pd.DataFrame(sim_results, columns = ['result']) \n",
    "\n",
    "# Output the new dataframe\n",
    "sim_df.head(-10)"
   ]
  },
  {
   "cell_type": "code",
   "execution_count": null,
   "metadata": {},
   "outputs": [],
   "source": []
  },
  {
   "cell_type": "markdown",
   "metadata": {},
   "source": [
    "#### Simulating variable relationships\n",
    "\n",
    "For each of the three independent variables, I will generate data using `numpy.random`. In the simulation of a data set which is intended to represent a phenomenon as accurately as possible, it is not enough to simply generate data for each variable as a stand-alone feature. The relationship between each one must be taken into account. With this in mind, I have taken two distinct steps.\n",
    "\n",
    "Firstly, I generate values for each independent variable according to their relationship with the target variable. As explored above, the data points pertaining to each category have distinct properties which must be expressed separately.\n",
    "\n",
    "Second, within each category subset, the relationship between independent variables is simulated using the `numpy.random.multivariate_normal` function. This function generates correlated data, with both variables following a normal distribution. While not every variable is distributed precisely normally in the current project, the simuated data does appear to broadly reflect the real world. This is demonstrated further below"
   ]
  },
  {
   "cell_type": "markdown",
   "metadata": {},
   "source": [
    "<br>\n"
   ]
  },
  {
   "cell_type": "markdown",
   "metadata": {},
   "source": [
    "### 3.1 Win\n",
    "\n",
    "<br>\n",
    "\n",
    "\n",
    "The next step is to populate the new dataframe with the simulated data. This will be done category by category and column by column. The first category will be 'W' (win)."
   ]
  },
  {
   "cell_type": "markdown",
   "metadata": {},
   "source": [
    "##### 3.1.1 Shots\n",
    "\n",
    "<br>\n",
    "\n",
    "There are a number of approaches one could take to simulate the data for the shots variable. As seen above for the 'results' variable, `numpy.random.choice` allows for quite fine grain control of the simulated data points with the *p* parameter. The values generated will closely mirror the source data set (see below). \n",
    "\n",
    "When using `random.choice`, the probability values (*p*) must add to 1. When I sum the probability values together below, we see the total is just under 1. The `random.choice` will not work unless this value is exactly 1. I found an informative discussion on stackoverflow.com dealing with this very issue [13]. I have implemented the solution below. "
   ]
  },
  {
   "cell_type": "code",
   "execution_count": 43,
   "metadata": {},
   "outputs": [
    {
     "name": "stdout",
     "output_type": "stream",
     "text": [
      "0.9999999999999998\n"
     ]
    }
   ],
   "source": [
    "# Divide the frequency of each number of shots taken by total number of matches won and add to list\n",
    "win_shots_prob = list(win_shots_distribution / 181)\n",
    "\n",
    "# Print sum of probability values to the screen\n",
    "print(sum(win_shots_prob))"
   ]
  },
  {
   "cell_type": "code",
   "execution_count": 44,
   "metadata": {},
   "outputs": [
    {
     "data": {
      "text/plain": [
       "1.0"
      ]
     },
     "execution_count": 44,
     "metadata": {},
     "output_type": "execute_result"
    }
   ],
   "source": [
    "# Convert to array\n",
    "win_shots_prob = np.array(win_shots_prob)\n",
    "\n",
    "# Divide by the sum of its elements. This normalizes the probabilities.\n",
    "win_shots_prob /= win_shots_prob.sum()\n",
    "\n",
    "# Output sum of probabilities\n",
    "win_shots_prob.sum()"
   ]
  },
  {
   "cell_type": "markdown",
   "metadata": {},
   "source": [
    "<br>\n",
    "\n",
    "As above, I create a list of the unique values for win_shots:"
   ]
  },
  {
   "cell_type": "code",
   "execution_count": 45,
   "metadata": {},
   "outputs": [
    {
     "name": "stdout",
     "output_type": "stream",
     "text": [
      "[5, 6, 7, 8, 9, 10, 11, 12, 13, 14, 15, 16, 17, 18, 19, 20, 21, 22, 23, 24, 26]\n"
     ]
    }
   ],
   "source": [
    "# Get unique values from win_shots and store them in a set\n",
    "win_shots_set = set(win_shots)\n",
    "\n",
    "# Convert the set to a list \n",
    "win_shots_list = list(win_shots_set)\n",
    "\n",
    "# Output the list\n",
    "print(win_shots_list)"
   ]
  },
  {
   "cell_type": "markdown",
   "metadata": {},
   "source": [
    "<br>\n",
    "\n",
    "Now we are ready to generate our simulated values for the win_shots variable:"
   ]
  },
  {
   "cell_type": "code",
   "execution_count": 46,
   "metadata": {},
   "outputs": [],
   "source": [
    "# Generate array of simulated data for shots variable\n",
    "win_shots_sim = rng.choice(win_shots_list, 181, p=win_shots_prob)"
   ]
  },
  {
   "cell_type": "code",
   "execution_count": 47,
   "metadata": {},
   "outputs": [],
   "source": [
    "# Convert array to pandas series\n",
    "win_shots_sim = pd.Series(win_shots_sim)\n",
    "\n",
    "# Count the frequency of each value in the series\n",
    "win_shots_sim_distribution = win_shots_sim.value_counts()\n",
    "\n",
    "# Sort the values\n",
    "win_shots_sim_distribution = win_shots_sim_distribution.sort_index()"
   ]
  },
  {
   "cell_type": "code",
   "execution_count": 53,
   "metadata": {},
   "outputs": [
    {
     "data": {
      "text/plain": [
       "Text(0, 0.5, 'No. of Matches')"
      ]
     },
     "execution_count": 53,
     "metadata": {},
     "output_type": "execute_result"
    },
    {
     "data": {
      "image/png": "[encoded data removed]",
      "text/plain": [
       "<Figure size 2160x720 with 1 Axes>"
      ]
     },
     "metadata": {},
     "output_type": "display_data"
    }
   ],
   "source": [
    "# Create a dictionary so we can combine the meta data for the series\n",
    "sim_shots_dict = { 'win': win_shots_distribution, 'simulated win': win_shots_sim_distribution }\n",
    "\n",
    "# Create a dataframe and store it in \n",
    "sim_shots_comparison = pd.DataFrame(sim_shots_dict) \n",
    "sim_shots_comparison.plot(kind=\"bar\", figsize=(30, 10))\n",
    "\n",
    "plt.title(\"Shots on Goal\")\n",
    "plt.xlabel(\"No. of Shots\")\n",
    "plt.ylabel(\"No. of Matches\")"
   ]
  },
  {
   "cell_type": "markdown",
   "metadata": {},
   "source": [
    "With this visualisation we see how closely the simulated data set resembles the real world data set. \n",
    "\n",
    "Using `random.choice` may be an appropriate option in certain circumstance, however for the present project it brings with it some drawbacks. It does not aptly express the randomness one would expect to observe throughout a full season. To base a simulation so closely on a single season only is far too limiting. The `.choice` function will never generate a value below 5 or above 26, or even exactly 25 shots on goal, because these values were not observed during the 2018/2019 Premier League season. Of course, this number of shots could indeed be observed in any given season of football, no matter the standard of football being played or quality of team playing. For this reason, an array of values following an appropriate distribution is a more suitable approach to take."
   ]
  },
  {
   "cell_type": "markdown",
   "metadata": {},
   "source": [
    "#### Poisson distribution\n",
    "\n",
    "As mentioned above, the shots variable may be suitably represented by a poisson distribution. The `numpy.poisson` distribution function is available as part of the `random` package. The poisson distribution is a discrete probability distribution of the number of events occuring in a given time period. We can let the time period for this variable be 90 minutes (or the length of a football match), with lamba equal to 12.69 shots, representing both the mean and variance.\n",
    "\n",
    "For a variable to be distributed according to a poisson distribution, each event must be completely random i.e. completely independent of one another [14]. This does not hold true in the real world of football where shots on goal are concerned. "
   ]
  },
  {
   "cell_type": "code",
   "execution_count": 54,
   "metadata": {},
   "outputs": [],
   "source": [
    "sim_shots_pois = rng.poisson(13.6, 181)"
   ]
  },
  {
   "cell_type": "code",
   "execution_count": 55,
   "metadata": {},
   "outputs": [
    {
     "data": {
      "text/plain": [
       "<AxesSubplot:ylabel='Count'>"
      ]
     },
     "execution_count": 55,
     "metadata": {},
     "output_type": "execute_result"
    },
    {
     "data": {
      "image/png": "[encoded data removed]",
      "text/plain": [
       "<Figure size 432x288 with 1 Axes>"
      ]
     },
     "metadata": {},
     "output_type": "display_data"
    }
   ],
   "source": [
    "sns.histplot(sim_shots_pois, kde=True, discrete=True)"
   ]
  },
  {
   "cell_type": "markdown",
   "metadata": {},
   "source": [
    "#### Correlation\n",
    "\n",
    "As mentioned above, if we want to synthesise a given correlation between variables for a simulated data set, the `numpy.random` package offers a useful tool in the `random.multivariate_normal` function. There are limitations with this function in the sense that both variables must follow a normal distribution. However, as demonstrated above, there are limitations with other attempts at accurate simulation. Fake data will never serve as a wholly appropriate replacement for real world data [15]. Sacrifices will always need to be made, and a certain amount of inherent bias is unavoidable [16]. I have taken a number of approaches to generate as accurate a data set as possible and the most useful solution I have found to date involves using the `random.multivariate_normal` function. \n"
   ]
  },
  {
   "cell_type": "markdown",
   "metadata": {},
   "source": [
    "Using code found at realpython.com [17], I generate the correlated data with the `random.multivariate_normal` function. This function takes the *means* of both variables and *covariance matrix* as parameters. Using `numpy.cov`, we can generate a covariance matrix. To filter out extreme and unrealistic outliers, I add a line of code which removes an values outside 2.4 standard deviations from the mean [18]. After some trial and error I found that this was the optimal number of standard deviations to apply:"
   ]
  },
  {
   "cell_type": "code",
   "execution_count": 51,
   "metadata": {},
   "outputs": [
    {
     "ename": "NameError",
     "evalue": "name 'df4' is not defined",
     "output_type": "error",
     "traceback": [
      "\u001b[1;31m---------------------------------------------------------------------------\u001b[0m",
      "\u001b[1;31mNameError\u001b[0m                                 Traceback (most recent call last)",
      "\u001b[1;32m<ipython-input-51-277afc8af0d7>\u001b[0m in \u001b[0;36m<module>\u001b[1;34m\u001b[0m\n\u001b[0;32m     16\u001b[0m \u001b[1;33m\u001b[0m\u001b[0m\n\u001b[0;32m     17\u001b[0m \u001b[1;31m# Remove unrealistic outliers\u001b[0m\u001b[1;33m\u001b[0m\u001b[1;33m\u001b[0m\u001b[1;33m\u001b[0m\u001b[0m\n\u001b[1;32m---> 18\u001b[1;33m \u001b[0mwin_sim_df\u001b[0m \u001b[1;33m=\u001b[0m \u001b[0mwin_sim_df\u001b[0m\u001b[1;33m[\u001b[0m\u001b[0mnp\u001b[0m\u001b[1;33m.\u001b[0m\u001b[0mabs\u001b[0m\u001b[1;33m(\u001b[0m\u001b[0mwin_sim_df\u001b[0m\u001b[1;33m.\u001b[0m\u001b[0mPossession\u001b[0m\u001b[1;33m-\u001b[0m\u001b[0mdf4\u001b[0m\u001b[1;33m.\u001b[0m\u001b[0mPossession\u001b[0m\u001b[1;33m.\u001b[0m\u001b[0mmean\u001b[0m\u001b[1;33m(\u001b[0m\u001b[1;33m)\u001b[0m\u001b[1;33m)\u001b[0m \u001b[1;33m<=\u001b[0m \u001b[1;33m(\u001b[0m\u001b[1;36m2.4\u001b[0m\u001b[1;33m*\u001b[0m\u001b[0mwin_sim_df\u001b[0m\u001b[1;33m.\u001b[0m\u001b[0mPossession\u001b[0m\u001b[1;33m.\u001b[0m\u001b[0mstd\u001b[0m\u001b[1;33m(\u001b[0m\u001b[1;33m)\u001b[0m\u001b[1;33m)\u001b[0m\u001b[1;33m]\u001b[0m\u001b[1;33m\u001b[0m\u001b[1;33m\u001b[0m\u001b[0m\n\u001b[0m\u001b[0;32m     19\u001b[0m \u001b[1;33m\u001b[0m\u001b[0m\n\u001b[0;32m     20\u001b[0m \u001b[1;31m#win_poss_shots_sim[:10]\u001b[0m\u001b[1;33m\u001b[0m\u001b[1;33m\u001b[0m\u001b[1;33m\u001b[0m\u001b[0m\n",
      "\u001b[1;31mNameError\u001b[0m: name 'df4' is not defined"
     ]
    }
   ],
   "source": [
    "# Set random seed to keep values consistent\n",
    "np.random.seed(444)\n",
    "\n",
    "# Standard deviations/means of win_possession and win_shots, respectively\n",
    "stdev = np.array([13.482255, 4.195426])\n",
    "mean = np.array([53.867403, 12.696133])\n",
    "\n",
    "# Generate covariance matrix\n",
    "cov = np.cov(win_possession, win_shots)\n",
    "\n",
    "#Generate correlated variables\n",
    "win_poss_shots_sim = np.random.multivariate_normal(mean=mean, cov=cov, size=238)\n",
    "\n",
    "# Convert to Pandas dataframe\n",
    "win_sim_df = pd.DataFrame(win_poss_shots_sim, columns=['Possession', 'Shots'])\n",
    "\n",
    "# Remove unrealistic outliers\n",
    "win_sim_df = win_sim_df[np.abs(win_sim_df.Possession-df4.Possession.mean()) <= (2.4*win_sim_df.Possession.std())]\n",
    "\n",
    "#win_poss_shots_sim[:10]\n",
    "win_sim_df.head()"
   ]
  },
  {
   "cell_type": "code",
   "execution_count": 56,
   "metadata": {},
   "outputs": [
    {
     "data": {
      "text/plain": [
       "count    238.000000\n",
       "mean      12.836504\n",
       "std        4.271833\n",
       "min        3.201995\n",
       "25%       10.311849\n",
       "50%       12.464122\n",
       "75%       15.736808\n",
       "max       24.879377\n",
       "Name: Shots, dtype: float64"
      ]
     },
     "execution_count": 56,
     "metadata": {},
     "output_type": "execute_result"
    }
   ],
   "source": [
    "win_sim_df[\"Shots\"].describe()"
   ]
  },
  {
   "cell_type": "markdown",
   "metadata": {},
   "source": [
    "Next, I generate random data for the BMI variable. As discussed above, BMI is inversely related to both possession and shots. Through trial and error, I have found that a correlation coefficient of -0.5 best represents reality following my reasearch on the relationship between BMI and the other two variables. \n",
    "\n",
    "First, using a function found on realpython.com [19], I generate a covariance matrix. I then generate correlated data for the possession and BMI variables:"
   ]
  },
  {
   "cell_type": "code",
   "execution_count": 57,
   "metadata": {},
   "outputs": [],
   "source": [
    "# Generate a covariance matrix from correlation and standard deviations\n",
    "def corr2cov(p: np.ndarray, s: np.ndarray) -> np.ndarray:\n",
    "    d = np.diag(s)\n",
    "    return d @ p @ d"
   ]
  },
  {
   "cell_type": "code",
   "execution_count": 58,
   "metadata": {},
   "outputs": [
    {
     "data": {
      "text/plain": [
       "array([[ 48.57934604,  25.60555145],\n",
       "       [ 34.20458986,  27.77258126],\n",
       "       [ 66.7155072 ,  22.07246016],\n",
       "       [ 61.17814238,  23.35355186],\n",
       "       [ 50.66315478,  25.21496155],\n",
       "       [ 35.61900179,  24.59826616],\n",
       "       [100.08624559,  20.44557162],\n",
       "       [ 58.57670754,  23.00541714],\n",
       "       [ 51.45510904,  25.22233891],\n",
       "       [ 52.38534251,  23.36778139]])"
      ]
     },
     "execution_count": 58,
     "metadata": {},
     "output_type": "execute_result"
    }
   ],
   "source": [
    "# Keep the same random seed\n",
    "np.random.seed(444)\n",
    "\n",
    "# Create matrix of correlation coefficients\n",
    "corr_bmi = np.array([[1., -0.50],\n",
    "                   [-0.50, 1.]])\n",
    "\n",
    "\n",
    "# Standard deviations and means of both variables\n",
    "stdev_bmi = np.array([14.103586, 1.795426])\n",
    "mean_bmi = np.array([53.582737, 24.696133])\n",
    "\n",
    "# Call function which returns covariance matrix\n",
    "cov_bmi = corr2cov(corr_bmi, stdev_bmi)\n",
    "\n",
    "# Generate correlated dat for possession and BMI\n",
    "win_poss_bmi = np.random.multivariate_normal(mean=mean_bmi, cov=cov_bmi, size=234)\n",
    "\n",
    "# View first 10 rows\n",
    "win_poss_bmi[:10]"
   ]
  },
  {
   "cell_type": "code",
   "execution_count": null,
   "metadata": {},
   "outputs": [],
   "source": []
  },
  {
   "cell_type": "code",
   "execution_count": 59,
   "metadata": {},
   "outputs": [
    {
     "data": {
      "text/html": [
       "<div>\n",
       "<style scoped>\n",
       "    .dataframe tbody tr th:only-of-type {\n",
       "        vertical-align: middle;\n",
       "    }\n",
       "\n",
       "    .dataframe tbody tr th {\n",
       "        vertical-align: top;\n",
       "    }\n",
       "\n",
       "    .dataframe thead th {\n",
       "        text-align: right;\n",
       "    }\n",
       "</style>\n",
       "<table border=\"1\" class=\"dataframe\">\n",
       "  <thead>\n",
       "    <tr style=\"text-align: right;\">\n",
       "      <th></th>\n",
       "      <th>Shots</th>\n",
       "      <th>BMI</th>\n",
       "    </tr>\n",
       "  </thead>\n",
       "  <tbody>\n",
       "    <tr>\n",
       "      <th>0</th>\n",
       "      <td>11.315710</td>\n",
       "      <td>25.619629</td>\n",
       "    </tr>\n",
       "    <tr>\n",
       "      <th>1</th>\n",
       "      <td>7.367639</td>\n",
       "      <td>27.849456</td>\n",
       "    </tr>\n",
       "    <tr>\n",
       "      <th>2</th>\n",
       "      <td>16.123649</td>\n",
       "      <td>22.047379</td>\n",
       "    </tr>\n",
       "    <tr>\n",
       "      <th>3</th>\n",
       "      <td>14.699549</td>\n",
       "      <td>23.330278</td>\n",
       "    </tr>\n",
       "    <tr>\n",
       "      <th>4</th>\n",
       "      <td>11.871461</td>\n",
       "      <td>25.223769</td>\n",
       "    </tr>\n",
       "    <tr>\n",
       "      <th>...</th>\n",
       "      <td>...</td>\n",
       "      <td>...</td>\n",
       "    </tr>\n",
       "    <tr>\n",
       "      <th>229</th>\n",
       "      <td>2.426136</td>\n",
       "      <td>26.962734</td>\n",
       "    </tr>\n",
       "    <tr>\n",
       "      <th>230</th>\n",
       "      <td>9.088446</td>\n",
       "      <td>25.618111</td>\n",
       "    </tr>\n",
       "    <tr>\n",
       "      <th>231</th>\n",
       "      <td>5.884106</td>\n",
       "      <td>25.686705</td>\n",
       "    </tr>\n",
       "    <tr>\n",
       "      <th>232</th>\n",
       "      <td>13.549448</td>\n",
       "      <td>25.532214</td>\n",
       "    </tr>\n",
       "    <tr>\n",
       "      <th>233</th>\n",
       "      <td>13.304089</td>\n",
       "      <td>24.225516</td>\n",
       "    </tr>\n",
       "  </tbody>\n",
       "</table>\n",
       "<p>234 rows × 2 columns</p>\n",
       "</div>"
      ],
      "text/plain": [
       "         Shots        BMI\n",
       "0    11.315710  25.619629\n",
       "1     7.367639  27.849456\n",
       "2    16.123649  22.047379\n",
       "3    14.699549  23.330278\n",
       "4    11.871461  25.223769\n",
       "..         ...        ...\n",
       "229   2.426136  26.962734\n",
       "230   9.088446  25.618111\n",
       "231   5.884106  25.686705\n",
       "232  13.549448  25.532214\n",
       "233  13.304089  24.225516\n",
       "\n",
       "[234 rows x 2 columns]"
      ]
     },
     "execution_count": 59,
     "metadata": {},
     "output_type": "execute_result"
    }
   ],
   "source": [
    "# Keep the same random seed\n",
    "np.random.seed(444)\n",
    "\n",
    "# Create matrix of correlation coefficients\n",
    "corr_bmi = np.array([[1., -0.50],\n",
    "                   [-0.50, 1.]])\n",
    "\n",
    "\n",
    "# Standard deviations and means of both variables\n",
    "stdev_bmi2 = np.array([4.153594, 1.795426])\n",
    "mean_bmi2 = np.array([12.656274, 24.696133])\n",
    "\n",
    "# Call function which returns covariance matrix\n",
    "cov_bmi2 = corr2cov(corr_bmi, stdev_bmi2)\n",
    "\n",
    "# Generate correlated dat for possession and BMI\n",
    "win_shots_bmi2 = np.random.multivariate_normal(mean=mean_bmi2, cov=cov_bmi2, size=234)\n",
    "\n",
    "win_shots_bmi2 = pd.DataFrame(win_shots_bmi2, columns=['Shots', 'BMI'])\n",
    "\n",
    "\n",
    "# View first 10 rows\n",
    "win_shots_bmi2"
   ]
  },
  {
   "cell_type": "code",
   "execution_count": 60,
   "metadata": {},
   "outputs": [],
   "source": [
    "win_shots_bmi2[\"Possession\"] = win_sim_df[\"Possession\"]"
   ]
  },
  {
   "cell_type": "code",
   "execution_count": 182,
   "metadata": {},
   "outputs": [
    {
     "data": {
      "text/html": [
       "<div>\n",
       "<style scoped>\n",
       "    .dataframe tbody tr th:only-of-type {\n",
       "        vertical-align: middle;\n",
       "    }\n",
       "\n",
       "    .dataframe tbody tr th {\n",
       "        vertical-align: top;\n",
       "    }\n",
       "\n",
       "    .dataframe thead th {\n",
       "        text-align: right;\n",
       "    }\n",
       "</style>\n",
       "<table border=\"1\" class=\"dataframe\">\n",
       "  <thead>\n",
       "    <tr style=\"text-align: right;\">\n",
       "      <th></th>\n",
       "      <th>Shots</th>\n",
       "      <th>BMI</th>\n",
       "      <th>Possession</th>\n",
       "    </tr>\n",
       "  </thead>\n",
       "  <tbody>\n",
       "    <tr>\n",
       "      <th>0</th>\n",
       "      <td>8</td>\n",
       "      <td>25.619629</td>\n",
       "      <td>48.822598</td>\n",
       "    </tr>\n",
       "    <tr>\n",
       "      <th>1</th>\n",
       "      <td>9</td>\n",
       "      <td>27.849456</td>\n",
       "      <td>34.531307</td>\n",
       "    </tr>\n",
       "    <tr>\n",
       "      <th>2</th>\n",
       "      <td>15</td>\n",
       "      <td>22.047379</td>\n",
       "      <td>67.216364</td>\n",
       "    </tr>\n",
       "    <tr>\n",
       "      <th>3</th>\n",
       "      <td>13</td>\n",
       "      <td>23.330278</td>\n",
       "      <td>61.508435</td>\n",
       "    </tr>\n",
       "    <tr>\n",
       "      <th>4</th>\n",
       "      <td>12</td>\n",
       "      <td>25.223769</td>\n",
       "      <td>50.929030</td>\n",
       "    </tr>\n",
       "    <tr>\n",
       "      <th>...</th>\n",
       "      <td>...</td>\n",
       "      <td>...</td>\n",
       "      <td>...</td>\n",
       "    </tr>\n",
       "    <tr>\n",
       "      <th>229</th>\n",
       "      <td>4</td>\n",
       "      <td>26.962734</td>\n",
       "      <td>20.893047</td>\n",
       "    </tr>\n",
       "    <tr>\n",
       "      <th>230</th>\n",
       "      <td>2</td>\n",
       "      <td>25.618111</td>\n",
       "      <td>42.215462</td>\n",
       "    </tr>\n",
       "    <tr>\n",
       "      <th>231</th>\n",
       "      <td>8</td>\n",
       "      <td>25.686705</td>\n",
       "      <td>32.628075</td>\n",
       "    </tr>\n",
       "    <tr>\n",
       "      <th>232</th>\n",
       "      <td>10</td>\n",
       "      <td>25.532214</td>\n",
       "      <td>55.551693</td>\n",
       "    </tr>\n",
       "    <tr>\n",
       "      <th>233</th>\n",
       "      <td>10</td>\n",
       "      <td>24.225516</td>\n",
       "      <td>56.333387</td>\n",
       "    </tr>\n",
       "  </tbody>\n",
       "</table>\n",
       "<p>234 rows × 3 columns</p>\n",
       "</div>"
      ],
      "text/plain": [
       "     Shots        BMI  Possession\n",
       "0        8  25.619629   48.822598\n",
       "1        9  27.849456   34.531307\n",
       "2       15  22.047379   67.216364\n",
       "3       13  23.330278   61.508435\n",
       "4       12  25.223769   50.929030\n",
       "..     ...        ...         ...\n",
       "229      4  26.962734   20.893047\n",
       "230      2  25.618111   42.215462\n",
       "231      8  25.686705   32.628075\n",
       "232     10  25.532214   55.551693\n",
       "233     10  24.225516   56.333387\n",
       "\n",
       "[234 rows x 3 columns]"
      ]
     },
     "execution_count": 182,
     "metadata": {},
     "output_type": "execute_result"
    }
   ],
   "source": [
    "win_shots_bmi2[\"Shots\"] = win_shots_bmi3[\"Shots\"]\n",
    "win_shots_bmi2"
   ]
  },
  {
   "cell_type": "code",
   "execution_count": 183,
   "metadata": {},
   "outputs": [
    {
     "data": {
      "text/plain": [
       "<matplotlib.collections.PathCollection at 0x269022ad5b0>"
      ]
     },
     "execution_count": 183,
     "metadata": {},
     "output_type": "execute_result"
    },
    {
     "data": {
      "image/png": "[encoded data removed]",
      "text/plain": [
       "<Figure size 432x288 with 1 Axes>"
      ]
     },
     "metadata": {},
     "output_type": "display_data"
    }
   ],
   "source": [
    "plt.scatter(win_shots_bmi2[\"Shots\"], win_shots_bmi2[\"Possession\"])"
   ]
  },
  {
   "cell_type": "code",
   "execution_count": 184,
   "metadata": {},
   "outputs": [
    {
     "data": {
      "text/plain": [
       "<matplotlib.collections.PathCollection at 0x26902423fa0>"
      ]
     },
     "execution_count": 184,
     "metadata": {},
     "output_type": "execute_result"
    },
    {
     "data": {
      "image/png": "[encoded data removed]",
      "text/plain": [
       "<Figure size 432x288 with 1 Axes>"
      ]
     },
     "metadata": {},
     "output_type": "display_data"
    }
   ],
   "source": [
    "plt.scatter(win_shots_bmi2[\"Shots\"], win_shots_bmi2[\"BMI\"])"
   ]
  },
  {
   "cell_type": "code",
   "execution_count": 185,
   "metadata": {},
   "outputs": [
    {
     "data": {
      "text/plain": [
       "<matplotlib.collections.PathCollection at 0x26902689490>"
      ]
     },
     "execution_count": 185,
     "metadata": {},
     "output_type": "execute_result"
    },
    {
     "data": {
      "image/png": "[encoded data removed]",
      "text/plain": [
       "<Figure size 432x288 with 1 Axes>"
      ]
     },
     "metadata": {},
     "output_type": "display_data"
    }
   ],
   "source": [
    "plt.scatter(win_shots_bmi2[\"BMI\"], win_shots_bmi2[\"Possession\"])"
   ]
  },
  {
   "cell_type": "code",
   "execution_count": 90,
   "metadata": {},
   "outputs": [
    {
     "data": {
      "text/html": [
       "<div>\n",
       "<style scoped>\n",
       "    .dataframe tbody tr th:only-of-type {\n",
       "        vertical-align: middle;\n",
       "    }\n",
       "\n",
       "    .dataframe tbody tr th {\n",
       "        vertical-align: top;\n",
       "    }\n",
       "\n",
       "    .dataframe thead th {\n",
       "        text-align: right;\n",
       "    }\n",
       "</style>\n",
       "<table border=\"1\" class=\"dataframe\">\n",
       "  <thead>\n",
       "    <tr style=\"text-align: right;\">\n",
       "      <th></th>\n",
       "      <th>Possession</th>\n",
       "    </tr>\n",
       "  </thead>\n",
       "  <tbody>\n",
       "    <tr>\n",
       "      <th>0</th>\n",
       "      <td>48.822598</td>\n",
       "    </tr>\n",
       "    <tr>\n",
       "      <th>1</th>\n",
       "      <td>34.531307</td>\n",
       "    </tr>\n",
       "    <tr>\n",
       "      <th>2</th>\n",
       "      <td>67.216364</td>\n",
       "    </tr>\n",
       "    <tr>\n",
       "      <th>3</th>\n",
       "      <td>61.508435</td>\n",
       "    </tr>\n",
       "    <tr>\n",
       "      <th>4</th>\n",
       "      <td>50.929030</td>\n",
       "    </tr>\n",
       "    <tr>\n",
       "      <th>...</th>\n",
       "      <td>...</td>\n",
       "    </tr>\n",
       "    <tr>\n",
       "      <th>229</th>\n",
       "      <td>20.893047</td>\n",
       "    </tr>\n",
       "    <tr>\n",
       "      <th>230</th>\n",
       "      <td>42.215462</td>\n",
       "    </tr>\n",
       "    <tr>\n",
       "      <th>231</th>\n",
       "      <td>32.628075</td>\n",
       "    </tr>\n",
       "    <tr>\n",
       "      <th>232</th>\n",
       "      <td>55.551693</td>\n",
       "    </tr>\n",
       "    <tr>\n",
       "      <th>233</th>\n",
       "      <td>56.333387</td>\n",
       "    </tr>\n",
       "  </tbody>\n",
       "</table>\n",
       "<p>234 rows × 1 columns</p>\n",
       "</div>"
      ],
      "text/plain": [
       "     Possession\n",
       "0     48.822598\n",
       "1     34.531307\n",
       "2     67.216364\n",
       "3     61.508435\n",
       "4     50.929030\n",
       "..          ...\n",
       "229   20.893047\n",
       "230   42.215462\n",
       "231   32.628075\n",
       "232   55.551693\n",
       "233   56.333387\n",
       "\n",
       "[234 rows x 1 columns]"
      ]
     },
     "execution_count": 90,
     "metadata": {},
     "output_type": "execute_result"
    }
   ],
   "source": [
    "win_shots_bmi3 = pd.DataFrame(win_shots_bmi2[\"Possession\"])\n",
    "win_shots_bmi3"
   ]
  },
  {
   "cell_type": "code",
   "execution_count": 162,
   "metadata": {},
   "outputs": [
    {
     "data": {
      "text/plain": [
       "count    181.000000\n",
       "mean      12.696133\n",
       "std        4.195426\n",
       "min        5.000000\n",
       "25%        9.000000\n",
       "50%       13.000000\n",
       "75%       16.000000\n",
       "max       26.000000\n",
       "Name: home_team_shots, dtype: float64"
      ]
     },
     "execution_count": 162,
     "metadata": {},
     "output_type": "execute_result"
    }
   ],
   "source": [
    "win_shots.describe()"
   ]
  },
  {
   "cell_type": "code",
   "execution_count": 172,
   "metadata": {},
   "outputs": [
    {
     "name": "stderr",
     "output_type": "stream",
     "text": [
      "<ipython-input-172-e5d1fe513231>:7: SettingWithCopyWarning: \n",
      "A value is trying to be set on a copy of a slice from a DataFrame\n",
      "\n",
      "See the caveats in the documentation: https://pandas.pydata.org/pandas-docs/stable/user_guide/indexing.html#returning-a-view-versus-a-copy\n",
      "  win_shots_bmi3[\"Shots\"][i] = rng.normal(12, 3)\n",
      "<ipython-input-172-e5d1fe513231>:9: SettingWithCopyWarning: \n",
      "A value is trying to be set on a copy of a slice from a DataFrame\n",
      "\n",
      "See the caveats in the documentation: https://pandas.pydata.org/pandas-docs/stable/user_guide/indexing.html#returning-a-view-versus-a-copy\n",
      "  win_shots_bmi3[\"Shots\"][i] = rng.normal(7, 3)\n",
      "<ipython-input-172-e5d1fe513231>:5: SettingWithCopyWarning: \n",
      "A value is trying to be set on a copy of a slice from a DataFrame\n",
      "\n",
      "See the caveats in the documentation: https://pandas.pydata.org/pandas-docs/stable/user_guide/indexing.html#returning-a-view-versus-a-copy\n",
      "  win_shots_bmi3[\"Shots\"][i] = rng.normal(15, 3)\n"
     ]
    }
   ],
   "source": [
    "win_shots_bmi3[\"Shots\"] = 0\n",
    "\n",
    "for i in range(len(win_shots_bmi3)):\n",
    "    if win_shots_bmi3[\"Possession\"][i] > 60:\n",
    "        win_shots_bmi3[\"Shots\"][i] = rng.normal(15, 3)\n",
    "    elif 45 < win_shots_bmi3[\"Possession\"][i] < 60:\n",
    "        win_shots_bmi3[\"Shots\"][i] = rng.normal(12, 3)\n",
    "    else:\n",
    "        win_shots_bmi3[\"Shots\"][i] = rng.normal(7, 3)"
   ]
  },
  {
   "cell_type": "code",
   "execution_count": 173,
   "metadata": {},
   "outputs": [
    {
     "data": {
      "text/html": [
       "<div>\n",
       "<style scoped>\n",
       "    .dataframe tbody tr th:only-of-type {\n",
       "        vertical-align: middle;\n",
       "    }\n",
       "\n",
       "    .dataframe tbody tr th {\n",
       "        vertical-align: top;\n",
       "    }\n",
       "\n",
       "    .dataframe thead th {\n",
       "        text-align: right;\n",
       "    }\n",
       "</style>\n",
       "<table border=\"1\" class=\"dataframe\">\n",
       "  <thead>\n",
       "    <tr style=\"text-align: right;\">\n",
       "      <th></th>\n",
       "      <th>Possession</th>\n",
       "      <th>Shots</th>\n",
       "    </tr>\n",
       "  </thead>\n",
       "  <tbody>\n",
       "    <tr>\n",
       "      <th>0</th>\n",
       "      <td>48.822598</td>\n",
       "      <td>8</td>\n",
       "    </tr>\n",
       "    <tr>\n",
       "      <th>1</th>\n",
       "      <td>34.531307</td>\n",
       "      <td>9</td>\n",
       "    </tr>\n",
       "    <tr>\n",
       "      <th>2</th>\n",
       "      <td>67.216364</td>\n",
       "      <td>15</td>\n",
       "    </tr>\n",
       "    <tr>\n",
       "      <th>3</th>\n",
       "      <td>61.508435</td>\n",
       "      <td>13</td>\n",
       "    </tr>\n",
       "    <tr>\n",
       "      <th>4</th>\n",
       "      <td>50.929030</td>\n",
       "      <td>12</td>\n",
       "    </tr>\n",
       "    <tr>\n",
       "      <th>...</th>\n",
       "      <td>...</td>\n",
       "      <td>...</td>\n",
       "    </tr>\n",
       "    <tr>\n",
       "      <th>229</th>\n",
       "      <td>20.893047</td>\n",
       "      <td>4</td>\n",
       "    </tr>\n",
       "    <tr>\n",
       "      <th>230</th>\n",
       "      <td>42.215462</td>\n",
       "      <td>2</td>\n",
       "    </tr>\n",
       "    <tr>\n",
       "      <th>231</th>\n",
       "      <td>32.628075</td>\n",
       "      <td>8</td>\n",
       "    </tr>\n",
       "    <tr>\n",
       "      <th>232</th>\n",
       "      <td>55.551693</td>\n",
       "      <td>10</td>\n",
       "    </tr>\n",
       "    <tr>\n",
       "      <th>233</th>\n",
       "      <td>56.333387</td>\n",
       "      <td>10</td>\n",
       "    </tr>\n",
       "  </tbody>\n",
       "</table>\n",
       "<p>234 rows × 2 columns</p>\n",
       "</div>"
      ],
      "text/plain": [
       "     Possession  Shots\n",
       "0     48.822598      8\n",
       "1     34.531307      9\n",
       "2     67.216364     15\n",
       "3     61.508435     13\n",
       "4     50.929030     12\n",
       "..          ...    ...\n",
       "229   20.893047      4\n",
       "230   42.215462      2\n",
       "231   32.628075      8\n",
       "232   55.551693     10\n",
       "233   56.333387     10\n",
       "\n",
       "[234 rows x 2 columns]"
      ]
     },
     "execution_count": 173,
     "metadata": {},
     "output_type": "execute_result"
    }
   ],
   "source": [
    "win_shots_bmi3"
   ]
  },
  {
   "cell_type": "code",
   "execution_count": 174,
   "metadata": {},
   "outputs": [
    {
     "data": {
      "text/plain": [
       "<matplotlib.collections.PathCollection at 0x26902594910>"
      ]
     },
     "execution_count": 174,
     "metadata": {},
     "output_type": "execute_result"
    },
    {
     "data": {
      "image/png": "[encoded data removed]",
      "text/plain": [
       "<Figure size 432x288 with 1 Axes>"
      ]
     },
     "metadata": {},
     "output_type": "display_data"
    }
   ],
   "source": [
    "plt.scatter(win_shots_bmi3[\"Possession\"], win_shots_bmi3[\"Shots\"])"
   ]
  },
  {
   "cell_type": "code",
   "execution_count": null,
   "metadata": {},
   "outputs": [],
   "source": []
  },
  {
   "cell_type": "code",
   "execution_count": 175,
   "metadata": {},
   "outputs": [
    {
     "ename": "KeyError",
     "evalue": "'BMI'",
     "output_type": "error",
     "traceback": [
      "\u001b[1;31m---------------------------------------------------------------------------\u001b[0m",
      "\u001b[1;31mKeyError\u001b[0m                                  Traceback (most recent call last)",
      "\u001b[1;32m~\\anaconda3\\lib\\site-packages\\pandas\\core\\indexes\\base.py\u001b[0m in \u001b[0;36mget_loc\u001b[1;34m(self, key, method, tolerance)\u001b[0m\n\u001b[0;32m   2897\u001b[0m             \u001b[1;32mtry\u001b[0m\u001b[1;33m:\u001b[0m\u001b[1;33m\u001b[0m\u001b[1;33m\u001b[0m\u001b[0m\n\u001b[1;32m-> 2898\u001b[1;33m                 \u001b[1;32mreturn\u001b[0m \u001b[0mself\u001b[0m\u001b[1;33m.\u001b[0m\u001b[0m_engine\u001b[0m\u001b[1;33m.\u001b[0m\u001b[0mget_loc\u001b[0m\u001b[1;33m(\u001b[0m\u001b[0mcasted_key\u001b[0m\u001b[1;33m)\u001b[0m\u001b[1;33m\u001b[0m\u001b[1;33m\u001b[0m\u001b[0m\n\u001b[0m\u001b[0;32m   2899\u001b[0m             \u001b[1;32mexcept\u001b[0m \u001b[0mKeyError\u001b[0m \u001b[1;32mas\u001b[0m \u001b[0merr\u001b[0m\u001b[1;33m:\u001b[0m\u001b[1;33m\u001b[0m\u001b[1;33m\u001b[0m\u001b[0m\n",
      "\u001b[1;32mpandas\\_libs\\index.pyx\u001b[0m in \u001b[0;36mpandas._libs.index.IndexEngine.get_loc\u001b[1;34m()\u001b[0m\n",
      "\u001b[1;32mpandas\\_libs\\index.pyx\u001b[0m in \u001b[0;36mpandas._libs.index.IndexEngine.get_loc\u001b[1;34m()\u001b[0m\n",
      "\u001b[1;32mpandas\\_libs\\hashtable_class_helper.pxi\u001b[0m in \u001b[0;36mpandas._libs.hashtable.PyObjectHashTable.get_item\u001b[1;34m()\u001b[0m\n",
      "\u001b[1;32mpandas\\_libs\\hashtable_class_helper.pxi\u001b[0m in \u001b[0;36mpandas._libs.hashtable.PyObjectHashTable.get_item\u001b[1;34m()\u001b[0m\n",
      "\u001b[1;31mKeyError\u001b[0m: 'BMI'",
      "\nThe above exception was the direct cause of the following exception:\n",
      "\u001b[1;31mKeyError\u001b[0m                                  Traceback (most recent call last)",
      "\u001b[1;32m<ipython-input-175-54a5588178c1>\u001b[0m in \u001b[0;36m<module>\u001b[1;34m\u001b[0m\n\u001b[1;32m----> 1\u001b[1;33m \u001b[0mplt\u001b[0m\u001b[1;33m.\u001b[0m\u001b[0mscatter\u001b[0m\u001b[1;33m(\u001b[0m\u001b[0mwin_shots_bmi3\u001b[0m\u001b[1;33m[\u001b[0m\u001b[1;34m\"BMI\"\u001b[0m\u001b[1;33m]\u001b[0m\u001b[1;33m,\u001b[0m \u001b[0mwin_shots_bmi3\u001b[0m\u001b[1;33m[\u001b[0m\u001b[1;34m\"Shots\"\u001b[0m\u001b[1;33m]\u001b[0m\u001b[1;33m)\u001b[0m\u001b[1;33m\u001b[0m\u001b[1;33m\u001b[0m\u001b[0m\n\u001b[0m",
      "\u001b[1;32m~\\anaconda3\\lib\\site-packages\\pandas\\core\\frame.py\u001b[0m in \u001b[0;36m__getitem__\u001b[1;34m(self, key)\u001b[0m\n\u001b[0;32m   2904\u001b[0m             \u001b[1;32mif\u001b[0m \u001b[0mself\u001b[0m\u001b[1;33m.\u001b[0m\u001b[0mcolumns\u001b[0m\u001b[1;33m.\u001b[0m\u001b[0mnlevels\u001b[0m \u001b[1;33m>\u001b[0m \u001b[1;36m1\u001b[0m\u001b[1;33m:\u001b[0m\u001b[1;33m\u001b[0m\u001b[1;33m\u001b[0m\u001b[0m\n\u001b[0;32m   2905\u001b[0m                 \u001b[1;32mreturn\u001b[0m \u001b[0mself\u001b[0m\u001b[1;33m.\u001b[0m\u001b[0m_getitem_multilevel\u001b[0m\u001b[1;33m(\u001b[0m\u001b[0mkey\u001b[0m\u001b[1;33m)\u001b[0m\u001b[1;33m\u001b[0m\u001b[1;33m\u001b[0m\u001b[0m\n\u001b[1;32m-> 2906\u001b[1;33m             \u001b[0mindexer\u001b[0m \u001b[1;33m=\u001b[0m \u001b[0mself\u001b[0m\u001b[1;33m.\u001b[0m\u001b[0mcolumns\u001b[0m\u001b[1;33m.\u001b[0m\u001b[0mget_loc\u001b[0m\u001b[1;33m(\u001b[0m\u001b[0mkey\u001b[0m\u001b[1;33m)\u001b[0m\u001b[1;33m\u001b[0m\u001b[1;33m\u001b[0m\u001b[0m\n\u001b[0m\u001b[0;32m   2907\u001b[0m             \u001b[1;32mif\u001b[0m \u001b[0mis_integer\u001b[0m\u001b[1;33m(\u001b[0m\u001b[0mindexer\u001b[0m\u001b[1;33m)\u001b[0m\u001b[1;33m:\u001b[0m\u001b[1;33m\u001b[0m\u001b[1;33m\u001b[0m\u001b[0m\n\u001b[0;32m   2908\u001b[0m                 \u001b[0mindexer\u001b[0m \u001b[1;33m=\u001b[0m \u001b[1;33m[\u001b[0m\u001b[0mindexer\u001b[0m\u001b[1;33m]\u001b[0m\u001b[1;33m\u001b[0m\u001b[1;33m\u001b[0m\u001b[0m\n",
      "\u001b[1;32m~\\anaconda3\\lib\\site-packages\\pandas\\core\\indexes\\base.py\u001b[0m in \u001b[0;36mget_loc\u001b[1;34m(self, key, method, tolerance)\u001b[0m\n\u001b[0;32m   2898\u001b[0m                 \u001b[1;32mreturn\u001b[0m \u001b[0mself\u001b[0m\u001b[1;33m.\u001b[0m\u001b[0m_engine\u001b[0m\u001b[1;33m.\u001b[0m\u001b[0mget_loc\u001b[0m\u001b[1;33m(\u001b[0m\u001b[0mcasted_key\u001b[0m\u001b[1;33m)\u001b[0m\u001b[1;33m\u001b[0m\u001b[1;33m\u001b[0m\u001b[0m\n\u001b[0;32m   2899\u001b[0m             \u001b[1;32mexcept\u001b[0m \u001b[0mKeyError\u001b[0m \u001b[1;32mas\u001b[0m \u001b[0merr\u001b[0m\u001b[1;33m:\u001b[0m\u001b[1;33m\u001b[0m\u001b[1;33m\u001b[0m\u001b[0m\n\u001b[1;32m-> 2900\u001b[1;33m                 \u001b[1;32mraise\u001b[0m \u001b[0mKeyError\u001b[0m\u001b[1;33m(\u001b[0m\u001b[0mkey\u001b[0m\u001b[1;33m)\u001b[0m \u001b[1;32mfrom\u001b[0m \u001b[0merr\u001b[0m\u001b[1;33m\u001b[0m\u001b[1;33m\u001b[0m\u001b[0m\n\u001b[0m\u001b[0;32m   2901\u001b[0m \u001b[1;33m\u001b[0m\u001b[0m\n\u001b[0;32m   2902\u001b[0m         \u001b[1;32mif\u001b[0m \u001b[0mtolerance\u001b[0m \u001b[1;32mis\u001b[0m \u001b[1;32mnot\u001b[0m \u001b[1;32mNone\u001b[0m\u001b[1;33m:\u001b[0m\u001b[1;33m\u001b[0m\u001b[1;33m\u001b[0m\u001b[0m\n",
      "\u001b[1;31mKeyError\u001b[0m: 'BMI'"
     ]
    }
   ],
   "source": [
    "plt.scatter(win_shots_bmi3[\"BMI\"], win_shots_bmi3[\"Shots\"])"
   ]
  },
  {
   "cell_type": "code",
   "execution_count": 142,
   "metadata": {},
   "outputs": [
    {
     "name": "stdout",
     "output_type": "stream",
     "text": [
      "[16]\n",
      "50.929030452276486\n",
      "[17]\n",
      "98.84733850369\n",
      "[16]\n",
      "59.25834836441918\n",
      "[16]\n",
      "51.65880976736111\n",
      "[13]\n",
      "53.36227725085646\n",
      "[15]\n",
      "52.54323792883079\n",
      "[15]\n",
      "63.699907573853395\n",
      "[17]\n",
      "50.566509931468225\n",
      "[18]\n",
      "85.7104895408108\n",
      "[14]\n",
      "62.97994887833686\n",
      "[18]\n",
      "56.580881101222815\n",
      "[14]\n",
      "75.92728777662012\n",
      "[22]\n",
      "77.72589343108098\n",
      "[21]\n",
      "66.04060371050507\n",
      "[23]\n",
      "62.33716304299933\n",
      "[16]\n",
      "66.05148120242507\n",
      "[13]\n",
      "67.43886445727728\n",
      "[15]\n",
      "72.20363395312651\n",
      "[17]\n",
      "55.19890130724467\n",
      "[13]\n",
      "76.4530990257218\n",
      "[15]\n",
      "57.20282932379851\n",
      "[14]\n",
      "61.63581191521594\n",
      "[14]\n",
      "52.877568790367924\n",
      "[13]\n",
      "54.8977897458642\n",
      "[17]\n",
      "58.753677118583276\n",
      "[13]\n",
      "70.77723481186266\n",
      "[17]\n",
      "66.8583436719424\n",
      "[16]\n",
      "61.5448725459045\n",
      "[18]\n",
      "61.929053892755945\n",
      "[17]\n",
      "63.5313781343984\n",
      "[15]\n",
      "62.81290498059795\n",
      "[14]\n",
      "61.017349251102274\n",
      "[17]\n",
      "68.0916239879855\n",
      "[14]\n",
      "54.45124330367557\n",
      "[16]\n",
      "56.79657595298431\n",
      "[14]\n",
      "74.23298600430888\n",
      "[16]\n",
      "62.542543143896026\n",
      "[17]\n",
      "65.1789577479545\n",
      "[21]\n",
      "55.922016176921815\n",
      "[16]\n",
      "55.19538941199737\n",
      "[16]\n",
      "53.11061150767519\n",
      "[13]\n",
      "64.34899404060761\n",
      "[14]\n",
      "58.02696158374142\n",
      "[13]\n",
      "59.972024768407834\n",
      "[15]\n",
      "51.09271431929864\n",
      "[15]\n",
      "68.77662064551434\n",
      "[15]\n",
      "58.87240227040941\n",
      "[22]\n",
      "60.76541406591399\n",
      "[17]\n",
      "59.03185717796777\n",
      "[18]\n",
      "69.32736390973203\n",
      "[13]\n",
      "50.246846798090125\n",
      "[13]\n",
      "89.71136489390173\n",
      "[15]\n",
      "56.76866106367018\n",
      "[16]\n",
      "52.12452223965466\n",
      "[14]\n",
      "50.99816180263507\n",
      "[17]\n",
      "63.31239129385021\n",
      "[13]\n",
      "60.01456890150005\n",
      "[19]\n",
      "58.67303690514726\n",
      "[22]\n",
      "73.62740144770173\n",
      "[19]\n",
      "56.132368201508186\n",
      "[14]\n",
      "71.88002290331976\n",
      "[16]\n",
      "68.46395424823118\n",
      "[14]\n",
      "60.50672798647808\n",
      "[13]\n",
      "89.16862697064607\n",
      "[13]\n",
      "58.659557045997516\n",
      "[13]\n",
      "85.0380081323093\n",
      "[13]\n",
      "54.071936312940444\n",
      "[21]\n",
      "72.40012436269139\n",
      "[16]\n",
      "76.87591686717337\n",
      "[13]\n",
      "59.24690207193764\n",
      "[16]\n",
      "51.409137352674975\n",
      "[14]\n",
      "57.86286545631983\n",
      "[14]\n",
      "74.73268073685149\n",
      "[13]\n",
      "74.6957217692641\n",
      "[15]\n",
      "62.82838747030084\n",
      "[15]\n",
      "60.025063467114926\n",
      "[17]\n",
      "69.3800112591985\n",
      "[15]\n",
      "51.04778432941304\n",
      "[23]\n",
      "63.03194985132301\n",
      "[14]\n",
      "62.13706790379539\n",
      "[13]\n",
      "61.84599607052973\n",
      "[18]\n",
      "65.70911382465303\n",
      "[13]\n",
      "50.10072290745307\n",
      "[19]\n",
      "63.92518939482344\n",
      "[15]\n",
      "67.51547866186768\n",
      "[18]\n",
      "57.93306816627051\n",
      "[15]\n",
      "51.59077930096129\n",
      "[13]\n",
      "56.24496028947733\n",
      "[14]\n",
      "56.18416404344818\n",
      "[13]\n",
      "53.42077528535962\n",
      "[15]\n",
      "56.049592044328655\n",
      "[16]\n",
      "54.21090737753848\n",
      "[16]\n",
      "92.73595452223813\n",
      "[16]\n",
      "59.64411173727718\n",
      "[16]\n",
      "64.64992797595362\n",
      "[15]\n",
      "57.23392016904538\n",
      "[13]\n",
      "72.97087571189284\n",
      "[14]\n",
      "57.55622896882411\n",
      "[16]\n",
      "59.135202895869945\n",
      "[13]\n",
      "68.67506129005956\n",
      "[17]\n",
      "50.00902365446975\n",
      "[16]\n",
      "55.55169319868875\n"
     ]
    },
    {
     "name": "stderr",
     "output_type": "stream",
     "text": [
      "<ipython-input-142-4fb0c823ced1>:17: SettingWithCopyWarning: \n",
      "A value is trying to be set on a copy of a slice from a DataFrame\n",
      "\n",
      "See the caveats in the documentation: https://pandas.pydata.org/pandas-docs/stable/user_guide/indexing.html#returning-a-view-versus-a-copy\n",
      "  win_shots_bmi3[\"Shots\"][i] = x\n",
      "<ipython-input-142-4fb0c823ced1>:19: SettingWithCopyWarning: \n",
      "A value is trying to be set on a copy of a slice from a DataFrame\n",
      "\n",
      "See the caveats in the documentation: https://pandas.pydata.org/pandas-docs/stable/user_guide/indexing.html#returning-a-view-versus-a-copy\n",
      "  win_shots_bmi3[\"Shots\"][i] = x\n"
     ]
    }
   ],
   "source": [
    "# for i in range(len(sim_df)):\n",
    "#     if sim_df[\"result\"][i]==\"L\":\n",
    "#         sim_df[\"goals scored\"][i]=rng.choice(lose_goal_count_sim, 1)\n",
    "#         sim_df[\"possession\"][i]=rng.choice(lose_sim_possession_norm, 1)\n",
    "#         sim_df[\"shots\"][i]=rng.choice(lose_shots_sim, 1)\n",
    "\n",
    "win_shots_bmi3[\"Shots\"] = 0\n",
    "# win_shots_bmi3_shots = pd.DataFrame(win_shots_bmi3[\"Shots\"])\n",
    "\n",
    "#for i in range(len(win_shots_bmi3)):\n",
    "for i in range(len(win_shots_bmi3)):\n",
    "    x = rng.choice(sim_shots_pois, 1)\n",
    "    if win_shots_bmi3[\"Possession\"][i] > 50 and x > 12:\n",
    "        print(x)\n",
    "        print(win_shots_bmi3[\"Possession\"][i])\n",
    "        #win_shots_bmi3[\"Shots\"][i] = rng.choice(sim_shots_pois, 1)\n",
    "        win_shots_bmi3[\"Shots\"][i] = x\n",
    "    elif win_shots_bmi3[\"Possession\"][i] < 50 and x <12:\n",
    "        win_shots_bmi3[\"Shots\"][i] = x\n",
    "        "
   ]
  },
  {
   "cell_type": "code",
   "execution_count": 143,
   "metadata": {},
   "outputs": [
    {
     "data": {
      "text/html": [
       "<div>\n",
       "<style scoped>\n",
       "    .dataframe tbody tr th:only-of-type {\n",
       "        vertical-align: middle;\n",
       "    }\n",
       "\n",
       "    .dataframe tbody tr th {\n",
       "        vertical-align: top;\n",
       "    }\n",
       "\n",
       "    .dataframe thead th {\n",
       "        text-align: right;\n",
       "    }\n",
       "</style>\n",
       "<table border=\"1\" class=\"dataframe\">\n",
       "  <thead>\n",
       "    <tr style=\"text-align: right;\">\n",
       "      <th></th>\n",
       "      <th>Possession</th>\n",
       "      <th>Shots</th>\n",
       "    </tr>\n",
       "  </thead>\n",
       "  <tbody>\n",
       "    <tr>\n",
       "      <th>0</th>\n",
       "      <td>48.822598</td>\n",
       "      <td>0</td>\n",
       "    </tr>\n",
       "    <tr>\n",
       "      <th>1</th>\n",
       "      <td>34.531307</td>\n",
       "      <td>0</td>\n",
       "    </tr>\n",
       "    <tr>\n",
       "      <th>2</th>\n",
       "      <td>67.216364</td>\n",
       "      <td>0</td>\n",
       "    </tr>\n",
       "    <tr>\n",
       "      <th>3</th>\n",
       "      <td>61.508435</td>\n",
       "      <td>0</td>\n",
       "    </tr>\n",
       "    <tr>\n",
       "      <th>4</th>\n",
       "      <td>50.929030</td>\n",
       "      <td>16</td>\n",
       "    </tr>\n",
       "    <tr>\n",
       "      <th>...</th>\n",
       "      <td>...</td>\n",
       "      <td>...</td>\n",
       "    </tr>\n",
       "    <tr>\n",
       "      <th>229</th>\n",
       "      <td>20.893047</td>\n",
       "      <td>9</td>\n",
       "    </tr>\n",
       "    <tr>\n",
       "      <th>230</th>\n",
       "      <td>42.215462</td>\n",
       "      <td>0</td>\n",
       "    </tr>\n",
       "    <tr>\n",
       "      <th>231</th>\n",
       "      <td>32.628075</td>\n",
       "      <td>11</td>\n",
       "    </tr>\n",
       "    <tr>\n",
       "      <th>232</th>\n",
       "      <td>55.551693</td>\n",
       "      <td>16</td>\n",
       "    </tr>\n",
       "    <tr>\n",
       "      <th>233</th>\n",
       "      <td>56.333387</td>\n",
       "      <td>0</td>\n",
       "    </tr>\n",
       "  </tbody>\n",
       "</table>\n",
       "<p>234 rows × 2 columns</p>\n",
       "</div>"
      ],
      "text/plain": [
       "     Possession  Shots\n",
       "0     48.822598      0\n",
       "1     34.531307      0\n",
       "2     67.216364      0\n",
       "3     61.508435      0\n",
       "4     50.929030     16\n",
       "..          ...    ...\n",
       "229   20.893047      9\n",
       "230   42.215462      0\n",
       "231   32.628075     11\n",
       "232   55.551693     16\n",
       "233   56.333387      0\n",
       "\n",
       "[234 rows x 2 columns]"
      ]
     },
     "execution_count": 143,
     "metadata": {},
     "output_type": "execute_result"
    }
   ],
   "source": [
    "win_shots_bmi3"
   ]
  },
  {
   "cell_type": "code",
   "execution_count": 132,
   "metadata": {},
   "outputs": [
    {
     "data": {
      "text/plain": [
       "<matplotlib.collections.PathCollection at 0x269025f9130>"
      ]
     },
     "execution_count": 132,
     "metadata": {},
     "output_type": "execute_result"
    },
    {
     "data": {
      "image/png": "[encoded data removed]",
      "text/plain": [
       "<Figure size 432x288 with 1 Axes>"
      ]
     },
     "metadata": {},
     "output_type": "display_data"
    }
   ],
   "source": [
    "plt.scatter(win_shots_bmi3.Possession, win_shots_bmi3.Shots) "
   ]
  },
  {
   "cell_type": "code",
   "execution_count": 125,
   "metadata": {},
   "outputs": [
    {
     "data": {
      "text/plain": [
       "count    234.000000\n",
       "mean      13.525641\n",
       "std        3.433205\n",
       "min        6.000000\n",
       "25%       11.000000\n",
       "50%       13.000000\n",
       "75%       16.000000\n",
       "max       26.000000\n",
       "Name: Shots, dtype: float64"
      ]
     },
     "execution_count": 125,
     "metadata": {},
     "output_type": "execute_result"
    }
   ],
   "source": [
    "win_shots_bmi3[\"Shots\"].describe()"
   ]
  },
  {
   "cell_type": "code",
   "execution_count": 180,
   "metadata": {},
   "outputs": [
    {
     "data": {
      "text/plain": [
       "<matplotlib.collections.PathCollection at 0x26901edebb0>"
      ]
     },
     "execution_count": 180,
     "metadata": {},
     "output_type": "execute_result"
    },
    {
     "data": {
      "image/png": "[encoded data removed]",
      "text/plain": [
       "<Figure size 432x288 with 1 Axes>"
      ]
     },
     "metadata": {},
     "output_type": "display_data"
    }
   ],
   "source": [
    "plt.scatter(win_shots_bmi3[\"Shots\"], win_shots_bmi2[\"Possession\"])"
   ]
  },
  {
   "cell_type": "code",
   "execution_count": null,
   "metadata": {},
   "outputs": [],
   "source": []
  },
  {
   "cell_type": "code",
   "execution_count": null,
   "metadata": {},
   "outputs": [],
   "source": []
  },
  {
   "cell_type": "code",
   "execution_count": 80,
   "metadata": {},
   "outputs": [
    {
     "data": {
      "text/plain": [
       "<matplotlib.collections.PathCollection at 0x2697facfa60>"
      ]
     },
     "execution_count": 80,
     "metadata": {},
     "output_type": "execute_result"
    },
    {
     "data": {
      "image/png": "[encoded data removed]",
      "text/plain": [
       "<Figure size 432x288 with 1 Axes>"
      ]
     },
     "metadata": {},
     "output_type": "display_data"
    }
   ],
   "source": [
    "plt.scatter(win_shots_bmi2[\"Possession\"], win_shots_bmi2[\"BMI\"])"
   ]
  },
  {
   "cell_type": "code",
   "execution_count": 83,
   "metadata": {},
   "outputs": [
    {
     "data": {
      "text/plain": [
       "count    234.000000\n",
       "mean      53.356486\n",
       "std       14.033822\n",
       "min       20.518186\n",
       "25%       43.517810\n",
       "50%       53.484999\n",
       "75%       61.908289\n",
       "max       98.847339\n",
       "Name: Possession, dtype: float64"
      ]
     },
     "execution_count": 83,
     "metadata": {},
     "output_type": "execute_result"
    }
   ],
   "source": [
    "win_shots_bmi2[\"Possession\"].describe()"
   ]
  },
  {
   "cell_type": "code",
   "execution_count": null,
   "metadata": {},
   "outputs": [],
   "source": []
  },
  {
   "cell_type": "markdown",
   "metadata": {},
   "source": [
    "The possession data has already been generated so I am only interested in retaining the BMI data:"
   ]
  },
  {
   "cell_type": "code",
   "execution_count": 65,
   "metadata": {},
   "outputs": [
    {
     "data": {
      "text/html": [
       "<div>\n",
       "<style scoped>\n",
       "    .dataframe tbody tr th:only-of-type {\n",
       "        vertical-align: middle;\n",
       "    }\n",
       "\n",
       "    .dataframe tbody tr th {\n",
       "        vertical-align: top;\n",
       "    }\n",
       "\n",
       "    .dataframe thead th {\n",
       "        text-align: right;\n",
       "    }\n",
       "</style>\n",
       "<table border=\"1\" class=\"dataframe\">\n",
       "  <thead>\n",
       "    <tr style=\"text-align: right;\">\n",
       "      <th></th>\n",
       "      <th>BMI</th>\n",
       "    </tr>\n",
       "  </thead>\n",
       "  <tbody>\n",
       "    <tr>\n",
       "      <th>0</th>\n",
       "      <td>25.605551</td>\n",
       "    </tr>\n",
       "    <tr>\n",
       "      <th>1</th>\n",
       "      <td>27.772581</td>\n",
       "    </tr>\n",
       "    <tr>\n",
       "      <th>2</th>\n",
       "      <td>22.072460</td>\n",
       "    </tr>\n",
       "    <tr>\n",
       "      <th>3</th>\n",
       "      <td>23.353552</td>\n",
       "    </tr>\n",
       "    <tr>\n",
       "      <th>4</th>\n",
       "      <td>25.214962</td>\n",
       "    </tr>\n",
       "    <tr>\n",
       "      <th>...</th>\n",
       "      <td>...</td>\n",
       "    </tr>\n",
       "    <tr>\n",
       "      <th>229</th>\n",
       "      <td>26.647084</td>\n",
       "    </tr>\n",
       "    <tr>\n",
       "      <th>230</th>\n",
       "      <td>25.513752</td>\n",
       "    </tr>\n",
       "    <tr>\n",
       "      <th>231</th>\n",
       "      <td>25.455543</td>\n",
       "    </tr>\n",
       "    <tr>\n",
       "      <th>232</th>\n",
       "      <td>25.604807</td>\n",
       "    </tr>\n",
       "    <tr>\n",
       "      <th>233</th>\n",
       "      <td>24.231258</td>\n",
       "    </tr>\n",
       "  </tbody>\n",
       "</table>\n",
       "<p>234 rows × 1 columns</p>\n",
       "</div>"
      ],
      "text/plain": [
       "           BMI\n",
       "0    25.605551\n",
       "1    27.772581\n",
       "2    22.072460\n",
       "3    23.353552\n",
       "4    25.214962\n",
       "..         ...\n",
       "229  26.647084\n",
       "230  25.513752\n",
       "231  25.455543\n",
       "232  25.604807\n",
       "233  24.231258\n",
       "\n",
       "[234 rows x 1 columns]"
      ]
     },
     "execution_count": 65,
     "metadata": {},
     "output_type": "execute_result"
    }
   ],
   "source": [
    "bmi_df = pd.DataFrame(win_poss_bmi[:, 1], columns=[\"BMI\"])\n",
    "bmi_df"
   ]
  },
  {
   "cell_type": "markdown",
   "metadata": {},
   "source": [
    "I now merge this dataframe with the one containing possession and shots data:"
   ]
  },
  {
   "cell_type": "code",
   "execution_count": 66,
   "metadata": {},
   "outputs": [
    {
     "data": {
      "text/html": [
       "<div>\n",
       "<style scoped>\n",
       "    .dataframe tbody tr th:only-of-type {\n",
       "        vertical-align: middle;\n",
       "    }\n",
       "\n",
       "    .dataframe tbody tr th {\n",
       "        vertical-align: top;\n",
       "    }\n",
       "\n",
       "    .dataframe thead th {\n",
       "        text-align: right;\n",
       "    }\n",
       "</style>\n",
       "<table border=\"1\" class=\"dataframe\">\n",
       "  <thead>\n",
       "    <tr style=\"text-align: right;\">\n",
       "      <th></th>\n",
       "      <th>Possession</th>\n",
       "      <th>Shots</th>\n",
       "      <th>BMI</th>\n",
       "    </tr>\n",
       "  </thead>\n",
       "  <tbody>\n",
       "    <tr>\n",
       "      <th>0</th>\n",
       "      <td>48.822598</td>\n",
       "      <td>13.147903</td>\n",
       "      <td>25.605551</td>\n",
       "    </tr>\n",
       "    <tr>\n",
       "      <th>1</th>\n",
       "      <td>34.531307</td>\n",
       "      <td>13.460879</td>\n",
       "      <td>27.772581</td>\n",
       "    </tr>\n",
       "    <tr>\n",
       "      <th>2</th>\n",
       "      <td>67.216364</td>\n",
       "      <td>10.987386</td>\n",
       "      <td>22.072460</td>\n",
       "    </tr>\n",
       "    <tr>\n",
       "      <th>3</th>\n",
       "      <td>61.508435</td>\n",
       "      <td>12.094211</td>\n",
       "      <td>23.353552</td>\n",
       "    </tr>\n",
       "    <tr>\n",
       "      <th>4</th>\n",
       "      <td>50.929030</td>\n",
       "      <td>12.933596</td>\n",
       "      <td>25.214962</td>\n",
       "    </tr>\n",
       "    <tr>\n",
       "      <th>...</th>\n",
       "      <td>...</td>\n",
       "      <td>...</td>\n",
       "      <td>...</td>\n",
       "    </tr>\n",
       "    <tr>\n",
       "      <th>229</th>\n",
       "      <td>20.893047</td>\n",
       "      <td>6.214808</td>\n",
       "      <td>26.647084</td>\n",
       "    </tr>\n",
       "    <tr>\n",
       "      <th>230</th>\n",
       "      <td>42.215462</td>\n",
       "      <td>10.708800</td>\n",
       "      <td>25.513752</td>\n",
       "    </tr>\n",
       "    <tr>\n",
       "      <th>231</th>\n",
       "      <td>32.628075</td>\n",
       "      <td>7.346685</td>\n",
       "      <td>25.455543</td>\n",
       "    </tr>\n",
       "    <tr>\n",
       "      <th>232</th>\n",
       "      <td>55.551693</td>\n",
       "      <td>15.409388</td>\n",
       "      <td>25.604807</td>\n",
       "    </tr>\n",
       "    <tr>\n",
       "      <th>233</th>\n",
       "      <td>56.333387</td>\n",
       "      <td>12.427255</td>\n",
       "      <td>24.231258</td>\n",
       "    </tr>\n",
       "  </tbody>\n",
       "</table>\n",
       "<p>234 rows × 3 columns</p>\n",
       "</div>"
      ],
      "text/plain": [
       "     Possession      Shots        BMI\n",
       "0     48.822598  13.147903  25.605551\n",
       "1     34.531307  13.460879  27.772581\n",
       "2     67.216364  10.987386  22.072460\n",
       "3     61.508435  12.094211  23.353552\n",
       "4     50.929030  12.933596  25.214962\n",
       "..          ...        ...        ...\n",
       "229   20.893047   6.214808  26.647084\n",
       "230   42.215462  10.708800  25.513752\n",
       "231   32.628075   7.346685  25.455543\n",
       "232   55.551693  15.409388  25.604807\n",
       "233   56.333387  12.427255  24.231258\n",
       "\n",
       "[234 rows x 3 columns]"
      ]
     },
     "execution_count": 66,
     "metadata": {},
     "output_type": "execute_result"
    }
   ],
   "source": [
    "win_sim_df = pd.merge(win_sim_df, bmi_df, left_index=True, right_index=True)\n",
    "win_sim_df"
   ]
  },
  {
   "cell_type": "code",
   "execution_count": 67,
   "metadata": {},
   "outputs": [
    {
     "data": {
      "text/plain": [
       "<matplotlib.collections.PathCollection at 0x2697e148a30>"
      ]
     },
     "execution_count": 67,
     "metadata": {},
     "output_type": "execute_result"
    },
    {
     "data": {
      "image/png": "[encoded data removed]",
      "text/plain": [
       "<Figure size 432x288 with 1 Axes>"
      ]
     },
     "metadata": {},
     "output_type": "display_data"
    }
   ],
   "source": [
    "plt.scatter(win_sim_df[\"BMI\"], win_sim_df[\"Shots\"])"
   ]
  },
  {
   "cell_type": "code",
   "execution_count": null,
   "metadata": {},
   "outputs": [],
   "source": []
  },
  {
   "cell_type": "code",
   "execution_count": 68,
   "metadata": {},
   "outputs": [
    {
     "data": {
      "text/plain": [
       "array([[49.02281984, 10.55545053, 23.38359218],\n",
       "       [36.95763831, 13.41732102, 26.31259083],\n",
       "       [61.23024328, 15.85852725, 23.89036621],\n",
       "       [51.45205643,  7.70920251, 21.83301066],\n",
       "       [99.8371865 , 22.93276755, 21.38850828],\n",
       "       [66.28479058, 14.11625312, 22.43332214],\n",
       "       [52.36132043, 15.73786941, 25.10190366],\n",
       "       [29.52706454,  6.74004041, 24.54410185],\n",
       "       [44.4515389 ,  8.25878649, 23.06225284],\n",
       "       [49.87082669, 14.82383863, 25.06957162]])"
      ]
     },
     "execution_count": 68,
     "metadata": {},
     "output_type": "execute_result"
    }
   ],
   "source": [
    "np.random.seed(444)\n",
    "\n",
    "# Return matrix of Pearson correlation coefficients\n",
    "#r1 = np.corrcoef(win_possession, win_shots)\n",
    "\n",
    "#corr = r1\n",
    "\n",
    "# Standard deviations/means of win_possession and win_shots, respectively\n",
    "# stdev = np.array([13.482255, 4.195426])\n",
    "mean = np.array([53.867403, 12.696133, 23.6])\n",
    "\n",
    "# Returns covariance matrix\n",
    "x = np.vstack([win_sim_df[\"Possession\"], win_sim_df[\"Shots\"], win_sim_df[\"BMI\"]])\n",
    "cov = np.cov(x)\n",
    "\n",
    "win_poss_shots_sim = np.random.multivariate_normal(mean=mean, cov=cov, size=238)\n",
    "win_poss_shots_sim[:10]"
   ]
  },
  {
   "cell_type": "code",
   "execution_count": 152,
   "metadata": {
    "scrolled": true
   },
   "outputs": [
    {
     "data": {
      "text/plain": [
       "array([[196.94817244,  29.68575087, -15.47293444],\n",
       "       [ 29.68575087,  17.63804648,   3.23959366],\n",
       "       [-15.47293444,   3.23959366,   3.57401866]])"
      ]
     },
     "execution_count": 152,
     "metadata": {},
     "output_type": "execute_result"
    }
   ],
   "source": [
    "cov"
   ]
  },
  {
   "cell_type": "code",
   "execution_count": 153,
   "metadata": {},
   "outputs": [
    {
     "data": {
      "text/plain": [
       "array([[196.94817244,  59.6979908 , -17.14428724],\n",
       "       [ 59.6979908 ,  18.41400998,  -4.37836172],\n",
       "       [-17.14428724,  -4.37836172,   3.59405434]])"
      ]
     },
     "execution_count": 153,
     "metadata": {},
     "output_type": "execute_result"
    }
   ],
   "source": [
    "x1 = np.vstack([win_shots_bmi2[\"Possession\"], win_shots_bmi2[\"Shots\"], win_shots_bmi2[\"BMI\"]])\n",
    "cov1 = np.cov(x1)\n",
    "cov1"
   ]
  },
  {
   "cell_type": "code",
   "execution_count": 154,
   "metadata": {},
   "outputs": [
    {
     "data": {
      "text/plain": [
       "<matplotlib.collections.PathCollection at 0x26902030e80>"
      ]
     },
     "execution_count": 154,
     "metadata": {},
     "output_type": "execute_result"
    },
    {
     "data": {
      "image/png": "[encoded data removed]",
      "text/plain": [
       "<Figure size 432x288 with 1 Axes>"
      ]
     },
     "metadata": {},
     "output_type": "display_data"
    }
   ],
   "source": [
    "plt.scatter(win_shots_bmi2[\"Shots\"], win_shots_bmi2[\"Possession\"])"
   ]
  },
  {
   "cell_type": "code",
   "execution_count": 71,
   "metadata": {},
   "outputs": [
    {
     "ename": "NameError",
     "evalue": "name 'df3' is not defined",
     "output_type": "error",
     "traceback": [
      "\u001b[1;31m---------------------------------------------------------------------------\u001b[0m",
      "\u001b[1;31mNameError\u001b[0m                                 Traceback (most recent call last)",
      "\u001b[1;32m<ipython-input-71-69de2675cb43>\u001b[0m in \u001b[0;36m<module>\u001b[1;34m\u001b[0m\n\u001b[1;32m----> 1\u001b[1;33m \u001b[0mnew_df\u001b[0m \u001b[1;33m=\u001b[0m \u001b[0mpd\u001b[0m\u001b[1;33m.\u001b[0m\u001b[0mmerge\u001b[0m\u001b[1;33m(\u001b[0m\u001b[0mdf3\u001b[0m\u001b[1;33m,\u001b[0m \u001b[0mdf4\u001b[0m\u001b[1;33m,\u001b[0m \u001b[0mleft_index\u001b[0m\u001b[1;33m=\u001b[0m\u001b[1;32mTrue\u001b[0m\u001b[1;33m,\u001b[0m \u001b[0mright_index\u001b[0m\u001b[1;33m=\u001b[0m\u001b[1;32mTrue\u001b[0m\u001b[1;33m)\u001b[0m\u001b[1;33m\u001b[0m\u001b[1;33m\u001b[0m\u001b[0m\n\u001b[0m\u001b[0;32m      2\u001b[0m \u001b[0mnew_df\u001b[0m\u001b[1;33m[\u001b[0m\u001b[1;34m\"Result\"\u001b[0m\u001b[1;33m]\u001b[0m \u001b[1;33m=\u001b[0m \u001b[1;34m'W'\u001b[0m\u001b[1;33m\u001b[0m\u001b[1;33m\u001b[0m\u001b[0m\n\u001b[0;32m      3\u001b[0m \u001b[0mnew_df\u001b[0m\u001b[1;33m\u001b[0m\u001b[1;33m\u001b[0m\u001b[0m\n",
      "\u001b[1;31mNameError\u001b[0m: name 'df3' is not defined"
     ]
    }
   ],
   "source": [
    "new_df = pd.merge(df3, df4, left_index=True, right_index=True)\n",
    "new_df[\"Result\"] = 'W'\n",
    "new_df"
   ]
  },
  {
   "cell_type": "code",
   "execution_count": 72,
   "metadata": {},
   "outputs": [
    {
     "ename": "NameError",
     "evalue": "name 'new_df' is not defined",
     "output_type": "error",
     "traceback": [
      "\u001b[1;31m---------------------------------------------------------------------------\u001b[0m",
      "\u001b[1;31mNameError\u001b[0m                                 Traceback (most recent call last)",
      "\u001b[1;32m<ipython-input-72-769c76e1fd0a>\u001b[0m in \u001b[0;36m<module>\u001b[1;34m\u001b[0m\n\u001b[1;32m----> 1\u001b[1;33m \u001b[0mplt\u001b[0m\u001b[1;33m.\u001b[0m\u001b[0mscatter\u001b[0m\u001b[1;33m(\u001b[0m\u001b[0mnew_df\u001b[0m\u001b[1;33m[\u001b[0m\u001b[1;34m\"Possession\"\u001b[0m\u001b[1;33m]\u001b[0m\u001b[1;33m,\u001b[0m \u001b[0mnew_df\u001b[0m\u001b[1;33m[\u001b[0m\u001b[1;34m\"BMI\"\u001b[0m\u001b[1;33m]\u001b[0m\u001b[1;33m)\u001b[0m\u001b[1;33m\u001b[0m\u001b[1;33m\u001b[0m\u001b[0m\n\u001b[0m",
      "\u001b[1;31mNameError\u001b[0m: name 'new_df' is not defined"
     ]
    }
   ],
   "source": [
    "plt.scatter(new_df[\"Possession\"], new_df[\"BMI\"])"
   ]
  },
  {
   "cell_type": "code",
   "execution_count": 73,
   "metadata": {},
   "outputs": [
    {
     "ename": "NameError",
     "evalue": "name 'df3' is not defined",
     "output_type": "error",
     "traceback": [
      "\u001b[1;31m---------------------------------------------------------------------------\u001b[0m",
      "\u001b[1;31mNameError\u001b[0m                                 Traceback (most recent call last)",
      "\u001b[1;32m<ipython-input-73-1b77d777a507>\u001b[0m in \u001b[0;36m<module>\u001b[1;34m\u001b[0m\n\u001b[1;32m----> 1\u001b[1;33m \u001b[0mdf3\u001b[0m\u001b[1;33m[\u001b[0m\u001b[1;34m\"Possession\"\u001b[0m\u001b[1;33m]\u001b[0m\u001b[1;33m.\u001b[0m\u001b[0mdescribe\u001b[0m\u001b[1;33m(\u001b[0m\u001b[1;33m)\u001b[0m\u001b[1;33m\u001b[0m\u001b[1;33m\u001b[0m\u001b[0m\n\u001b[0m",
      "\u001b[1;31mNameError\u001b[0m: name 'df3' is not defined"
     ]
    }
   ],
   "source": [
    "df3[\"Possession\"].describe()"
   ]
  },
  {
   "cell_type": "code",
   "execution_count": null,
   "metadata": {},
   "outputs": [],
   "source": []
  },
  {
   "cell_type": "code",
   "execution_count": null,
   "metadata": {},
   "outputs": [],
   "source": []
  },
  {
   "cell_type": "code",
   "execution_count": null,
   "metadata": {},
   "outputs": [],
   "source": []
  },
  {
   "cell_type": "code",
   "execution_count": null,
   "metadata": {},
   "outputs": [],
   "source": []
  },
  {
   "cell_type": "code",
   "execution_count": 74,
   "metadata": {},
   "outputs": [
    {
     "ename": "NameError",
     "evalue": "name 'df4' is not defined",
     "output_type": "error",
     "traceback": [
      "\u001b[1;31m---------------------------------------------------------------------------\u001b[0m",
      "\u001b[1;31mNameError\u001b[0m                                 Traceback (most recent call last)",
      "\u001b[1;32m<ipython-input-74-39fcb5e757c4>\u001b[0m in \u001b[0;36m<module>\u001b[1;34m\u001b[0m\n\u001b[1;32m----> 1\u001b[1;33m \u001b[0mdf4\u001b[0m \u001b[1;33m=\u001b[0m \u001b[0mdf4\u001b[0m\u001b[1;33m[\u001b[0m\u001b[0mnp\u001b[0m\u001b[1;33m.\u001b[0m\u001b[0mabs\u001b[0m\u001b[1;33m(\u001b[0m\u001b[0mdf4\u001b[0m\u001b[1;33m.\u001b[0m\u001b[0mPossession\u001b[0m\u001b[1;33m-\u001b[0m\u001b[0mdf4\u001b[0m\u001b[1;33m.\u001b[0m\u001b[0mPossession\u001b[0m\u001b[1;33m.\u001b[0m\u001b[0mmean\u001b[0m\u001b[1;33m(\u001b[0m\u001b[1;33m)\u001b[0m\u001b[1;33m)\u001b[0m \u001b[1;33m<=\u001b[0m \u001b[1;33m(\u001b[0m\u001b[1;36m3\u001b[0m\u001b[1;33m*\u001b[0m\u001b[0mdf4\u001b[0m\u001b[1;33m.\u001b[0m\u001b[0mPossession\u001b[0m\u001b[1;33m.\u001b[0m\u001b[0mstd\u001b[0m\u001b[1;33m(\u001b[0m\u001b[1;33m)\u001b[0m\u001b[1;33m)\u001b[0m\u001b[1;33m]\u001b[0m\u001b[1;33m\u001b[0m\u001b[1;33m\u001b[0m\u001b[0m\n\u001b[0m\u001b[0;32m      2\u001b[0m \u001b[0mdf4\u001b[0m \u001b[1;33m=\u001b[0m \u001b[0mdf4\u001b[0m\u001b[1;33m[\u001b[0m\u001b[0mnp\u001b[0m\u001b[1;33m.\u001b[0m\u001b[0mabs\u001b[0m\u001b[1;33m(\u001b[0m\u001b[0mdf4\u001b[0m\u001b[1;33m.\u001b[0m\u001b[0mBMI\u001b[0m\u001b[1;33m-\u001b[0m\u001b[0mdf4\u001b[0m\u001b[1;33m.\u001b[0m\u001b[0mBMI\u001b[0m\u001b[1;33m.\u001b[0m\u001b[0mmean\u001b[0m\u001b[1;33m(\u001b[0m\u001b[1;33m)\u001b[0m\u001b[1;33m)\u001b[0m \u001b[1;33m<=\u001b[0m \u001b[1;33m(\u001b[0m\u001b[1;36m3\u001b[0m\u001b[1;33m*\u001b[0m\u001b[0mdf4\u001b[0m\u001b[1;33m.\u001b[0m\u001b[0mBMI\u001b[0m\u001b[1;33m.\u001b[0m\u001b[0mstd\u001b[0m\u001b[1;33m(\u001b[0m\u001b[1;33m)\u001b[0m\u001b[1;33m)\u001b[0m\u001b[1;33m]\u001b[0m\u001b[1;33m\u001b[0m\u001b[1;33m\u001b[0m\u001b[0m\n\u001b[0;32m      3\u001b[0m \u001b[1;33m\u001b[0m\u001b[0m\n\u001b[0;32m      4\u001b[0m \u001b[0mdf4\u001b[0m\u001b[1;33m\u001b[0m\u001b[1;33m\u001b[0m\u001b[0m\n",
      "\u001b[1;31mNameError\u001b[0m: name 'df4' is not defined"
     ]
    }
   ],
   "source": [
    "df4 = df4[np.abs(df4.Possession-df4.Possession.mean()) <= (3*df4.Possession.std())]\n",
    "df4 = df4[np.abs(df4.BMI-df4.BMI.mean()) <= (3*df4.BMI.std())]\n",
    "\n",
    "df4"
   ]
  },
  {
   "cell_type": "code",
   "execution_count": 75,
   "metadata": {},
   "outputs": [
    {
     "ename": "NameError",
     "evalue": "name 'df4' is not defined",
     "output_type": "error",
     "traceback": [
      "\u001b[1;31m---------------------------------------------------------------------------\u001b[0m",
      "\u001b[1;31mNameError\u001b[0m                                 Traceback (most recent call last)",
      "\u001b[1;32m<ipython-input-75-57235bbb31f6>\u001b[0m in \u001b[0;36m<module>\u001b[1;34m\u001b[0m\n\u001b[1;32m----> 1\u001b[1;33m \u001b[0mdf4\u001b[0m\u001b[1;33m[\u001b[0m\u001b[1;34m\"Possession\"\u001b[0m\u001b[1;33m]\u001b[0m\u001b[1;33m.\u001b[0m\u001b[0mdescribe\u001b[0m\u001b[1;33m(\u001b[0m\u001b[1;33m)\u001b[0m\u001b[1;33m\u001b[0m\u001b[1;33m\u001b[0m\u001b[0m\n\u001b[0m",
      "\u001b[1;31mNameError\u001b[0m: name 'df4' is not defined"
     ]
    }
   ],
   "source": [
    "df4[\"Possession\"].describe()"
   ]
  },
  {
   "cell_type": "code",
   "execution_count": 76,
   "metadata": {},
   "outputs": [
    {
     "ename": "NameError",
     "evalue": "name 'df4' is not defined",
     "output_type": "error",
     "traceback": [
      "\u001b[1;31m---------------------------------------------------------------------------\u001b[0m",
      "\u001b[1;31mNameError\u001b[0m                                 Traceback (most recent call last)",
      "\u001b[1;32m<ipython-input-76-d45687c59672>\u001b[0m in \u001b[0;36m<module>\u001b[1;34m\u001b[0m\n\u001b[1;32m----> 1\u001b[1;33m \u001b[0mplt\u001b[0m\u001b[1;33m.\u001b[0m\u001b[0mscatter\u001b[0m\u001b[1;33m(\u001b[0m\u001b[0mdf4\u001b[0m\u001b[1;33m[\u001b[0m\u001b[1;34m\"Possession\"\u001b[0m\u001b[1;33m]\u001b[0m\u001b[1;33m,\u001b[0m \u001b[0mdf4\u001b[0m\u001b[1;33m[\u001b[0m\u001b[1;34m\"BMI\"\u001b[0m\u001b[1;33m]\u001b[0m\u001b[1;33m)\u001b[0m\u001b[1;33m\u001b[0m\u001b[1;33m\u001b[0m\u001b[0m\n\u001b[0m",
      "\u001b[1;31mNameError\u001b[0m: name 'df4' is not defined"
     ]
    }
   ],
   "source": [
    "plt.scatter(df4[\"Possession\"], df4[\"BMI\"])"
   ]
  },
  {
   "cell_type": "code",
   "execution_count": 77,
   "metadata": {
    "scrolled": false
   },
   "outputs": [
    {
     "ename": "NameError",
     "evalue": "name 'data_inv' is not defined",
     "output_type": "error",
     "traceback": [
      "\u001b[1;31m---------------------------------------------------------------------------\u001b[0m",
      "\u001b[1;31mNameError\u001b[0m                                 Traceback (most recent call last)",
      "\u001b[1;32m<ipython-input-77-f5d676f49f4a>\u001b[0m in \u001b[0;36m<module>\u001b[1;34m\u001b[0m\n\u001b[1;32m----> 1\u001b[1;33m \u001b[0mbmi_trial\u001b[0m \u001b[1;33m=\u001b[0m \u001b[0mpd\u001b[0m\u001b[1;33m.\u001b[0m\u001b[0mSeries\u001b[0m\u001b[1;33m(\u001b[0m\u001b[0mdata_inv\u001b[0m\u001b[1;33m[\u001b[0m\u001b[1;33m:\u001b[0m\u001b[1;33m,\u001b[0m \u001b[1;36m1\u001b[0m\u001b[1;33m]\u001b[0m\u001b[1;33m)\u001b[0m\u001b[1;33m\u001b[0m\u001b[1;33m\u001b[0m\u001b[0m\n\u001b[0m\u001b[0;32m      2\u001b[0m \u001b[0mdf4\u001b[0m \u001b[1;33m=\u001b[0m \u001b[0mpd\u001b[0m\u001b[1;33m.\u001b[0m\u001b[0mDataFrame\u001b[0m\u001b[1;33m(\u001b[0m\u001b[0mbmi_trial\u001b[0m\u001b[1;33m,\u001b[0m \u001b[0mcolumns\u001b[0m\u001b[1;33m=\u001b[0m\u001b[1;33m[\u001b[0m\u001b[1;34m\"BMI\"\u001b[0m\u001b[1;33m]\u001b[0m\u001b[1;33m)\u001b[0m\u001b[1;33m\u001b[0m\u001b[1;33m\u001b[0m\u001b[0m\n\u001b[0;32m      3\u001b[0m \u001b[0mdf4\u001b[0m\u001b[1;33m[\u001b[0m\u001b[1;34m\"Possession\"\u001b[0m\u001b[1;33m]\u001b[0m \u001b[1;33m=\u001b[0m \u001b[0mpossession_trial\u001b[0m\u001b[1;33m\u001b[0m\u001b[1;33m\u001b[0m\u001b[0m\n\u001b[0;32m      4\u001b[0m \u001b[0mdf4\u001b[0m\u001b[1;33m\u001b[0m\u001b[1;33m\u001b[0m\u001b[0m\n",
      "\u001b[1;31mNameError\u001b[0m: name 'data_inv' is not defined"
     ]
    }
   ],
   "source": [
    "bmi_trial = pd.Series(data_inv[:, 1])\n",
    "df4 = pd.DataFrame(bmi_trial, columns=[\"BMI\"])\n",
    "df4[\"Possession\"] = possession_trial\n",
    "df4"
   ]
  },
  {
   "cell_type": "code",
   "execution_count": 78,
   "metadata": {},
   "outputs": [
    {
     "ename": "NameError",
     "evalue": "name 'data_inv' is not defined",
     "output_type": "error",
     "traceback": [
      "\u001b[1;31m---------------------------------------------------------------------------\u001b[0m",
      "\u001b[1;31mNameError\u001b[0m                                 Traceback (most recent call last)",
      "\u001b[1;32m<ipython-input-78-15ce432702b2>\u001b[0m in \u001b[0;36m<module>\u001b[1;34m\u001b[0m\n\u001b[1;32m----> 1\u001b[1;33m \u001b[0mpossession_trial\u001b[0m \u001b[1;33m=\u001b[0m \u001b[0mpd\u001b[0m\u001b[1;33m.\u001b[0m\u001b[0mSeries\u001b[0m\u001b[1;33m(\u001b[0m\u001b[0mdata_inv\u001b[0m\u001b[1;33m[\u001b[0m\u001b[1;33m:\u001b[0m\u001b[1;33m,\u001b[0m \u001b[1;36m0\u001b[0m\u001b[1;33m]\u001b[0m\u001b[1;33m)\u001b[0m\u001b[1;33m\u001b[0m\u001b[1;33m\u001b[0m\u001b[0m\n\u001b[0m",
      "\u001b[1;31mNameError\u001b[0m: name 'data_inv' is not defined"
     ]
    }
   ],
   "source": [
    "possession_trial = pd.Series(data_inv[:, 0])"
   ]
  },
  {
   "cell_type": "code",
   "execution_count": 79,
   "metadata": {},
   "outputs": [
    {
     "ename": "NameError",
     "evalue": "name 'possession_trial' is not defined",
     "output_type": "error",
     "traceback": [
      "\u001b[1;31m---------------------------------------------------------------------------\u001b[0m",
      "\u001b[1;31mNameError\u001b[0m                                 Traceback (most recent call last)",
      "\u001b[1;32m<ipython-input-79-85a63b175492>\u001b[0m in \u001b[0;36m<module>\u001b[1;34m\u001b[0m\n\u001b[1;32m----> 1\u001b[1;33m \u001b[0mplt\u001b[0m\u001b[1;33m.\u001b[0m\u001b[0mscatter\u001b[0m\u001b[1;33m(\u001b[0m\u001b[0mpossession_trial\u001b[0m\u001b[1;33m,\u001b[0m \u001b[0mbmi_trial\u001b[0m\u001b[1;33m)\u001b[0m\u001b[1;33m\u001b[0m\u001b[1;33m\u001b[0m\u001b[0m\n\u001b[0m",
      "\u001b[1;31mNameError\u001b[0m: name 'possession_trial' is not defined"
     ]
    }
   ],
   "source": [
    "plt.scatter(possession_trial, bmi_trial)"
   ]
  },
  {
   "cell_type": "code",
   "execution_count": null,
   "metadata": {},
   "outputs": [],
   "source": []
  },
  {
   "cell_type": "code",
   "execution_count": null,
   "metadata": {},
   "outputs": [],
   "source": []
  },
  {
   "cell_type": "code",
   "execution_count": null,
   "metadata": {},
   "outputs": [],
   "source": []
  },
  {
   "cell_type": "code",
   "execution_count": null,
   "metadata": {},
   "outputs": [],
   "source": []
  },
  {
   "cell_type": "code",
   "execution_count": null,
   "metadata": {},
   "outputs": [],
   "source": []
  },
  {
   "cell_type": "code",
   "execution_count": null,
   "metadata": {},
   "outputs": [],
   "source": []
  },
  {
   "cell_type": "code",
   "execution_count": null,
   "metadata": {},
   "outputs": [],
   "source": []
  },
  {
   "cell_type": "code",
   "execution_count": null,
   "metadata": {},
   "outputs": [],
   "source": []
  },
  {
   "cell_type": "code",
   "execution_count": null,
   "metadata": {},
   "outputs": [],
   "source": [
    "# Fill result column with W value\n",
    "df3[\"result\"] = 'W'"
   ]
  },
  {
   "cell_type": "code",
   "execution_count": null,
   "metadata": {},
   "outputs": [],
   "source": [
    "df3"
   ]
  },
  {
   "cell_type": "code",
   "execution_count": null,
   "metadata": {},
   "outputs": [],
   "source": [
    "# Create \n",
    "win_possession_sim = pd.Series(win_poss_shots_sim[:,0])\n",
    "\n",
    "win_shots_sim = pd.Series(win_poss_shots_sim[:, 1])\n",
    "\n",
    "plt.scatter(win_possession_sim, win_shots_sim)"
   ]
  },
  {
   "cell_type": "code",
   "execution_count": null,
   "metadata": {},
   "outputs": [],
   "source": []
  },
  {
   "cell_type": "code",
   "execution_count": null,
   "metadata": {},
   "outputs": [],
   "source": []
  },
  {
   "cell_type": "code",
   "execution_count": null,
   "metadata": {},
   "outputs": [],
   "source": []
  },
  {
   "cell_type": "markdown",
   "metadata": {},
   "source": [
    "##### 3.1.3 Possession\n",
    "\n",
    "<br>\n",
    "\n",
    "To simulate the data for the possession variable, I will use the `random.normal` function to generate an array of values normally distributed. Using `pandas` `describe` function once again, we can see the mean $\\mu$ and standard deviation $\\sigma$ and apply these values to our simulated data. The `random.normal` function takes these two values as parameters in order to generate random data in the normal distribution."
   ]
  },
  {
   "cell_type": "code",
   "execution_count": null,
   "metadata": {},
   "outputs": [],
   "source": [
    "win_possession.describe()"
   ]
  },
  {
   "cell_type": "code",
   "execution_count": null,
   "metadata": {},
   "outputs": [],
   "source": [
    "# Assign values for mu and sigma based on real world data set\n",
    "mu, sigma = 53.867403, 13.482255\n",
    "\n",
    "# generate random values for simulated possession variable\n",
    "sim_possession_norm = np.random.default_rng().normal(mu, sigma, 200)"
   ]
  },
  {
   "cell_type": "markdown",
   "metadata": {},
   "source": [
    "<br>\n",
    "\n"
   ]
  },
  {
   "cell_type": "markdown",
   "metadata": {},
   "source": [
    "Let's plot this on a graph and compare with the real world data set. <br>\n",
    "\n",
    "First, I will convert *sim_possesion_norm* to a pandas series"
   ]
  },
  {
   "cell_type": "code",
   "execution_count": null,
   "metadata": {},
   "outputs": [],
   "source": [
    "# Convert array to pandas series\n",
    "sim_possession_norm = pd.Series(sim_possession_norm)"
   ]
  },
  {
   "cell_type": "code",
   "execution_count": null,
   "metadata": {},
   "outputs": [],
   "source": [
    "# Create a dictionary so we can combine the meta data for the series\n",
    "sim_possession_dict = { 'win': win_possession, 'win sim': sim_possession_norm } \n",
    "\n",
    "# Create a dataframe and store it in \n",
    "sim_possession_comparison = pd.DataFrame(sim_possession_dict) \n",
    "\n",
    "# plot\n",
    "f, axes = plt.subplots(1, 2, figsize=(30, 10), sharex=True)\n",
    "sns.histplot( sim_possession_comparison[\"win\"] , bins=10, color=\"skyblue\", kde=True, ax=axes[0])\n",
    "sns.histplot( sim_possession_comparison[\"win sim\"] , bins=10, color=\"olive\", kde=True, ax=axes[1])"
   ]
  },
  {
   "cell_type": "markdown",
   "metadata": {},
   "source": [
    "Viewed side by side, we can see there is a notable difference in the shape of both distributions. The simulated data clearly has a more pronounced bell-shaped curve. "
   ]
  },
  {
   "cell_type": "markdown",
   "metadata": {},
   "source": [
    "<br>\n",
    "\n"
   ]
  },
  {
   "cell_type": "markdown",
   "metadata": {},
   "source": [
    "We now have our simulated values for all our variables for the *win* subset. Let's populate our simulated data set with these values. Using a for loop, I populate each variable column for when *result = 'W'*. My idea for this code came from a blog post found on towardsdatascience.com [14]."
   ]
  },
  {
   "cell_type": "code",
   "execution_count": null,
   "metadata": {},
   "outputs": [],
   "source": [
    "# sim_df[\"possession\"] = 0\n",
    "sim_df[\"possession\"] = sim_possession_norm\n",
    "sim_df[\"shots\"] = 0\n",
    "win_shots_sim2 = rng.poisson(12.6, 200)\n",
    "\n",
    "# for i in range(len(sim_df)):\n",
    "#     if sim_df[\"result\"][i]==\"W\":\n",
    "#         for i in \n",
    "#         sim_df[\"goals scored\"][i]=rng.choice(win_goal_count_sim, 1)\n",
    "#         sim_df[\"possession\"][i]=rng.choice(sim_possession_norm, 1)\n",
    "#         sim_df[\"shots\"][i]=rng.choice(win_shots_sim, 1)\n",
    "#         sim_df[\"shots\"][i]=rng.poisson(12.6, 200)\n",
    "\n",
    "for i in range(len(sim_df)):\n",
    "    if sim_df[\"possession\"][i] > 50:\n",
    "        sim_df[\"shots\"][i]=rng.choice(win_shots_sim2)\n",
    "        "
   ]
  },
  {
   "cell_type": "code",
   "execution_count": null,
   "metadata": {},
   "outputs": [],
   "source": [
    "win_shots_sim2"
   ]
  },
  {
   "cell_type": "code",
   "execution_count": null,
   "metadata": {},
   "outputs": [],
   "source": [
    "sim_df.head(20)"
   ]
  },
  {
   "cell_type": "markdown",
   "metadata": {},
   "source": [
    "Taking a quick look at the first twenty values of the simulated data set, they appear to match the real world data quite accurately."
   ]
  },
  {
   "cell_type": "markdown",
   "metadata": {},
   "source": [
    "<br>\n",
    "\n"
   ]
  },
  {
   "cell_type": "markdown",
   "metadata": {},
   "source": [
    "To populate the rest of the data set I will now perform the execute the same code for the *draw* and *lose* categorical variables:"
   ]
  },
  {
   "cell_type": "markdown",
   "metadata": {},
   "source": [
    "### 3.2 Lose\n",
    "\n",
    "<br>\n",
    "\n",
    "For each variable in the lose subset, the procedure is precisely the same as for the win subset: "
   ]
  },
  {
   "cell_type": "markdown",
   "metadata": {},
   "source": [
    "<br>\n",
    "\n"
   ]
  },
  {
   "cell_type": "markdown",
   "metadata": {},
   "source": [
    "##### 3.2.2 Shots"
   ]
  },
  {
   "cell_type": "code",
   "execution_count": null,
   "metadata": {},
   "outputs": [],
   "source": [
    "# Divide the frequency of each number of shots taken by total number of matches won and add to list\n",
    "lose_shots_prob = list(lose_shots_distribution / 128)\n",
    "\n",
    "\n",
    "sum(lose_shots_prob)"
   ]
  },
  {
   "cell_type": "code",
   "execution_count": null,
   "metadata": {},
   "outputs": [],
   "source": [
    "# Get unique values from win_shots and store them in a set\n",
    "lose_shots_set = set(lose_shots)\n",
    "\n",
    "# Convert the set to a list \n",
    "lose_shots_list = list(lose_shots_set)\n",
    "\n",
    "# Output the list\n",
    "print(lose_shots_list)"
   ]
  },
  {
   "cell_type": "code",
   "execution_count": null,
   "metadata": {},
   "outputs": [],
   "source": [
    "# Generate array of simulated data for shots variable\n",
    "lose_shots_sim = rng.choice(lose_shots_list, 200, p=lose_shots_prob)"
   ]
  },
  {
   "cell_type": "code",
   "execution_count": null,
   "metadata": {},
   "outputs": [],
   "source": [
    "# Convert array to pandas series\n",
    "lose_shots_sim = pd.Series(lose_shots_sim)\n",
    "\n",
    "# Count the frequency of each value in the series\n",
    "lose_shots_sim_distribution = lose_shots_sim.value_counts()\n",
    "\n",
    "# Sort the values\n",
    "lose_shots_sim_distribution = lose_shots_sim_distribution.sort_index()"
   ]
  },
  {
   "cell_type": "code",
   "execution_count": null,
   "metadata": {},
   "outputs": [],
   "source": [
    "# Create a dictionary so we can combine the meta data for the series\n",
    "lose_sim_shots_dict = { 'lose': lose_shots_distribution, 'simulated lose': lose_shots_sim_distribution }\n",
    "\n",
    "# Create a dataframe and store it in \n",
    "lose_sim_shots_comparison = pd.DataFrame(lose_sim_shots_dict) \n",
    "lose_sim_shots_comparison.plot(kind=\"bar\")\n",
    "\n",
    "plt.title(\"Shots on Goal\")\n",
    "plt.xlabel(\"No. of Shots\")\n",
    "plt.ylabel(\"No. of Matches\")"
   ]
  },
  {
   "cell_type": "markdown",
   "metadata": {},
   "source": [
    "<br>\n",
    "\n"
   ]
  },
  {
   "cell_type": "markdown",
   "metadata": {},
   "source": [
    "##### 3.2.3 Possession\n",
    "\n",
    "<br>"
   ]
  },
  {
   "cell_type": "code",
   "execution_count": null,
   "metadata": {},
   "outputs": [],
   "source": [
    "lose_possession.describe()"
   ]
  },
  {
   "cell_type": "code",
   "execution_count": null,
   "metadata": {},
   "outputs": [],
   "source": [
    "# Assign values for mu and sigma based on real world data set\n",
    "mu, sigma = 46.445312, 13.953697\n",
    "\n",
    "# generate random values for simulated possession variable\n",
    "lose_sim_possession_norm = np.random.default_rng().normal(mu, sigma, 200)"
   ]
  },
  {
   "cell_type": "code",
   "execution_count": null,
   "metadata": {},
   "outputs": [],
   "source": [
    "# Convert array to pandas series\n",
    "lose_sim_possession_norm = pd.Series(lose_sim_possession_norm)"
   ]
  },
  {
   "cell_type": "code",
   "execution_count": null,
   "metadata": {},
   "outputs": [],
   "source": [
    "# Create a dictionary so we can combine the meta data for the series\n",
    "lose_sim_possession_dict = { 'lose': lose_possession, 'lose sim': lose_sim_possession_norm } \n",
    "\n",
    "# Create a dataframe and store it in \n",
    "lose_sim_possession_comparison = pd.DataFrame(lose_sim_possession_dict) \n",
    "\n",
    "# plot\n",
    "f, axes = plt.subplots(1, 2, figsize=(30, 10), sharex=True)\n",
    "sns.distplot( lose_sim_possession_comparison[\"lose\"] , bins=10, color=\"skyblue\", ax=axes[0])\n",
    "sns.distplot( lose_sim_possession_comparison[\"lose sim\"] , bins=10, color=\"olive\", ax=axes[1])"
   ]
  },
  {
   "cell_type": "markdown",
   "metadata": {},
   "source": [
    "<br>\n",
    "\n"
   ]
  },
  {
   "cell_type": "code",
   "execution_count": null,
   "metadata": {},
   "outputs": [],
   "source": [
    "# sim_df[\"goals scored\"] = 0\n",
    "# sim_df[\"possession\"] = 0\n",
    "# sim_df[\"shots\"] = 0\n",
    "\n",
    "for i in range(len(sim_df)):\n",
    "    if sim_df[\"result\"][i]==\"L\":\n",
    "        sim_df[\"goals scored\"][i]=rng.choice(lose_goal_count_sim, 1)\n",
    "        sim_df[\"possession\"][i]=rng.choice(lose_sim_possession_norm, 1)\n",
    "        sim_df[\"shots\"][i]=rng.choice(lose_shots_sim, 1)"
   ]
  },
  {
   "cell_type": "code",
   "execution_count": null,
   "metadata": {},
   "outputs": [],
   "source": [
    "sim_df.head(20)"
   ]
  },
  {
   "cell_type": "markdown",
   "metadata": {},
   "source": [
    "<br>\n",
    "\n"
   ]
  },
  {
   "cell_type": "markdown",
   "metadata": {},
   "source": [
    "### 3.3 Draw\n",
    "\n",
    "<br>"
   ]
  },
  {
   "cell_type": "markdown",
   "metadata": {},
   "source": [
    "<br>\n",
    "\n"
   ]
  },
  {
   "cell_type": "markdown",
   "metadata": {},
   "source": [
    "##### 3.3.2 Shots"
   ]
  },
  {
   "cell_type": "code",
   "execution_count": null,
   "metadata": {},
   "outputs": [],
   "source": [
    "# Divide the frequency of each number of shots taken by total number of matches won and add to list\n",
    "draw_shots_prob = list(draw_shots_distribution / 71)\n",
    "\n",
    "\n",
    "sum(draw_shots_prob)"
   ]
  },
  {
   "cell_type": "code",
   "execution_count": null,
   "metadata": {},
   "outputs": [],
   "source": [
    "# Get unique values from draw_shots and store them in a set\n",
    "draw_shots_set = set(draw_shots)\n",
    "\n",
    "# Convert the set to a list \n",
    "draw_shots_list = list(draw_shots_set)\n",
    "\n",
    "# Output the list\n",
    "print(draw_shots_list)"
   ]
  },
  {
   "cell_type": "code",
   "execution_count": null,
   "metadata": {},
   "outputs": [],
   "source": [
    "# Generate array of simulated data for shots variable\n",
    "draw_shots_sim = rng.choice(draw_shots_list, 200, p=draw_shots_prob)"
   ]
  },
  {
   "cell_type": "code",
   "execution_count": null,
   "metadata": {},
   "outputs": [],
   "source": [
    "# Convert array to pandas series\n",
    "draw_shots_sim = pd.Series(draw_shots_sim)\n",
    "\n",
    "# Count the frequency of each value in the series\n",
    "draw_shots_sim_distribution = draw_shots_sim.value_counts()\n",
    "\n",
    "# Sort the values\n",
    "draw_shots_sim_distribution = draw_shots_sim_distribution.sort_index()"
   ]
  },
  {
   "cell_type": "code",
   "execution_count": null,
   "metadata": {},
   "outputs": [],
   "source": [
    "# Create a dictionary so we can combine the meta data for the series\n",
    "draw_sim_shots_dict = { 'draw': draw_shots_distribution, 'simulated draw': draw_shots_sim_distribution }\n",
    "\n",
    "# Create a dataframe and store it in \n",
    "draw_sim_shots_comparison = pd.DataFrame(draw_sim_shots_dict) \n",
    "draw_sim_shots_comparison.plot(kind=\"bar\")\n",
    "\n",
    "plt.title(\"Shots on Goal\")\n",
    "plt.xlabel(\"No. of Shots\")\n",
    "plt.ylabel(\"No. of Matches\")"
   ]
  },
  {
   "cell_type": "markdown",
   "metadata": {},
   "source": [
    "<br>\n",
    "\n"
   ]
  },
  {
   "cell_type": "markdown",
   "metadata": {},
   "source": [
    "##### 3.3.3 Possession\n"
   ]
  },
  {
   "cell_type": "code",
   "execution_count": null,
   "metadata": {},
   "outputs": [],
   "source": [
    "draw_possession.describe()"
   ]
  },
  {
   "cell_type": "code",
   "execution_count": null,
   "metadata": {},
   "outputs": [],
   "source": [
    "# Assign values for mu and sigma based on real world data set\n",
    "mu, sigma = 52.690141, 12.418410\n",
    "\n",
    "# generate random values for simulated possession variable\n",
    "draw_sim_possession_norm = np.random.default_rng().normal(mu, sigma, 200)"
   ]
  },
  {
   "cell_type": "code",
   "execution_count": null,
   "metadata": {},
   "outputs": [],
   "source": [
    "# Convert array to pandas series\n",
    "draw_sim_possession_norm = pd.Series(draw_sim_possession_norm)"
   ]
  },
  {
   "cell_type": "code",
   "execution_count": null,
   "metadata": {},
   "outputs": [],
   "source": [
    "# Create a dictionary so we can combine the meta data for the series\n",
    "draw_sim_possession_dict = { 'draw': draw_possession, 'draw sim': draw_sim_possession_norm } \n",
    "\n",
    "# Create a dataframe and store it in \n",
    "draw_sim_possession_comparison = pd.DataFrame(draw_sim_possession_dict) \n",
    "\n",
    "# plot\n",
    "f, axes = plt.subplots(1, 2, figsize=(30, 10), sharex=True)\n",
    "sns.distplot( draw_sim_possession_comparison[\"draw\"] , bins=10, color=\"skyblue\", ax=axes[0])\n",
    "sns.distplot( draw_sim_possession_comparison[\"draw sim\"] , bins=10, color=\"olive\", ax=axes[1])"
   ]
  },
  {
   "cell_type": "code",
   "execution_count": null,
   "metadata": {},
   "outputs": [],
   "source": [
    "list = [1.2, 1.5, 3.6]\n",
    "rng.choice(list)"
   ]
  },
  {
   "cell_type": "code",
   "execution_count": null,
   "metadata": {},
   "outputs": [],
   "source": [
    "# sim_df[\"goals scored\"] = 0\n",
    "# sim_df[\"possession\"] = 0\n",
    "# sim_df[\"shots\"] = 0\n",
    "\n",
    "for i in range(len(sim_df)):\n",
    "    if sim_df[\"result\"][i]==\"D\":\n",
    "        sim_df[\"goals scored\"][i]=rng.choice(draw_goal_count_sim, 1)\n",
    "        sim_df[\"possession\"][i]=rng.choice(draw_sim_possession_norm, 1)\n",
    "        sim_df[\"shots\"][i]=rng.choice(draw_shots_sim, 1)"
   ]
  },
  {
   "cell_type": "code",
   "execution_count": null,
   "metadata": {},
   "outputs": [],
   "source": [
    "sim_df.head()"
   ]
  },
  {
   "cell_type": "code",
   "execution_count": null,
   "metadata": {},
   "outputs": [],
   "source": [
    "plt.scatter(draw_sim_possession_norm, draw_shots_sim)"
   ]
  },
  {
   "cell_type": "code",
   "execution_count": null,
   "metadata": {},
   "outputs": [],
   "source": []
  },
  {
   "cell_type": "code",
   "execution_count": null,
   "metadata": {},
   "outputs": [],
   "source": []
  },
  {
   "cell_type": "code",
   "execution_count": null,
   "metadata": {},
   "outputs": [],
   "source": []
  },
  {
   "cell_type": "code",
   "execution_count": null,
   "metadata": {},
   "outputs": [],
   "source": []
  },
  {
   "cell_type": "code",
   "execution_count": null,
   "metadata": {},
   "outputs": [],
   "source": []
  },
  {
   "cell_type": "code",
   "execution_count": null,
   "metadata": {},
   "outputs": [],
   "source": []
  },
  {
   "cell_type": "code",
   "execution_count": null,
   "metadata": {},
   "outputs": [],
   "source": []
  },
  {
   "cell_type": "code",
   "execution_count": null,
   "metadata": {},
   "outputs": [],
   "source": []
  },
  {
   "cell_type": "code",
   "execution_count": null,
   "metadata": {},
   "outputs": [],
   "source": []
  },
  {
   "cell_type": "code",
   "execution_count": null,
   "metadata": {},
   "outputs": [],
   "source": []
  },
  {
   "cell_type": "code",
   "execution_count": null,
   "metadata": {},
   "outputs": [],
   "source": []
  },
  {
   "cell_type": "code",
   "execution_count": null,
   "metadata": {},
   "outputs": [],
   "source": [
    "# Start with a correlation matrix and standard deviations.\n",
    "# -0.40 is the correlation between A and B, and the correlation\n",
    "# of a variable with itself is 1.0.\n",
    "# corr = np.array([[1., -0.40],\n",
    "#                   [-0.40, 1.]])\n",
    "\n",
    "corr = np.array([[1., -0.60],\n",
    "                   [-0.60, 1.]])\n",
    "\n",
    "\n",
    "\n",
    "# Standard deviations/means of A and B, respectively\n",
    "# stdev = np.array([6., 1.])\n",
    "# mean = np.array([2., 0.5])\n",
    "# cov = corr2cov(corr, stdev)\n",
    "\n",
    "\n",
    "stdev = np.array([13.482255, 2.795426])\n",
    "mean = np.array([53.867403, 27.696133])\n",
    "cov = corr2cov(corr, stdev)\n",
    "\n",
    "\n",
    "# `size` is the length of time series for 2d data\n",
    "# (500 months, days, and so on).\n",
    "data_inv = np.random.multivariate_normal(mean=mean, cov=cov, size=200)\n",
    "data_inv[:50]\n",
    "\n",
    "bmi_test = data_inv[:, 0]\n",
    "\n",
    "bmi_possession_test = data_inv[:, 1]\n",
    "\n",
    "plt.scatter(bmi_test, bmi_possession_test)\n",
    "\n",
    "\n",
    "\n",
    "\n",
    "\n",
    "\n",
    "\n",
    "lose_possession.corr(lose_shots)\n",
    "\n",
    "lose_shots.corr(lose_possession)\n",
    "\n",
    "win_possession.corr(win_shots)\n",
    "\n",
    "win_possession.describe()\n",
    "\n",
    "win_shots.describe()\n",
    "\n",
    "plt.hist(win_shots, bins=20)\n",
    "\n",
    "draw_possession.corr(draw_shots)\n",
    "\n",
    "r\n",
    "\n",
    "\n",
    "\n",
    "\n",
    "\n",
    "\n",
    "possession_test = data[:,0]\n",
    "\n",
    "shots_test = data[:, 1]\n",
    "\n",
    "plt.scatter(possession_test, shots_test)\n",
    "\n",
    "r_test = np.corrcoef(possession_test, shots_test)\n",
    "r_test"
   ]
  },
  {
   "cell_type": "code",
   "execution_count": null,
   "metadata": {},
   "outputs": [],
   "source": []
  },
  {
   "cell_type": "code",
   "execution_count": null,
   "metadata": {},
   "outputs": [],
   "source": []
  },
  {
   "cell_type": "code",
   "execution_count": null,
   "metadata": {},
   "outputs": [],
   "source": []
  },
  {
   "cell_type": "code",
   "execution_count": null,
   "metadata": {},
   "outputs": [],
   "source": []
  },
  {
   "cell_type": "code",
   "execution_count": null,
   "metadata": {},
   "outputs": [],
   "source": []
  },
  {
   "cell_type": "code",
   "execution_count": null,
   "metadata": {},
   "outputs": [],
   "source": []
  },
  {
   "cell_type": "code",
   "execution_count": null,
   "metadata": {},
   "outputs": [],
   "source": []
  },
  {
   "cell_type": "code",
   "execution_count": null,
   "metadata": {},
   "outputs": [],
   "source": []
  },
  {
   "cell_type": "code",
   "execution_count": null,
   "metadata": {},
   "outputs": [],
   "source": []
  },
  {
   "cell_type": "code",
   "execution_count": null,
   "metadata": {},
   "outputs": [],
   "source": []
  },
  {
   "cell_type": "code",
   "execution_count": null,
   "metadata": {},
   "outputs": [],
   "source": []
  },
  {
   "cell_type": "code",
   "execution_count": null,
   "metadata": {},
   "outputs": [],
   "source": [
    "np.linspace(1, 5, 20)"
   ]
  },
  {
   "cell_type": "code",
   "execution_count": null,
   "metadata": {},
   "outputs": [],
   "source": []
  },
  {
   "cell_type": "code",
   "execution_count": null,
   "metadata": {},
   "outputs": [],
   "source": []
  },
  {
   "cell_type": "code",
   "execution_count": null,
   "metadata": {},
   "outputs": [],
   "source": []
  },
  {
   "cell_type": "code",
   "execution_count": null,
   "metadata": {},
   "outputs": [],
   "source": [
    "average_category_premiums=round(sim_df.groupby(\"result\")[\"shots\"].mean()*8,0)\n",
    "type(average_category_premiums)"
   ]
  },
  {
   "cell_type": "code",
   "execution_count": null,
   "metadata": {},
   "outputs": [],
   "source": [
    "15/7"
   ]
  },
  {
   "cell_type": "code",
   "execution_count": null,
   "metadata": {},
   "outputs": [],
   "source": [
    "5.2/5"
   ]
  },
  {
   "cell_type": "code",
   "execution_count": null,
   "metadata": {},
   "outputs": [],
   "source": [
    "alcohol_intake = np.random.normal(3.5, 1.04, 200)"
   ]
  },
  {
   "cell_type": "code",
   "execution_count": null,
   "metadata": {},
   "outputs": [],
   "source": [
    "rng.choice(alcohol_intake)"
   ]
  },
  {
   "cell_type": "code",
   "execution_count": null,
   "metadata": {},
   "outputs": [],
   "source": [
    "alcohol_intake = pd.Series(alcohol_intake, dtype=float)\n",
    "alcohol_intake = alcohol_intake.astype(float)\n",
    "df6 = pd.DataFrame(alcohol_intake)\n",
    "df6"
   ]
  },
  {
   "cell_type": "code",
   "execution_count": null,
   "metadata": {},
   "outputs": [],
   "source": [
    "plt.hist(alcohol_intake)"
   ]
  },
  {
   "cell_type": "code",
   "execution_count": null,
   "metadata": {},
   "outputs": [],
   "source": []
  },
  {
   "cell_type": "code",
   "execution_count": null,
   "metadata": {},
   "outputs": [],
   "source": []
  },
  {
   "cell_type": "code",
   "execution_count": null,
   "metadata": {},
   "outputs": [],
   "source": [
    "\n",
    "plt.hist(alcohol_intake)"
   ]
  },
  {
   "cell_type": "code",
   "execution_count": null,
   "metadata": {},
   "outputs": [],
   "source": []
  },
  {
   "cell_type": "code",
   "execution_count": null,
   "metadata": {},
   "outputs": [],
   "source": []
  },
  {
   "cell_type": "code",
   "execution_count": null,
   "metadata": {},
   "outputs": [],
   "source": []
  },
  {
   "cell_type": "code",
   "execution_count": null,
   "metadata": {},
   "outputs": [],
   "source": []
  },
  {
   "cell_type": "code",
   "execution_count": null,
   "metadata": {},
   "outputs": [],
   "source": []
  },
  {
   "cell_type": "code",
   "execution_count": null,
   "metadata": {},
   "outputs": [],
   "source": []
  },
  {
   "cell_type": "code",
   "execution_count": null,
   "metadata": {},
   "outputs": [],
   "source": [
    "sim_possession_uni = np.random.default_rng().uniform(30,80,200)"
   ]
  },
  {
   "cell_type": "code",
   "execution_count": null,
   "metadata": {},
   "outputs": [],
   "source": [
    "plt.hist(sim_possession_uni)"
   ]
  },
  {
   "cell_type": "code",
   "execution_count": null,
   "metadata": {},
   "outputs": [],
   "source": [
    "sim_possession_norm"
   ]
  },
  {
   "cell_type": "code",
   "execution_count": null,
   "metadata": {},
   "outputs": [],
   "source": [
    "s = rng.poisson(12.6, 200)\n",
    "\n",
    "count, bins, ignored = plt.hist(s, 14, density=True)\n",
    "\n",
    "plt.show()"
   ]
  },
  {
   "cell_type": "markdown",
   "metadata": {},
   "source": [
    "**********************************************************"
   ]
  },
  {
   "cell_type": "code",
   "execution_count": null,
   "metadata": {},
   "outputs": [],
   "source": []
  },
  {
   "cell_type": "code",
   "execution_count": null,
   "metadata": {},
   "outputs": [],
   "source": []
  },
  {
   "cell_type": "code",
   "execution_count": null,
   "metadata": {},
   "outputs": [],
   "source": []
  },
  {
   "cell_type": "code",
   "execution_count": null,
   "metadata": {},
   "outputs": [],
   "source": [
    "##### Lose goal count\n",
    "\n",
    "# Create series with home team goal count data only\n",
    "lose_goal_count = lose_only['home_team_goal_count']\n",
    "\n",
    "# Summary of goal count data\n",
    "lose_goal_count.describe()\n",
    "\n",
    "# Create series containing count of number of goals scored\n",
    "lose_goal_count_distribution = lose_only['home_team_goal_count'].value_counts()\n",
    "\n",
    "# Sort values\n",
    "lose_goal_count_distribution = lose_goal_count_distribution.sort_index()\n",
    "\n",
    "# Plot on a bar chart\n",
    "lose_goal_count_distribution.plot(kind='bar')\n",
    "\n",
    "lose_goal_count_distribution\n",
    "\n",
    "# Divide the frequency of each goal scored by total number of matches lost and add to list\n",
    "lose_goal_count_prob = list(lose_goal_count_distribution / 128)\n",
    "\n",
    "# Output list of probabilities\n",
    "lose_goal_count_prob\n",
    "\n",
    "<br>\n",
    "\n"
   ]
  },
  {
   "cell_type": "code",
   "execution_count": null,
   "metadata": {},
   "outputs": [],
   "source": []
  },
  {
   "cell_type": "code",
   "execution_count": null,
   "metadata": {},
   "outputs": [],
   "source": [
    "##### Draw goal count\n",
    "\n",
    "\n",
    "\n",
    "# Create series with home team goal count data only\n",
    "draw_goal_count = draw_only['home_team_goal_count']\n",
    "\n",
    "# Summary of goal count data\n",
    "draw_goal_count.describe()\n",
    "\n",
    "# Create series containing count of number of goals scored\n",
    "draw_goal_count_distribution = draw_only['home_team_goal_count'].value_counts()\n",
    "\n",
    "# Sort values\n",
    "draw_goal_count_distribution = draw_goal_count_distribution.sort_index()\n",
    "\n",
    "# Plot on a bar chart\n",
    "draw_goal_count_distribution.plot(kind='bar')\n",
    "\n",
    "draw_goal_count_distribution\n",
    "\n",
    "# Divide the frequency of each goal scored by total number of matches drawn and add to list\n",
    "draw_goal_count_prob = list(draw_goal_count_distribution / 71)\n",
    "\n",
    "# Output list of probabilities\n",
    "draw_goal_count_prob\n",
    "\n",
    "<br>\n",
    "\n"
   ]
  },
  {
   "cell_type": "code",
   "execution_count": null,
   "metadata": {},
   "outputs": [],
   "source": []
  },
  {
   "cell_type": "code",
   "execution_count": null,
   "metadata": {},
   "outputs": [],
   "source": []
  },
  {
   "cell_type": "code",
   "execution_count": null,
   "metadata": {},
   "outputs": [],
   "source": []
  },
  {
   "cell_type": "code",
   "execution_count": null,
   "metadata": {},
   "outputs": [],
   "source": []
  },
  {
   "cell_type": "code",
   "execution_count": null,
   "metadata": {},
   "outputs": [],
   "source": [
    "##### Win goal count\n",
    "\n",
    "Below, I create a series containing home team goal count data only and output a summary description using `describe()`:\n",
    "\n",
    "# Create series with home team goal count data only\n",
    "win_goal_count = win_only['home_team_goal_count']\n",
    "\n",
    "# Summary of goal count data\n",
    "win_goal_count.describe()\n",
    "\n",
    "<br>\n",
    "\n",
    "\n",
    "\n",
    "Next, I plot this data on a bar chart in order to get a visualisation of the distribution. The `value_counts` function counts the unique values in a single column [6], while `sort_index` sorts these values [7]. \n",
    "\n",
    "# Create series containing count of number of goals scored\n",
    "win_goal_count_distribution = win_only['home_team_goal_count'].value_counts()\n",
    "\n",
    "# Sort values\n",
    "win_goal_count_distribution = win_goal_count_distribution.sort_index()\n",
    "\n",
    "# Plot on a bar chart\n",
    "win_goal_count_distribution.plot(kind='bar')\n",
    "\n",
    "win_goal_count_distribution\n",
    "\n",
    "We now have an overall view of the distribution of number of goals the winning team scored. The bar chart is an appropriate plot to visualise the distribution as it is a series (single variable) of discrete values.\n",
    "\n",
    "<br>\n",
    "\n",
    "\n",
    "\n",
    "Below, I carry out a similar investigation on the possession and shots variables:"
   ]
  },
  {
   "cell_type": "code",
   "execution_count": null,
   "metadata": {},
   "outputs": [],
   "source": []
  },
  {
   "cell_type": "code",
   "execution_count": null,
   "metadata": {},
   "outputs": [],
   "source": [
    "##### 3.1.1 Goal count\n",
    "\n",
    "First, I calculate the frequency of each number of goals scored by the winning team. \n",
    "These values represent the probability distribution of the the goal_count variable.\n",
    "\n",
    "# Divide the frequency of each goal scored by total number of matches won and add to list\n",
    "win_goal_count_prob = list(win_goal_count_distribution / 181)\n",
    "\n",
    "# Output list of probabilities\n",
    "win_goal_count_prob\n",
    "\n",
    "The `random.choice` method is very effective in closely simulating data according to the probability\n",
    "distribution of an ordinal variable such as goal_count. The 'p' parameter allows us to weight each value for goal_count \n",
    "and so accurately mirrors the real world data set. The sum of the probabilities must add to 1. At times, this can raise errors when dealing with floating point values. We will explore this later below.\n",
    "\n",
    "# Sum of probabilities to check if they add to exactly 1\n",
    "sum(win_goal_count_prob)\n",
    "\n",
    "Next, I generate a list containing each unique value in win_goal_count. I found useful code for executing this at w3resource.com [12]:\n",
    "\n",
    "# Get unique values from win_goal_count and store them in a set\n",
    "win_goal_count_set = set(win_goal_count)\n",
    "\n",
    "# Convert the set to a list \n",
    "win_goal_count_list = list(win_goal_count_set)\n",
    "\n",
    "# Output the list\n",
    "print(win_goal_count_list)\n",
    "\n",
    "We now have a list of unique goal count values and their corresponding probabilities. Using `random.choice`, I generate an array containing the goal count for each win:\n",
    "\n",
    "# Generate array of random values using probabilities calculated above\n",
    "win_goal_count_sim = rng.choice(win_goal_count_list, 200, p=win_goal_count_prob)\n",
    "\n",
    "<br>\n",
    "\n",
    "\n",
    "\n",
    "To check the accuracy of the simulation, I plot the real world data set against the simulated data set for the goal count. First, I prepare the data:\n",
    "\n",
    "# Convert array to pandas series\n",
    "win_goal_count_sim = pd.Series(win_goal_count_sim)\n",
    "\n",
    "# Count the frequency of each value in the series\n",
    "win_goal_count_sim_distribution = win_goal_count_sim.value_counts()\n",
    "\n",
    "# Sort the values\n",
    "win_goal_count_sim_distribution = win_goal_count_sim_distribution.sort_index()\n",
    "\n",
    "# Create a dictionary so we can combine the meta data for the series\n",
    "sim_goals_dict = { 'win': win_goal_count_distribution, 'simulated win': win_goal_count_sim_distribution }\n",
    "\n",
    "# Create a dataframe and store it in \n",
    "sim_goals_comparison = pd.DataFrame(sim_goals_dict) \n",
    "sim_goals_comparison.plot(kind=\"bar\")\n",
    "\n",
    "plt.title(\"Goals Scored\")\n",
    "plt.xlabel(\"No. of Goals\")\n",
    "plt.ylabel(\"No. of Matches\")\n",
    "\n",
    "Through visualisation, this bar chart demonstrates the accuracy of the simulated data.\n",
    "\n",
    "<br>\n",
    "\n"
   ]
  },
  {
   "cell_type": "code",
   "execution_count": null,
   "metadata": {},
   "outputs": [],
   "source": []
  },
  {
   "cell_type": "code",
   "execution_count": null,
   "metadata": {},
   "outputs": [],
   "source": []
  },
  {
   "cell_type": "code",
   "execution_count": null,
   "metadata": {},
   "outputs": [],
   "source": []
  },
  {
   "cell_type": "code",
   "execution_count": null,
   "metadata": {},
   "outputs": [],
   "source": []
  },
  {
   "cell_type": "code",
   "execution_count": null,
   "metadata": {},
   "outputs": [],
   "source": []
  },
  {
   "cell_type": "code",
   "execution_count": null,
   "metadata": {},
   "outputs": [],
   "source": []
  },
  {
   "cell_type": "markdown",
   "metadata": {},
   "source": [
    "### References\n",
    "[1] footystats.org; https://footystats.org/download-stats-csv <br>\n",
    "[2] Firmin, S; Synthesizing Fake Data for Fun and Profit; https://community.alteryx.com/t5/Data-Science/Synthesizing-Fake-Data-for-Fun-and-Profit/ba-p/427345 <br>\n",
    "[2] How to get column names in Pandas dataframe; https://www.geeksforgeeks.org/how-to-get-column-names-in-pandas-dataframe/ <br>\n",
    "[3] theguardian.com; The Question: How important is possession?; https://www.theguardian.com/sport/blog/2010/may/12/the-question-important-possession <br>\n",
    "[3] note.nkmk.me; https://note.nkmk.me/en/python-numpy-where/ <br>\n",
    "[4] \n",
    "[5] Hillman, J; How BMI Impacts Sports and How Much You Should Depend on It; https://www.runningshoesguru.com/content/how-bmi-impacts-sports-and-how-much-you-should-depend-on-it/ <br>\n",
    "[5]  Ode J, Pivarnik JM, Reeves M, Knous JL.; Body mass index as a predictor of percent fat in college athletes and nonathletes. Med Sci Sports Exerc.; 2007;39(3):403-409 <br>\n",
    "[6] Nikolaidis PT, Chtourou H, Torres-Luque G, Rosemann T, Knechtle B.; The Relationship of Age and BMI with Physical Fitness in Futsal Players. Sports (Basel). 2019;7(4):87. Published 2019 Apr 15.; doi:10.3390/sports7040087 <br>\n",
    "[6] Nikolaidis, P. (2012), Association between body mass index, body fat per cent and muscle power output in soccer players. Central European Journal of Medicine. 7. 10.2478/s11536-012-0057-1; https://www.researchgate.net/publication/230824522_Association_between_body_mass_index_body_fat_per_cent_and_muscle_power_output_in_soccer_players <br> \n",
    "[8] Tsang S, Duncan GE, Dinescu D, Turkheimer E (2018) Differential models of twin correlations in skew for body-mass index (BMI). PLOS ONE 13(3): e0194968. https://doi.org/10.1371/journal.pone.0194968 <br>\n",
    "[9] bu.edu; The Normal Distribution: A Probability Model for a Continuous Outcome; https://sphweb.bumc.bu.edu/otlt/mph-modules/bs/bs704_probability/bs704_probability8.html#headingtaglink_6 <br>\n",
    "[7] punditarena.com; These Premier League Players Have Been Classed As ‘Overweight’; https://punditarena.com/football/ckelleher/these-premier-league-players-have-been-classed-as-overweight/ <br>\n",
    "[4] Stewart, C;  BMI: adult's body mass index in England 2018, by gender and age; https://www.statista.com/statistics/375886/adult-s-body-mass-index-by-gender-and-age-in-england/ <br>\n",
    "[5] Bloomfield, J., Polman, R., Butterly, R., O'Donoghue, P; Analysis of age, stature, body mass, BMI and quality of elite soccer players from 4 European Leagues; https://pubmed.ncbi.nlm.nih.gov/16208292/ <br>\n",
    "[4] stackoverflow.com; https://stackoverflow.com/questions/39109045/numpy-where-with-multiple-conditions <br>\n",
    "[5] stackoverflow.com; https://stackoverflow.com/questions/17071871/how-to-select-rows-from-a-dataframe-based-on-column-values <br>\n",
    "[6] brilliant.org; Poisson Distribution; https://brilliant.org/wiki/poisson-distribution/ <br>\n",
    "[6] pydata.org; pandas.Series.value_counts; https://pandas.pydata.org/pandas-docs/stable/reference/api/pandas.Series.value_counts.html <br>\n",
    "[7] Statistics Solutions; Pearson’s Correlation Coefficient; https://www.statisticssolutions.com/pearsons-correlation-coefficient/ <br>\n",
    "[7] pydata.org; pandas.Series.sort_index; https://pandas.pydata.org/pandas-docs/stable/reference/api/pandas.Series.sort_index.html <br>\n",
    "[7] kite.org; How to plot a linear regression line on a scatter plot in Python; https://www.kite.com/python/answers/how-to-plot-a-linear-regression-line-on-a-scatter-plot-in-python <br>\n",
    "[8] realpython.com; NumPy, SciPy, and Pandas: Correlation With Python; https://realpython.com/numpy-scipy-pandas-correlation-python/#example-numpy-correlation-calculation <br>\n",
    "[8] numpy.org; Random Generator; https://numpy.org/doc/stable/reference/random/generator.html#numpy.random.default_rng <br>\n",
    "[9] Andrew's University; Applied Statistics - Lesson 5: Correlation Coefficients; https://www.andrews.edu/~calkins/math/edrm611/edrm05.htm <br>\n",
    "[9] geeksforgeeks.org; Creating a dataframe from Pandas series; https://www.geeksforgeeks.org/creating-a-dataframe-from-pandas-series/ <br>\n",
    "[10] Lynn, S.; Bar Plots in Python using Pandas DataFrames; https://www.shanelynn.ie/bar-plots-in-python-using-pandas-dataframes/ <br>\n",
    "[11] The Python Graph Gallery; Histogram with several variables | Seaborn; https://python-graph-gallery.com/25-histogram-with-several-variables-seaborn/ <br>\n",
    "[12] w3resource.com; Python: Get unique values from a list; https://www.w3resource.com/python-exercises/list/python-data-type-list-exercise-29.php[11] <br>\n",
    "[13] stackoverflow.com; https://stackoverflow.com/questions/46539431/np-random-choice-probabilities-do-not-sum-to-1 <br>\n",
    "[14] brilliant.org; Poisson Distribution; https://brilliant.org/wiki/poisson-distribution/ <br>\n",
    "[14] Romani, E; How to generate pseudo-random datasets in Python: start from scratch with Numpy & Faker; https://towardsdatascience.com/how-to-generate-pseudo-random-datasets-in-python-start-from-scratch-with-numpy-faker-c5661e3bc58b <br>\n",
    "[15] Firmin, S; Synthesizing Fake Data for Fun and Profit; https://community.alteryx.com/t5/Data-Science/Synthesizing-Fake-Data-for-Fun-and-Profit/ba-p/427345 <br>\n",
    "[16] Romani, E; How to generate pseudo-random datasets in Python: start from scratch with Numpy & Faker; https://towardsdatascience.com/how-to-generate-pseudo-random-datasets-in-python-start-from-scratch-with-numpy-faker-c5661e3bc58b <br>\n",
    "[17] realpython.com; Generating Random Data in Python (Guide); https://realpython.com/python-random/ <br>\n",
    "[18] stackoverflow.com; https://stackoverflow.com/questions/23199796/detect-and-exclude-outliers-in-pandas-data-frame <br>\n",
    "[18] realpython.com; NumPy, SciPy, and Pandas: Correlation With Python; https://realpython.com/numpy-scipy-pandas-correlation-python/#example-numpy-correlation-calculation <br>\n",
    "[19] realpython.com; Generating Random Data in Python (Guide); https://realpython.com/python-random/ <br>\n"
   ]
  },
  {
   "cell_type": "code",
   "execution_count": null,
   "metadata": {},
   "outputs": [],
   "source": []
  },
  {
   "cell_type": "code",
   "execution_count": null,
   "metadata": {},
   "outputs": [],
   "source": []
  },
  {
   "cell_type": "code",
   "execution_count": null,
   "metadata": {},
   "outputs": [],
   "source": []
  },
  {
   "cell_type": "code",
   "execution_count": null,
   "metadata": {},
   "outputs": [],
   "source": []
  },
  {
   "cell_type": "code",
   "execution_count": null,
   "metadata": {},
   "outputs": [],
   "source": []
  },
  {
   "cell_type": "code",
   "execution_count": null,
   "metadata": {},
   "outputs": [],
   "source": []
  },
  {
   "cell_type": "markdown",
   "metadata": {},
   "source": [
    "**I will need to also have data for away team for comparison e.g. shots on goal, goals scored.**\n",
    "* e.g. difference between winning team shots scored and losing team shots scored. Shots scored as a stand alone may not be enough info\n",
    "* random.choice is well and good, but what about 7 goals? Distributions might be better. Work on binomial for goals scored.\n",
    "* add labels to all plots\n",
    "* More commentry on the investigations, especially the visualisation\n",
    "* fill missing values for lose shots\n",
    "* use subplots in Section 3 to view simulated and real pots side by side\n",
    "* can you set a maximum and minimum value in random.normal?\n",
    "* If possession = 25, they shoudn't really have 25 shots on goal. Sort out these anomalies\n",
    "* 200 samples of each... sort that out maybe. Make it proportional to original data set\n",
    "* Calculate std of alcohol intake. 2 seems good at the moment.\n",
    "* SettingWithCopyWarning find references\n",
    "* sns.set()"
   ]
  },
  {
   "cell_type": "code",
   "execution_count": null,
   "metadata": {},
   "outputs": [],
   "source": []
  }
 ],
 "metadata": {
  "kernelspec": {
   "display_name": "Python 3",
   "language": "python",
   "name": "python3"
  },
  "language_info": {
   "codemirror_mode": {
    "name": "ipython",
    "version": 3
   },
   "file_extension": ".py",
   "mimetype": "text/x-python",
   "name": "python",
   "nbconvert_exporter": "python",
   "pygments_lexer": "ipython3",
   "version": "3.8.5"
  }
 },
 "nbformat": 4,
 "nbformat_minor": 4
}
