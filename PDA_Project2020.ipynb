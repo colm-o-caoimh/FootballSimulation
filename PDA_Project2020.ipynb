{
 "cells": [
  {
   "cell_type": "markdown",
   "metadata": {},
   "source": [
    "# Programming for Data Analytics Project 2020\n",
    "***\n",
    "\n"
   ]
  },
  {
   "cell_type": "markdown",
   "metadata": {},
   "source": [
    "### Project brief\n",
    "\n",
    "For this project you must create a data set by simulating a real-world phenomenon of your choosing.  You may pick any phenomenon you wish. Then, rather than collect data related to the phenomenon, you should model and synthesise such data using Python. We suggest you use the `numpy.random` package for this purpose. Specifically, in this project you should:\n",
    "\n",
    "* Choose a real-world phenomenon that can be measured and for which you could collect at least one-hundred data points across at least four different variables.\n",
    "* Investigate  the  types  of  variables  involved,  their  likely  distributions,  and  their relationships with each other.\n",
    "* Synthesise/simulate a data set as closely matching their properties as possible.\n",
    "* Detail your research and implement the simulation in a Jupyter notebook – the data set itself can simply be displayed in an output cell within the notebook."
   ]
  },
  {
   "cell_type": "markdown",
   "metadata": {},
   "source": [
    "<br>\n",
    "\n"
   ]
  },
  {
   "cell_type": "markdown",
   "metadata": {},
   "source": [
    "## Introduction\n",
    "\n",
    "I have divided this project into 4 sections, each one representing a bullet point listed in the brief above. \n"
   ]
  },
  {
   "cell_type": "markdown",
   "metadata": {},
   "source": [
    "<br>\n",
    "\n"
   ]
  },
  {
   "cell_type": "markdown",
   "metadata": {},
   "source": [
    "## 1. Premier League Simulation\n",
    "***"
   ]
  },
  {
   "cell_type": "markdown",
   "metadata": {},
   "source": [
    "For this project, I simulate the phenomenon of home team performance in the English Premier League. The simulation is modelled on data from the 2018/19 season [1]. I use a data set which consists of 380 observations (representing each individual match that took place during the season). On a personal level, the most interesting variable is the result of each match (win, loss or draw). More specifically, I am curious to investigate some of the variables which may give an good indication as to the outcome of a match. I have chosen the following 4 variables with this in mind\n",
    "\n",
    "* Goals scored (non-zero integer)\n",
    "* Possession (non-zero integer)\n",
    "* Shots (non-zero integer)\n",
    "* Result (categorical)\n",
    "\n",
    "In order to accurately simulate the real world data, it is necessary to examine the properties of these variables. This includes establishing the distribution of each one as well as the relationship between each of the them. \n",
    "<br>\n",
    "\n",
    "\n",
    "\n",
    "\n",
    "\n"
   ]
  },
  {
   "cell_type": "markdown",
   "metadata": {},
   "source": [
    "<br>\n",
    "\n",
    "***"
   ]
  },
  {
   "cell_type": "markdown",
   "metadata": {},
   "source": [
    "## 2. Investigation of variables\n",
    "***\n",
    "\n",
    "<br>"
   ]
  },
  {
   "cell_type": "markdown",
   "metadata": {},
   "source": [
    "### 2.1 Data preparation\n",
    "\n",
    "<br>"
   ]
  },
  {
   "cell_type": "markdown",
   "metadata": {},
   "source": [
    "Firstly, I import the relevant Python packages for the simulation. "
   ]
  },
  {
   "cell_type": "code",
   "execution_count": 1,
   "metadata": {},
   "outputs": [],
   "source": [
    "import numpy as np\n",
    "import pandas as pd\n",
    "import matplotlib.pyplot as plt"
   ]
  },
  {
   "cell_type": "markdown",
   "metadata": {},
   "source": [
    "<br>\n",
    "\n",
    "Next, I read in the csv file which contains the necessary real world data and perform some basic operations on it to get an overview of the data."
   ]
  },
  {
   "cell_type": "code",
   "execution_count": 2,
   "metadata": {},
   "outputs": [],
   "source": [
    "# Read in csv file\n",
    "df = pd.read_csv(\"pl_stats.csv.html\")"
   ]
  },
  {
   "cell_type": "code",
   "execution_count": 3,
   "metadata": {},
   "outputs": [
    {
     "name": "stdout",
     "output_type": "stream",
     "text": [
      "<class 'pandas.core.frame.DataFrame'>\n",
      "RangeIndex: 380 entries, 0 to 379\n",
      "Data columns (total 64 columns):\n",
      " #   Column                               Non-Null Count  Dtype  \n",
      "---  ------                               --------------  -----  \n",
      " 0   timestamp                            380 non-null    int64  \n",
      " 1   date_GMT                             380 non-null    object \n",
      " 2   status                               380 non-null    object \n",
      " 3   attendance                           380 non-null    int64  \n",
      " 4   home_team_name                       380 non-null    object \n",
      " 5   away_team_name                       380 non-null    object \n",
      " 6   referee                              380 non-null    object \n",
      " 7   Game Week                            380 non-null    int64  \n",
      " 8   Pre-Match PPG (Home)                 380 non-null    float64\n",
      " 9   Pre-Match PPG (Away)                 380 non-null    float64\n",
      " 10  home_ppg                             380 non-null    float64\n",
      " 11  away_ppg                             380 non-null    float64\n",
      " 12  home_team_goal_count                 380 non-null    int64  \n",
      " 13  away_team_goal_count                 380 non-null    int64  \n",
      " 14  total_goal_count                     380 non-null    int64  \n",
      " 15  total_goals_at_half_time             380 non-null    int64  \n",
      " 16  home_team_goal_count_half_time       380 non-null    int64  \n",
      " 17  away_team_goal_count_half_time       380 non-null    int64  \n",
      " 18  home_team_goal_timings               292 non-null    object \n",
      " 19  away_team_goal_timings               261 non-null    object \n",
      " 20  home_team_corner_count               380 non-null    int64  \n",
      " 21  away_team_corner_count               380 non-null    int64  \n",
      " 22  home_team_yellow_cards               380 non-null    int64  \n",
      " 23  home_team_red_cards                  380 non-null    int64  \n",
      " 24  away_team_yellow_cards               380 non-null    int64  \n",
      " 25  away_team_red_cards                  380 non-null    int64  \n",
      " 26  home_team_first_half_cards           380 non-null    int64  \n",
      " 27  home_team_second_half_cards          380 non-null    int64  \n",
      " 28  away_team_first_half_cards           380 non-null    int64  \n",
      " 29  away_team_second_half_cards          380 non-null    int64  \n",
      " 30  home_team_shots                      380 non-null    int64  \n",
      " 31  away_team_shots                      380 non-null    int64  \n",
      " 32  home_team_shots_on_target            380 non-null    int64  \n",
      " 33  away_team_shots_on_target            380 non-null    int64  \n",
      " 34  home_team_shots_off_target           380 non-null    int64  \n",
      " 35  away_team_shots_off_target           380 non-null    int64  \n",
      " 36  home_team_fouls                      380 non-null    int64  \n",
      " 37  away_team_fouls                      380 non-null    int64  \n",
      " 38  home_team_possession                 380 non-null    int64  \n",
      " 39  away_team_possession                 380 non-null    int64  \n",
      " 40  team_a_xg                            380 non-null    float64\n",
      " 41  team_b_xg                            380 non-null    float64\n",
      " 42  average_goals_per_match_pre_match    380 non-null    float64\n",
      " 43  btts_percentage_pre_match            380 non-null    int64  \n",
      " 44  over_15_percentage_pre_match         380 non-null    int64  \n",
      " 45  over_25_percentage_pre_match         380 non-null    int64  \n",
      " 46  over_35_percentage_pre_match         380 non-null    int64  \n",
      " 47  over_45_percentage_pre_match         380 non-null    int64  \n",
      " 48  over_15_HT_FHG_percentage_pre_match  380 non-null    int64  \n",
      " 49  over_05_HT_FHG_percentage_pre_match  380 non-null    int64  \n",
      " 50  over_15_2HG_percentage_pre_match     380 non-null    int64  \n",
      " 51  over_05_2HG_percentage_pre_match     380 non-null    int64  \n",
      " 52  average_corners_per_match_pre_match  380 non-null    float64\n",
      " 53  average_cards_per_match_pre_match    380 non-null    float64\n",
      " 54  odds_ft_home_team_win                380 non-null    float64\n",
      " 55  odds_ft_draw                         380 non-null    float64\n",
      " 56  odds_ft_away_team_win                380 non-null    float64\n",
      " 57  odds_ft_over15                       380 non-null    float64\n",
      " 58  odds_ft_over25                       380 non-null    float64\n",
      " 59  odds_ft_over35                       380 non-null    float64\n",
      " 60  odds_ft_over45                       380 non-null    float64\n",
      " 61  odds_btts_yes                        380 non-null    float64\n",
      " 62  odds_btts_no                         380 non-null    float64\n",
      " 63  stadium_name                         380 non-null    object \n",
      "dtypes: float64(18), int64(38), object(8)\n",
      "memory usage: 190.1+ KB\n"
     ]
    }
   ],
   "source": [
    "df.info()"
   ]
  },
  {
   "cell_type": "code",
   "execution_count": 4,
   "metadata": {},
   "outputs": [
    {
     "data": {
      "text/html": [
       "<div>\n",
       "<style scoped>\n",
       "    .dataframe tbody tr th:only-of-type {\n",
       "        vertical-align: middle;\n",
       "    }\n",
       "\n",
       "    .dataframe tbody tr th {\n",
       "        vertical-align: top;\n",
       "    }\n",
       "\n",
       "    .dataframe thead th {\n",
       "        text-align: right;\n",
       "    }\n",
       "</style>\n",
       "<table border=\"1\" class=\"dataframe\">\n",
       "  <thead>\n",
       "    <tr style=\"text-align: right;\">\n",
       "      <th></th>\n",
       "      <th>team_a_xg</th>\n",
       "      <th>team_b_xg</th>\n",
       "    </tr>\n",
       "  </thead>\n",
       "  <tbody>\n",
       "    <tr>\n",
       "      <th>0</th>\n",
       "      <td>1.25</td>\n",
       "      <td>1.46</td>\n",
       "    </tr>\n",
       "    <tr>\n",
       "      <th>1</th>\n",
       "      <td>1.18</td>\n",
       "      <td>1.58</td>\n",
       "    </tr>\n",
       "    <tr>\n",
       "      <th>2</th>\n",
       "      <td>1.50</td>\n",
       "      <td>0.89</td>\n",
       "    </tr>\n",
       "    <tr>\n",
       "      <th>3</th>\n",
       "      <td>1.67</td>\n",
       "      <td>1.81</td>\n",
       "    </tr>\n",
       "    <tr>\n",
       "      <th>4</th>\n",
       "      <td>0.90</td>\n",
       "      <td>1.17</td>\n",
       "    </tr>\n",
       "    <tr>\n",
       "      <th>...</th>\n",
       "      <td>...</td>\n",
       "      <td>...</td>\n",
       "    </tr>\n",
       "    <tr>\n",
       "      <th>375</th>\n",
       "      <td>1.40</td>\n",
       "      <td>0.92</td>\n",
       "    </tr>\n",
       "    <tr>\n",
       "      <th>376</th>\n",
       "      <td>2.67</td>\n",
       "      <td>1.31</td>\n",
       "    </tr>\n",
       "    <tr>\n",
       "      <th>377</th>\n",
       "      <td>1.15</td>\n",
       "      <td>1.04</td>\n",
       "    </tr>\n",
       "    <tr>\n",
       "      <th>378</th>\n",
       "      <td>1.23</td>\n",
       "      <td>1.80</td>\n",
       "    </tr>\n",
       "    <tr>\n",
       "      <th>379</th>\n",
       "      <td>1.81</td>\n",
       "      <td>2.01</td>\n",
       "    </tr>\n",
       "  </tbody>\n",
       "</table>\n",
       "<p>380 rows × 2 columns</p>\n",
       "</div>"
      ],
      "text/plain": [
       "     team_a_xg  team_b_xg\n",
       "0         1.25       1.46\n",
       "1         1.18       1.58\n",
       "2         1.50       0.89\n",
       "3         1.67       1.81\n",
       "4         0.90       1.17\n",
       "..         ...        ...\n",
       "375       1.40       0.92\n",
       "376       2.67       1.31\n",
       "377       1.15       1.04\n",
       "378       1.23       1.80\n",
       "379       1.81       2.01\n",
       "\n",
       "[380 rows x 2 columns]"
      ]
     },
     "execution_count": 4,
     "metadata": {},
     "output_type": "execute_result"
    }
   ],
   "source": [
    "df[[\"team_a_xg\", \"team_b_xg\"]]"
   ]
  },
  {
   "cell_type": "code",
   "execution_count": 5,
   "metadata": {},
   "outputs": [
    {
     "data": {
      "text/plain": [
       "0     0.00\n",
       "1     0.00\n",
       "2     0.00\n",
       "3     0.00\n",
       "4     0.00\n",
       "5     0.00\n",
       "6     0.00\n",
       "7     0.00\n",
       "8     0.00\n",
       "9     0.00\n",
       "10    0.00\n",
       "11    0.00\n",
       "12    0.00\n",
       "13    0.00\n",
       "14    0.00\n",
       "15    0.00\n",
       "16    0.00\n",
       "17    0.00\n",
       "18    0.00\n",
       "19    0.00\n",
       "20    3.00\n",
       "21    3.00\n",
       "22    3.00\n",
       "23    2.50\n",
       "24    1.50\n",
       "25    3.00\n",
       "26    2.00\n",
       "27    1.00\n",
       "28    3.00\n",
       "29    3.00\n",
       "30    2.00\n",
       "31    4.50\n",
       "32    4.00\n",
       "33    2.50\n",
       "34    5.00\n",
       "35    2.50\n",
       "36    3.50\n",
       "37    2.50\n",
       "38    4.50\n",
       "39    2.75\n",
       "Name: average_goals_per_match_pre_match, dtype: float64"
      ]
     },
     "execution_count": 5,
     "metadata": {},
     "output_type": "execute_result"
    }
   ],
   "source": [
    "df.average_goals_per_match_pre_match.head(40)"
   ]
  },
  {
   "cell_type": "code",
   "execution_count": 6,
   "metadata": {},
   "outputs": [
    {
     "data": {
      "text/html": [
       "<div>\n",
       "<style scoped>\n",
       "    .dataframe tbody tr th:only-of-type {\n",
       "        vertical-align: middle;\n",
       "    }\n",
       "\n",
       "    .dataframe tbody tr th {\n",
       "        vertical-align: top;\n",
       "    }\n",
       "\n",
       "    .dataframe thead th {\n",
       "        text-align: right;\n",
       "    }\n",
       "</style>\n",
       "<table border=\"1\" class=\"dataframe\">\n",
       "  <thead>\n",
       "    <tr style=\"text-align: right;\">\n",
       "      <th></th>\n",
       "      <th>timestamp</th>\n",
       "      <th>attendance</th>\n",
       "      <th>Game Week</th>\n",
       "      <th>Pre-Match PPG (Home)</th>\n",
       "      <th>Pre-Match PPG (Away)</th>\n",
       "      <th>home_ppg</th>\n",
       "      <th>away_ppg</th>\n",
       "      <th>home_team_goal_count</th>\n",
       "      <th>away_team_goal_count</th>\n",
       "      <th>total_goal_count</th>\n",
       "      <th>...</th>\n",
       "      <th>average_cards_per_match_pre_match</th>\n",
       "      <th>odds_ft_home_team_win</th>\n",
       "      <th>odds_ft_draw</th>\n",
       "      <th>odds_ft_away_team_win</th>\n",
       "      <th>odds_ft_over15</th>\n",
       "      <th>odds_ft_over25</th>\n",
       "      <th>odds_ft_over35</th>\n",
       "      <th>odds_ft_over45</th>\n",
       "      <th>odds_btts_yes</th>\n",
       "      <th>odds_btts_no</th>\n",
       "    </tr>\n",
       "  </thead>\n",
       "  <tbody>\n",
       "    <tr>\n",
       "      <th>count</th>\n",
       "      <td>3.800000e+02</td>\n",
       "      <td>380.000000</td>\n",
       "      <td>380.000000</td>\n",
       "      <td>380.000000</td>\n",
       "      <td>380.000000</td>\n",
       "      <td>380.000000</td>\n",
       "      <td>380.000000</td>\n",
       "      <td>380.000000</td>\n",
       "      <td>380.000000</td>\n",
       "      <td>380.000000</td>\n",
       "      <td>...</td>\n",
       "      <td>380.000000</td>\n",
       "      <td>380.000000</td>\n",
       "      <td>380.000000</td>\n",
       "      <td>380.000000</td>\n",
       "      <td>380.000000</td>\n",
       "      <td>380.000000</td>\n",
       "      <td>380.000000</td>\n",
       "      <td>380.000000</td>\n",
       "      <td>380.000000</td>\n",
       "      <td>380.000000</td>\n",
       "    </tr>\n",
       "    <tr>\n",
       "      <th>mean</th>\n",
       "      <td>1.546145e+09</td>\n",
       "      <td>38186.847368</td>\n",
       "      <td>19.500000</td>\n",
       "      <td>1.480895</td>\n",
       "      <td>1.167632</td>\n",
       "      <td>1.615500</td>\n",
       "      <td>1.198000</td>\n",
       "      <td>1.568421</td>\n",
       "      <td>1.252632</td>\n",
       "      <td>2.821053</td>\n",
       "      <td>...</td>\n",
       "      <td>3.354763</td>\n",
       "      <td>3.219421</td>\n",
       "      <td>4.471316</td>\n",
       "      <td>5.381816</td>\n",
       "      <td>1.261000</td>\n",
       "      <td>1.821474</td>\n",
       "      <td>3.101158</td>\n",
       "      <td>5.897763</td>\n",
       "      <td>1.842316</td>\n",
       "      <td>1.908868</td>\n",
       "    </tr>\n",
       "    <tr>\n",
       "      <th>std</th>\n",
       "      <td>6.877351e+06</td>\n",
       "      <td>16720.334767</td>\n",
       "      <td>10.980313</td>\n",
       "      <td>0.831446</td>\n",
       "      <td>0.761209</td>\n",
       "      <td>0.590587</td>\n",
       "      <td>0.534085</td>\n",
       "      <td>1.312836</td>\n",
       "      <td>1.180031</td>\n",
       "      <td>1.601312</td>\n",
       "      <td>...</td>\n",
       "      <td>1.169849</td>\n",
       "      <td>2.962683</td>\n",
       "      <td>1.906924</td>\n",
       "      <td>5.540953</td>\n",
       "      <td>0.107498</td>\n",
       "      <td>0.312900</td>\n",
       "      <td>0.833400</td>\n",
       "      <td>2.032061</td>\n",
       "      <td>0.214528</td>\n",
       "      <td>0.228041</td>\n",
       "    </tr>\n",
       "    <tr>\n",
       "      <th>min</th>\n",
       "      <td>1.533928e+09</td>\n",
       "      <td>9980.000000</td>\n",
       "      <td>1.000000</td>\n",
       "      <td>0.000000</td>\n",
       "      <td>0.000000</td>\n",
       "      <td>0.470000</td>\n",
       "      <td>0.260000</td>\n",
       "      <td>0.000000</td>\n",
       "      <td>0.000000</td>\n",
       "      <td>0.000000</td>\n",
       "      <td>...</td>\n",
       "      <td>0.000000</td>\n",
       "      <td>1.070000</td>\n",
       "      <td>2.900000</td>\n",
       "      <td>1.120000</td>\n",
       "      <td>1.050000</td>\n",
       "      <td>1.200000</td>\n",
       "      <td>1.540000</td>\n",
       "      <td>2.300000</td>\n",
       "      <td>1.430000</td>\n",
       "      <td>1.380000</td>\n",
       "    </tr>\n",
       "    <tr>\n",
       "      <th>25%</th>\n",
       "      <td>1.540656e+09</td>\n",
       "      <td>25034.750000</td>\n",
       "      <td>10.000000</td>\n",
       "      <td>1.000000</td>\n",
       "      <td>0.630000</td>\n",
       "      <td>1.210000</td>\n",
       "      <td>0.840000</td>\n",
       "      <td>1.000000</td>\n",
       "      <td>0.000000</td>\n",
       "      <td>2.000000</td>\n",
       "      <td>...</td>\n",
       "      <td>2.922500</td>\n",
       "      <td>1.570000</td>\n",
       "      <td>3.350000</td>\n",
       "      <td>2.300000</td>\n",
       "      <td>1.180000</td>\n",
       "      <td>1.585000</td>\n",
       "      <td>2.450000</td>\n",
       "      <td>4.437500</td>\n",
       "      <td>1.690000</td>\n",
       "      <td>1.740000</td>\n",
       "    </tr>\n",
       "    <tr>\n",
       "      <th>50%</th>\n",
       "      <td>1.546018e+09</td>\n",
       "      <td>31948.000000</td>\n",
       "      <td>19.500000</td>\n",
       "      <td>1.470000</td>\n",
       "      <td>1.075000</td>\n",
       "      <td>1.475000</td>\n",
       "      <td>1.160000</td>\n",
       "      <td>1.000000</td>\n",
       "      <td>1.000000</td>\n",
       "      <td>3.000000</td>\n",
       "      <td>...</td>\n",
       "      <td>3.500000</td>\n",
       "      <td>2.300000</td>\n",
       "      <td>3.750000</td>\n",
       "      <td>3.350000</td>\n",
       "      <td>1.250000</td>\n",
       "      <td>1.770000</td>\n",
       "      <td>2.950000</td>\n",
       "      <td>5.500000</td>\n",
       "      <td>1.830000</td>\n",
       "      <td>1.890000</td>\n",
       "    </tr>\n",
       "    <tr>\n",
       "      <th>75%</th>\n",
       "      <td>1.551541e+09</td>\n",
       "      <td>53282.750000</td>\n",
       "      <td>29.000000</td>\n",
       "      <td>2.062500</td>\n",
       "      <td>1.610000</td>\n",
       "      <td>1.917500</td>\n",
       "      <td>1.542500</td>\n",
       "      <td>2.000000</td>\n",
       "      <td>2.000000</td>\n",
       "      <td>4.000000</td>\n",
       "      <td>...</td>\n",
       "      <td>4.000000</td>\n",
       "      <td>3.350000</td>\n",
       "      <td>4.850000</td>\n",
       "      <td>6.312500</td>\n",
       "      <td>1.330000</td>\n",
       "      <td>2.000000</td>\n",
       "      <td>3.600000</td>\n",
       "      <td>7.050000</td>\n",
       "      <td>1.962500</td>\n",
       "      <td>2.050000</td>\n",
       "    </tr>\n",
       "    <tr>\n",
       "      <th>max</th>\n",
       "      <td>1.557670e+09</td>\n",
       "      <td>81332.000000</td>\n",
       "      <td>38.000000</td>\n",
       "      <td>3.000000</td>\n",
       "      <td>3.000000</td>\n",
       "      <td>2.840000</td>\n",
       "      <td>2.320000</td>\n",
       "      <td>6.000000</td>\n",
       "      <td>6.000000</td>\n",
       "      <td>8.000000</td>\n",
       "      <td>...</td>\n",
       "      <td>8.000000</td>\n",
       "      <td>22.000000</td>\n",
       "      <td>15.750000</td>\n",
       "      <td>42.750000</td>\n",
       "      <td>1.570000</td>\n",
       "      <td>2.750000</td>\n",
       "      <td>5.650000</td>\n",
       "      <td>15.000000</td>\n",
       "      <td>2.800000</td>\n",
       "      <td>2.550000</td>\n",
       "    </tr>\n",
       "  </tbody>\n",
       "</table>\n",
       "<p>8 rows × 56 columns</p>\n",
       "</div>"
      ],
      "text/plain": [
       "          timestamp    attendance   Game Week  Pre-Match PPG (Home)  \\\n",
       "count  3.800000e+02    380.000000  380.000000            380.000000   \n",
       "mean   1.546145e+09  38186.847368   19.500000              1.480895   \n",
       "std    6.877351e+06  16720.334767   10.980313              0.831446   \n",
       "min    1.533928e+09   9980.000000    1.000000              0.000000   \n",
       "25%    1.540656e+09  25034.750000   10.000000              1.000000   \n",
       "50%    1.546018e+09  31948.000000   19.500000              1.470000   \n",
       "75%    1.551541e+09  53282.750000   29.000000              2.062500   \n",
       "max    1.557670e+09  81332.000000   38.000000              3.000000   \n",
       "\n",
       "       Pre-Match PPG (Away)    home_ppg    away_ppg  home_team_goal_count  \\\n",
       "count            380.000000  380.000000  380.000000            380.000000   \n",
       "mean               1.167632    1.615500    1.198000              1.568421   \n",
       "std                0.761209    0.590587    0.534085              1.312836   \n",
       "min                0.000000    0.470000    0.260000              0.000000   \n",
       "25%                0.630000    1.210000    0.840000              1.000000   \n",
       "50%                1.075000    1.475000    1.160000              1.000000   \n",
       "75%                1.610000    1.917500    1.542500              2.000000   \n",
       "max                3.000000    2.840000    2.320000              6.000000   \n",
       "\n",
       "       away_team_goal_count  total_goal_count  ...  \\\n",
       "count            380.000000        380.000000  ...   \n",
       "mean               1.252632          2.821053  ...   \n",
       "std                1.180031          1.601312  ...   \n",
       "min                0.000000          0.000000  ...   \n",
       "25%                0.000000          2.000000  ...   \n",
       "50%                1.000000          3.000000  ...   \n",
       "75%                2.000000          4.000000  ...   \n",
       "max                6.000000          8.000000  ...   \n",
       "\n",
       "       average_cards_per_match_pre_match  odds_ft_home_team_win  odds_ft_draw  \\\n",
       "count                         380.000000             380.000000    380.000000   \n",
       "mean                            3.354763               3.219421      4.471316   \n",
       "std                             1.169849               2.962683      1.906924   \n",
       "min                             0.000000               1.070000      2.900000   \n",
       "25%                             2.922500               1.570000      3.350000   \n",
       "50%                             3.500000               2.300000      3.750000   \n",
       "75%                             4.000000               3.350000      4.850000   \n",
       "max                             8.000000              22.000000     15.750000   \n",
       "\n",
       "       odds_ft_away_team_win  odds_ft_over15  odds_ft_over25  odds_ft_over35  \\\n",
       "count             380.000000      380.000000      380.000000      380.000000   \n",
       "mean                5.381816        1.261000        1.821474        3.101158   \n",
       "std                 5.540953        0.107498        0.312900        0.833400   \n",
       "min                 1.120000        1.050000        1.200000        1.540000   \n",
       "25%                 2.300000        1.180000        1.585000        2.450000   \n",
       "50%                 3.350000        1.250000        1.770000        2.950000   \n",
       "75%                 6.312500        1.330000        2.000000        3.600000   \n",
       "max                42.750000        1.570000        2.750000        5.650000   \n",
       "\n",
       "       odds_ft_over45  odds_btts_yes  odds_btts_no  \n",
       "count      380.000000     380.000000    380.000000  \n",
       "mean         5.897763       1.842316      1.908868  \n",
       "std          2.032061       0.214528      0.228041  \n",
       "min          2.300000       1.430000      1.380000  \n",
       "25%          4.437500       1.690000      1.740000  \n",
       "50%          5.500000       1.830000      1.890000  \n",
       "75%          7.050000       1.962500      2.050000  \n",
       "max         15.000000       2.800000      2.550000  \n",
       "\n",
       "[8 rows x 56 columns]"
      ]
     },
     "execution_count": 6,
     "metadata": {},
     "output_type": "execute_result"
    }
   ],
   "source": [
    "# The describe() method gives a summary of the data contained in the data set\n",
    "df.describe()"
   ]
  },
  {
   "cell_type": "markdown",
   "metadata": {},
   "source": [
    "<br>\n",
    "\n"
   ]
  },
  {
   "cell_type": "code",
   "execution_count": 7,
   "metadata": {},
   "outputs": [
    {
     "data": {
      "text/html": [
       "<div>\n",
       "<style scoped>\n",
       "    .dataframe tbody tr th:only-of-type {\n",
       "        vertical-align: middle;\n",
       "    }\n",
       "\n",
       "    .dataframe tbody tr th {\n",
       "        vertical-align: top;\n",
       "    }\n",
       "\n",
       "    .dataframe thead th {\n",
       "        text-align: right;\n",
       "    }\n",
       "</style>\n",
       "<table border=\"1\" class=\"dataframe\">\n",
       "  <thead>\n",
       "    <tr style=\"text-align: right;\">\n",
       "      <th></th>\n",
       "      <th>timestamp</th>\n",
       "      <th>date_GMT</th>\n",
       "      <th>status</th>\n",
       "      <th>attendance</th>\n",
       "      <th>home_team_name</th>\n",
       "      <th>away_team_name</th>\n",
       "      <th>referee</th>\n",
       "      <th>Game Week</th>\n",
       "      <th>Pre-Match PPG (Home)</th>\n",
       "      <th>Pre-Match PPG (Away)</th>\n",
       "      <th>...</th>\n",
       "      <th>odds_ft_home_team_win</th>\n",
       "      <th>odds_ft_draw</th>\n",
       "      <th>odds_ft_away_team_win</th>\n",
       "      <th>odds_ft_over15</th>\n",
       "      <th>odds_ft_over25</th>\n",
       "      <th>odds_ft_over35</th>\n",
       "      <th>odds_ft_over45</th>\n",
       "      <th>odds_btts_yes</th>\n",
       "      <th>odds_btts_no</th>\n",
       "      <th>stadium_name</th>\n",
       "    </tr>\n",
       "  </thead>\n",
       "  <tbody>\n",
       "    <tr>\n",
       "      <th>0</th>\n",
       "      <td>1533927600</td>\n",
       "      <td>Aug 10 2018 - 7:00pm</td>\n",
       "      <td>complete</td>\n",
       "      <td>74439</td>\n",
       "      <td>Manchester United</td>\n",
       "      <td>Leicester City</td>\n",
       "      <td>Andre Marriner</td>\n",
       "      <td>1</td>\n",
       "      <td>0.0</td>\n",
       "      <td>0.0</td>\n",
       "      <td>...</td>\n",
       "      <td>1.37</td>\n",
       "      <td>4.98</td>\n",
       "      <td>9.81</td>\n",
       "      <td>1.33</td>\n",
       "      <td>2.00</td>\n",
       "      <td>3.60</td>\n",
       "      <td>7.50</td>\n",
       "      <td>2.05</td>\n",
       "      <td>1.69</td>\n",
       "      <td>Old Trafford (Manchester)</td>\n",
       "    </tr>\n",
       "    <tr>\n",
       "      <th>1</th>\n",
       "      <td>1533987000</td>\n",
       "      <td>Aug 11 2018 - 11:30am</td>\n",
       "      <td>complete</td>\n",
       "      <td>51749</td>\n",
       "      <td>Newcastle United</td>\n",
       "      <td>Tottenham Hotspur</td>\n",
       "      <td>Martin Atkinson</td>\n",
       "      <td>1</td>\n",
       "      <td>0.0</td>\n",
       "      <td>0.0</td>\n",
       "      <td>...</td>\n",
       "      <td>4.51</td>\n",
       "      <td>3.77</td>\n",
       "      <td>1.84</td>\n",
       "      <td>1.31</td>\n",
       "      <td>1.95</td>\n",
       "      <td>3.50</td>\n",
       "      <td>5.75</td>\n",
       "      <td>1.83</td>\n",
       "      <td>1.87</td>\n",
       "      <td>St. James' Park (Newcastle upon Tyne)</td>\n",
       "    </tr>\n",
       "    <tr>\n",
       "      <th>2</th>\n",
       "      <td>1533996000</td>\n",
       "      <td>Aug 11 2018 - 2:00pm</td>\n",
       "      <td>complete</td>\n",
       "      <td>10353</td>\n",
       "      <td>AFC Bournemouth</td>\n",
       "      <td>Cardiff City</td>\n",
       "      <td>Kevin Friend</td>\n",
       "      <td>1</td>\n",
       "      <td>0.0</td>\n",
       "      <td>0.0</td>\n",
       "      <td>...</td>\n",
       "      <td>2.03</td>\n",
       "      <td>3.51</td>\n",
       "      <td>3.96</td>\n",
       "      <td>1.31</td>\n",
       "      <td>1.95</td>\n",
       "      <td>3.45</td>\n",
       "      <td>6.70</td>\n",
       "      <td>1.83</td>\n",
       "      <td>1.83</td>\n",
       "      <td>Vitality Stadium (Bournemouth- Dorset)</td>\n",
       "    </tr>\n",
       "    <tr>\n",
       "      <th>3</th>\n",
       "      <td>1533996000</td>\n",
       "      <td>Aug 11 2018 - 2:00pm</td>\n",
       "      <td>complete</td>\n",
       "      <td>24821</td>\n",
       "      <td>Fulham</td>\n",
       "      <td>Crystal Palace</td>\n",
       "      <td>Mike Dean</td>\n",
       "      <td>1</td>\n",
       "      <td>0.0</td>\n",
       "      <td>0.0</td>\n",
       "      <td>...</td>\n",
       "      <td>2.31</td>\n",
       "      <td>3.44</td>\n",
       "      <td>3.26</td>\n",
       "      <td>1.28</td>\n",
       "      <td>1.87</td>\n",
       "      <td>3.20</td>\n",
       "      <td>7.00</td>\n",
       "      <td>1.71</td>\n",
       "      <td>2.00</td>\n",
       "      <td>Craven Cottage (London)</td>\n",
       "    </tr>\n",
       "    <tr>\n",
       "      <th>4</th>\n",
       "      <td>1533996000</td>\n",
       "      <td>Aug 11 2018 - 2:00pm</td>\n",
       "      <td>complete</td>\n",
       "      <td>24121</td>\n",
       "      <td>Huddersfield Town</td>\n",
       "      <td>Chelsea</td>\n",
       "      <td>Chris Kavanagh</td>\n",
       "      <td>1</td>\n",
       "      <td>0.0</td>\n",
       "      <td>0.0</td>\n",
       "      <td>...</td>\n",
       "      <td>7.47</td>\n",
       "      <td>4.27</td>\n",
       "      <td>1.51</td>\n",
       "      <td>1.29</td>\n",
       "      <td>1.91</td>\n",
       "      <td>3.30</td>\n",
       "      <td>6.95</td>\n",
       "      <td>2.00</td>\n",
       "      <td>1.71</td>\n",
       "      <td>John Smith's Stadium (Huddersfield- West Yorks...</td>\n",
       "    </tr>\n",
       "  </tbody>\n",
       "</table>\n",
       "<p>5 rows × 64 columns</p>\n",
       "</div>"
      ],
      "text/plain": [
       "    timestamp               date_GMT    status  attendance     home_team_name  \\\n",
       "0  1533927600   Aug 10 2018 - 7:00pm  complete       74439  Manchester United   \n",
       "1  1533987000  Aug 11 2018 - 11:30am  complete       51749   Newcastle United   \n",
       "2  1533996000   Aug 11 2018 - 2:00pm  complete       10353    AFC Bournemouth   \n",
       "3  1533996000   Aug 11 2018 - 2:00pm  complete       24821             Fulham   \n",
       "4  1533996000   Aug 11 2018 - 2:00pm  complete       24121  Huddersfield Town   \n",
       "\n",
       "      away_team_name          referee  Game Week  Pre-Match PPG (Home)  \\\n",
       "0     Leicester City   Andre Marriner          1                   0.0   \n",
       "1  Tottenham Hotspur  Martin Atkinson          1                   0.0   \n",
       "2       Cardiff City     Kevin Friend          1                   0.0   \n",
       "3     Crystal Palace        Mike Dean          1                   0.0   \n",
       "4            Chelsea   Chris Kavanagh          1                   0.0   \n",
       "\n",
       "   Pre-Match PPG (Away)  ...  odds_ft_home_team_win  odds_ft_draw  \\\n",
       "0                   0.0  ...                   1.37          4.98   \n",
       "1                   0.0  ...                   4.51          3.77   \n",
       "2                   0.0  ...                   2.03          3.51   \n",
       "3                   0.0  ...                   2.31          3.44   \n",
       "4                   0.0  ...                   7.47          4.27   \n",
       "\n",
       "   odds_ft_away_team_win  odds_ft_over15  odds_ft_over25  odds_ft_over35  \\\n",
       "0                   9.81            1.33            2.00            3.60   \n",
       "1                   1.84            1.31            1.95            3.50   \n",
       "2                   3.96            1.31            1.95            3.45   \n",
       "3                   3.26            1.28            1.87            3.20   \n",
       "4                   1.51            1.29            1.91            3.30   \n",
       "\n",
       "   odds_ft_over45  odds_btts_yes odds_btts_no  \\\n",
       "0            7.50           2.05         1.69   \n",
       "1            5.75           1.83         1.87   \n",
       "2            6.70           1.83         1.83   \n",
       "3            7.00           1.71         2.00   \n",
       "4            6.95           2.00         1.71   \n",
       "\n",
       "                                        stadium_name  \n",
       "0                          Old Trafford (Manchester)  \n",
       "1              St. James' Park (Newcastle upon Tyne)  \n",
       "2             Vitality Stadium (Bournemouth- Dorset)  \n",
       "3                            Craven Cottage (London)  \n",
       "4  John Smith's Stadium (Huddersfield- West Yorks...  \n",
       "\n",
       "[5 rows x 64 columns]"
      ]
     },
     "execution_count": 7,
     "metadata": {},
     "output_type": "execute_result"
    }
   ],
   "source": [
    "# The head() method outputs the five first rows of the data set\n",
    "df.head()"
   ]
  },
  {
   "cell_type": "markdown",
   "metadata": {},
   "source": [
    "<br>\n",
    "\n",
    "There are 64 columns in the dataframe, each representing a different variable associated with each of the 380 matches played during the season. I am interested only in 4 variables (listed above) for the purposes of this project. Directly below, I use the `list` function to output each column header. This gives me a better picture of which ones I need to retain and which ones I will discard. I found the code for this on geeksforgeeks.org [2]."
   ]
  },
  {
   "cell_type": "code",
   "execution_count": 8,
   "metadata": {},
   "outputs": [
    {
     "data": {
      "text/plain": [
       "['timestamp',\n",
       " 'date_GMT',\n",
       " 'status',\n",
       " 'attendance',\n",
       " 'home_team_name',\n",
       " 'away_team_name',\n",
       " 'referee',\n",
       " 'Game Week',\n",
       " 'Pre-Match PPG (Home)',\n",
       " 'Pre-Match PPG (Away)',\n",
       " 'home_ppg',\n",
       " 'away_ppg',\n",
       " 'home_team_goal_count',\n",
       " 'away_team_goal_count',\n",
       " 'total_goal_count',\n",
       " 'total_goals_at_half_time',\n",
       " 'home_team_goal_count_half_time',\n",
       " 'away_team_goal_count_half_time',\n",
       " 'home_team_goal_timings',\n",
       " 'away_team_goal_timings',\n",
       " 'home_team_corner_count',\n",
       " 'away_team_corner_count',\n",
       " 'home_team_yellow_cards',\n",
       " 'home_team_red_cards',\n",
       " 'away_team_yellow_cards',\n",
       " 'away_team_red_cards',\n",
       " 'home_team_first_half_cards',\n",
       " 'home_team_second_half_cards',\n",
       " 'away_team_first_half_cards',\n",
       " 'away_team_second_half_cards',\n",
       " 'home_team_shots',\n",
       " 'away_team_shots',\n",
       " 'home_team_shots_on_target',\n",
       " 'away_team_shots_on_target',\n",
       " 'home_team_shots_off_target',\n",
       " 'away_team_shots_off_target',\n",
       " 'home_team_fouls',\n",
       " 'away_team_fouls',\n",
       " 'home_team_possession',\n",
       " 'away_team_possession',\n",
       " 'team_a_xg',\n",
       " 'team_b_xg',\n",
       " 'average_goals_per_match_pre_match',\n",
       " 'btts_percentage_pre_match',\n",
       " 'over_15_percentage_pre_match',\n",
       " 'over_25_percentage_pre_match',\n",
       " 'over_35_percentage_pre_match',\n",
       " 'over_45_percentage_pre_match',\n",
       " 'over_15_HT_FHG_percentage_pre_match',\n",
       " 'over_05_HT_FHG_percentage_pre_match',\n",
       " 'over_15_2HG_percentage_pre_match',\n",
       " 'over_05_2HG_percentage_pre_match',\n",
       " 'average_corners_per_match_pre_match',\n",
       " 'average_cards_per_match_pre_match',\n",
       " 'odds_ft_home_team_win',\n",
       " 'odds_ft_draw',\n",
       " 'odds_ft_away_team_win',\n",
       " 'odds_ft_over15',\n",
       " 'odds_ft_over25',\n",
       " 'odds_ft_over35',\n",
       " 'odds_ft_over45',\n",
       " 'odds_btts_yes',\n",
       " 'odds_btts_no',\n",
       " 'stadium_name']"
      ]
     },
     "execution_count": 8,
     "metadata": {},
     "output_type": "execute_result"
    }
   ],
   "source": [
    "# Create a list of every column header\n",
    "list(df.columns)"
   ]
  },
  {
   "cell_type": "markdown",
   "metadata": {},
   "source": [
    "As detailed above, I am interested in simulating premier league results of the home team for a full season based on 4 variables: Goals scored, Possession, Shots and Result. \n",
    "<br>\n",
    "\n"
   ]
  },
  {
   "cell_type": "markdown",
   "metadata": {},
   "source": [
    "### 2.2 Aggregation\n",
    "\n",
    "<br>\n",
    "\n",
    "First, I set about aggregating the data set so that it contains all the columns relevant to the current project. The dependent variable (result) does not have its own column in the original data set so I will need to create this. In order to do that, I include the 'away_team_goal_count' in the dataframe below:"
   ]
  },
  {
   "cell_type": "code",
   "execution_count": 9,
   "metadata": {},
   "outputs": [
    {
     "data": {
      "text/html": [
       "<div>\n",
       "<style scoped>\n",
       "    .dataframe tbody tr th:only-of-type {\n",
       "        vertical-align: middle;\n",
       "    }\n",
       "\n",
       "    .dataframe tbody tr th {\n",
       "        vertical-align: top;\n",
       "    }\n",
       "\n",
       "    .dataframe thead th {\n",
       "        text-align: right;\n",
       "    }\n",
       "</style>\n",
       "<table border=\"1\" class=\"dataframe\">\n",
       "  <thead>\n",
       "    <tr style=\"text-align: right;\">\n",
       "      <th></th>\n",
       "      <th>away_team_goal_count</th>\n",
       "      <th>home_team_goal_count</th>\n",
       "      <th>home_team_possession</th>\n",
       "      <th>home_team_shots</th>\n",
       "    </tr>\n",
       "  </thead>\n",
       "  <tbody>\n",
       "    <tr>\n",
       "      <th>0</th>\n",
       "      <td>1</td>\n",
       "      <td>2</td>\n",
       "      <td>46</td>\n",
       "      <td>8</td>\n",
       "    </tr>\n",
       "    <tr>\n",
       "      <th>1</th>\n",
       "      <td>2</td>\n",
       "      <td>1</td>\n",
       "      <td>40</td>\n",
       "      <td>11</td>\n",
       "    </tr>\n",
       "    <tr>\n",
       "      <th>2</th>\n",
       "      <td>0</td>\n",
       "      <td>2</td>\n",
       "      <td>62</td>\n",
       "      <td>11</td>\n",
       "    </tr>\n",
       "    <tr>\n",
       "      <th>3</th>\n",
       "      <td>2</td>\n",
       "      <td>0</td>\n",
       "      <td>66</td>\n",
       "      <td>11</td>\n",
       "    </tr>\n",
       "    <tr>\n",
       "      <th>4</th>\n",
       "      <td>3</td>\n",
       "      <td>0</td>\n",
       "      <td>37</td>\n",
       "      <td>6</td>\n",
       "    </tr>\n",
       "    <tr>\n",
       "      <th>...</th>\n",
       "      <td>...</td>\n",
       "      <td>...</td>\n",
       "      <td>...</td>\n",
       "      <td>...</td>\n",
       "    </tr>\n",
       "    <tr>\n",
       "      <th>375</th>\n",
       "      <td>0</td>\n",
       "      <td>2</td>\n",
       "      <td>59</td>\n",
       "      <td>11</td>\n",
       "    </tr>\n",
       "    <tr>\n",
       "      <th>376</th>\n",
       "      <td>2</td>\n",
       "      <td>0</td>\n",
       "      <td>73</td>\n",
       "      <td>21</td>\n",
       "    </tr>\n",
       "    <tr>\n",
       "      <th>377</th>\n",
       "      <td>1</td>\n",
       "      <td>1</td>\n",
       "      <td>53</td>\n",
       "      <td>7</td>\n",
       "    </tr>\n",
       "    <tr>\n",
       "      <th>378</th>\n",
       "      <td>2</td>\n",
       "      <td>2</td>\n",
       "      <td>55</td>\n",
       "      <td>9</td>\n",
       "    </tr>\n",
       "    <tr>\n",
       "      <th>379</th>\n",
       "      <td>4</td>\n",
       "      <td>1</td>\n",
       "      <td>48</td>\n",
       "      <td>11</td>\n",
       "    </tr>\n",
       "  </tbody>\n",
       "</table>\n",
       "<p>380 rows × 4 columns</p>\n",
       "</div>"
      ],
      "text/plain": [
       "     away_team_goal_count  home_team_goal_count  home_team_possession  \\\n",
       "0                       1                     2                    46   \n",
       "1                       2                     1                    40   \n",
       "2                       0                     2                    62   \n",
       "3                       2                     0                    66   \n",
       "4                       3                     0                    37   \n",
       "..                    ...                   ...                   ...   \n",
       "375                     0                     2                    59   \n",
       "376                     2                     0                    73   \n",
       "377                     1                     1                    53   \n",
       "378                     2                     2                    55   \n",
       "379                     4                     1                    48   \n",
       "\n",
       "     home_team_shots  \n",
       "0                  8  \n",
       "1                 11  \n",
       "2                 11  \n",
       "3                 11  \n",
       "4                  6  \n",
       "..               ...  \n",
       "375               11  \n",
       "376               21  \n",
       "377                7  \n",
       "378                9  \n",
       "379               11  \n",
       "\n",
       "[380 rows x 4 columns]"
      ]
     },
     "execution_count": 9,
     "metadata": {},
     "output_type": "execute_result"
    }
   ],
   "source": [
    "# Create dataframe with relevant variables\n",
    "df1 = df[[\"away_team_goal_count\", \"home_team_goal_count\", \"home_team_possession\", \"home_team_shots\"]]\n",
    "df1         "
   ]
  },
  {
   "cell_type": "markdown",
   "metadata": {},
   "source": [
    "<br>\n",
    "\n"
   ]
  },
  {
   "cell_type": "markdown",
   "metadata": {},
   "source": [
    "In order to create and fill the result column, I use the code below. The `np.where()` function enables us to compare values in different columns. There is some useful information available online for this function [3], [4]. I create a new column called 'home_team_result' and assign a value to each row: W = win, L = lose, D = draw\n",
    "\n",
    "**note: this operation raises a SettingWithCopyWarning. I have checked the documentation and many discussions and blog posts about this but have not managed to find a solution to date**\n"
   ]
  },
  {
   "cell_type": "code",
   "execution_count": 10,
   "metadata": {
    "scrolled": true
   },
   "outputs": [
    {
     "name": "stderr",
     "output_type": "stream",
     "text": [
      "<ipython-input-10-27f1615fb517>:1: SettingWithCopyWarning: \n",
      "A value is trying to be set on a copy of a slice from a DataFrame.\n",
      "Try using .loc[row_indexer,col_indexer] = value instead\n",
      "\n",
      "See the caveats in the documentation: https://pandas.pydata.org/pandas-docs/stable/user_guide/indexing.html#returning-a-view-versus-a-copy\n",
      "  df1['home_team_result'] = np.where(df1['away_team_goal_count'] < df1['home_team_goal_count'], 'W',\n"
     ]
    }
   ],
   "source": [
    "df1['home_team_result'] = np.where(df1['away_team_goal_count'] < df1['home_team_goal_count'], 'W', \n",
    "         (np.where(df1['away_team_goal_count'] == df1['home_team_goal_count'], 'D', 'L')))\n"
   ]
  },
  {
   "cell_type": "code",
   "execution_count": 11,
   "metadata": {},
   "outputs": [
    {
     "data": {
      "text/html": [
       "<div>\n",
       "<style scoped>\n",
       "    .dataframe tbody tr th:only-of-type {\n",
       "        vertical-align: middle;\n",
       "    }\n",
       "\n",
       "    .dataframe tbody tr th {\n",
       "        vertical-align: top;\n",
       "    }\n",
       "\n",
       "    .dataframe thead th {\n",
       "        text-align: right;\n",
       "    }\n",
       "</style>\n",
       "<table border=\"1\" class=\"dataframe\">\n",
       "  <thead>\n",
       "    <tr style=\"text-align: right;\">\n",
       "      <th></th>\n",
       "      <th>away_team_goal_count</th>\n",
       "      <th>home_team_goal_count</th>\n",
       "      <th>home_team_possession</th>\n",
       "      <th>home_team_shots</th>\n",
       "      <th>home_team_result</th>\n",
       "    </tr>\n",
       "  </thead>\n",
       "  <tbody>\n",
       "    <tr>\n",
       "      <th>0</th>\n",
       "      <td>1</td>\n",
       "      <td>2</td>\n",
       "      <td>46</td>\n",
       "      <td>8</td>\n",
       "      <td>W</td>\n",
       "    </tr>\n",
       "    <tr>\n",
       "      <th>1</th>\n",
       "      <td>2</td>\n",
       "      <td>1</td>\n",
       "      <td>40</td>\n",
       "      <td>11</td>\n",
       "      <td>L</td>\n",
       "    </tr>\n",
       "    <tr>\n",
       "      <th>2</th>\n",
       "      <td>0</td>\n",
       "      <td>2</td>\n",
       "      <td>62</td>\n",
       "      <td>11</td>\n",
       "      <td>W</td>\n",
       "    </tr>\n",
       "    <tr>\n",
       "      <th>3</th>\n",
       "      <td>2</td>\n",
       "      <td>0</td>\n",
       "      <td>66</td>\n",
       "      <td>11</td>\n",
       "      <td>L</td>\n",
       "    </tr>\n",
       "    <tr>\n",
       "      <th>4</th>\n",
       "      <td>3</td>\n",
       "      <td>0</td>\n",
       "      <td>37</td>\n",
       "      <td>6</td>\n",
       "      <td>L</td>\n",
       "    </tr>\n",
       "    <tr>\n",
       "      <th>...</th>\n",
       "      <td>...</td>\n",
       "      <td>...</td>\n",
       "      <td>...</td>\n",
       "      <td>...</td>\n",
       "      <td>...</td>\n",
       "    </tr>\n",
       "    <tr>\n",
       "      <th>375</th>\n",
       "      <td>0</td>\n",
       "      <td>2</td>\n",
       "      <td>59</td>\n",
       "      <td>11</td>\n",
       "      <td>W</td>\n",
       "    </tr>\n",
       "    <tr>\n",
       "      <th>376</th>\n",
       "      <td>2</td>\n",
       "      <td>0</td>\n",
       "      <td>73</td>\n",
       "      <td>21</td>\n",
       "      <td>L</td>\n",
       "    </tr>\n",
       "    <tr>\n",
       "      <th>377</th>\n",
       "      <td>1</td>\n",
       "      <td>1</td>\n",
       "      <td>53</td>\n",
       "      <td>7</td>\n",
       "      <td>D</td>\n",
       "    </tr>\n",
       "    <tr>\n",
       "      <th>378</th>\n",
       "      <td>2</td>\n",
       "      <td>2</td>\n",
       "      <td>55</td>\n",
       "      <td>9</td>\n",
       "      <td>D</td>\n",
       "    </tr>\n",
       "    <tr>\n",
       "      <th>379</th>\n",
       "      <td>4</td>\n",
       "      <td>1</td>\n",
       "      <td>48</td>\n",
       "      <td>11</td>\n",
       "      <td>L</td>\n",
       "    </tr>\n",
       "  </tbody>\n",
       "</table>\n",
       "<p>380 rows × 5 columns</p>\n",
       "</div>"
      ],
      "text/plain": [
       "     away_team_goal_count  home_team_goal_count  home_team_possession  \\\n",
       "0                       1                     2                    46   \n",
       "1                       2                     1                    40   \n",
       "2                       0                     2                    62   \n",
       "3                       2                     0                    66   \n",
       "4                       3                     0                    37   \n",
       "..                    ...                   ...                   ...   \n",
       "375                     0                     2                    59   \n",
       "376                     2                     0                    73   \n",
       "377                     1                     1                    53   \n",
       "378                     2                     2                    55   \n",
       "379                     4                     1                    48   \n",
       "\n",
       "     home_team_shots home_team_result  \n",
       "0                  8                W  \n",
       "1                 11                L  \n",
       "2                 11                W  \n",
       "3                 11                L  \n",
       "4                  6                L  \n",
       "..               ...              ...  \n",
       "375               11                W  \n",
       "376               21                L  \n",
       "377                7                D  \n",
       "378                9                D  \n",
       "379               11                L  \n",
       "\n",
       "[380 rows x 5 columns]"
      ]
     },
     "execution_count": 11,
     "metadata": {},
     "output_type": "execute_result"
    }
   ],
   "source": [
    "df1"
   ]
  },
  {
   "cell_type": "markdown",
   "metadata": {},
   "source": [
    "<br>\n",
    "\n"
   ]
  },
  {
   "cell_type": "markdown",
   "metadata": {},
   "source": [
    "The 'away_team_goal_count' column is no longer relevant for the purposes of the project so I delete that column:"
   ]
  },
  {
   "cell_type": "code",
   "execution_count": 12,
   "metadata": {},
   "outputs": [],
   "source": [
    "# Delete superfluous column\n",
    "del df1[\"away_team_goal_count\"]"
   ]
  },
  {
   "cell_type": "code",
   "execution_count": 13,
   "metadata": {},
   "outputs": [
    {
     "data": {
      "text/html": [
       "<div>\n",
       "<style scoped>\n",
       "    .dataframe tbody tr th:only-of-type {\n",
       "        vertical-align: middle;\n",
       "    }\n",
       "\n",
       "    .dataframe tbody tr th {\n",
       "        vertical-align: top;\n",
       "    }\n",
       "\n",
       "    .dataframe thead th {\n",
       "        text-align: right;\n",
       "    }\n",
       "</style>\n",
       "<table border=\"1\" class=\"dataframe\">\n",
       "  <thead>\n",
       "    <tr style=\"text-align: right;\">\n",
       "      <th></th>\n",
       "      <th>home_team_goal_count</th>\n",
       "      <th>home_team_possession</th>\n",
       "      <th>home_team_shots</th>\n",
       "      <th>home_team_result</th>\n",
       "    </tr>\n",
       "  </thead>\n",
       "  <tbody>\n",
       "    <tr>\n",
       "      <th>0</th>\n",
       "      <td>2</td>\n",
       "      <td>46</td>\n",
       "      <td>8</td>\n",
       "      <td>W</td>\n",
       "    </tr>\n",
       "    <tr>\n",
       "      <th>1</th>\n",
       "      <td>1</td>\n",
       "      <td>40</td>\n",
       "      <td>11</td>\n",
       "      <td>L</td>\n",
       "    </tr>\n",
       "    <tr>\n",
       "      <th>2</th>\n",
       "      <td>2</td>\n",
       "      <td>62</td>\n",
       "      <td>11</td>\n",
       "      <td>W</td>\n",
       "    </tr>\n",
       "    <tr>\n",
       "      <th>3</th>\n",
       "      <td>0</td>\n",
       "      <td>66</td>\n",
       "      <td>11</td>\n",
       "      <td>L</td>\n",
       "    </tr>\n",
       "    <tr>\n",
       "      <th>4</th>\n",
       "      <td>0</td>\n",
       "      <td>37</td>\n",
       "      <td>6</td>\n",
       "      <td>L</td>\n",
       "    </tr>\n",
       "    <tr>\n",
       "      <th>...</th>\n",
       "      <td>...</td>\n",
       "      <td>...</td>\n",
       "      <td>...</td>\n",
       "      <td>...</td>\n",
       "    </tr>\n",
       "    <tr>\n",
       "      <th>375</th>\n",
       "      <td>2</td>\n",
       "      <td>59</td>\n",
       "      <td>11</td>\n",
       "      <td>W</td>\n",
       "    </tr>\n",
       "    <tr>\n",
       "      <th>376</th>\n",
       "      <td>0</td>\n",
       "      <td>73</td>\n",
       "      <td>21</td>\n",
       "      <td>L</td>\n",
       "    </tr>\n",
       "    <tr>\n",
       "      <th>377</th>\n",
       "      <td>1</td>\n",
       "      <td>53</td>\n",
       "      <td>7</td>\n",
       "      <td>D</td>\n",
       "    </tr>\n",
       "    <tr>\n",
       "      <th>378</th>\n",
       "      <td>2</td>\n",
       "      <td>55</td>\n",
       "      <td>9</td>\n",
       "      <td>D</td>\n",
       "    </tr>\n",
       "    <tr>\n",
       "      <th>379</th>\n",
       "      <td>1</td>\n",
       "      <td>48</td>\n",
       "      <td>11</td>\n",
       "      <td>L</td>\n",
       "    </tr>\n",
       "  </tbody>\n",
       "</table>\n",
       "<p>380 rows × 4 columns</p>\n",
       "</div>"
      ],
      "text/plain": [
       "     home_team_goal_count  home_team_possession  home_team_shots  \\\n",
       "0                       2                    46                8   \n",
       "1                       1                    40               11   \n",
       "2                       2                    62               11   \n",
       "3                       0                    66               11   \n",
       "4                       0                    37                6   \n",
       "..                    ...                   ...              ...   \n",
       "375                     2                    59               11   \n",
       "376                     0                    73               21   \n",
       "377                     1                    53                7   \n",
       "378                     2                    55                9   \n",
       "379                     1                    48               11   \n",
       "\n",
       "    home_team_result  \n",
       "0                  W  \n",
       "1                  L  \n",
       "2                  W  \n",
       "3                  L  \n",
       "4                  L  \n",
       "..               ...  \n",
       "375                W  \n",
       "376                L  \n",
       "377                D  \n",
       "378                D  \n",
       "379                L  \n",
       "\n",
       "[380 rows x 4 columns]"
      ]
     },
     "execution_count": 13,
     "metadata": {},
     "output_type": "execute_result"
    }
   ],
   "source": [
    "# Output dataframe with desired variables\n",
    "df1"
   ]
  },
  {
   "cell_type": "markdown",
   "metadata": {},
   "source": [
    "<br>"
   ]
  },
  {
   "cell_type": "markdown",
   "metadata": {},
   "source": [
    "### 2.2 Variable relationships and properties\n",
    "\n",
    "<br>"
   ]
  },
  {
   "cell_type": "markdown",
   "metadata": {},
   "source": [
    "Now that I have the 4 variables I am interested in, I investigate the properties of each one and their relationships with each other. \n",
    "<br> \n",
    "\n",
    "In this section, I split my dataframe into 3 separate dataframes, one will contain all of the data for when the home team won, another for when they lost and other for when the result was a draw. This is executed using code I sourced on stackoverflow.com [5]. \n",
    "\n",
    "Analysis will be done on each of these three subsets and then compared with each other. First, I investigate variables when the result was a win.\n",
    "<br>"
   ]
  },
  {
   "cell_type": "markdown",
   "metadata": {},
   "source": [
    "<br>\n",
    "\n",
    "#### 2.2.1 Win dataset\n",
    "\n",
    "Below, I investigate the data for when the home team won the match"
   ]
  },
  {
   "cell_type": "markdown",
   "metadata": {},
   "source": [
    "<br>"
   ]
  },
  {
   "cell_type": "code",
   "execution_count": 14,
   "metadata": {},
   "outputs": [
    {
     "data": {
      "text/html": [
       "<div>\n",
       "<style scoped>\n",
       "    .dataframe tbody tr th:only-of-type {\n",
       "        vertical-align: middle;\n",
       "    }\n",
       "\n",
       "    .dataframe tbody tr th {\n",
       "        vertical-align: top;\n",
       "    }\n",
       "\n",
       "    .dataframe thead th {\n",
       "        text-align: right;\n",
       "    }\n",
       "</style>\n",
       "<table border=\"1\" class=\"dataframe\">\n",
       "  <thead>\n",
       "    <tr style=\"text-align: right;\">\n",
       "      <th></th>\n",
       "      <th>home_team_goal_count</th>\n",
       "      <th>home_team_possession</th>\n",
       "      <th>home_team_shots</th>\n",
       "      <th>home_team_result</th>\n",
       "    </tr>\n",
       "  </thead>\n",
       "  <tbody>\n",
       "    <tr>\n",
       "      <th>0</th>\n",
       "      <td>2</td>\n",
       "      <td>46</td>\n",
       "      <td>8</td>\n",
       "      <td>W</td>\n",
       "    </tr>\n",
       "    <tr>\n",
       "      <th>2</th>\n",
       "      <td>2</td>\n",
       "      <td>62</td>\n",
       "      <td>11</td>\n",
       "      <td>W</td>\n",
       "    </tr>\n",
       "    <tr>\n",
       "      <th>5</th>\n",
       "      <td>2</td>\n",
       "      <td>53</td>\n",
       "      <td>15</td>\n",
       "      <td>W</td>\n",
       "    </tr>\n",
       "    <tr>\n",
       "      <th>7</th>\n",
       "      <td>4</td>\n",
       "      <td>64</td>\n",
       "      <td>16</td>\n",
       "      <td>W</td>\n",
       "    </tr>\n",
       "    <tr>\n",
       "      <th>11</th>\n",
       "      <td>2</td>\n",
       "      <td>58</td>\n",
       "      <td>11</td>\n",
       "      <td>W</td>\n",
       "    </tr>\n",
       "    <tr>\n",
       "      <th>...</th>\n",
       "      <td>...</td>\n",
       "      <td>...</td>\n",
       "      <td>...</td>\n",
       "      <td>...</td>\n",
       "    </tr>\n",
       "    <tr>\n",
       "      <th>363</th>\n",
       "      <td>1</td>\n",
       "      <td>39</td>\n",
       "      <td>16</td>\n",
       "      <td>W</td>\n",
       "    </tr>\n",
       "    <tr>\n",
       "      <th>366</th>\n",
       "      <td>3</td>\n",
       "      <td>58</td>\n",
       "      <td>16</td>\n",
       "      <td>W</td>\n",
       "    </tr>\n",
       "    <tr>\n",
       "      <th>369</th>\n",
       "      <td>1</td>\n",
       "      <td>61</td>\n",
       "      <td>16</td>\n",
       "      <td>W</td>\n",
       "    </tr>\n",
       "    <tr>\n",
       "      <th>372</th>\n",
       "      <td>5</td>\n",
       "      <td>45</td>\n",
       "      <td>16</td>\n",
       "      <td>W</td>\n",
       "    </tr>\n",
       "    <tr>\n",
       "      <th>375</th>\n",
       "      <td>2</td>\n",
       "      <td>59</td>\n",
       "      <td>11</td>\n",
       "      <td>W</td>\n",
       "    </tr>\n",
       "  </tbody>\n",
       "</table>\n",
       "<p>181 rows × 4 columns</p>\n",
       "</div>"
      ],
      "text/plain": [
       "     home_team_goal_count  home_team_possession  home_team_shots  \\\n",
       "0                       2                    46                8   \n",
       "2                       2                    62               11   \n",
       "5                       2                    53               15   \n",
       "7                       4                    64               16   \n",
       "11                      2                    58               11   \n",
       "..                    ...                   ...              ...   \n",
       "363                     1                    39               16   \n",
       "366                     3                    58               16   \n",
       "369                     1                    61               16   \n",
       "372                     5                    45               16   \n",
       "375                     2                    59               11   \n",
       "\n",
       "    home_team_result  \n",
       "0                  W  \n",
       "2                  W  \n",
       "5                  W  \n",
       "7                  W  \n",
       "11                 W  \n",
       "..               ...  \n",
       "363                W  \n",
       "366                W  \n",
       "369                W  \n",
       "372                W  \n",
       "375                W  \n",
       "\n",
       "[181 rows x 4 columns]"
      ]
     },
     "execution_count": 14,
     "metadata": {},
     "output_type": "execute_result"
    }
   ],
   "source": [
    "# Split dataframe based on result (wins)\n",
    "win_only = df1.loc[df1['home_team_result'] == 'W']\n",
    "win_only"
   ]
  },
  {
   "cell_type": "markdown",
   "metadata": {},
   "source": [
    "<br>\n",
    "\n"
   ]
  },
  {
   "cell_type": "markdown",
   "metadata": {},
   "source": [
    "Create series of home team goal count data only and output a summary description using `describe()`:"
   ]
  },
  {
   "cell_type": "code",
   "execution_count": 15,
   "metadata": {},
   "outputs": [
    {
     "data": {
      "text/plain": [
       "count    181.000000\n",
       "mean       2.535912\n",
       "std        1.132884\n",
       "min        1.000000\n",
       "25%        2.000000\n",
       "50%        2.000000\n",
       "75%        3.000000\n",
       "max        6.000000\n",
       "Name: home_team_goal_count, dtype: float64"
      ]
     },
     "execution_count": 15,
     "metadata": {},
     "output_type": "execute_result"
    }
   ],
   "source": [
    "# Create series with home team goal count data only\n",
    "win_goals = win_only['home_team_goal_count']\n",
    "\n",
    "# Summary of goal count data\n",
    "win_goals.describe()"
   ]
  },
  {
   "cell_type": "markdown",
   "metadata": {},
   "source": [
    "<br>\n",
    "\n"
   ]
  },
  {
   "cell_type": "markdown",
   "metadata": {},
   "source": [
    "Next, I plot this data on a bar chart in order to get a visualisation of the distribution. The `value_counts` function counts the unique values in a single column [6], while `sort_index` sorts these values [7]. We now have an overall view of the distribution of number of goals the winning team scored."
   ]
  },
  {
   "cell_type": "code",
   "execution_count": 16,
   "metadata": {},
   "outputs": [
    {
     "data": {
      "text/plain": [
       "<matplotlib.axes._subplots.AxesSubplot at 0x2e157602220>"
      ]
     },
     "execution_count": 16,
     "metadata": {},
     "output_type": "execute_result"
    },
    {
     "data": {
      "image/png": "[encoded data removed]",
      "text/plain": [
       "<Figure size 432x288 with 1 Axes>"
      ]
     },
     "metadata": {
      "needs_background": "light"
     },
     "output_type": "display_data"
    }
   ],
   "source": [
    "# Create series containing count of number of goals scored\n",
    "win_goals_distribution = win_only['home_team_goal_count'].value_counts()\n",
    "\n",
    "# Sort values\n",
    "win_goals_distribution = win_goals_distribution.sort_index()\n",
    "\n",
    "# Plot on a bar chart\n",
    "win_goals_distribution.plot(kind='bar')"
   ]
  },
  {
   "cell_type": "code",
   "execution_count": 43,
   "metadata": {},
   "outputs": [
    {
     "data": {
      "text/plain": [
       "1    29\n",
       "2    73\n",
       "3    46\n",
       "4    22\n",
       "5     8\n",
       "6     3\n",
       "Name: home_team_goal_count, dtype: int64"
      ]
     },
     "execution_count": 43,
     "metadata": {},
     "output_type": "execute_result"
    }
   ],
   "source": [
    "win_goals_distribution"
   ]
  },
  {
   "cell_type": "code",
   "execution_count": 44,
   "metadata": {},
   "outputs": [],
   "source": [
    "one = 29/181\n",
    "two = 73/181\n",
    "three = 46/181\n",
    "four = 22/181\n",
    "five = 8/181\n",
    "six = 3/181"
   ]
  },
  {
   "cell_type": "code",
   "execution_count": 45,
   "metadata": {},
   "outputs": [
    {
     "data": {
      "text/plain": [
       "0.16022099447513813"
      ]
     },
     "execution_count": 45,
     "metadata": {},
     "output_type": "execute_result"
    }
   ],
   "source": [
    "one"
   ]
  },
  {
   "cell_type": "code",
   "execution_count": 46,
   "metadata": {},
   "outputs": [
    {
     "data": {
      "text/plain": [
       "0.40331491712707185"
      ]
     },
     "execution_count": 46,
     "metadata": {},
     "output_type": "execute_result"
    }
   ],
   "source": [
    "two"
   ]
  },
  {
   "cell_type": "code",
   "execution_count": 47,
   "metadata": {},
   "outputs": [
    {
     "data": {
      "text/plain": [
       "0.2541436464088398"
      ]
     },
     "execution_count": 47,
     "metadata": {},
     "output_type": "execute_result"
    }
   ],
   "source": [
    "three"
   ]
  },
  {
   "cell_type": "code",
   "execution_count": 54,
   "metadata": {},
   "outputs": [
    {
     "data": {
      "text/plain": [
       "0.12154696132596685"
      ]
     },
     "execution_count": 54,
     "metadata": {},
     "output_type": "execute_result"
    }
   ],
   "source": [
    "four"
   ]
  },
  {
   "cell_type": "code",
   "execution_count": 55,
   "metadata": {},
   "outputs": [
    {
     "data": {
      "text/plain": [
       "0.04419889502762431"
      ]
     },
     "execution_count": 55,
     "metadata": {},
     "output_type": "execute_result"
    }
   ],
   "source": [
    "five"
   ]
  },
  {
   "cell_type": "code",
   "execution_count": 56,
   "metadata": {},
   "outputs": [
    {
     "data": {
      "text/plain": [
       "0.016574585635359115"
      ]
     },
     "execution_count": 56,
     "metadata": {},
     "output_type": "execute_result"
    }
   ],
   "source": [
    "six"
   ]
  },
  {
   "cell_type": "code",
   "execution_count": 50,
   "metadata": {},
   "outputs": [
    {
     "data": {
      "text/plain": [
       "array([2, 2, 2], dtype=int64)"
      ]
     },
     "execution_count": 50,
     "metadata": {},
     "output_type": "execute_result"
    }
   ],
   "source": [
    "rng.choice([1, 7], 20, p=[0.1, 0, 0.3, 0.6, 0])"
   ]
  },
  {
   "cell_type": "code",
   "execution_count": 64,
   "metadata": {},
   "outputs": [],
   "source": [
    "goals_array = [1, 2, 3, 4, 5, 6]\n",
    "sim_goals = rng.choice(goals_array, 181, p=[0.16, 0.40, 0.25, 0.12, 0.05, 0.02])"
   ]
  },
  {
   "cell_type": "code",
   "execution_count": 65,
   "metadata": {},
   "outputs": [
    {
     "data": {
      "text/plain": [
       "(array([26.,  0., 75.,  0., 44.,  0., 20.,  0., 10.,  6.]),\n",
       " array([1. , 1.5, 2. , 2.5, 3. , 3.5, 4. , 4.5, 5. , 5.5, 6. ]),\n",
       " <a list of 10 Patch objects>)"
      ]
     },
     "execution_count": 65,
     "metadata": {},
     "output_type": "execute_result"
    },
    {
     "data": {
      "image/png": "[encoded data removed]",
      "text/plain": [
       "<Figure size 432x288 with 1 Axes>"
      ]
     },
     "metadata": {
      "needs_background": "light"
     },
     "output_type": "display_data"
    }
   ],
   "source": [
    "plt.hist(sim_goals)"
   ]
  },
  {
   "cell_type": "code",
   "execution_count": null,
   "metadata": {},
   "outputs": [],
   "source": []
  },
  {
   "cell_type": "code",
   "execution_count": null,
   "metadata": {},
   "outputs": [],
   "source": []
  },
  {
   "cell_type": "code",
   "execution_count": 60,
   "metadata": {},
   "outputs": [
    {
     "data": {
      "text/plain": [
       "1.0"
      ]
     },
     "execution_count": 60,
     "metadata": {},
     "output_type": "execute_result"
    }
   ],
   "source": [
    "0.16 + 0.40 + 0.25 + 0.12 + 0.05 + 0.02"
   ]
  },
  {
   "cell_type": "code",
   "execution_count": null,
   "metadata": {},
   "outputs": [],
   "source": []
  },
  {
   "cell_type": "code",
   "execution_count": null,
   "metadata": {},
   "outputs": [],
   "source": []
  },
  {
   "cell_type": "code",
   "execution_count": null,
   "metadata": {},
   "outputs": [],
   "source": []
  },
  {
   "cell_type": "code",
   "execution_count": null,
   "metadata": {},
   "outputs": [],
   "source": []
  },
  {
   "cell_type": "code",
   "execution_count": null,
   "metadata": {},
   "outputs": [],
   "source": []
  },
  {
   "cell_type": "code",
   "execution_count": null,
   "metadata": {},
   "outputs": [],
   "source": []
  },
  {
   "cell_type": "markdown",
   "metadata": {},
   "source": [
    "The home team won the match much more often with two goals than with any other number of goals (from 1 to 6). Presumably the probability of winning increases the more goals a team scores."
   ]
  },
  {
   "cell_type": "markdown",
   "metadata": {},
   "source": [
    "<br>\n",
    "\n"
   ]
  },
  {
   "cell_type": "markdown",
   "metadata": {},
   "source": [
    "Below, I do the same with the possession and shots variables:"
   ]
  },
  {
   "cell_type": "code",
   "execution_count": 17,
   "metadata": {},
   "outputs": [
    {
     "data": {
      "text/plain": [
       "count    181.000000\n",
       "mean      53.867403\n",
       "std       13.482255\n",
       "min       23.000000\n",
       "25%       43.000000\n",
       "50%       55.000000\n",
       "75%       64.000000\n",
       "max       80.000000\n",
       "Name: home_team_possession, dtype: float64"
      ]
     },
     "execution_count": 17,
     "metadata": {},
     "output_type": "execute_result"
    }
   ],
   "source": [
    "# Create series with possession data only\n",
    "win_possession = win_only[\"home_team_possession\"]\n",
    "\n",
    "# Summary of possession data\n",
    "win_possession.describe()"
   ]
  },
  {
   "cell_type": "code",
   "execution_count": 18,
   "metadata": {},
   "outputs": [
    {
     "data": {
      "text/plain": [
       "(array([ 2., 13., 22., 18., 22., 21., 31., 22., 19., 11.]),\n",
       " array([23. , 28.7, 34.4, 40.1, 45.8, 51.5, 57.2, 62.9, 68.6, 74.3, 80. ]),\n",
       " <a list of 10 Patch objects>)"
      ]
     },
     "execution_count": 18,
     "metadata": {},
     "output_type": "execute_result"
    },
    {
     "data": {
      "image/png": "[encoded data removed]",
      "text/plain": [
       "<Figure size 432x288 with 1 Axes>"
      ]
     },
     "metadata": {
      "needs_background": "light"
     },
     "output_type": "display_data"
    }
   ],
   "source": [
    "plt.hist(win_possession)\n",
    "#plt.hist(win_only[\"home_team_possession\"])"
   ]
  },
  {
   "cell_type": "code",
   "execution_count": 66,
   "metadata": {},
   "outputs": [
    {
     "data": {
      "text/plain": [
       "count    181.000000\n",
       "mean      53.867403\n",
       "std       13.482255\n",
       "min       23.000000\n",
       "25%       43.000000\n",
       "50%       55.000000\n",
       "75%       64.000000\n",
       "max       80.000000\n",
       "Name: home_team_possession, dtype: float64"
      ]
     },
     "execution_count": 66,
     "metadata": {},
     "output_type": "execute_result"
    }
   ],
   "source": [
    "win_possession.describe()"
   ]
  },
  {
   "cell_type": "code",
   "execution_count": 67,
   "metadata": {},
   "outputs": [],
   "source": [
    "mu, sigma = 53.867403, 13.482255 # mean and standard deviation\n",
    "\n",
    "s = np.random.default_rng().normal(mu, sigma, 200)"
   ]
  },
  {
   "cell_type": "code",
   "execution_count": 68,
   "metadata": {},
   "outputs": [
    {
     "data": {
      "text/plain": [
       "(array([ 7., 11., 27., 40., 38., 29., 23., 12.,  7.,  6.]),\n",
       " array([24.47690005, 30.88089679, 37.28489352, 43.68889026, 50.09288699,\n",
       "        56.49688373, 62.90088046, 69.3048772 , 75.70887393, 82.11287067,\n",
       "        88.5168674 ]),\n",
       " <a list of 10 Patch objects>)"
      ]
     },
     "execution_count": 68,
     "metadata": {},
     "output_type": "execute_result"
    },
    {
     "data": {
      "image/png": "[encoded data removed]",
      "text/plain": [
       "<Figure size 432x288 with 1 Axes>"
      ]
     },
     "metadata": {
      "needs_background": "light"
     },
     "output_type": "display_data"
    }
   ],
   "source": [
    "plt.hist(s)"
   ]
  },
  {
   "cell_type": "code",
   "execution_count": null,
   "metadata": {},
   "outputs": [],
   "source": []
  },
  {
   "cell_type": "code",
   "execution_count": null,
   "metadata": {},
   "outputs": [],
   "source": []
  },
  {
   "cell_type": "code",
   "execution_count": null,
   "metadata": {},
   "outputs": [],
   "source": []
  },
  {
   "cell_type": "code",
   "execution_count": null,
   "metadata": {},
   "outputs": [],
   "source": []
  },
  {
   "cell_type": "code",
   "execution_count": null,
   "metadata": {},
   "outputs": [],
   "source": []
  },
  {
   "cell_type": "code",
   "execution_count": 19,
   "metadata": {},
   "outputs": [
    {
     "data": {
      "text/plain": [
       "count    181.000000\n",
       "mean      12.696133\n",
       "std        4.195426\n",
       "min        5.000000\n",
       "25%        9.000000\n",
       "50%       13.000000\n",
       "75%       16.000000\n",
       "max       26.000000\n",
       "Name: home_team_shots, dtype: float64"
      ]
     },
     "execution_count": 19,
     "metadata": {},
     "output_type": "execute_result"
    }
   ],
   "source": [
    "win_shots = win_only['home_team_shots']\n",
    "win_shots.describe()"
   ]
  },
  {
   "cell_type": "code",
   "execution_count": 20,
   "metadata": {},
   "outputs": [
    {
     "data": {
      "text/plain": [
       "<matplotlib.axes._subplots.AxesSubplot at 0x2e157fdda90>"
      ]
     },
     "execution_count": 20,
     "metadata": {},
     "output_type": "execute_result"
    },
    {
     "data": {
      "image/png": "[encoded data removed]",
      "text/plain": [
       "<Figure size 432x288 with 1 Axes>"
      ]
     },
     "metadata": {
      "needs_background": "light"
     },
     "output_type": "display_data"
    }
   ],
   "source": [
    "win_shots_distribution = win_only['home_team_shots'].value_counts()\n",
    "win_shots_distribution = win_shots_distribution.sort_index()\n",
    "win_shots_distribution.plot(kind='bar')"
   ]
  },
  {
   "cell_type": "code",
   "execution_count": null,
   "metadata": {},
   "outputs": [],
   "source": []
  },
  {
   "cell_type": "code",
   "execution_count": null,
   "metadata": {},
   "outputs": [],
   "source": []
  },
  {
   "cell_type": "code",
   "execution_count": null,
   "metadata": {},
   "outputs": [],
   "source": []
  },
  {
   "cell_type": "code",
   "execution_count": 21,
   "metadata": {},
   "outputs": [
    {
     "data": {
      "text/html": [
       "<div>\n",
       "<style scoped>\n",
       "    .dataframe tbody tr th:only-of-type {\n",
       "        vertical-align: middle;\n",
       "    }\n",
       "\n",
       "    .dataframe tbody tr th {\n",
       "        vertical-align: top;\n",
       "    }\n",
       "\n",
       "    .dataframe thead th {\n",
       "        text-align: right;\n",
       "    }\n",
       "</style>\n",
       "<table border=\"1\" class=\"dataframe\">\n",
       "  <thead>\n",
       "    <tr style=\"text-align: right;\">\n",
       "      <th></th>\n",
       "      <th>home_team_goal_count</th>\n",
       "      <th>home_team_possession</th>\n",
       "      <th>home_team_shots</th>\n",
       "      <th>home_team_result</th>\n",
       "    </tr>\n",
       "  </thead>\n",
       "  <tbody>\n",
       "    <tr>\n",
       "      <th>1</th>\n",
       "      <td>1</td>\n",
       "      <td>40</td>\n",
       "      <td>11</td>\n",
       "      <td>L</td>\n",
       "    </tr>\n",
       "    <tr>\n",
       "      <th>3</th>\n",
       "      <td>0</td>\n",
       "      <td>66</td>\n",
       "      <td>11</td>\n",
       "      <td>L</td>\n",
       "    </tr>\n",
       "    <tr>\n",
       "      <th>4</th>\n",
       "      <td>0</td>\n",
       "      <td>37</td>\n",
       "      <td>6</td>\n",
       "      <td>L</td>\n",
       "    </tr>\n",
       "    <tr>\n",
       "      <th>9</th>\n",
       "      <td>0</td>\n",
       "      <td>42</td>\n",
       "      <td>8</td>\n",
       "      <td>L</td>\n",
       "    </tr>\n",
       "    <tr>\n",
       "      <th>14</th>\n",
       "      <td>1</td>\n",
       "      <td>61</td>\n",
       "      <td>9</td>\n",
       "      <td>L</td>\n",
       "    </tr>\n",
       "    <tr>\n",
       "      <th>...</th>\n",
       "      <td>...</td>\n",
       "      <td>...</td>\n",
       "      <td>...</td>\n",
       "      <td>...</td>\n",
       "    </tr>\n",
       "    <tr>\n",
       "      <th>370</th>\n",
       "      <td>1</td>\n",
       "      <td>23</td>\n",
       "      <td>6</td>\n",
       "      <td>L</td>\n",
       "    </tr>\n",
       "    <tr>\n",
       "      <th>371</th>\n",
       "      <td>1</td>\n",
       "      <td>39</td>\n",
       "      <td>12</td>\n",
       "      <td>L</td>\n",
       "    </tr>\n",
       "    <tr>\n",
       "      <th>373</th>\n",
       "      <td>0</td>\n",
       "      <td>68</td>\n",
       "      <td>11</td>\n",
       "      <td>L</td>\n",
       "    </tr>\n",
       "    <tr>\n",
       "      <th>376</th>\n",
       "      <td>0</td>\n",
       "      <td>73</td>\n",
       "      <td>21</td>\n",
       "      <td>L</td>\n",
       "    </tr>\n",
       "    <tr>\n",
       "      <th>379</th>\n",
       "      <td>1</td>\n",
       "      <td>48</td>\n",
       "      <td>11</td>\n",
       "      <td>L</td>\n",
       "    </tr>\n",
       "  </tbody>\n",
       "</table>\n",
       "<p>128 rows × 4 columns</p>\n",
       "</div>"
      ],
      "text/plain": [
       "     home_team_goal_count  home_team_possession  home_team_shots  \\\n",
       "1                       1                    40               11   \n",
       "3                       0                    66               11   \n",
       "4                       0                    37                6   \n",
       "9                       0                    42                8   \n",
       "14                      1                    61                9   \n",
       "..                    ...                   ...              ...   \n",
       "370                     1                    23                6   \n",
       "371                     1                    39               12   \n",
       "373                     0                    68               11   \n",
       "376                     0                    73               21   \n",
       "379                     1                    48               11   \n",
       "\n",
       "    home_team_result  \n",
       "1                  L  \n",
       "3                  L  \n",
       "4                  L  \n",
       "9                  L  \n",
       "14                 L  \n",
       "..               ...  \n",
       "370                L  \n",
       "371                L  \n",
       "373                L  \n",
       "376                L  \n",
       "379                L  \n",
       "\n",
       "[128 rows x 4 columns]"
      ]
     },
     "execution_count": 21,
     "metadata": {},
     "output_type": "execute_result"
    }
   ],
   "source": [
    "# Split dataframe based on result (losses)\n",
    "lose_only = df1.loc[df1['home_team_result'] == 'L']\n",
    "lose_only"
   ]
  },
  {
   "cell_type": "markdown",
   "metadata": {},
   "source": [
    "<br>\n",
    "\n"
   ]
  },
  {
   "cell_type": "code",
   "execution_count": 22,
   "metadata": {},
   "outputs": [
    {
     "data": {
      "text/html": [
       "<div>\n",
       "<style scoped>\n",
       "    .dataframe tbody tr th:only-of-type {\n",
       "        vertical-align: middle;\n",
       "    }\n",
       "\n",
       "    .dataframe tbody tr th {\n",
       "        vertical-align: top;\n",
       "    }\n",
       "\n",
       "    .dataframe thead th {\n",
       "        text-align: right;\n",
       "    }\n",
       "</style>\n",
       "<table border=\"1\" class=\"dataframe\">\n",
       "  <thead>\n",
       "    <tr style=\"text-align: right;\">\n",
       "      <th></th>\n",
       "      <th>home_team_goal_count</th>\n",
       "      <th>home_team_possession</th>\n",
       "      <th>home_team_shots</th>\n",
       "      <th>home_team_result</th>\n",
       "    </tr>\n",
       "  </thead>\n",
       "  <tbody>\n",
       "    <tr>\n",
       "      <th>6</th>\n",
       "      <td>2</td>\n",
       "      <td>57</td>\n",
       "      <td>10</td>\n",
       "      <td>D</td>\n",
       "    </tr>\n",
       "    <tr>\n",
       "      <th>8</th>\n",
       "      <td>0</td>\n",
       "      <td>47</td>\n",
       "      <td>10</td>\n",
       "      <td>D</td>\n",
       "    </tr>\n",
       "    <tr>\n",
       "      <th>10</th>\n",
       "      <td>0</td>\n",
       "      <td>51</td>\n",
       "      <td>8</td>\n",
       "      <td>D</td>\n",
       "    </tr>\n",
       "    <tr>\n",
       "      <th>20</th>\n",
       "      <td>1</td>\n",
       "      <td>28</td>\n",
       "      <td>9</td>\n",
       "      <td>D</td>\n",
       "    </tr>\n",
       "    <tr>\n",
       "      <th>21</th>\n",
       "      <td>2</td>\n",
       "      <td>49</td>\n",
       "      <td>16</td>\n",
       "      <td>D</td>\n",
       "    </tr>\n",
       "    <tr>\n",
       "      <th>...</th>\n",
       "      <td>...</td>\n",
       "      <td>...</td>\n",
       "      <td>...</td>\n",
       "      <td>...</td>\n",
       "    </tr>\n",
       "    <tr>\n",
       "      <th>367</th>\n",
       "      <td>1</td>\n",
       "      <td>35</td>\n",
       "      <td>6</td>\n",
       "      <td>D</td>\n",
       "    </tr>\n",
       "    <tr>\n",
       "      <th>368</th>\n",
       "      <td>1</td>\n",
       "      <td>70</td>\n",
       "      <td>14</td>\n",
       "      <td>D</td>\n",
       "    </tr>\n",
       "    <tr>\n",
       "      <th>374</th>\n",
       "      <td>0</td>\n",
       "      <td>46</td>\n",
       "      <td>8</td>\n",
       "      <td>D</td>\n",
       "    </tr>\n",
       "    <tr>\n",
       "      <th>377</th>\n",
       "      <td>1</td>\n",
       "      <td>53</td>\n",
       "      <td>7</td>\n",
       "      <td>D</td>\n",
       "    </tr>\n",
       "    <tr>\n",
       "      <th>378</th>\n",
       "      <td>2</td>\n",
       "      <td>55</td>\n",
       "      <td>9</td>\n",
       "      <td>D</td>\n",
       "    </tr>\n",
       "  </tbody>\n",
       "</table>\n",
       "<p>71 rows × 4 columns</p>\n",
       "</div>"
      ],
      "text/plain": [
       "     home_team_goal_count  home_team_possession  home_team_shots  \\\n",
       "6                       2                    57               10   \n",
       "8                       0                    47               10   \n",
       "10                      0                    51                8   \n",
       "20                      1                    28                9   \n",
       "21                      2                    49               16   \n",
       "..                    ...                   ...              ...   \n",
       "367                     1                    35                6   \n",
       "368                     1                    70               14   \n",
       "374                     0                    46                8   \n",
       "377                     1                    53                7   \n",
       "378                     2                    55                9   \n",
       "\n",
       "    home_team_result  \n",
       "6                  D  \n",
       "8                  D  \n",
       "10                 D  \n",
       "20                 D  \n",
       "21                 D  \n",
       "..               ...  \n",
       "367                D  \n",
       "368                D  \n",
       "374                D  \n",
       "377                D  \n",
       "378                D  \n",
       "\n",
       "[71 rows x 4 columns]"
      ]
     },
     "execution_count": 22,
     "metadata": {},
     "output_type": "execute_result"
    }
   ],
   "source": [
    "# Split dataframe based on result (draws)\n",
    "draw_only = df1.loc[df1['home_team_result'] == 'D']\n",
    "draw_only"
   ]
  },
  {
   "cell_type": "markdown",
   "metadata": {},
   "source": [
    "<br>\n",
    "\n"
   ]
  },
  {
   "cell_type": "code",
   "execution_count": null,
   "metadata": {},
   "outputs": [],
   "source": []
  },
  {
   "cell_type": "code",
   "execution_count": null,
   "metadata": {},
   "outputs": [],
   "source": []
  },
  {
   "cell_type": "code",
   "execution_count": null,
   "metadata": {},
   "outputs": [],
   "source": []
  },
  {
   "cell_type": "code",
   "execution_count": null,
   "metadata": {},
   "outputs": [],
   "source": []
  },
  {
   "cell_type": "code",
   "execution_count": null,
   "metadata": {},
   "outputs": [],
   "source": []
  },
  {
   "cell_type": "code",
   "execution_count": 23,
   "metadata": {},
   "outputs": [],
   "source": [
    "lose_possession = lose_only[\"home_team_possession\"]"
   ]
  },
  {
   "cell_type": "code",
   "execution_count": 24,
   "metadata": {},
   "outputs": [
    {
     "data": {
      "text/plain": [
       "count    128.000000\n",
       "mean      46.445312\n",
       "std       13.953697\n",
       "min       18.000000\n",
       "25%       35.750000\n",
       "50%       47.000000\n",
       "75%       57.250000\n",
       "max       78.000000\n",
       "Name: home_team_possession, dtype: float64"
      ]
     },
     "execution_count": 24,
     "metadata": {},
     "output_type": "execute_result"
    }
   ],
   "source": [
    "lose_possession.describe()"
   ]
  },
  {
   "cell_type": "code",
   "execution_count": null,
   "metadata": {},
   "outputs": [],
   "source": []
  },
  {
   "cell_type": "code",
   "execution_count": null,
   "metadata": {},
   "outputs": [],
   "source": []
  },
  {
   "cell_type": "code",
   "execution_count": null,
   "metadata": {},
   "outputs": [],
   "source": []
  },
  {
   "cell_type": "code",
   "execution_count": null,
   "metadata": {},
   "outputs": [],
   "source": []
  },
  {
   "cell_type": "code",
   "execution_count": null,
   "metadata": {},
   "outputs": [],
   "source": []
  },
  {
   "cell_type": "code",
   "execution_count": 25,
   "metadata": {},
   "outputs": [
    {
     "data": {
      "text/plain": [
       "0    66\n",
       "1    55\n",
       "2     7\n",
       "Name: home_team_goal_count, dtype: int64"
      ]
     },
     "execution_count": 25,
     "metadata": {},
     "output_type": "execute_result"
    }
   ],
   "source": [
    "lose_only['home_team_goal_count'].value_counts()"
   ]
  },
  {
   "cell_type": "code",
   "execution_count": null,
   "metadata": {},
   "outputs": [],
   "source": []
  },
  {
   "cell_type": "code",
   "execution_count": 26,
   "metadata": {},
   "outputs": [
    {
     "data": {
      "text/plain": [
       "1    32\n",
       "0    22\n",
       "2    15\n",
       "3     2\n",
       "Name: home_team_goal_count, dtype: int64"
      ]
     },
     "execution_count": 26,
     "metadata": {},
     "output_type": "execute_result"
    }
   ],
   "source": [
    "draw_only['home_team_goal_count'].value_counts()"
   ]
  },
  {
   "cell_type": "code",
   "execution_count": 27,
   "metadata": {},
   "outputs": [
    {
     "data": {
      "text/plain": [
       "18"
      ]
     },
     "execution_count": 27,
     "metadata": {},
     "output_type": "execute_result"
    }
   ],
   "source": [
    "minValuesObj = df[\"home_team_possession\"].min()\n",
    "minValuesObj"
   ]
  },
  {
   "cell_type": "code",
   "execution_count": null,
   "metadata": {},
   "outputs": [],
   "source": []
  },
  {
   "cell_type": "markdown",
   "metadata": {},
   "source": [
    "## 3. Simulation\n",
    "\n",
    "***"
   ]
  },
  {
   "cell_type": "code",
   "execution_count": 78,
   "metadata": {},
   "outputs": [],
   "source": [
    "goals_array = [1, 2, 3, 4, 5, 6]\n",
    "sim_goals = rng.choice(goals_array, 200, p=[0.16, 0.40, 0.25, 0.12, 0.05, 0.02])"
   ]
  },
  {
   "cell_type": "code",
   "execution_count": 69,
   "metadata": {},
   "outputs": [
    {
     "data": {
      "text/plain": [
       "(array([26.,  0., 75.,  0., 44.,  0., 20.,  0., 10.,  6.]),\n",
       " array([1. , 1.5, 2. , 2.5, 3. , 3.5, 4. , 4.5, 5. , 5.5, 6. ]),\n",
       " <a list of 10 Patch objects>)"
      ]
     },
     "execution_count": 69,
     "metadata": {},
     "output_type": "execute_result"
    },
    {
     "data": {
      "image/png": "[encoded data removed]",
      "text/plain": [
       "<Figure size 432x288 with 1 Axes>"
      ]
     },
     "metadata": {
      "needs_background": "light"
     },
     "output_type": "display_data"
    }
   ],
   "source": [
    "plt.hist(sim_goals)"
   ]
  },
  {
   "cell_type": "markdown",
   "metadata": {},
   "source": [
    "https://towardsdatascience.com/how-to-generate-pseudo-random-datasets-in-python-start-from-scratch-with-numpy-faker-c5661e3bc58b code below taken from here"
   ]
  },
  {
   "cell_type": "code",
   "execution_count": null,
   "metadata": {},
   "outputs": [],
   "source": [
    "for i in range(len(df)):\n",
    "    if df[\"Claim Reason\"][i]==\"Medical\":\n",
    "        df[\"Claim Amount\"][i]=np.random.randint(1300,2300)\n",
    "    elif df[\"Claim Reason\"][i]==\"Travel\":\n",
    "        df[\"Claim Amount\"][i]=np.random.randint(300,900)\n",
    "    elif df[\"Claim Reason\"][i]==\"Phone\":\n",
    "        df[\"Claim Amount\"][i]=np.random.randint(200,270)\n",
    "    else:\n",
    "        df[\"Claim Amount\"][i]=np.random.randint(1,100)"
   ]
  },
  {
   "cell_type": "code",
   "execution_count": null,
   "metadata": {},
   "outputs": [],
   "source": [
    "rng.choice"
   ]
  },
  {
   "cell_type": "code",
   "execution_count": 79,
   "metadata": {},
   "outputs": [],
   "source": [
    "sim_result = ['W', 'L', 'D']"
   ]
  },
  {
   "cell_type": "code",
   "execution_count": null,
   "metadata": {},
   "outputs": [],
   "source": [
    "sim_df = pd.DataFrame(sim_result, columns = ['Name', 'Age']) "
   ]
  },
  {
   "cell_type": "code",
   "execution_count": null,
   "metadata": {},
   "outputs": [],
   "source": []
  },
  {
   "cell_type": "code",
   "execution_count": null,
   "metadata": {},
   "outputs": [],
   "source": []
  },
  {
   "cell_type": "code",
   "execution_count": null,
   "metadata": {},
   "outputs": [],
   "source": []
  },
  {
   "cell_type": "code",
   "execution_count": 72,
   "metadata": {},
   "outputs": [],
   "source": [
    "mu, sigma = 53.867403, 13.482255 # mean and standard deviation\n",
    "\n",
    "sim_possession_norm = np.random.default_rng().normal(mu, sigma, 200)"
   ]
  },
  {
   "cell_type": "code",
   "execution_count": 73,
   "metadata": {},
   "outputs": [
    {
     "data": {
      "text/plain": [
       "(array([ 3.,  4., 13., 30., 42., 46., 33., 15.,  9.,  5.]),\n",
       " array([17.50598281, 24.63451408, 31.76304534, 38.89157661, 46.02010787,\n",
       "        53.14863914, 60.27717041, 67.40570167, 74.53423294, 81.6627642 ,\n",
       "        88.79129547]),\n",
       " <a list of 10 Patch objects>)"
      ]
     },
     "execution_count": 73,
     "metadata": {},
     "output_type": "execute_result"
    },
    {
     "data": {
      "image/png": "[encoded data removed]",
      "text/plain": [
       "<Figure size 432x288 with 1 Axes>"
      ]
     },
     "metadata": {
      "needs_background": "light"
     },
     "output_type": "display_data"
    }
   ],
   "source": [
    "plt.hist(sim_possession_norm)"
   ]
  },
  {
   "cell_type": "code",
   "execution_count": null,
   "metadata": {},
   "outputs": [],
   "source": []
  },
  {
   "cell_type": "code",
   "execution_count": 74,
   "metadata": {},
   "outputs": [],
   "source": [
    "sim_possession_uni = np.random.default_rng().uniform(30,80,200)"
   ]
  },
  {
   "cell_type": "code",
   "execution_count": 75,
   "metadata": {},
   "outputs": [
    {
     "data": {
      "text/plain": [
       "(array([25., 24., 21., 16., 15., 16., 24., 26., 14., 19.]),\n",
       " array([30.29348562, 35.26365097, 40.23381631, 45.20398166, 50.174147  ,\n",
       "        55.14431235, 60.1144777 , 65.08464304, 70.05480839, 75.02497374,\n",
       "        79.99513908]),\n",
       " <a list of 10 Patch objects>)"
      ]
     },
     "execution_count": 75,
     "metadata": {},
     "output_type": "execute_result"
    },
    {
     "data": {
      "image/png": "[encoded data removed]",
      "text/plain": [
       "<Figure size 432x288 with 1 Axes>"
      ]
     },
     "metadata": {
      "needs_background": "light"
     },
     "output_type": "display_data"
    }
   ],
   "source": [
    "plt.hist(sim_possession_uni)"
   ]
  },
  {
   "cell_type": "code",
   "execution_count": 77,
   "metadata": {},
   "outputs": [
    {
     "data": {
      "text/plain": [
       "array([59.61398712, 80.09002048, 58.61708047, 59.04815895, 47.91597975,\n",
       "       68.40738523, 46.33034121, 65.24117252, 53.12163155, 66.80347779,\n",
       "       69.20254063, 70.45834393, 48.42299704, 40.37292376, 51.70814643,\n",
       "       56.16591413, 48.86168317, 68.59774291, 71.4687654 , 58.69711205,\n",
       "       45.79189873, 46.68650407, 54.96265982, 54.88933551, 49.84582244,\n",
       "       60.97569588, 81.0585886 , 52.82994132, 57.85142449, 53.09690144,\n",
       "       18.5706188 , 45.51746203, 47.81773146, 53.89540632, 45.40059898,\n",
       "       64.87296672, 56.42101782, 51.21515764, 59.92541219, 53.58187312,\n",
       "       58.99804183, 37.91534867, 46.21784414, 45.17824281, 75.38608403,\n",
       "       60.2724721 , 46.17402669, 41.04080075, 53.48624236, 74.60222657,\n",
       "       36.03078035, 70.7645898 , 61.75875852, 64.48239379, 66.07410485,\n",
       "       26.06859476, 60.29079928, 63.82184983, 57.04105913, 45.66737703,\n",
       "       32.9802133 , 57.85261834, 43.62631949, 39.76944854, 40.55869484,\n",
       "       69.36005788, 67.33199966, 43.65870304, 53.32467813, 39.36735742,\n",
       "       62.50702513, 86.38526992, 53.86157654, 63.32150445, 45.74943758,\n",
       "       77.52065314, 38.89731079, 40.4416393 , 63.32405783, 35.19244701,\n",
       "       55.77179949, 46.37632574, 32.21434599, 47.98724015, 42.16146973,\n",
       "       60.74289755, 42.50484887, 66.17574747, 51.34505376, 49.3952468 ,\n",
       "       36.6442007 , 46.10729469, 53.40774842, 31.42809056, 46.33821889,\n",
       "       67.07627538, 39.28578353, 75.39487851, 45.43696555, 44.05490721,\n",
       "       59.0959213 , 61.22059173, 57.10168097, 51.82628683, 50.67022377,\n",
       "       57.12589085, 52.49963732, 63.9321362 , 45.18234272, 58.3291358 ,\n",
       "       52.36640227, 43.11670423, 57.92730823, 60.98628944, 36.10859407,\n",
       "       36.18239844, 58.76432686, 59.42004877, 49.66314496, 38.71459195,\n",
       "       55.05039654, 52.74055599, 52.24910692, 56.47579906, 17.50598281,\n",
       "       49.74550989, 52.46160339, 52.22243334, 29.29071096, 60.84313972,\n",
       "       41.26355659, 65.8231656 , 46.47062498, 56.58381932, 60.16994388,\n",
       "       54.43808276, 59.93135423, 85.51647968, 54.51423952, 65.05002908,\n",
       "       25.13954303, 73.04282261, 61.34029934, 63.75144618, 54.51689494,\n",
       "       56.43116394, 47.72993152, 37.07993786, 53.17856082, 57.99773742,\n",
       "       59.03393345, 83.02955839, 41.1461812 , 49.72606674, 41.14349696,\n",
       "       36.87237461, 63.83935912, 20.82465776, 56.52455274, 45.91259333,\n",
       "       68.49196091, 48.53067713, 56.09445745, 50.22509346, 37.71279862,\n",
       "       67.3143419 , 70.31606328, 83.41705015, 61.86694959, 77.29794855,\n",
       "       58.51878452, 50.20820245, 68.64253576, 69.80757814, 39.7954633 ,\n",
       "       64.72750483, 74.8840234 , 61.26149925, 40.51106501, 51.02432952,\n",
       "       68.08925608, 67.82784853, 51.67854083, 55.81646392, 45.09315436,\n",
       "       53.24697886, 72.60457278, 46.078999  , 59.02968964, 62.46662509,\n",
       "       46.70721503, 63.85740012, 51.41778506, 43.65164241, 62.05096292,\n",
       "       88.79129547, 33.60787196, 47.70099758, 76.34586197, 63.65810129])"
      ]
     },
     "execution_count": 77,
     "metadata": {},
     "output_type": "execute_result"
    }
   ],
   "source": [
    "sim_possession_norm"
   ]
  },
  {
   "cell_type": "code",
   "execution_count": null,
   "metadata": {},
   "outputs": [],
   "source": []
  },
  {
   "cell_type": "code",
   "execution_count": null,
   "metadata": {},
   "outputs": [],
   "source": []
  },
  {
   "cell_type": "code",
   "execution_count": null,
   "metadata": {},
   "outputs": [],
   "source": []
  },
  {
   "cell_type": "code",
   "execution_count": null,
   "metadata": {},
   "outputs": [],
   "source": []
  },
  {
   "cell_type": "code",
   "execution_count": null,
   "metadata": {},
   "outputs": [],
   "source": []
  },
  {
   "cell_type": "code",
   "execution_count": 76,
   "metadata": {},
   "outputs": [
    {
     "data": {
      "text/plain": [
       "0.9310959071558315"
      ]
     },
     "execution_count": 76,
     "metadata": {},
     "output_type": "execute_result"
    }
   ],
   "source": [
    "rng.beta(3,1)"
   ]
  },
  {
   "cell_type": "code",
   "execution_count": null,
   "metadata": {},
   "outputs": [],
   "source": []
  },
  {
   "cell_type": "code",
   "execution_count": null,
   "metadata": {},
   "outputs": [],
   "source": []
  },
  {
   "cell_type": "code",
   "execution_count": null,
   "metadata": {},
   "outputs": [],
   "source": []
  },
  {
   "cell_type": "code",
   "execution_count": null,
   "metadata": {},
   "outputs": [],
   "source": []
  },
  {
   "cell_type": "code",
   "execution_count": null,
   "metadata": {},
   "outputs": [],
   "source": []
  },
  {
   "cell_type": "code",
   "execution_count": null,
   "metadata": {},
   "outputs": [],
   "source": []
  },
  {
   "cell_type": "code",
   "execution_count": null,
   "metadata": {},
   "outputs": [],
   "source": []
  },
  {
   "cell_type": "code",
   "execution_count": null,
   "metadata": {},
   "outputs": [],
   "source": []
  },
  {
   "cell_type": "code",
   "execution_count": null,
   "metadata": {},
   "outputs": [],
   "source": []
  },
  {
   "cell_type": "markdown",
   "metadata": {},
   "source": [
    "### References\n",
    "[1] footystats.org; https://footystats.org/download-stats-csv <br>\n",
    "[2] How to get column names in Pandas dataframe; https://www.geeksforgeeks.org/how-to-get-column-names-in-pandas-dataframe/ <br>\n",
    "[3] note.nkmk.me; https://note.nkmk.me/en/python-numpy-where/ <br>\n",
    "[4] stackoverflow.com; https://stackoverflow.com/questions/39109045/numpy-where-with-multiple-conditions <br>\n",
    "[5] stackoverflow.com; https://stackoverflow.com/questions/17071871/how-to-select-rows-from-a-dataframe-based-on-column-values <br>\n",
    "[6] pydata.org; pandas.Series.value_counts; https://pandas.pydata.org/pandas-docs/stable/reference/api/pandas.Series.value_counts.html <br>\n",
    "[7] pydata.org; pandas.Series.sort_index; https://pandas.pydata.org/pandas-docs/stable/reference/api/pandas.Series.sort_index.html <br>\n"
   ]
  },
  {
   "cell_type": "code",
   "execution_count": null,
   "metadata": {},
   "outputs": [],
   "source": []
  },
  {
   "cell_type": "code",
   "execution_count": null,
   "metadata": {},
   "outputs": [],
   "source": []
  },
  {
   "cell_type": "code",
   "execution_count": null,
   "metadata": {},
   "outputs": [],
   "source": []
  },
  {
   "cell_type": "code",
   "execution_count": 40,
   "metadata": {},
   "outputs": [],
   "source": [
    "rng = np.random.default_rng()\n",
    "\n",
    "s = rng.poisson(2.5, 50)"
   ]
  },
  {
   "cell_type": "code",
   "execution_count": 41,
   "metadata": {},
   "outputs": [
    {
     "data": {
      "text/plain": [
       "array([5, 2, 3, 4, 4, 1, 5, 0, 4, 1, 2, 1, 1, 3, 1, 4, 0, 4, 3, 2, 2, 2,\n",
       "       3, 3, 2, 4, 2, 4, 3, 1, 6, 1, 4, 4, 5, 5, 2, 2, 3, 4, 2, 2, 3, 3,\n",
       "       0, 2, 2, 4, 2, 1], dtype=int64)"
      ]
     },
     "execution_count": 41,
     "metadata": {},
     "output_type": "execute_result"
    }
   ],
   "source": [
    "s"
   ]
  },
  {
   "cell_type": "code",
   "execution_count": 42,
   "metadata": {},
   "outputs": [
    {
     "data": {
      "text/plain": [
       "(array([ 3.,  8.,  0., 14.,  0.,  9., 11.,  0.,  4.,  1.]),\n",
       " array([0. , 0.6, 1.2, 1.8, 2.4, 3. , 3.6, 4.2, 4.8, 5.4, 6. ]),\n",
       " <a list of 10 Patch objects>)"
      ]
     },
     "execution_count": 42,
     "metadata": {},
     "output_type": "execute_result"
    },
    {
     "data": {
      "image/png": "[encoded data removed]",
      "text/plain": [
       "<Figure size 432x288 with 1 Axes>"
      ]
     },
     "metadata": {
      "needs_background": "light"
     },
     "output_type": "display_data"
    }
   ],
   "source": [
    "plt.hist(s)"
   ]
  },
  {
   "cell_type": "code",
   "execution_count": null,
   "metadata": {},
   "outputs": [],
   "source": []
  },
  {
   "cell_type": "code",
   "execution_count": null,
   "metadata": {},
   "outputs": [],
   "source": []
  },
  {
   "cell_type": "code",
   "execution_count": null,
   "metadata": {},
   "outputs": [],
   "source": []
  },
  {
   "cell_type": "code",
   "execution_count": null,
   "metadata": {},
   "outputs": [],
   "source": []
  },
  {
   "cell_type": "code",
   "execution_count": null,
   "metadata": {},
   "outputs": [],
   "source": []
  },
  {
   "cell_type": "code",
   "execution_count": null,
   "metadata": {},
   "outputs": [],
   "source": []
  },
  {
   "cell_type": "code",
   "execution_count": null,
   "metadata": {},
   "outputs": [],
   "source": []
  },
  {
   "cell_type": "code",
   "execution_count": null,
   "metadata": {},
   "outputs": [],
   "source": []
  },
  {
   "cell_type": "code",
   "execution_count": null,
   "metadata": {},
   "outputs": [],
   "source": []
  },
  {
   "cell_type": "markdown",
   "metadata": {},
   "source": [
    "**I will need to also have data for away team for comparison e.g. shots on goal, goals scored.**\n",
    "* e.g. difference between winning team shots scored and losing team shots scored. Shots scored as a stand alone may not be enough info"
   ]
  },
  {
   "cell_type": "code",
   "execution_count": null,
   "metadata": {},
   "outputs": [],
   "source": []
  }
 ],
 "metadata": {
  "kernelspec": {
   "display_name": "Python 3",
   "language": "python",
   "name": "python3"
  },
  "language_info": {
   "codemirror_mode": {
    "name": "ipython",
    "version": 3
   },
   "file_extension": ".py",
   "mimetype": "text/x-python",
   "name": "python",
   "nbconvert_exporter": "python",
   "pygments_lexer": "ipython3",
   "version": "3.8.3"
  }
 },
 "nbformat": 4,
 "nbformat_minor": 4
}
