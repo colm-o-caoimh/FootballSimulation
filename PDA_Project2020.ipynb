{
 "cells": [
  {
   "cell_type": "markdown",
   "metadata": {},
   "source": [
    "# Programming for Data Analytics Project 2020\n",
    "***\n",
    "\n"
   ]
  },
  {
   "cell_type": "markdown",
   "metadata": {},
   "source": [
    "### Project brief\n",
    "\n",
    "For this project you must create a data set by simulating a real-world phenomenon of your choosing.  You may pick any phenomenon you wish. Then, rather than collect data related to the phenomenon, you should model and synthesise such data using Python. We suggest you use the `numpy.random` package for this purpose. Specifically, in this project you should:\n",
    "\n",
    "* Choose a real-world phenomenon that can be measured and for which you could collect at least one-hundred data points across at least four different variables.\n",
    "* Investigate  the  types  of  variables  involved,  their  likely  distributions,  and  their relationships with each other.\n",
    "* Synthesise/simulate a data set as closely matching their properties as possible.\n",
    "* Detail your research and implement the simulation in a Jupyter notebook – the data set itself can simply be displayed in an output cell within the notebook."
   ]
  },
  {
   "cell_type": "markdown",
   "metadata": {},
   "source": [
    "<br>\n",
    "\n"
   ]
  },
  {
   "cell_type": "markdown",
   "metadata": {},
   "source": [
    "## Introduction\n",
    "\n",
    "I have divided this project into 4 sections, each one representing a bullet point listed in the brief above. \n"
   ]
  },
  {
   "cell_type": "markdown",
   "metadata": {},
   "source": [
    "<br>\n",
    "\n"
   ]
  },
  {
   "cell_type": "markdown",
   "metadata": {},
   "source": [
    "## 1. Winning in football\n",
    "***"
   ]
  },
  {
   "cell_type": "markdown",
   "metadata": {},
   "source": [
    "For this project, I have chosen to research and investigate how a football team might increase their chances of winning. As a keen footballer myself, I would like to understand better how my own amateur team might learn from this.\n",
    "\n",
    "For this project, I simulate the phenomenon of home team performance in the English Premier League. The simulation is modelled on data from the 2018/19 season [1]. I use a data set which consists of 380 observations (representing each individual match that took place during the season). On a personal level, the most interesting variable is the result of each match (win, loss or draw). More specifically, I am curious to investigate some of the variables which may give an good indication as to the outcome of a match. I have chosen the following 4 variables with this in mind\n",
    "\n",
    "* Goals scored (non-zero integer)\n",
    "* Possession (non-zero integer)\n",
    "* Shots (non-zero integer)\n",
    "* Result (categorical)\n",
    "\n",
    "In order to accurately simulate the real world data, it is necessary to examine the properties of these variables. This includes establishing the distribution of each one as well as the relationship between each of the them. \n",
    "<br>\n",
    "\n",
    "\n",
    "\n",
    "\n",
    "\n"
   ]
  },
  {
   "cell_type": "markdown",
   "metadata": {},
   "source": [
    "<br>\n",
    "\n",
    "***"
   ]
  },
  {
   "cell_type": "markdown",
   "metadata": {},
   "source": [
    "## 2. Investigation of variables\n",
    "***\n",
    "\n",
    "<br>"
   ]
  },
  {
   "cell_type": "markdown",
   "metadata": {},
   "source": [
    "### 2.1 Data preparation\n",
    "\n",
    "<br>"
   ]
  },
  {
   "cell_type": "markdown",
   "metadata": {},
   "source": [
    "Firstly, I import the relevant Python packages for the simulation. "
   ]
  },
  {
   "cell_type": "code",
   "execution_count": 1,
   "metadata": {},
   "outputs": [],
   "source": [
    "import numpy as np\n",
    "import pandas as pd\n",
    "import matplotlib.pyplot as plt\n",
    "import seaborn as sns\n",
    "\n",
    "plt.style.use('fivethirtyeight')"
   ]
  },
  {
   "cell_type": "markdown",
   "metadata": {},
   "source": [
    "<br>\n",
    "\n",
    "Next, I read in the csv file which contains the necessary real world data and perform some basic operations on it to get an overview of the data."
   ]
  },
  {
   "cell_type": "code",
   "execution_count": 2,
   "metadata": {},
   "outputs": [],
   "source": [
    "# Read in csv file\n",
    "df = pd.read_csv(\"pl_stats.csv.html\")"
   ]
  },
  {
   "cell_type": "code",
   "execution_count": 3,
   "metadata": {},
   "outputs": [
    {
     "name": "stdout",
     "output_type": "stream",
     "text": [
      "<class 'pandas.core.frame.DataFrame'>\n",
      "RangeIndex: 380 entries, 0 to 379\n",
      "Data columns (total 64 columns):\n",
      " #   Column                               Non-Null Count  Dtype  \n",
      "---  ------                               --------------  -----  \n",
      " 0   timestamp                            380 non-null    int64  \n",
      " 1   date_GMT                             380 non-null    object \n",
      " 2   status                               380 non-null    object \n",
      " 3   attendance                           380 non-null    int64  \n",
      " 4   home_team_name                       380 non-null    object \n",
      " 5   away_team_name                       380 non-null    object \n",
      " 6   referee                              380 non-null    object \n",
      " 7   Game Week                            380 non-null    int64  \n",
      " 8   Pre-Match PPG (Home)                 380 non-null    float64\n",
      " 9   Pre-Match PPG (Away)                 380 non-null    float64\n",
      " 10  home_ppg                             380 non-null    float64\n",
      " 11  away_ppg                             380 non-null    float64\n",
      " 12  home_team_goal_count                 380 non-null    int64  \n",
      " 13  away_team_goal_count                 380 non-null    int64  \n",
      " 14  total_goal_count                     380 non-null    int64  \n",
      " 15  total_goals_at_half_time             380 non-null    int64  \n",
      " 16  home_team_goal_count_half_time       380 non-null    int64  \n",
      " 17  away_team_goal_count_half_time       380 non-null    int64  \n",
      " 18  home_team_goal_timings               292 non-null    object \n",
      " 19  away_team_goal_timings               261 non-null    object \n",
      " 20  home_team_corner_count               380 non-null    int64  \n",
      " 21  away_team_corner_count               380 non-null    int64  \n",
      " 22  home_team_yellow_cards               380 non-null    int64  \n",
      " 23  home_team_red_cards                  380 non-null    int64  \n",
      " 24  away_team_yellow_cards               380 non-null    int64  \n",
      " 25  away_team_red_cards                  380 non-null    int64  \n",
      " 26  home_team_first_half_cards           380 non-null    int64  \n",
      " 27  home_team_second_half_cards          380 non-null    int64  \n",
      " 28  away_team_first_half_cards           380 non-null    int64  \n",
      " 29  away_team_second_half_cards          380 non-null    int64  \n",
      " 30  home_team_shots                      380 non-null    int64  \n",
      " 31  away_team_shots                      380 non-null    int64  \n",
      " 32  home_team_shots_on_target            380 non-null    int64  \n",
      " 33  away_team_shots_on_target            380 non-null    int64  \n",
      " 34  home_team_shots_off_target           380 non-null    int64  \n",
      " 35  away_team_shots_off_target           380 non-null    int64  \n",
      " 36  home_team_fouls                      380 non-null    int64  \n",
      " 37  away_team_fouls                      380 non-null    int64  \n",
      " 38  home_team_possession                 380 non-null    int64  \n",
      " 39  away_team_possession                 380 non-null    int64  \n",
      " 40  team_a_xg                            380 non-null    float64\n",
      " 41  team_b_xg                            380 non-null    float64\n",
      " 42  average_goals_per_match_pre_match    380 non-null    float64\n",
      " 43  btts_percentage_pre_match            380 non-null    int64  \n",
      " 44  over_15_percentage_pre_match         380 non-null    int64  \n",
      " 45  over_25_percentage_pre_match         380 non-null    int64  \n",
      " 46  over_35_percentage_pre_match         380 non-null    int64  \n",
      " 47  over_45_percentage_pre_match         380 non-null    int64  \n",
      " 48  over_15_HT_FHG_percentage_pre_match  380 non-null    int64  \n",
      " 49  over_05_HT_FHG_percentage_pre_match  380 non-null    int64  \n",
      " 50  over_15_2HG_percentage_pre_match     380 non-null    int64  \n",
      " 51  over_05_2HG_percentage_pre_match     380 non-null    int64  \n",
      " 52  average_corners_per_match_pre_match  380 non-null    float64\n",
      " 53  average_cards_per_match_pre_match    380 non-null    float64\n",
      " 54  odds_ft_home_team_win                380 non-null    float64\n",
      " 55  odds_ft_draw                         380 non-null    float64\n",
      " 56  odds_ft_away_team_win                380 non-null    float64\n",
      " 57  odds_ft_over15                       380 non-null    float64\n",
      " 58  odds_ft_over25                       380 non-null    float64\n",
      " 59  odds_ft_over35                       380 non-null    float64\n",
      " 60  odds_ft_over45                       380 non-null    float64\n",
      " 61  odds_btts_yes                        380 non-null    float64\n",
      " 62  odds_btts_no                         380 non-null    float64\n",
      " 63  stadium_name                         380 non-null    object \n",
      "dtypes: float64(18), int64(38), object(8)\n",
      "memory usage: 190.1+ KB\n"
     ]
    }
   ],
   "source": [
    "# The .info method gives us an overview of the data types of each variable\n",
    "df.info()"
   ]
  },
  {
   "cell_type": "code",
   "execution_count": 4,
   "metadata": {},
   "outputs": [
    {
     "data": {
      "text/html": [
       "<div>\n",
       "<style scoped>\n",
       "    .dataframe tbody tr th:only-of-type {\n",
       "        vertical-align: middle;\n",
       "    }\n",
       "\n",
       "    .dataframe tbody tr th {\n",
       "        vertical-align: top;\n",
       "    }\n",
       "\n",
       "    .dataframe thead th {\n",
       "        text-align: right;\n",
       "    }\n",
       "</style>\n",
       "<table border=\"1\" class=\"dataframe\">\n",
       "  <thead>\n",
       "    <tr style=\"text-align: right;\">\n",
       "      <th></th>\n",
       "      <th>timestamp</th>\n",
       "      <th>attendance</th>\n",
       "      <th>Game Week</th>\n",
       "      <th>Pre-Match PPG (Home)</th>\n",
       "      <th>Pre-Match PPG (Away)</th>\n",
       "      <th>home_ppg</th>\n",
       "      <th>away_ppg</th>\n",
       "      <th>home_team_goal_count</th>\n",
       "      <th>away_team_goal_count</th>\n",
       "      <th>total_goal_count</th>\n",
       "      <th>...</th>\n",
       "      <th>average_cards_per_match_pre_match</th>\n",
       "      <th>odds_ft_home_team_win</th>\n",
       "      <th>odds_ft_draw</th>\n",
       "      <th>odds_ft_away_team_win</th>\n",
       "      <th>odds_ft_over15</th>\n",
       "      <th>odds_ft_over25</th>\n",
       "      <th>odds_ft_over35</th>\n",
       "      <th>odds_ft_over45</th>\n",
       "      <th>odds_btts_yes</th>\n",
       "      <th>odds_btts_no</th>\n",
       "    </tr>\n",
       "  </thead>\n",
       "  <tbody>\n",
       "    <tr>\n",
       "      <th>count</th>\n",
       "      <td>3.800000e+02</td>\n",
       "      <td>380.000000</td>\n",
       "      <td>380.000000</td>\n",
       "      <td>380.000000</td>\n",
       "      <td>380.000000</td>\n",
       "      <td>380.000000</td>\n",
       "      <td>380.000000</td>\n",
       "      <td>380.000000</td>\n",
       "      <td>380.000000</td>\n",
       "      <td>380.000000</td>\n",
       "      <td>...</td>\n",
       "      <td>380.000000</td>\n",
       "      <td>380.000000</td>\n",
       "      <td>380.000000</td>\n",
       "      <td>380.000000</td>\n",
       "      <td>380.000000</td>\n",
       "      <td>380.000000</td>\n",
       "      <td>380.000000</td>\n",
       "      <td>380.000000</td>\n",
       "      <td>380.000000</td>\n",
       "      <td>380.000000</td>\n",
       "    </tr>\n",
       "    <tr>\n",
       "      <th>mean</th>\n",
       "      <td>1.546145e+09</td>\n",
       "      <td>38186.847368</td>\n",
       "      <td>19.500000</td>\n",
       "      <td>1.480895</td>\n",
       "      <td>1.167632</td>\n",
       "      <td>1.615500</td>\n",
       "      <td>1.198000</td>\n",
       "      <td>1.568421</td>\n",
       "      <td>1.252632</td>\n",
       "      <td>2.821053</td>\n",
       "      <td>...</td>\n",
       "      <td>3.354763</td>\n",
       "      <td>3.219421</td>\n",
       "      <td>4.471316</td>\n",
       "      <td>5.381816</td>\n",
       "      <td>1.261000</td>\n",
       "      <td>1.821474</td>\n",
       "      <td>3.101158</td>\n",
       "      <td>5.897763</td>\n",
       "      <td>1.842316</td>\n",
       "      <td>1.908868</td>\n",
       "    </tr>\n",
       "    <tr>\n",
       "      <th>std</th>\n",
       "      <td>6.877351e+06</td>\n",
       "      <td>16720.334767</td>\n",
       "      <td>10.980313</td>\n",
       "      <td>0.831446</td>\n",
       "      <td>0.761209</td>\n",
       "      <td>0.590587</td>\n",
       "      <td>0.534085</td>\n",
       "      <td>1.312836</td>\n",
       "      <td>1.180031</td>\n",
       "      <td>1.601312</td>\n",
       "      <td>...</td>\n",
       "      <td>1.169849</td>\n",
       "      <td>2.962683</td>\n",
       "      <td>1.906924</td>\n",
       "      <td>5.540953</td>\n",
       "      <td>0.107498</td>\n",
       "      <td>0.312900</td>\n",
       "      <td>0.833400</td>\n",
       "      <td>2.032061</td>\n",
       "      <td>0.214528</td>\n",
       "      <td>0.228041</td>\n",
       "    </tr>\n",
       "    <tr>\n",
       "      <th>min</th>\n",
       "      <td>1.533928e+09</td>\n",
       "      <td>9980.000000</td>\n",
       "      <td>1.000000</td>\n",
       "      <td>0.000000</td>\n",
       "      <td>0.000000</td>\n",
       "      <td>0.470000</td>\n",
       "      <td>0.260000</td>\n",
       "      <td>0.000000</td>\n",
       "      <td>0.000000</td>\n",
       "      <td>0.000000</td>\n",
       "      <td>...</td>\n",
       "      <td>0.000000</td>\n",
       "      <td>1.070000</td>\n",
       "      <td>2.900000</td>\n",
       "      <td>1.120000</td>\n",
       "      <td>1.050000</td>\n",
       "      <td>1.200000</td>\n",
       "      <td>1.540000</td>\n",
       "      <td>2.300000</td>\n",
       "      <td>1.430000</td>\n",
       "      <td>1.380000</td>\n",
       "    </tr>\n",
       "    <tr>\n",
       "      <th>25%</th>\n",
       "      <td>1.540656e+09</td>\n",
       "      <td>25034.750000</td>\n",
       "      <td>10.000000</td>\n",
       "      <td>1.000000</td>\n",
       "      <td>0.630000</td>\n",
       "      <td>1.210000</td>\n",
       "      <td>0.840000</td>\n",
       "      <td>1.000000</td>\n",
       "      <td>0.000000</td>\n",
       "      <td>2.000000</td>\n",
       "      <td>...</td>\n",
       "      <td>2.922500</td>\n",
       "      <td>1.570000</td>\n",
       "      <td>3.350000</td>\n",
       "      <td>2.300000</td>\n",
       "      <td>1.180000</td>\n",
       "      <td>1.585000</td>\n",
       "      <td>2.450000</td>\n",
       "      <td>4.437500</td>\n",
       "      <td>1.690000</td>\n",
       "      <td>1.740000</td>\n",
       "    </tr>\n",
       "    <tr>\n",
       "      <th>50%</th>\n",
       "      <td>1.546018e+09</td>\n",
       "      <td>31948.000000</td>\n",
       "      <td>19.500000</td>\n",
       "      <td>1.470000</td>\n",
       "      <td>1.075000</td>\n",
       "      <td>1.475000</td>\n",
       "      <td>1.160000</td>\n",
       "      <td>1.000000</td>\n",
       "      <td>1.000000</td>\n",
       "      <td>3.000000</td>\n",
       "      <td>...</td>\n",
       "      <td>3.500000</td>\n",
       "      <td>2.300000</td>\n",
       "      <td>3.750000</td>\n",
       "      <td>3.350000</td>\n",
       "      <td>1.250000</td>\n",
       "      <td>1.770000</td>\n",
       "      <td>2.950000</td>\n",
       "      <td>5.500000</td>\n",
       "      <td>1.830000</td>\n",
       "      <td>1.890000</td>\n",
       "    </tr>\n",
       "    <tr>\n",
       "      <th>75%</th>\n",
       "      <td>1.551541e+09</td>\n",
       "      <td>53282.750000</td>\n",
       "      <td>29.000000</td>\n",
       "      <td>2.062500</td>\n",
       "      <td>1.610000</td>\n",
       "      <td>1.917500</td>\n",
       "      <td>1.542500</td>\n",
       "      <td>2.000000</td>\n",
       "      <td>2.000000</td>\n",
       "      <td>4.000000</td>\n",
       "      <td>...</td>\n",
       "      <td>4.000000</td>\n",
       "      <td>3.350000</td>\n",
       "      <td>4.850000</td>\n",
       "      <td>6.312500</td>\n",
       "      <td>1.330000</td>\n",
       "      <td>2.000000</td>\n",
       "      <td>3.600000</td>\n",
       "      <td>7.050000</td>\n",
       "      <td>1.962500</td>\n",
       "      <td>2.050000</td>\n",
       "    </tr>\n",
       "    <tr>\n",
       "      <th>max</th>\n",
       "      <td>1.557670e+09</td>\n",
       "      <td>81332.000000</td>\n",
       "      <td>38.000000</td>\n",
       "      <td>3.000000</td>\n",
       "      <td>3.000000</td>\n",
       "      <td>2.840000</td>\n",
       "      <td>2.320000</td>\n",
       "      <td>6.000000</td>\n",
       "      <td>6.000000</td>\n",
       "      <td>8.000000</td>\n",
       "      <td>...</td>\n",
       "      <td>8.000000</td>\n",
       "      <td>22.000000</td>\n",
       "      <td>15.750000</td>\n",
       "      <td>42.750000</td>\n",
       "      <td>1.570000</td>\n",
       "      <td>2.750000</td>\n",
       "      <td>5.650000</td>\n",
       "      <td>15.000000</td>\n",
       "      <td>2.800000</td>\n",
       "      <td>2.550000</td>\n",
       "    </tr>\n",
       "  </tbody>\n",
       "</table>\n",
       "<p>8 rows × 56 columns</p>\n",
       "</div>"
      ],
      "text/plain": [
       "          timestamp    attendance   Game Week  Pre-Match PPG (Home)  \\\n",
       "count  3.800000e+02    380.000000  380.000000            380.000000   \n",
       "mean   1.546145e+09  38186.847368   19.500000              1.480895   \n",
       "std    6.877351e+06  16720.334767   10.980313              0.831446   \n",
       "min    1.533928e+09   9980.000000    1.000000              0.000000   \n",
       "25%    1.540656e+09  25034.750000   10.000000              1.000000   \n",
       "50%    1.546018e+09  31948.000000   19.500000              1.470000   \n",
       "75%    1.551541e+09  53282.750000   29.000000              2.062500   \n",
       "max    1.557670e+09  81332.000000   38.000000              3.000000   \n",
       "\n",
       "       Pre-Match PPG (Away)    home_ppg    away_ppg  home_team_goal_count  \\\n",
       "count            380.000000  380.000000  380.000000            380.000000   \n",
       "mean               1.167632    1.615500    1.198000              1.568421   \n",
       "std                0.761209    0.590587    0.534085              1.312836   \n",
       "min                0.000000    0.470000    0.260000              0.000000   \n",
       "25%                0.630000    1.210000    0.840000              1.000000   \n",
       "50%                1.075000    1.475000    1.160000              1.000000   \n",
       "75%                1.610000    1.917500    1.542500              2.000000   \n",
       "max                3.000000    2.840000    2.320000              6.000000   \n",
       "\n",
       "       away_team_goal_count  total_goal_count  ...  \\\n",
       "count            380.000000        380.000000  ...   \n",
       "mean               1.252632          2.821053  ...   \n",
       "std                1.180031          1.601312  ...   \n",
       "min                0.000000          0.000000  ...   \n",
       "25%                0.000000          2.000000  ...   \n",
       "50%                1.000000          3.000000  ...   \n",
       "75%                2.000000          4.000000  ...   \n",
       "max                6.000000          8.000000  ...   \n",
       "\n",
       "       average_cards_per_match_pre_match  odds_ft_home_team_win  odds_ft_draw  \\\n",
       "count                         380.000000             380.000000    380.000000   \n",
       "mean                            3.354763               3.219421      4.471316   \n",
       "std                             1.169849               2.962683      1.906924   \n",
       "min                             0.000000               1.070000      2.900000   \n",
       "25%                             2.922500               1.570000      3.350000   \n",
       "50%                             3.500000               2.300000      3.750000   \n",
       "75%                             4.000000               3.350000      4.850000   \n",
       "max                             8.000000              22.000000     15.750000   \n",
       "\n",
       "       odds_ft_away_team_win  odds_ft_over15  odds_ft_over25  odds_ft_over35  \\\n",
       "count             380.000000      380.000000      380.000000      380.000000   \n",
       "mean                5.381816        1.261000        1.821474        3.101158   \n",
       "std                 5.540953        0.107498        0.312900        0.833400   \n",
       "min                 1.120000        1.050000        1.200000        1.540000   \n",
       "25%                 2.300000        1.180000        1.585000        2.450000   \n",
       "50%                 3.350000        1.250000        1.770000        2.950000   \n",
       "75%                 6.312500        1.330000        2.000000        3.600000   \n",
       "max                42.750000        1.570000        2.750000        5.650000   \n",
       "\n",
       "       odds_ft_over45  odds_btts_yes  odds_btts_no  \n",
       "count      380.000000     380.000000    380.000000  \n",
       "mean         5.897763       1.842316      1.908868  \n",
       "std          2.032061       0.214528      0.228041  \n",
       "min          2.300000       1.430000      1.380000  \n",
       "25%          4.437500       1.690000      1.740000  \n",
       "50%          5.500000       1.830000      1.890000  \n",
       "75%          7.050000       1.962500      2.050000  \n",
       "max         15.000000       2.800000      2.550000  \n",
       "\n",
       "[8 rows x 56 columns]"
      ]
     },
     "execution_count": 4,
     "metadata": {},
     "output_type": "execute_result"
    }
   ],
   "source": [
    "# The describe() method gives a summary of the data contained in the data set\n",
    "df.describe()"
   ]
  },
  {
   "cell_type": "markdown",
   "metadata": {},
   "source": [
    "<br>\n",
    "\n"
   ]
  },
  {
   "cell_type": "code",
   "execution_count": 5,
   "metadata": {},
   "outputs": [
    {
     "data": {
      "text/html": [
       "<div>\n",
       "<style scoped>\n",
       "    .dataframe tbody tr th:only-of-type {\n",
       "        vertical-align: middle;\n",
       "    }\n",
       "\n",
       "    .dataframe tbody tr th {\n",
       "        vertical-align: top;\n",
       "    }\n",
       "\n",
       "    .dataframe thead th {\n",
       "        text-align: right;\n",
       "    }\n",
       "</style>\n",
       "<table border=\"1\" class=\"dataframe\">\n",
       "  <thead>\n",
       "    <tr style=\"text-align: right;\">\n",
       "      <th></th>\n",
       "      <th>timestamp</th>\n",
       "      <th>date_GMT</th>\n",
       "      <th>status</th>\n",
       "      <th>attendance</th>\n",
       "      <th>home_team_name</th>\n",
       "      <th>away_team_name</th>\n",
       "      <th>referee</th>\n",
       "      <th>Game Week</th>\n",
       "      <th>Pre-Match PPG (Home)</th>\n",
       "      <th>Pre-Match PPG (Away)</th>\n",
       "      <th>...</th>\n",
       "      <th>odds_ft_home_team_win</th>\n",
       "      <th>odds_ft_draw</th>\n",
       "      <th>odds_ft_away_team_win</th>\n",
       "      <th>odds_ft_over15</th>\n",
       "      <th>odds_ft_over25</th>\n",
       "      <th>odds_ft_over35</th>\n",
       "      <th>odds_ft_over45</th>\n",
       "      <th>odds_btts_yes</th>\n",
       "      <th>odds_btts_no</th>\n",
       "      <th>stadium_name</th>\n",
       "    </tr>\n",
       "  </thead>\n",
       "  <tbody>\n",
       "    <tr>\n",
       "      <th>0</th>\n",
       "      <td>1533927600</td>\n",
       "      <td>Aug 10 2018 - 7:00pm</td>\n",
       "      <td>complete</td>\n",
       "      <td>74439</td>\n",
       "      <td>Manchester United</td>\n",
       "      <td>Leicester City</td>\n",
       "      <td>Andre Marriner</td>\n",
       "      <td>1</td>\n",
       "      <td>0.0</td>\n",
       "      <td>0.0</td>\n",
       "      <td>...</td>\n",
       "      <td>1.37</td>\n",
       "      <td>4.98</td>\n",
       "      <td>9.81</td>\n",
       "      <td>1.33</td>\n",
       "      <td>2.00</td>\n",
       "      <td>3.60</td>\n",
       "      <td>7.50</td>\n",
       "      <td>2.05</td>\n",
       "      <td>1.69</td>\n",
       "      <td>Old Trafford (Manchester)</td>\n",
       "    </tr>\n",
       "    <tr>\n",
       "      <th>1</th>\n",
       "      <td>1533987000</td>\n",
       "      <td>Aug 11 2018 - 11:30am</td>\n",
       "      <td>complete</td>\n",
       "      <td>51749</td>\n",
       "      <td>Newcastle United</td>\n",
       "      <td>Tottenham Hotspur</td>\n",
       "      <td>Martin Atkinson</td>\n",
       "      <td>1</td>\n",
       "      <td>0.0</td>\n",
       "      <td>0.0</td>\n",
       "      <td>...</td>\n",
       "      <td>4.51</td>\n",
       "      <td>3.77</td>\n",
       "      <td>1.84</td>\n",
       "      <td>1.31</td>\n",
       "      <td>1.95</td>\n",
       "      <td>3.50</td>\n",
       "      <td>5.75</td>\n",
       "      <td>1.83</td>\n",
       "      <td>1.87</td>\n",
       "      <td>St. James' Park (Newcastle upon Tyne)</td>\n",
       "    </tr>\n",
       "    <tr>\n",
       "      <th>2</th>\n",
       "      <td>1533996000</td>\n",
       "      <td>Aug 11 2018 - 2:00pm</td>\n",
       "      <td>complete</td>\n",
       "      <td>10353</td>\n",
       "      <td>AFC Bournemouth</td>\n",
       "      <td>Cardiff City</td>\n",
       "      <td>Kevin Friend</td>\n",
       "      <td>1</td>\n",
       "      <td>0.0</td>\n",
       "      <td>0.0</td>\n",
       "      <td>...</td>\n",
       "      <td>2.03</td>\n",
       "      <td>3.51</td>\n",
       "      <td>3.96</td>\n",
       "      <td>1.31</td>\n",
       "      <td>1.95</td>\n",
       "      <td>3.45</td>\n",
       "      <td>6.70</td>\n",
       "      <td>1.83</td>\n",
       "      <td>1.83</td>\n",
       "      <td>Vitality Stadium (Bournemouth- Dorset)</td>\n",
       "    </tr>\n",
       "    <tr>\n",
       "      <th>3</th>\n",
       "      <td>1533996000</td>\n",
       "      <td>Aug 11 2018 - 2:00pm</td>\n",
       "      <td>complete</td>\n",
       "      <td>24821</td>\n",
       "      <td>Fulham</td>\n",
       "      <td>Crystal Palace</td>\n",
       "      <td>Mike Dean</td>\n",
       "      <td>1</td>\n",
       "      <td>0.0</td>\n",
       "      <td>0.0</td>\n",
       "      <td>...</td>\n",
       "      <td>2.31</td>\n",
       "      <td>3.44</td>\n",
       "      <td>3.26</td>\n",
       "      <td>1.28</td>\n",
       "      <td>1.87</td>\n",
       "      <td>3.20</td>\n",
       "      <td>7.00</td>\n",
       "      <td>1.71</td>\n",
       "      <td>2.00</td>\n",
       "      <td>Craven Cottage (London)</td>\n",
       "    </tr>\n",
       "    <tr>\n",
       "      <th>4</th>\n",
       "      <td>1533996000</td>\n",
       "      <td>Aug 11 2018 - 2:00pm</td>\n",
       "      <td>complete</td>\n",
       "      <td>24121</td>\n",
       "      <td>Huddersfield Town</td>\n",
       "      <td>Chelsea</td>\n",
       "      <td>Chris Kavanagh</td>\n",
       "      <td>1</td>\n",
       "      <td>0.0</td>\n",
       "      <td>0.0</td>\n",
       "      <td>...</td>\n",
       "      <td>7.47</td>\n",
       "      <td>4.27</td>\n",
       "      <td>1.51</td>\n",
       "      <td>1.29</td>\n",
       "      <td>1.91</td>\n",
       "      <td>3.30</td>\n",
       "      <td>6.95</td>\n",
       "      <td>2.00</td>\n",
       "      <td>1.71</td>\n",
       "      <td>John Smith's Stadium (Huddersfield- West Yorks...</td>\n",
       "    </tr>\n",
       "  </tbody>\n",
       "</table>\n",
       "<p>5 rows × 64 columns</p>\n",
       "</div>"
      ],
      "text/plain": [
       "    timestamp               date_GMT    status  attendance     home_team_name  \\\n",
       "0  1533927600   Aug 10 2018 - 7:00pm  complete       74439  Manchester United   \n",
       "1  1533987000  Aug 11 2018 - 11:30am  complete       51749   Newcastle United   \n",
       "2  1533996000   Aug 11 2018 - 2:00pm  complete       10353    AFC Bournemouth   \n",
       "3  1533996000   Aug 11 2018 - 2:00pm  complete       24821             Fulham   \n",
       "4  1533996000   Aug 11 2018 - 2:00pm  complete       24121  Huddersfield Town   \n",
       "\n",
       "      away_team_name          referee  Game Week  Pre-Match PPG (Home)  \\\n",
       "0     Leicester City   Andre Marriner          1                   0.0   \n",
       "1  Tottenham Hotspur  Martin Atkinson          1                   0.0   \n",
       "2       Cardiff City     Kevin Friend          1                   0.0   \n",
       "3     Crystal Palace        Mike Dean          1                   0.0   \n",
       "4            Chelsea   Chris Kavanagh          1                   0.0   \n",
       "\n",
       "   Pre-Match PPG (Away)  ...  odds_ft_home_team_win  odds_ft_draw  \\\n",
       "0                   0.0  ...                   1.37          4.98   \n",
       "1                   0.0  ...                   4.51          3.77   \n",
       "2                   0.0  ...                   2.03          3.51   \n",
       "3                   0.0  ...                   2.31          3.44   \n",
       "4                   0.0  ...                   7.47          4.27   \n",
       "\n",
       "   odds_ft_away_team_win  odds_ft_over15  odds_ft_over25  odds_ft_over35  \\\n",
       "0                   9.81            1.33            2.00            3.60   \n",
       "1                   1.84            1.31            1.95            3.50   \n",
       "2                   3.96            1.31            1.95            3.45   \n",
       "3                   3.26            1.28            1.87            3.20   \n",
       "4                   1.51            1.29            1.91            3.30   \n",
       "\n",
       "   odds_ft_over45  odds_btts_yes odds_btts_no  \\\n",
       "0            7.50           2.05         1.69   \n",
       "1            5.75           1.83         1.87   \n",
       "2            6.70           1.83         1.83   \n",
       "3            7.00           1.71         2.00   \n",
       "4            6.95           2.00         1.71   \n",
       "\n",
       "                                        stadium_name  \n",
       "0                          Old Trafford (Manchester)  \n",
       "1              St. James' Park (Newcastle upon Tyne)  \n",
       "2             Vitality Stadium (Bournemouth- Dorset)  \n",
       "3                            Craven Cottage (London)  \n",
       "4  John Smith's Stadium (Huddersfield- West Yorks...  \n",
       "\n",
       "[5 rows x 64 columns]"
      ]
     },
     "execution_count": 5,
     "metadata": {},
     "output_type": "execute_result"
    }
   ],
   "source": [
    "# The head() method outputs the five first rows of the data set\n",
    "df.head()"
   ]
  },
  {
   "cell_type": "markdown",
   "metadata": {},
   "source": [
    "<br>\n",
    "\n",
    "There are 64 columns in the dataframe, each representing a different variable associated with each of the 380 matches played during the season. I am interested only in 4 variables (listed above) for the purposes of this project. Directly below, I use the `list` function to output each column header. This gives me a better picture of which ones I need to retain and which ones I will discard. I found the code for this on geeksforgeeks.org [2]."
   ]
  },
  {
   "cell_type": "code",
   "execution_count": 6,
   "metadata": {},
   "outputs": [
    {
     "data": {
      "text/plain": [
       "['timestamp',\n",
       " 'date_GMT',\n",
       " 'status',\n",
       " 'attendance',\n",
       " 'home_team_name',\n",
       " 'away_team_name',\n",
       " 'referee',\n",
       " 'Game Week',\n",
       " 'Pre-Match PPG (Home)',\n",
       " 'Pre-Match PPG (Away)',\n",
       " 'home_ppg',\n",
       " 'away_ppg',\n",
       " 'home_team_goal_count',\n",
       " 'away_team_goal_count',\n",
       " 'total_goal_count',\n",
       " 'total_goals_at_half_time',\n",
       " 'home_team_goal_count_half_time',\n",
       " 'away_team_goal_count_half_time',\n",
       " 'home_team_goal_timings',\n",
       " 'away_team_goal_timings',\n",
       " 'home_team_corner_count',\n",
       " 'away_team_corner_count',\n",
       " 'home_team_yellow_cards',\n",
       " 'home_team_red_cards',\n",
       " 'away_team_yellow_cards',\n",
       " 'away_team_red_cards',\n",
       " 'home_team_first_half_cards',\n",
       " 'home_team_second_half_cards',\n",
       " 'away_team_first_half_cards',\n",
       " 'away_team_second_half_cards',\n",
       " 'home_team_shots',\n",
       " 'away_team_shots',\n",
       " 'home_team_shots_on_target',\n",
       " 'away_team_shots_on_target',\n",
       " 'home_team_shots_off_target',\n",
       " 'away_team_shots_off_target',\n",
       " 'home_team_fouls',\n",
       " 'away_team_fouls',\n",
       " 'home_team_possession',\n",
       " 'away_team_possession',\n",
       " 'team_a_xg',\n",
       " 'team_b_xg',\n",
       " 'average_goals_per_match_pre_match',\n",
       " 'btts_percentage_pre_match',\n",
       " 'over_15_percentage_pre_match',\n",
       " 'over_25_percentage_pre_match',\n",
       " 'over_35_percentage_pre_match',\n",
       " 'over_45_percentage_pre_match',\n",
       " 'over_15_HT_FHG_percentage_pre_match',\n",
       " 'over_05_HT_FHG_percentage_pre_match',\n",
       " 'over_15_2HG_percentage_pre_match',\n",
       " 'over_05_2HG_percentage_pre_match',\n",
       " 'average_corners_per_match_pre_match',\n",
       " 'average_cards_per_match_pre_match',\n",
       " 'odds_ft_home_team_win',\n",
       " 'odds_ft_draw',\n",
       " 'odds_ft_away_team_win',\n",
       " 'odds_ft_over15',\n",
       " 'odds_ft_over25',\n",
       " 'odds_ft_over35',\n",
       " 'odds_ft_over45',\n",
       " 'odds_btts_yes',\n",
       " 'odds_btts_no',\n",
       " 'stadium_name']"
      ]
     },
     "execution_count": 6,
     "metadata": {},
     "output_type": "execute_result"
    }
   ],
   "source": [
    "# Create a list of every column header\n",
    "list(df.columns)"
   ]
  },
  {
   "cell_type": "markdown",
   "metadata": {},
   "source": [
    "As detailed above, I am interested in simulating premier league results of the home team for a full season based on 4 variables: Goals scored, Possession, Shots and Result. \n",
    "<br>\n",
    "\n"
   ]
  },
  {
   "cell_type": "markdown",
   "metadata": {},
   "source": [
    "### 2.2 Aggregation\n",
    "\n",
    "<br>\n",
    "\n",
    "First, I set about aggregating the data set so that it contains all the columns relevant to the current project. The dependent variable (result) does not have its own column in the original data set so I will need to create this. In order to do that, I include the 'away_team_goal_count' in the dataframe below:"
   ]
  },
  {
   "cell_type": "code",
   "execution_count": 7,
   "metadata": {},
   "outputs": [
    {
     "data": {
      "text/html": [
       "<div>\n",
       "<style scoped>\n",
       "    .dataframe tbody tr th:only-of-type {\n",
       "        vertical-align: middle;\n",
       "    }\n",
       "\n",
       "    .dataframe tbody tr th {\n",
       "        vertical-align: top;\n",
       "    }\n",
       "\n",
       "    .dataframe thead th {\n",
       "        text-align: right;\n",
       "    }\n",
       "</style>\n",
       "<table border=\"1\" class=\"dataframe\">\n",
       "  <thead>\n",
       "    <tr style=\"text-align: right;\">\n",
       "      <th></th>\n",
       "      <th>away_team_goal_count</th>\n",
       "      <th>home_team_goal_count</th>\n",
       "      <th>home_team_possession</th>\n",
       "      <th>home_team_shots</th>\n",
       "    </tr>\n",
       "  </thead>\n",
       "  <tbody>\n",
       "    <tr>\n",
       "      <th>0</th>\n",
       "      <td>1</td>\n",
       "      <td>2</td>\n",
       "      <td>46</td>\n",
       "      <td>8</td>\n",
       "    </tr>\n",
       "    <tr>\n",
       "      <th>1</th>\n",
       "      <td>2</td>\n",
       "      <td>1</td>\n",
       "      <td>40</td>\n",
       "      <td>11</td>\n",
       "    </tr>\n",
       "    <tr>\n",
       "      <th>2</th>\n",
       "      <td>0</td>\n",
       "      <td>2</td>\n",
       "      <td>62</td>\n",
       "      <td>11</td>\n",
       "    </tr>\n",
       "    <tr>\n",
       "      <th>3</th>\n",
       "      <td>2</td>\n",
       "      <td>0</td>\n",
       "      <td>66</td>\n",
       "      <td>11</td>\n",
       "    </tr>\n",
       "    <tr>\n",
       "      <th>4</th>\n",
       "      <td>3</td>\n",
       "      <td>0</td>\n",
       "      <td>37</td>\n",
       "      <td>6</td>\n",
       "    </tr>\n",
       "    <tr>\n",
       "      <th>...</th>\n",
       "      <td>...</td>\n",
       "      <td>...</td>\n",
       "      <td>...</td>\n",
       "      <td>...</td>\n",
       "    </tr>\n",
       "    <tr>\n",
       "      <th>375</th>\n",
       "      <td>0</td>\n",
       "      <td>2</td>\n",
       "      <td>59</td>\n",
       "      <td>11</td>\n",
       "    </tr>\n",
       "    <tr>\n",
       "      <th>376</th>\n",
       "      <td>2</td>\n",
       "      <td>0</td>\n",
       "      <td>73</td>\n",
       "      <td>21</td>\n",
       "    </tr>\n",
       "    <tr>\n",
       "      <th>377</th>\n",
       "      <td>1</td>\n",
       "      <td>1</td>\n",
       "      <td>53</td>\n",
       "      <td>7</td>\n",
       "    </tr>\n",
       "    <tr>\n",
       "      <th>378</th>\n",
       "      <td>2</td>\n",
       "      <td>2</td>\n",
       "      <td>55</td>\n",
       "      <td>9</td>\n",
       "    </tr>\n",
       "    <tr>\n",
       "      <th>379</th>\n",
       "      <td>4</td>\n",
       "      <td>1</td>\n",
       "      <td>48</td>\n",
       "      <td>11</td>\n",
       "    </tr>\n",
       "  </tbody>\n",
       "</table>\n",
       "<p>380 rows × 4 columns</p>\n",
       "</div>"
      ],
      "text/plain": [
       "     away_team_goal_count  home_team_goal_count  home_team_possession  \\\n",
       "0                       1                     2                    46   \n",
       "1                       2                     1                    40   \n",
       "2                       0                     2                    62   \n",
       "3                       2                     0                    66   \n",
       "4                       3                     0                    37   \n",
       "..                    ...                   ...                   ...   \n",
       "375                     0                     2                    59   \n",
       "376                     2                     0                    73   \n",
       "377                     1                     1                    53   \n",
       "378                     2                     2                    55   \n",
       "379                     4                     1                    48   \n",
       "\n",
       "     home_team_shots  \n",
       "0                  8  \n",
       "1                 11  \n",
       "2                 11  \n",
       "3                 11  \n",
       "4                  6  \n",
       "..               ...  \n",
       "375               11  \n",
       "376               21  \n",
       "377                7  \n",
       "378                9  \n",
       "379               11  \n",
       "\n",
       "[380 rows x 4 columns]"
      ]
     },
     "execution_count": 7,
     "metadata": {},
     "output_type": "execute_result"
    }
   ],
   "source": [
    "# Create dataframe with relevant variables\n",
    "df1 = df[[\"away_team_goal_count\", \"home_team_goal_count\", \"home_team_possession\", \"home_team_shots\"]]\n",
    "df1         "
   ]
  },
  {
   "cell_type": "markdown",
   "metadata": {},
   "source": [
    "<br>\n",
    "\n"
   ]
  },
  {
   "cell_type": "markdown",
   "metadata": {},
   "source": [
    "In order to create and fill the result column, I use the code below. The `np.where()` function enables us to compare values in different columns. There is some useful information available online for this function [3], [4]. I create a new column called 'home_team_result' and assign a value to each row: W = win, L = lose, D = draw\n",
    "\n",
    "**note: this operation raises a SettingWithCopyWarning. I have checked the documentation and many discussions and blog posts about this but have not managed to find a solution to date**\n"
   ]
  },
  {
   "cell_type": "code",
   "execution_count": 8,
   "metadata": {
    "scrolled": true
   },
   "outputs": [
    {
     "name": "stderr",
     "output_type": "stream",
     "text": [
      "<ipython-input-8-27f1615fb517>:1: SettingWithCopyWarning: \n",
      "A value is trying to be set on a copy of a slice from a DataFrame.\n",
      "Try using .loc[row_indexer,col_indexer] = value instead\n",
      "\n",
      "See the caveats in the documentation: https://pandas.pydata.org/pandas-docs/stable/user_guide/indexing.html#returning-a-view-versus-a-copy\n",
      "  df1['home_team_result'] = np.where(df1['away_team_goal_count'] < df1['home_team_goal_count'], 'W',\n"
     ]
    }
   ],
   "source": [
    "df1['home_team_result'] = np.where(df1['away_team_goal_count'] < df1['home_team_goal_count'], 'W', \n",
    "         (np.where(df1['away_team_goal_count'] == df1['home_team_goal_count'], 'D', 'L')))\n"
   ]
  },
  {
   "cell_type": "code",
   "execution_count": 9,
   "metadata": {},
   "outputs": [
    {
     "data": {
      "text/html": [
       "<div>\n",
       "<style scoped>\n",
       "    .dataframe tbody tr th:only-of-type {\n",
       "        vertical-align: middle;\n",
       "    }\n",
       "\n",
       "    .dataframe tbody tr th {\n",
       "        vertical-align: top;\n",
       "    }\n",
       "\n",
       "    .dataframe thead th {\n",
       "        text-align: right;\n",
       "    }\n",
       "</style>\n",
       "<table border=\"1\" class=\"dataframe\">\n",
       "  <thead>\n",
       "    <tr style=\"text-align: right;\">\n",
       "      <th></th>\n",
       "      <th>away_team_goal_count</th>\n",
       "      <th>home_team_goal_count</th>\n",
       "      <th>home_team_possession</th>\n",
       "      <th>home_team_shots</th>\n",
       "      <th>home_team_result</th>\n",
       "    </tr>\n",
       "  </thead>\n",
       "  <tbody>\n",
       "    <tr>\n",
       "      <th>0</th>\n",
       "      <td>1</td>\n",
       "      <td>2</td>\n",
       "      <td>46</td>\n",
       "      <td>8</td>\n",
       "      <td>W</td>\n",
       "    </tr>\n",
       "    <tr>\n",
       "      <th>1</th>\n",
       "      <td>2</td>\n",
       "      <td>1</td>\n",
       "      <td>40</td>\n",
       "      <td>11</td>\n",
       "      <td>L</td>\n",
       "    </tr>\n",
       "    <tr>\n",
       "      <th>2</th>\n",
       "      <td>0</td>\n",
       "      <td>2</td>\n",
       "      <td>62</td>\n",
       "      <td>11</td>\n",
       "      <td>W</td>\n",
       "    </tr>\n",
       "    <tr>\n",
       "      <th>3</th>\n",
       "      <td>2</td>\n",
       "      <td>0</td>\n",
       "      <td>66</td>\n",
       "      <td>11</td>\n",
       "      <td>L</td>\n",
       "    </tr>\n",
       "    <tr>\n",
       "      <th>4</th>\n",
       "      <td>3</td>\n",
       "      <td>0</td>\n",
       "      <td>37</td>\n",
       "      <td>6</td>\n",
       "      <td>L</td>\n",
       "    </tr>\n",
       "    <tr>\n",
       "      <th>...</th>\n",
       "      <td>...</td>\n",
       "      <td>...</td>\n",
       "      <td>...</td>\n",
       "      <td>...</td>\n",
       "      <td>...</td>\n",
       "    </tr>\n",
       "    <tr>\n",
       "      <th>375</th>\n",
       "      <td>0</td>\n",
       "      <td>2</td>\n",
       "      <td>59</td>\n",
       "      <td>11</td>\n",
       "      <td>W</td>\n",
       "    </tr>\n",
       "    <tr>\n",
       "      <th>376</th>\n",
       "      <td>2</td>\n",
       "      <td>0</td>\n",
       "      <td>73</td>\n",
       "      <td>21</td>\n",
       "      <td>L</td>\n",
       "    </tr>\n",
       "    <tr>\n",
       "      <th>377</th>\n",
       "      <td>1</td>\n",
       "      <td>1</td>\n",
       "      <td>53</td>\n",
       "      <td>7</td>\n",
       "      <td>D</td>\n",
       "    </tr>\n",
       "    <tr>\n",
       "      <th>378</th>\n",
       "      <td>2</td>\n",
       "      <td>2</td>\n",
       "      <td>55</td>\n",
       "      <td>9</td>\n",
       "      <td>D</td>\n",
       "    </tr>\n",
       "    <tr>\n",
       "      <th>379</th>\n",
       "      <td>4</td>\n",
       "      <td>1</td>\n",
       "      <td>48</td>\n",
       "      <td>11</td>\n",
       "      <td>L</td>\n",
       "    </tr>\n",
       "  </tbody>\n",
       "</table>\n",
       "<p>380 rows × 5 columns</p>\n",
       "</div>"
      ],
      "text/plain": [
       "     away_team_goal_count  home_team_goal_count  home_team_possession  \\\n",
       "0                       1                     2                    46   \n",
       "1                       2                     1                    40   \n",
       "2                       0                     2                    62   \n",
       "3                       2                     0                    66   \n",
       "4                       3                     0                    37   \n",
       "..                    ...                   ...                   ...   \n",
       "375                     0                     2                    59   \n",
       "376                     2                     0                    73   \n",
       "377                     1                     1                    53   \n",
       "378                     2                     2                    55   \n",
       "379                     4                     1                    48   \n",
       "\n",
       "     home_team_shots home_team_result  \n",
       "0                  8                W  \n",
       "1                 11                L  \n",
       "2                 11                W  \n",
       "3                 11                L  \n",
       "4                  6                L  \n",
       "..               ...              ...  \n",
       "375               11                W  \n",
       "376               21                L  \n",
       "377                7                D  \n",
       "378                9                D  \n",
       "379               11                L  \n",
       "\n",
       "[380 rows x 5 columns]"
      ]
     },
     "execution_count": 9,
     "metadata": {},
     "output_type": "execute_result"
    }
   ],
   "source": [
    "df1"
   ]
  },
  {
   "cell_type": "markdown",
   "metadata": {},
   "source": [
    "<br>\n",
    "\n"
   ]
  },
  {
   "cell_type": "markdown",
   "metadata": {},
   "source": [
    "The 'away_team_goal_count' column is no longer relevant for the purposes of the project so I remove this from the data set:"
   ]
  },
  {
   "cell_type": "code",
   "execution_count": 10,
   "metadata": {},
   "outputs": [],
   "source": [
    "# Delete superfluous column\n",
    "del df1[\"away_team_goal_count\"]"
   ]
  },
  {
   "cell_type": "code",
   "execution_count": 11,
   "metadata": {},
   "outputs": [
    {
     "data": {
      "text/html": [
       "<div>\n",
       "<style scoped>\n",
       "    .dataframe tbody tr th:only-of-type {\n",
       "        vertical-align: middle;\n",
       "    }\n",
       "\n",
       "    .dataframe tbody tr th {\n",
       "        vertical-align: top;\n",
       "    }\n",
       "\n",
       "    .dataframe thead th {\n",
       "        text-align: right;\n",
       "    }\n",
       "</style>\n",
       "<table border=\"1\" class=\"dataframe\">\n",
       "  <thead>\n",
       "    <tr style=\"text-align: right;\">\n",
       "      <th></th>\n",
       "      <th>home_team_goal_count</th>\n",
       "      <th>home_team_possession</th>\n",
       "      <th>home_team_shots</th>\n",
       "      <th>home_team_result</th>\n",
       "    </tr>\n",
       "  </thead>\n",
       "  <tbody>\n",
       "    <tr>\n",
       "      <th>0</th>\n",
       "      <td>2</td>\n",
       "      <td>46</td>\n",
       "      <td>8</td>\n",
       "      <td>W</td>\n",
       "    </tr>\n",
       "    <tr>\n",
       "      <th>1</th>\n",
       "      <td>1</td>\n",
       "      <td>40</td>\n",
       "      <td>11</td>\n",
       "      <td>L</td>\n",
       "    </tr>\n",
       "    <tr>\n",
       "      <th>2</th>\n",
       "      <td>2</td>\n",
       "      <td>62</td>\n",
       "      <td>11</td>\n",
       "      <td>W</td>\n",
       "    </tr>\n",
       "    <tr>\n",
       "      <th>3</th>\n",
       "      <td>0</td>\n",
       "      <td>66</td>\n",
       "      <td>11</td>\n",
       "      <td>L</td>\n",
       "    </tr>\n",
       "    <tr>\n",
       "      <th>4</th>\n",
       "      <td>0</td>\n",
       "      <td>37</td>\n",
       "      <td>6</td>\n",
       "      <td>L</td>\n",
       "    </tr>\n",
       "    <tr>\n",
       "      <th>...</th>\n",
       "      <td>...</td>\n",
       "      <td>...</td>\n",
       "      <td>...</td>\n",
       "      <td>...</td>\n",
       "    </tr>\n",
       "    <tr>\n",
       "      <th>375</th>\n",
       "      <td>2</td>\n",
       "      <td>59</td>\n",
       "      <td>11</td>\n",
       "      <td>W</td>\n",
       "    </tr>\n",
       "    <tr>\n",
       "      <th>376</th>\n",
       "      <td>0</td>\n",
       "      <td>73</td>\n",
       "      <td>21</td>\n",
       "      <td>L</td>\n",
       "    </tr>\n",
       "    <tr>\n",
       "      <th>377</th>\n",
       "      <td>1</td>\n",
       "      <td>53</td>\n",
       "      <td>7</td>\n",
       "      <td>D</td>\n",
       "    </tr>\n",
       "    <tr>\n",
       "      <th>378</th>\n",
       "      <td>2</td>\n",
       "      <td>55</td>\n",
       "      <td>9</td>\n",
       "      <td>D</td>\n",
       "    </tr>\n",
       "    <tr>\n",
       "      <th>379</th>\n",
       "      <td>1</td>\n",
       "      <td>48</td>\n",
       "      <td>11</td>\n",
       "      <td>L</td>\n",
       "    </tr>\n",
       "  </tbody>\n",
       "</table>\n",
       "<p>380 rows × 4 columns</p>\n",
       "</div>"
      ],
      "text/plain": [
       "     home_team_goal_count  home_team_possession  home_team_shots  \\\n",
       "0                       2                    46                8   \n",
       "1                       1                    40               11   \n",
       "2                       2                    62               11   \n",
       "3                       0                    66               11   \n",
       "4                       0                    37                6   \n",
       "..                    ...                   ...              ...   \n",
       "375                     2                    59               11   \n",
       "376                     0                    73               21   \n",
       "377                     1                    53                7   \n",
       "378                     2                    55                9   \n",
       "379                     1                    48               11   \n",
       "\n",
       "    home_team_result  \n",
       "0                  W  \n",
       "1                  L  \n",
       "2                  W  \n",
       "3                  L  \n",
       "4                  L  \n",
       "..               ...  \n",
       "375                W  \n",
       "376                L  \n",
       "377                D  \n",
       "378                D  \n",
       "379                L  \n",
       "\n",
       "[380 rows x 4 columns]"
      ]
     },
     "execution_count": 11,
     "metadata": {},
     "output_type": "execute_result"
    }
   ],
   "source": [
    "# Output dataframe with desired variables\n",
    "df1"
   ]
  },
  {
   "cell_type": "markdown",
   "metadata": {},
   "source": [
    "<br>"
   ]
  },
  {
   "cell_type": "markdown",
   "metadata": {},
   "source": [
    "**ADD FAKE DATA VARIABLE FOR EXISTING DATA SET - ALCOHOL CONSUMPTION**"
   ]
  },
  {
   "cell_type": "markdown",
   "metadata": {},
   "source": [
    "Per year per person 15+"
   ]
  },
  {
   "cell_type": "code",
   "execution_count": 12,
   "metadata": {},
   "outputs": [],
   "source": [
    "# per year per person 15+\n",
    "pints = 445"
   ]
  },
  {
   "cell_type": "code",
   "execution_count": 13,
   "metadata": {},
   "outputs": [],
   "source": [
    "x = np.random.normal(5.2, 2, 200)"
   ]
  },
  {
   "cell_type": "code",
   "execution_count": 14,
   "metadata": {},
   "outputs": [
    {
     "data": {
      "text/plain": [
       "(array([ 4., 10., 22., 32., 33., 37., 31., 26.,  3.,  2.]),\n",
       " array([ 0.43639386,  1.42249559,  2.40859731,  3.39469904,  4.38080076,\n",
       "         5.36690248,  6.35300421,  7.33910593,  8.32520765,  9.31130938,\n",
       "        10.2974111 ]),\n",
       " <a list of 10 Patch objects>)"
      ]
     },
     "execution_count": 14,
     "metadata": {},
     "output_type": "execute_result"
    },
    {
     "data": {
      "image/png": "[encoded data removed]",
      "text/plain": [
       "<Figure size 432x288 with 1 Axes>"
      ]
     },
     "metadata": {},
     "output_type": "display_data"
    }
   ],
   "source": [
    "plt.hist(x)"
   ]
  },
  {
   "cell_type": "code",
   "execution_count": null,
   "metadata": {},
   "outputs": [],
   "source": []
  },
  {
   "cell_type": "code",
   "execution_count": null,
   "metadata": {},
   "outputs": [],
   "source": []
  },
  {
   "cell_type": "code",
   "execution_count": null,
   "metadata": {},
   "outputs": [],
   "source": []
  },
  {
   "cell_type": "code",
   "execution_count": null,
   "metadata": {},
   "outputs": [],
   "source": []
  },
  {
   "cell_type": "code",
   "execution_count": null,
   "metadata": {},
   "outputs": [],
   "source": []
  },
  {
   "cell_type": "code",
   "execution_count": null,
   "metadata": {},
   "outputs": [],
   "source": []
  },
  {
   "cell_type": "code",
   "execution_count": null,
   "metadata": {},
   "outputs": [],
   "source": []
  },
  {
   "cell_type": "code",
   "execution_count": null,
   "metadata": {},
   "outputs": [],
   "source": []
  },
  {
   "cell_type": "code",
   "execution_count": null,
   "metadata": {},
   "outputs": [],
   "source": []
  },
  {
   "cell_type": "code",
   "execution_count": null,
   "metadata": {},
   "outputs": [],
   "source": []
  },
  {
   "cell_type": "code",
   "execution_count": null,
   "metadata": {},
   "outputs": [],
   "source": []
  },
  {
   "cell_type": "markdown",
   "metadata": {},
   "source": [
    "### 2.2 Variable relationships and properties\n",
    "\n",
    "<br>"
   ]
  },
  {
   "cell_type": "markdown",
   "metadata": {},
   "source": [
    "Now that I have the 4 variables I am interested in, I investigate the properties of each one and their relationships with each other. \n",
    "<br> \n",
    "\n",
    "In this section, I split my dataframe into 3 separate dataframes, one will contain all of the data for when the home team won, another for when they lost and other for when the result was a draw. This is executed using code I sourced on stackoverflow.com [5]. \n",
    "\n",
    "Analysis will be done on each of these three subsets and then compared with each other. First, I investigate variables when the result was a win.\n",
    "<br>"
   ]
  },
  {
   "cell_type": "markdown",
   "metadata": {},
   "source": [
    "<br>\n",
    "\n",
    "#### 2.2.1 Win dataset\n",
    "\n",
    "Below, I investigate the data for when the home team won. For each of the three variables (goal_count, possession and shots) I output a summary stats table and plot their distributions for visualisation. It is useful to get a picture of the distribution for simulation later on. "
   ]
  },
  {
   "cell_type": "markdown",
   "metadata": {},
   "source": [
    "<br>"
   ]
  },
  {
   "cell_type": "code",
   "execution_count": 15,
   "metadata": {},
   "outputs": [
    {
     "data": {
      "text/html": [
       "<div>\n",
       "<style scoped>\n",
       "    .dataframe tbody tr th:only-of-type {\n",
       "        vertical-align: middle;\n",
       "    }\n",
       "\n",
       "    .dataframe tbody tr th {\n",
       "        vertical-align: top;\n",
       "    }\n",
       "\n",
       "    .dataframe thead th {\n",
       "        text-align: right;\n",
       "    }\n",
       "</style>\n",
       "<table border=\"1\" class=\"dataframe\">\n",
       "  <thead>\n",
       "    <tr style=\"text-align: right;\">\n",
       "      <th></th>\n",
       "      <th>home_team_goal_count</th>\n",
       "      <th>home_team_possession</th>\n",
       "      <th>home_team_shots</th>\n",
       "      <th>home_team_result</th>\n",
       "    </tr>\n",
       "  </thead>\n",
       "  <tbody>\n",
       "    <tr>\n",
       "      <th>0</th>\n",
       "      <td>2</td>\n",
       "      <td>46</td>\n",
       "      <td>8</td>\n",
       "      <td>W</td>\n",
       "    </tr>\n",
       "    <tr>\n",
       "      <th>2</th>\n",
       "      <td>2</td>\n",
       "      <td>62</td>\n",
       "      <td>11</td>\n",
       "      <td>W</td>\n",
       "    </tr>\n",
       "    <tr>\n",
       "      <th>5</th>\n",
       "      <td>2</td>\n",
       "      <td>53</td>\n",
       "      <td>15</td>\n",
       "      <td>W</td>\n",
       "    </tr>\n",
       "    <tr>\n",
       "      <th>7</th>\n",
       "      <td>4</td>\n",
       "      <td>64</td>\n",
       "      <td>16</td>\n",
       "      <td>W</td>\n",
       "    </tr>\n",
       "    <tr>\n",
       "      <th>11</th>\n",
       "      <td>2</td>\n",
       "      <td>58</td>\n",
       "      <td>11</td>\n",
       "      <td>W</td>\n",
       "    </tr>\n",
       "    <tr>\n",
       "      <th>...</th>\n",
       "      <td>...</td>\n",
       "      <td>...</td>\n",
       "      <td>...</td>\n",
       "      <td>...</td>\n",
       "    </tr>\n",
       "    <tr>\n",
       "      <th>363</th>\n",
       "      <td>1</td>\n",
       "      <td>39</td>\n",
       "      <td>16</td>\n",
       "      <td>W</td>\n",
       "    </tr>\n",
       "    <tr>\n",
       "      <th>366</th>\n",
       "      <td>3</td>\n",
       "      <td>58</td>\n",
       "      <td>16</td>\n",
       "      <td>W</td>\n",
       "    </tr>\n",
       "    <tr>\n",
       "      <th>369</th>\n",
       "      <td>1</td>\n",
       "      <td>61</td>\n",
       "      <td>16</td>\n",
       "      <td>W</td>\n",
       "    </tr>\n",
       "    <tr>\n",
       "      <th>372</th>\n",
       "      <td>5</td>\n",
       "      <td>45</td>\n",
       "      <td>16</td>\n",
       "      <td>W</td>\n",
       "    </tr>\n",
       "    <tr>\n",
       "      <th>375</th>\n",
       "      <td>2</td>\n",
       "      <td>59</td>\n",
       "      <td>11</td>\n",
       "      <td>W</td>\n",
       "    </tr>\n",
       "  </tbody>\n",
       "</table>\n",
       "<p>181 rows × 4 columns</p>\n",
       "</div>"
      ],
      "text/plain": [
       "     home_team_goal_count  home_team_possession  home_team_shots  \\\n",
       "0                       2                    46                8   \n",
       "2                       2                    62               11   \n",
       "5                       2                    53               15   \n",
       "7                       4                    64               16   \n",
       "11                      2                    58               11   \n",
       "..                    ...                   ...              ...   \n",
       "363                     1                    39               16   \n",
       "366                     3                    58               16   \n",
       "369                     1                    61               16   \n",
       "372                     5                    45               16   \n",
       "375                     2                    59               11   \n",
       "\n",
       "    home_team_result  \n",
       "0                  W  \n",
       "2                  W  \n",
       "5                  W  \n",
       "7                  W  \n",
       "11                 W  \n",
       "..               ...  \n",
       "363                W  \n",
       "366                W  \n",
       "369                W  \n",
       "372                W  \n",
       "375                W  \n",
       "\n",
       "[181 rows x 4 columns]"
      ]
     },
     "execution_count": 15,
     "metadata": {},
     "output_type": "execute_result"
    }
   ],
   "source": [
    "# Split dataframe based on result (wins)\n",
    "win_only = df1.loc[df1['home_team_result'] == 'W']\n",
    "win_only"
   ]
  },
  {
   "cell_type": "code",
   "execution_count": 16,
   "metadata": {},
   "outputs": [
    {
     "data": {
      "text/html": [
       "<div>\n",
       "<style scoped>\n",
       "    .dataframe tbody tr th:only-of-type {\n",
       "        vertical-align: middle;\n",
       "    }\n",
       "\n",
       "    .dataframe tbody tr th {\n",
       "        vertical-align: top;\n",
       "    }\n",
       "\n",
       "    .dataframe thead th {\n",
       "        text-align: right;\n",
       "    }\n",
       "</style>\n",
       "<table border=\"1\" class=\"dataframe\">\n",
       "  <thead>\n",
       "    <tr style=\"text-align: right;\">\n",
       "      <th></th>\n",
       "      <th>home_team_goal_count</th>\n",
       "      <th>home_team_possession</th>\n",
       "      <th>home_team_shots</th>\n",
       "    </tr>\n",
       "  </thead>\n",
       "  <tbody>\n",
       "    <tr>\n",
       "      <th>count</th>\n",
       "      <td>181.000000</td>\n",
       "      <td>181.000000</td>\n",
       "      <td>181.000000</td>\n",
       "    </tr>\n",
       "    <tr>\n",
       "      <th>mean</th>\n",
       "      <td>2.535912</td>\n",
       "      <td>53.867403</td>\n",
       "      <td>12.696133</td>\n",
       "    </tr>\n",
       "    <tr>\n",
       "      <th>std</th>\n",
       "      <td>1.132884</td>\n",
       "      <td>13.482255</td>\n",
       "      <td>4.195426</td>\n",
       "    </tr>\n",
       "    <tr>\n",
       "      <th>min</th>\n",
       "      <td>1.000000</td>\n",
       "      <td>23.000000</td>\n",
       "      <td>5.000000</td>\n",
       "    </tr>\n",
       "    <tr>\n",
       "      <th>25%</th>\n",
       "      <td>2.000000</td>\n",
       "      <td>43.000000</td>\n",
       "      <td>9.000000</td>\n",
       "    </tr>\n",
       "    <tr>\n",
       "      <th>50%</th>\n",
       "      <td>2.000000</td>\n",
       "      <td>55.000000</td>\n",
       "      <td>13.000000</td>\n",
       "    </tr>\n",
       "    <tr>\n",
       "      <th>75%</th>\n",
       "      <td>3.000000</td>\n",
       "      <td>64.000000</td>\n",
       "      <td>16.000000</td>\n",
       "    </tr>\n",
       "    <tr>\n",
       "      <th>max</th>\n",
       "      <td>6.000000</td>\n",
       "      <td>80.000000</td>\n",
       "      <td>26.000000</td>\n",
       "    </tr>\n",
       "  </tbody>\n",
       "</table>\n",
       "</div>"
      ],
      "text/plain": [
       "       home_team_goal_count  home_team_possession  home_team_shots\n",
       "count            181.000000            181.000000       181.000000\n",
       "mean               2.535912             53.867403        12.696133\n",
       "std                1.132884             13.482255         4.195426\n",
       "min                1.000000             23.000000         5.000000\n",
       "25%                2.000000             43.000000         9.000000\n",
       "50%                2.000000             55.000000        13.000000\n",
       "75%                3.000000             64.000000        16.000000\n",
       "max                6.000000             80.000000        26.000000"
      ]
     },
     "execution_count": 16,
     "metadata": {},
     "output_type": "execute_result"
    }
   ],
   "source": [
    "# Output summary of stats for win dataset\n",
    "win_only.describe()"
   ]
  },
  {
   "cell_type": "markdown",
   "metadata": {},
   "source": [
    "<br>\n",
    "\n"
   ]
  },
  {
   "cell_type": "markdown",
   "metadata": {},
   "source": [
    "##### Win goal count"
   ]
  },
  {
   "cell_type": "markdown",
   "metadata": {},
   "source": [
    "Below, I create a series containing home team goal count data only and output a summary description using `describe()`:"
   ]
  },
  {
   "cell_type": "code",
   "execution_count": 17,
   "metadata": {},
   "outputs": [
    {
     "data": {
      "text/plain": [
       "count    181.000000\n",
       "mean       2.535912\n",
       "std        1.132884\n",
       "min        1.000000\n",
       "25%        2.000000\n",
       "50%        2.000000\n",
       "75%        3.000000\n",
       "max        6.000000\n",
       "Name: home_team_goal_count, dtype: float64"
      ]
     },
     "execution_count": 17,
     "metadata": {},
     "output_type": "execute_result"
    }
   ],
   "source": [
    "# Create series with home team goal count data only\n",
    "win_goal_count = win_only['home_team_goal_count']\n",
    "\n",
    "# Summary of goal count data\n",
    "win_goal_count.describe()"
   ]
  },
  {
   "cell_type": "markdown",
   "metadata": {},
   "source": [
    "<br>\n",
    "\n"
   ]
  },
  {
   "cell_type": "markdown",
   "metadata": {},
   "source": [
    "Next, I plot this data on a bar chart in order to get a visualisation of the distribution. The `value_counts` function counts the unique values in a single column [6], while `sort_index` sorts these values [7]. "
   ]
  },
  {
   "cell_type": "code",
   "execution_count": 18,
   "metadata": {},
   "outputs": [
    {
     "data": {
      "text/plain": [
       "<matplotlib.axes._subplots.AxesSubplot at 0x155e64dc040>"
      ]
     },
     "execution_count": 18,
     "metadata": {},
     "output_type": "execute_result"
    },
    {
     "data": {
      "image/png": "[encoded data removed]",
      "text/plain": [
       "<Figure size 432x288 with 1 Axes>"
      ]
     },
     "metadata": {},
     "output_type": "display_data"
    }
   ],
   "source": [
    "# Create series containing count of number of goals scored\n",
    "win_goal_count_distribution = win_only['home_team_goal_count'].value_counts()\n",
    "\n",
    "# Sort values\n",
    "win_goal_count_distribution = win_goal_count_distribution.sort_index()\n",
    "\n",
    "# Plot on a bar chart\n",
    "win_goal_count_distribution.plot(kind='bar')"
   ]
  },
  {
   "cell_type": "code",
   "execution_count": 19,
   "metadata": {},
   "outputs": [
    {
     "data": {
      "text/plain": [
       "1    29\n",
       "2    73\n",
       "3    46\n",
       "4    22\n",
       "5     8\n",
       "6     3\n",
       "Name: home_team_goal_count, dtype: int64"
      ]
     },
     "execution_count": 19,
     "metadata": {},
     "output_type": "execute_result"
    }
   ],
   "source": [
    "win_goal_count_distribution"
   ]
  },
  {
   "cell_type": "markdown",
   "metadata": {},
   "source": [
    "We now have an overall view of the distribution of number of goals the winning team scored. The bar chart is an appropriate plot to visualise the distribution as it is a series (single variable) of discrete values."
   ]
  },
  {
   "cell_type": "markdown",
   "metadata": {},
   "source": [
    "<br>\n",
    "\n"
   ]
  },
  {
   "cell_type": "markdown",
   "metadata": {},
   "source": [
    "Below, I carry out a similar investigation on the possession and shots variables:"
   ]
  },
  {
   "cell_type": "markdown",
   "metadata": {},
   "source": [
    "##### Win possession"
   ]
  },
  {
   "cell_type": "code",
   "execution_count": 20,
   "metadata": {},
   "outputs": [
    {
     "data": {
      "text/plain": [
       "count    181.000000\n",
       "mean      53.867403\n",
       "std       13.482255\n",
       "min       23.000000\n",
       "25%       43.000000\n",
       "50%       55.000000\n",
       "75%       64.000000\n",
       "max       80.000000\n",
       "Name: home_team_possession, dtype: float64"
      ]
     },
     "execution_count": 20,
     "metadata": {},
     "output_type": "execute_result"
    }
   ],
   "source": [
    "# Create series with possession data only\n",
    "win_possession = win_only[\"home_team_possession\"]\n",
    "\n",
    "# Summary of possession variable\n",
    "win_possession.describe()"
   ]
  },
  {
   "cell_type": "code",
   "execution_count": 21,
   "metadata": {},
   "outputs": [
    {
     "data": {
      "text/plain": [
       "(array([ 2., 13., 22., 18., 22., 21., 31., 22., 19., 11.]),\n",
       " array([23. , 28.7, 34.4, 40.1, 45.8, 51.5, 57.2, 62.9, 68.6, 74.3, 80. ]),\n",
       " <a list of 10 Patch objects>)"
      ]
     },
     "execution_count": 21,
     "metadata": {},
     "output_type": "execute_result"
    },
    {
     "data": {
      "image/png": "[encoded data removed]",
      "text/plain": [
       "<Figure size 432x288 with 1 Axes>"
      ]
     },
     "metadata": {},
     "output_type": "display_data"
    }
   ],
   "source": [
    "# Output a histogram representing the distribution for the possession variable\n",
    "plt.hist(win_possession)"
   ]
  },
  {
   "cell_type": "markdown",
   "metadata": {},
   "source": [
    "<br>\n",
    "\n"
   ]
  },
  {
   "cell_type": "markdown",
   "metadata": {},
   "source": [
    "##### Win shots"
   ]
  },
  {
   "cell_type": "code",
   "execution_count": 22,
   "metadata": {},
   "outputs": [
    {
     "data": {
      "text/plain": [
       "count    181.000000\n",
       "mean      12.696133\n",
       "std        4.195426\n",
       "min        5.000000\n",
       "25%        9.000000\n",
       "50%       13.000000\n",
       "75%       16.000000\n",
       "max       26.000000\n",
       "Name: home_team_shots, dtype: float64"
      ]
     },
     "execution_count": 22,
     "metadata": {},
     "output_type": "execute_result"
    }
   ],
   "source": [
    "# Create series with the shots variable\n",
    "win_shots = win_only['home_team_shots']\n",
    "\n",
    "# Summary of shots variable\n",
    "win_shots.describe()"
   ]
  },
  {
   "cell_type": "code",
   "execution_count": 23,
   "metadata": {},
   "outputs": [
    {
     "data": {
      "text/plain": [
       "<matplotlib.axes._subplots.AxesSubplot at 0x155e5ca1cd0>"
      ]
     },
     "execution_count": 23,
     "metadata": {},
     "output_type": "execute_result"
    },
    {
     "data": {
      "image/png": "[encoded data removed]",
      "text/plain": [
       "<Figure size 432x288 with 1 Axes>"
      ]
     },
     "metadata": {},
     "output_type": "display_data"
    }
   ],
   "source": [
    "# Use the value_counts function to count each unique value in the shots columns\n",
    "win_shots_distribution = win_only['home_team_shots'].value_counts()\n",
    "\n",
    "# Sort the values for visualisation\n",
    "win_shots_distribution = win_shots_distribution.sort_index()\n",
    "\n",
    "# Plot on a bar chart\n",
    "win_shots_distribution.plot(kind='bar')"
   ]
  },
  {
   "cell_type": "markdown",
   "metadata": {},
   "source": [
    "<br>\n",
    "\n"
   ]
  },
  {
   "cell_type": "markdown",
   "metadata": {},
   "source": [
    "#### 2.2.2 Lose dataset\n",
    "\n",
    "<br>\n",
    "\n",
    "In this section, I investigate the properties of the variables for when the home team lost. This process will follow in precisely the same path as the previous section to maintain consistency for the simulated data set below."
   ]
  },
  {
   "cell_type": "code",
   "execution_count": 24,
   "metadata": {},
   "outputs": [
    {
     "data": {
      "text/html": [
       "<div>\n",
       "<style scoped>\n",
       "    .dataframe tbody tr th:only-of-type {\n",
       "        vertical-align: middle;\n",
       "    }\n",
       "\n",
       "    .dataframe tbody tr th {\n",
       "        vertical-align: top;\n",
       "    }\n",
       "\n",
       "    .dataframe thead th {\n",
       "        text-align: right;\n",
       "    }\n",
       "</style>\n",
       "<table border=\"1\" class=\"dataframe\">\n",
       "  <thead>\n",
       "    <tr style=\"text-align: right;\">\n",
       "      <th></th>\n",
       "      <th>home_team_goal_count</th>\n",
       "      <th>home_team_possession</th>\n",
       "      <th>home_team_shots</th>\n",
       "      <th>home_team_result</th>\n",
       "    </tr>\n",
       "  </thead>\n",
       "  <tbody>\n",
       "    <tr>\n",
       "      <th>1</th>\n",
       "      <td>1</td>\n",
       "      <td>40</td>\n",
       "      <td>11</td>\n",
       "      <td>L</td>\n",
       "    </tr>\n",
       "    <tr>\n",
       "      <th>3</th>\n",
       "      <td>0</td>\n",
       "      <td>66</td>\n",
       "      <td>11</td>\n",
       "      <td>L</td>\n",
       "    </tr>\n",
       "    <tr>\n",
       "      <th>4</th>\n",
       "      <td>0</td>\n",
       "      <td>37</td>\n",
       "      <td>6</td>\n",
       "      <td>L</td>\n",
       "    </tr>\n",
       "    <tr>\n",
       "      <th>9</th>\n",
       "      <td>0</td>\n",
       "      <td>42</td>\n",
       "      <td>8</td>\n",
       "      <td>L</td>\n",
       "    </tr>\n",
       "    <tr>\n",
       "      <th>14</th>\n",
       "      <td>1</td>\n",
       "      <td>61</td>\n",
       "      <td>9</td>\n",
       "      <td>L</td>\n",
       "    </tr>\n",
       "    <tr>\n",
       "      <th>...</th>\n",
       "      <td>...</td>\n",
       "      <td>...</td>\n",
       "      <td>...</td>\n",
       "      <td>...</td>\n",
       "    </tr>\n",
       "    <tr>\n",
       "      <th>370</th>\n",
       "      <td>1</td>\n",
       "      <td>23</td>\n",
       "      <td>6</td>\n",
       "      <td>L</td>\n",
       "    </tr>\n",
       "    <tr>\n",
       "      <th>371</th>\n",
       "      <td>1</td>\n",
       "      <td>39</td>\n",
       "      <td>12</td>\n",
       "      <td>L</td>\n",
       "    </tr>\n",
       "    <tr>\n",
       "      <th>373</th>\n",
       "      <td>0</td>\n",
       "      <td>68</td>\n",
       "      <td>11</td>\n",
       "      <td>L</td>\n",
       "    </tr>\n",
       "    <tr>\n",
       "      <th>376</th>\n",
       "      <td>0</td>\n",
       "      <td>73</td>\n",
       "      <td>21</td>\n",
       "      <td>L</td>\n",
       "    </tr>\n",
       "    <tr>\n",
       "      <th>379</th>\n",
       "      <td>1</td>\n",
       "      <td>48</td>\n",
       "      <td>11</td>\n",
       "      <td>L</td>\n",
       "    </tr>\n",
       "  </tbody>\n",
       "</table>\n",
       "<p>128 rows × 4 columns</p>\n",
       "</div>"
      ],
      "text/plain": [
       "     home_team_goal_count  home_team_possession  home_team_shots  \\\n",
       "1                       1                    40               11   \n",
       "3                       0                    66               11   \n",
       "4                       0                    37                6   \n",
       "9                       0                    42                8   \n",
       "14                      1                    61                9   \n",
       "..                    ...                   ...              ...   \n",
       "370                     1                    23                6   \n",
       "371                     1                    39               12   \n",
       "373                     0                    68               11   \n",
       "376                     0                    73               21   \n",
       "379                     1                    48               11   \n",
       "\n",
       "    home_team_result  \n",
       "1                  L  \n",
       "3                  L  \n",
       "4                  L  \n",
       "9                  L  \n",
       "14                 L  \n",
       "..               ...  \n",
       "370                L  \n",
       "371                L  \n",
       "373                L  \n",
       "376                L  \n",
       "379                L  \n",
       "\n",
       "[128 rows x 4 columns]"
      ]
     },
     "execution_count": 24,
     "metadata": {},
     "output_type": "execute_result"
    }
   ],
   "source": [
    "# Split dataframe based on result (losses)\n",
    "lose_only = df1.loc[df1['home_team_result'] == 'L']\n",
    "lose_only"
   ]
  },
  {
   "cell_type": "markdown",
   "metadata": {},
   "source": [
    "<br>\n",
    "\n"
   ]
  },
  {
   "cell_type": "code",
   "execution_count": 25,
   "metadata": {},
   "outputs": [
    {
     "data": {
      "text/html": [
       "<div>\n",
       "<style scoped>\n",
       "    .dataframe tbody tr th:only-of-type {\n",
       "        vertical-align: middle;\n",
       "    }\n",
       "\n",
       "    .dataframe tbody tr th {\n",
       "        vertical-align: top;\n",
       "    }\n",
       "\n",
       "    .dataframe thead th {\n",
       "        text-align: right;\n",
       "    }\n",
       "</style>\n",
       "<table border=\"1\" class=\"dataframe\">\n",
       "  <thead>\n",
       "    <tr style=\"text-align: right;\">\n",
       "      <th></th>\n",
       "      <th>home_team_goal_count</th>\n",
       "      <th>home_team_possession</th>\n",
       "      <th>home_team_shots</th>\n",
       "    </tr>\n",
       "  </thead>\n",
       "  <tbody>\n",
       "    <tr>\n",
       "      <th>count</th>\n",
       "      <td>128.000000</td>\n",
       "      <td>128.000000</td>\n",
       "      <td>128.000000</td>\n",
       "    </tr>\n",
       "    <tr>\n",
       "      <th>mean</th>\n",
       "      <td>0.539062</td>\n",
       "      <td>46.445312</td>\n",
       "      <td>9.562500</td>\n",
       "    </tr>\n",
       "    <tr>\n",
       "      <th>std</th>\n",
       "      <td>0.600555</td>\n",
       "      <td>13.953697</td>\n",
       "      <td>3.658127</td>\n",
       "    </tr>\n",
       "    <tr>\n",
       "      <th>min</th>\n",
       "      <td>0.000000</td>\n",
       "      <td>18.000000</td>\n",
       "      <td>0.000000</td>\n",
       "    </tr>\n",
       "    <tr>\n",
       "      <th>25%</th>\n",
       "      <td>0.000000</td>\n",
       "      <td>35.750000</td>\n",
       "      <td>7.000000</td>\n",
       "    </tr>\n",
       "    <tr>\n",
       "      <th>50%</th>\n",
       "      <td>0.000000</td>\n",
       "      <td>47.000000</td>\n",
       "      <td>9.000000</td>\n",
       "    </tr>\n",
       "    <tr>\n",
       "      <th>75%</th>\n",
       "      <td>1.000000</td>\n",
       "      <td>57.250000</td>\n",
       "      <td>12.000000</td>\n",
       "    </tr>\n",
       "    <tr>\n",
       "      <th>max</th>\n",
       "      <td>2.000000</td>\n",
       "      <td>78.000000</td>\n",
       "      <td>21.000000</td>\n",
       "    </tr>\n",
       "  </tbody>\n",
       "</table>\n",
       "</div>"
      ],
      "text/plain": [
       "       home_team_goal_count  home_team_possession  home_team_shots\n",
       "count            128.000000            128.000000       128.000000\n",
       "mean               0.539062             46.445312         9.562500\n",
       "std                0.600555             13.953697         3.658127\n",
       "min                0.000000             18.000000         0.000000\n",
       "25%                0.000000             35.750000         7.000000\n",
       "50%                0.000000             47.000000         9.000000\n",
       "75%                1.000000             57.250000        12.000000\n",
       "max                2.000000             78.000000        21.000000"
      ]
     },
     "execution_count": 25,
     "metadata": {},
     "output_type": "execute_result"
    }
   ],
   "source": [
    "# Output summary of the lose dataset\n",
    "lose_only.describe()"
   ]
  },
  {
   "cell_type": "markdown",
   "metadata": {},
   "source": [
    "<br>\n",
    "\n"
   ]
  },
  {
   "cell_type": "markdown",
   "metadata": {},
   "source": [
    "##### Lose goal count"
   ]
  },
  {
   "cell_type": "code",
   "execution_count": 26,
   "metadata": {},
   "outputs": [
    {
     "data": {
      "text/plain": [
       "count    128.000000\n",
       "mean       0.539062\n",
       "std        0.600555\n",
       "min        0.000000\n",
       "25%        0.000000\n",
       "50%        0.000000\n",
       "75%        1.000000\n",
       "max        2.000000\n",
       "Name: home_team_goal_count, dtype: float64"
      ]
     },
     "execution_count": 26,
     "metadata": {},
     "output_type": "execute_result"
    }
   ],
   "source": [
    "# Create series with home team goal count data only\n",
    "lose_goal_count = lose_only['home_team_goal_count']\n",
    "\n",
    "# Summary of goal count data\n",
    "lose_goal_count.describe()"
   ]
  },
  {
   "cell_type": "code",
   "execution_count": 27,
   "metadata": {},
   "outputs": [
    {
     "data": {
      "text/plain": [
       "<matplotlib.axes._subplots.AxesSubplot at 0x155e6673ca0>"
      ]
     },
     "execution_count": 27,
     "metadata": {},
     "output_type": "execute_result"
    },
    {
     "data": {
      "image/png": "[encoded data removed]",
      "text/plain": [
       "<Figure size 432x288 with 1 Axes>"
      ]
     },
     "metadata": {},
     "output_type": "display_data"
    }
   ],
   "source": [
    "# Create series containing count of number of goals scored\n",
    "lose_goal_count_distribution = lose_only['home_team_goal_count'].value_counts()\n",
    "\n",
    "# Sort values\n",
    "lose_goal_count_distribution = lose_goal_count_distribution.sort_index()\n",
    "\n",
    "# Plot on a bar chart\n",
    "lose_goal_count_distribution.plot(kind='bar')"
   ]
  },
  {
   "cell_type": "code",
   "execution_count": 28,
   "metadata": {},
   "outputs": [
    {
     "data": {
      "text/plain": [
       "0    66\n",
       "1    55\n",
       "2     7\n",
       "Name: home_team_goal_count, dtype: int64"
      ]
     },
     "execution_count": 28,
     "metadata": {},
     "output_type": "execute_result"
    }
   ],
   "source": [
    "lose_goal_count_distribution"
   ]
  },
  {
   "cell_type": "code",
   "execution_count": 29,
   "metadata": {},
   "outputs": [
    {
     "data": {
      "text/plain": [
       "[0.515625, 0.4296875, 0.0546875]"
      ]
     },
     "execution_count": 29,
     "metadata": {},
     "output_type": "execute_result"
    }
   ],
   "source": [
    "# Divide the frequency of each goal scored by total number of matches lost and add to list\n",
    "lose_goal_count_prob = list(lose_goal_count_distribution / 128)\n",
    "\n",
    "# Output list of probabilities\n",
    "lose_goal_count_prob"
   ]
  },
  {
   "cell_type": "markdown",
   "metadata": {},
   "source": [
    "<br>\n",
    "\n"
   ]
  },
  {
   "cell_type": "markdown",
   "metadata": {},
   "source": [
    "##### Lose possession"
   ]
  },
  {
   "cell_type": "code",
   "execution_count": 30,
   "metadata": {},
   "outputs": [
    {
     "data": {
      "text/plain": [
       "count    128.000000\n",
       "mean      46.445312\n",
       "std       13.953697\n",
       "min       18.000000\n",
       "25%       35.750000\n",
       "50%       47.000000\n",
       "75%       57.250000\n",
       "max       78.000000\n",
       "Name: home_team_possession, dtype: float64"
      ]
     },
     "execution_count": 30,
     "metadata": {},
     "output_type": "execute_result"
    }
   ],
   "source": [
    "# Create series with possession data only\n",
    "lose_possession = lose_only[\"home_team_possession\"]\n",
    "\n",
    "# Summary of possession data\n",
    "lose_possession.describe()"
   ]
  },
  {
   "cell_type": "markdown",
   "metadata": {},
   "source": [
    "Below, I plot the possession variable on a histogram. There is a much more obvious symmetry to this distribution than the *win_possession* variale. It could be posited that this follows a normal distribution, just from taking a quick look at the plot. This differs from the distribution for the same variable in the win dataset above, where the distribution was less symmetrical."
   ]
  },
  {
   "cell_type": "code",
   "execution_count": 31,
   "metadata": {},
   "outputs": [
    {
     "data": {
      "text/plain": [
       "(array([ 6., 10., 16., 18., 16., 20., 16., 13.,  8.,  5.]),\n",
       " array([18., 24., 30., 36., 42., 48., 54., 60., 66., 72., 78.]),\n",
       " <a list of 10 Patch objects>)"
      ]
     },
     "execution_count": 31,
     "metadata": {},
     "output_type": "execute_result"
    },
    {
     "data": {
      "image/png": "[encoded data removed]",
      "text/plain": [
       "<Figure size 432x288 with 1 Axes>"
      ]
     },
     "metadata": {},
     "output_type": "display_data"
    }
   ],
   "source": [
    "# Plot lose possession variable on a histogram\n",
    "plt.hist(lose_possession)"
   ]
  },
  {
   "cell_type": "markdown",
   "metadata": {},
   "source": [
    "<br>\n",
    "\n"
   ]
  },
  {
   "cell_type": "markdown",
   "metadata": {},
   "source": [
    "##### Lose shots"
   ]
  },
  {
   "cell_type": "code",
   "execution_count": 32,
   "metadata": {},
   "outputs": [
    {
     "data": {
      "text/plain": [
       "count    128.000000\n",
       "mean       9.562500\n",
       "std        3.658127\n",
       "min        0.000000\n",
       "25%        7.000000\n",
       "50%        9.000000\n",
       "75%       12.000000\n",
       "max       21.000000\n",
       "Name: home_team_shots, dtype: float64"
      ]
     },
     "execution_count": 32,
     "metadata": {},
     "output_type": "execute_result"
    }
   ],
   "source": [
    "# Create series with the shots variable\n",
    "lose_shots = lose_only['home_team_shots']\n",
    "\n",
    "# Summary of shots variable\n",
    "lose_shots.describe()"
   ]
  },
  {
   "cell_type": "code",
   "execution_count": 33,
   "metadata": {},
   "outputs": [
    {
     "data": {
      "text/plain": [
       "<matplotlib.axes._subplots.AxesSubplot at 0x155e677f8b0>"
      ]
     },
     "execution_count": 33,
     "metadata": {},
     "output_type": "execute_result"
    },
    {
     "data": {
      "image/png": "[encoded data removed]",
      "text/plain": [
       "<Figure size 432x288 with 1 Axes>"
      ]
     },
     "metadata": {},
     "output_type": "display_data"
    }
   ],
   "source": [
    "# Use the value_counts function to count each unique value in the shots columns\n",
    "lose_shots_distribution = lose_only['home_team_shots'].value_counts()\n",
    "\n",
    "# Sort the values for visualisation\n",
    "lose_shots_distribution = lose_shots_distribution.sort_index()\n",
    "\n",
    "# Plot on a bar chart\n",
    "lose_shots_distribution.plot(kind='bar')"
   ]
  },
  {
   "cell_type": "markdown",
   "metadata": {},
   "source": [
    "<br>\n",
    "\n"
   ]
  },
  {
   "cell_type": "markdown",
   "metadata": {},
   "source": [
    "#### 2.2.3 Draw dataset\n",
    "\n",
    "<br>\n",
    "\n",
    "The draw dataset will contain variable values pertaining to the drawn matches. As above with the win and lose datasets, I will investigate the properties of each variable and visualise their distributions."
   ]
  },
  {
   "cell_type": "markdown",
   "metadata": {},
   "source": [
    "<br>\n",
    "\n"
   ]
  },
  {
   "cell_type": "code",
   "execution_count": 34,
   "metadata": {},
   "outputs": [
    {
     "data": {
      "text/html": [
       "<div>\n",
       "<style scoped>\n",
       "    .dataframe tbody tr th:only-of-type {\n",
       "        vertical-align: middle;\n",
       "    }\n",
       "\n",
       "    .dataframe tbody tr th {\n",
       "        vertical-align: top;\n",
       "    }\n",
       "\n",
       "    .dataframe thead th {\n",
       "        text-align: right;\n",
       "    }\n",
       "</style>\n",
       "<table border=\"1\" class=\"dataframe\">\n",
       "  <thead>\n",
       "    <tr style=\"text-align: right;\">\n",
       "      <th></th>\n",
       "      <th>home_team_goal_count</th>\n",
       "      <th>home_team_possession</th>\n",
       "      <th>home_team_shots</th>\n",
       "      <th>home_team_result</th>\n",
       "    </tr>\n",
       "  </thead>\n",
       "  <tbody>\n",
       "    <tr>\n",
       "      <th>6</th>\n",
       "      <td>2</td>\n",
       "      <td>57</td>\n",
       "      <td>10</td>\n",
       "      <td>D</td>\n",
       "    </tr>\n",
       "    <tr>\n",
       "      <th>8</th>\n",
       "      <td>0</td>\n",
       "      <td>47</td>\n",
       "      <td>10</td>\n",
       "      <td>D</td>\n",
       "    </tr>\n",
       "    <tr>\n",
       "      <th>10</th>\n",
       "      <td>0</td>\n",
       "      <td>51</td>\n",
       "      <td>8</td>\n",
       "      <td>D</td>\n",
       "    </tr>\n",
       "    <tr>\n",
       "      <th>20</th>\n",
       "      <td>1</td>\n",
       "      <td>28</td>\n",
       "      <td>9</td>\n",
       "      <td>D</td>\n",
       "    </tr>\n",
       "    <tr>\n",
       "      <th>21</th>\n",
       "      <td>2</td>\n",
       "      <td>49</td>\n",
       "      <td>16</td>\n",
       "      <td>D</td>\n",
       "    </tr>\n",
       "    <tr>\n",
       "      <th>...</th>\n",
       "      <td>...</td>\n",
       "      <td>...</td>\n",
       "      <td>...</td>\n",
       "      <td>...</td>\n",
       "    </tr>\n",
       "    <tr>\n",
       "      <th>367</th>\n",
       "      <td>1</td>\n",
       "      <td>35</td>\n",
       "      <td>6</td>\n",
       "      <td>D</td>\n",
       "    </tr>\n",
       "    <tr>\n",
       "      <th>368</th>\n",
       "      <td>1</td>\n",
       "      <td>70</td>\n",
       "      <td>14</td>\n",
       "      <td>D</td>\n",
       "    </tr>\n",
       "    <tr>\n",
       "      <th>374</th>\n",
       "      <td>0</td>\n",
       "      <td>46</td>\n",
       "      <td>8</td>\n",
       "      <td>D</td>\n",
       "    </tr>\n",
       "    <tr>\n",
       "      <th>377</th>\n",
       "      <td>1</td>\n",
       "      <td>53</td>\n",
       "      <td>7</td>\n",
       "      <td>D</td>\n",
       "    </tr>\n",
       "    <tr>\n",
       "      <th>378</th>\n",
       "      <td>2</td>\n",
       "      <td>55</td>\n",
       "      <td>9</td>\n",
       "      <td>D</td>\n",
       "    </tr>\n",
       "  </tbody>\n",
       "</table>\n",
       "<p>71 rows × 4 columns</p>\n",
       "</div>"
      ],
      "text/plain": [
       "     home_team_goal_count  home_team_possession  home_team_shots  \\\n",
       "6                       2                    57               10   \n",
       "8                       0                    47               10   \n",
       "10                      0                    51                8   \n",
       "20                      1                    28                9   \n",
       "21                      2                    49               16   \n",
       "..                    ...                   ...              ...   \n",
       "367                     1                    35                6   \n",
       "368                     1                    70               14   \n",
       "374                     0                    46                8   \n",
       "377                     1                    53                7   \n",
       "378                     2                    55                9   \n",
       "\n",
       "    home_team_result  \n",
       "6                  D  \n",
       "8                  D  \n",
       "10                 D  \n",
       "20                 D  \n",
       "21                 D  \n",
       "..               ...  \n",
       "367                D  \n",
       "368                D  \n",
       "374                D  \n",
       "377                D  \n",
       "378                D  \n",
       "\n",
       "[71 rows x 4 columns]"
      ]
     },
     "execution_count": 34,
     "metadata": {},
     "output_type": "execute_result"
    }
   ],
   "source": [
    "# Split dataframe based on result (draws)\n",
    "draw_only = df1.loc[df1['home_team_result'] == 'D']\n",
    "draw_only"
   ]
  },
  {
   "cell_type": "code",
   "execution_count": 35,
   "metadata": {},
   "outputs": [
    {
     "data": {
      "text/html": [
       "<div>\n",
       "<style scoped>\n",
       "    .dataframe tbody tr th:only-of-type {\n",
       "        vertical-align: middle;\n",
       "    }\n",
       "\n",
       "    .dataframe tbody tr th {\n",
       "        vertical-align: top;\n",
       "    }\n",
       "\n",
       "    .dataframe thead th {\n",
       "        text-align: right;\n",
       "    }\n",
       "</style>\n",
       "<table border=\"1\" class=\"dataframe\">\n",
       "  <thead>\n",
       "    <tr style=\"text-align: right;\">\n",
       "      <th></th>\n",
       "      <th>home_team_goal_count</th>\n",
       "      <th>home_team_possession</th>\n",
       "      <th>home_team_shots</th>\n",
       "    </tr>\n",
       "  </thead>\n",
       "  <tbody>\n",
       "    <tr>\n",
       "      <th>count</th>\n",
       "      <td>71.000000</td>\n",
       "      <td>71.000000</td>\n",
       "      <td>71.000000</td>\n",
       "    </tr>\n",
       "    <tr>\n",
       "      <th>mean</th>\n",
       "      <td>0.957746</td>\n",
       "      <td>52.690141</td>\n",
       "      <td>11.042254</td>\n",
       "    </tr>\n",
       "    <tr>\n",
       "      <th>std</th>\n",
       "      <td>0.800654</td>\n",
       "      <td>12.418410</td>\n",
       "      <td>4.350490</td>\n",
       "    </tr>\n",
       "    <tr>\n",
       "      <th>min</th>\n",
       "      <td>0.000000</td>\n",
       "      <td>26.000000</td>\n",
       "      <td>0.000000</td>\n",
       "    </tr>\n",
       "    <tr>\n",
       "      <th>25%</th>\n",
       "      <td>0.000000</td>\n",
       "      <td>44.000000</td>\n",
       "      <td>8.000000</td>\n",
       "    </tr>\n",
       "    <tr>\n",
       "      <th>50%</th>\n",
       "      <td>1.000000</td>\n",
       "      <td>54.000000</td>\n",
       "      <td>10.000000</td>\n",
       "    </tr>\n",
       "    <tr>\n",
       "      <th>75%</th>\n",
       "      <td>1.000000</td>\n",
       "      <td>61.000000</td>\n",
       "      <td>13.500000</td>\n",
       "    </tr>\n",
       "    <tr>\n",
       "      <th>max</th>\n",
       "      <td>3.000000</td>\n",
       "      <td>76.000000</td>\n",
       "      <td>21.000000</td>\n",
       "    </tr>\n",
       "  </tbody>\n",
       "</table>\n",
       "</div>"
      ],
      "text/plain": [
       "       home_team_goal_count  home_team_possession  home_team_shots\n",
       "count             71.000000             71.000000        71.000000\n",
       "mean               0.957746             52.690141        11.042254\n",
       "std                0.800654             12.418410         4.350490\n",
       "min                0.000000             26.000000         0.000000\n",
       "25%                0.000000             44.000000         8.000000\n",
       "50%                1.000000             54.000000        10.000000\n",
       "75%                1.000000             61.000000        13.500000\n",
       "max                3.000000             76.000000        21.000000"
      ]
     },
     "execution_count": 35,
     "metadata": {},
     "output_type": "execute_result"
    }
   ],
   "source": [
    "draw_only.describe()"
   ]
  },
  {
   "cell_type": "markdown",
   "metadata": {},
   "source": [
    "<br>\n",
    "\n"
   ]
  },
  {
   "cell_type": "markdown",
   "metadata": {},
   "source": [
    "##### Draw goal count\n",
    "\n"
   ]
  },
  {
   "cell_type": "code",
   "execution_count": 36,
   "metadata": {},
   "outputs": [
    {
     "data": {
      "text/plain": [
       "count    71.000000\n",
       "mean      0.957746\n",
       "std       0.800654\n",
       "min       0.000000\n",
       "25%       0.000000\n",
       "50%       1.000000\n",
       "75%       1.000000\n",
       "max       3.000000\n",
       "Name: home_team_goal_count, dtype: float64"
      ]
     },
     "execution_count": 36,
     "metadata": {},
     "output_type": "execute_result"
    }
   ],
   "source": [
    "# Create series with home team goal count data only\n",
    "draw_goal_count = draw_only['home_team_goal_count']\n",
    "\n",
    "# Summary of goal count data\n",
    "draw_goal_count.describe()"
   ]
  },
  {
   "cell_type": "code",
   "execution_count": 37,
   "metadata": {},
   "outputs": [
    {
     "data": {
      "text/plain": [
       "<matplotlib.axes._subplots.AxesSubplot at 0x155e681d9a0>"
      ]
     },
     "execution_count": 37,
     "metadata": {},
     "output_type": "execute_result"
    },
    {
     "data": {
      "image/png": "[encoded data removed]",
      "text/plain": [
       "<Figure size 432x288 with 1 Axes>"
      ]
     },
     "metadata": {},
     "output_type": "display_data"
    }
   ],
   "source": [
    "# Create series containing count of number of goals scored\n",
    "draw_goal_count_distribution = draw_only['home_team_goal_count'].value_counts()\n",
    "\n",
    "# Sort values\n",
    "draw_goal_count_distribution = draw_goal_count_distribution.sort_index()\n",
    "\n",
    "# Plot on a bar chart\n",
    "draw_goal_count_distribution.plot(kind='bar')"
   ]
  },
  {
   "cell_type": "code",
   "execution_count": 38,
   "metadata": {},
   "outputs": [
    {
     "data": {
      "text/plain": [
       "0    22\n",
       "1    32\n",
       "2    15\n",
       "3     2\n",
       "Name: home_team_goal_count, dtype: int64"
      ]
     },
     "execution_count": 38,
     "metadata": {},
     "output_type": "execute_result"
    }
   ],
   "source": [
    "draw_goal_count_distribution"
   ]
  },
  {
   "cell_type": "code",
   "execution_count": 39,
   "metadata": {},
   "outputs": [
    {
     "data": {
      "text/plain": [
       "[0.30985915492957744,\n",
       " 0.4507042253521127,\n",
       " 0.2112676056338028,\n",
       " 0.028169014084507043]"
      ]
     },
     "execution_count": 39,
     "metadata": {},
     "output_type": "execute_result"
    }
   ],
   "source": [
    "# Divide the frequency of each goal scored by total number of matches drawn and add to list\n",
    "draw_goal_count_prob = list(draw_goal_count_distribution / 71)\n",
    "\n",
    "# Output list of probabilities\n",
    "draw_goal_count_prob"
   ]
  },
  {
   "cell_type": "markdown",
   "metadata": {},
   "source": [
    "<br>\n",
    "\n"
   ]
  },
  {
   "cell_type": "markdown",
   "metadata": {},
   "source": [
    "##### Draw possession"
   ]
  },
  {
   "cell_type": "code",
   "execution_count": 40,
   "metadata": {},
   "outputs": [
    {
     "data": {
      "text/plain": [
       "count    71.000000\n",
       "mean     52.690141\n",
       "std      12.418410\n",
       "min      26.000000\n",
       "25%      44.000000\n",
       "50%      54.000000\n",
       "75%      61.000000\n",
       "max      76.000000\n",
       "Name: home_team_possession, dtype: float64"
      ]
     },
     "execution_count": 40,
     "metadata": {},
     "output_type": "execute_result"
    }
   ],
   "source": [
    "# Create series with possession data only\n",
    "draw_possession = draw_only[\"home_team_possession\"]\n",
    "\n",
    "# Summary of possession data\n",
    "draw_possession.describe()"
   ]
  },
  {
   "cell_type": "code",
   "execution_count": 41,
   "metadata": {},
   "outputs": [
    {
     "data": {
      "text/plain": [
       "(array([ 4.,  4.,  3.,  9.,  9., 11., 12.,  9.,  3.,  7.]),\n",
       " array([26., 31., 36., 41., 46., 51., 56., 61., 66., 71., 76.]),\n",
       " <a list of 10 Patch objects>)"
      ]
     },
     "execution_count": 41,
     "metadata": {},
     "output_type": "execute_result"
    },
    {
     "data": {
      "image/png": "[encoded data removed]",
      "text/plain": [
       "<Figure size 432x288 with 1 Axes>"
      ]
     },
     "metadata": {},
     "output_type": "display_data"
    }
   ],
   "source": [
    "plt.hist(draw_possession)"
   ]
  },
  {
   "cell_type": "markdown",
   "metadata": {},
   "source": [
    "<br>\n",
    "\n"
   ]
  },
  {
   "cell_type": "markdown",
   "metadata": {},
   "source": [
    "###### Draw shots\n",
    "\n",
    "<br>"
   ]
  },
  {
   "cell_type": "code",
   "execution_count": 42,
   "metadata": {},
   "outputs": [
    {
     "data": {
      "text/plain": [
       "count    71.000000\n",
       "mean     11.042254\n",
       "std       4.350490\n",
       "min       0.000000\n",
       "25%       8.000000\n",
       "50%      10.000000\n",
       "75%      13.500000\n",
       "max      21.000000\n",
       "Name: home_team_shots, dtype: float64"
      ]
     },
     "execution_count": 42,
     "metadata": {},
     "output_type": "execute_result"
    }
   ],
   "source": [
    "# Create series with the shots variable\n",
    "draw_shots = draw_only['home_team_shots']\n",
    "\n",
    "# Summary of shots variable\n",
    "draw_shots.describe()"
   ]
  },
  {
   "cell_type": "code",
   "execution_count": 43,
   "metadata": {},
   "outputs": [
    {
     "data": {
      "text/plain": [
       "<matplotlib.axes._subplots.AxesSubplot at 0x155e68ea7f0>"
      ]
     },
     "execution_count": 43,
     "metadata": {},
     "output_type": "execute_result"
    },
    {
     "data": {
      "image/png": "[encoded data removed]",
      "text/plain": [
       "<Figure size 432x288 with 1 Axes>"
      ]
     },
     "metadata": {},
     "output_type": "display_data"
    }
   ],
   "source": [
    "# Use the value_counts function to count each unique value in the shots columns\n",
    "draw_shots_distribution = draw_only['home_team_shots'].value_counts()\n",
    "\n",
    "# Sort the values for visualisation\n",
    "draw_shots_distribution = draw_shots_distribution.sort_index()\n",
    "\n",
    "# Plot on a bar chart\n",
    "draw_shots_distribution.plot(kind='bar')"
   ]
  },
  {
   "cell_type": "markdown",
   "metadata": {},
   "source": [
    "<br>\n",
    "\n"
   ]
  },
  {
   "cell_type": "code",
   "execution_count": 44,
   "metadata": {},
   "outputs": [
    {
     "data": {
      "text/plain": [
       "<matplotlib.collections.PathCollection at 0x155e653c730>"
      ]
     },
     "execution_count": 44,
     "metadata": {},
     "output_type": "execute_result"
    },
    {
     "data": {
      "image/png": "[encoded data removed]",
      "text/plain": [
       "<Figure size 432x288 with 1 Axes>"
      ]
     },
     "metadata": {},
     "output_type": "display_data"
    }
   ],
   "source": [
    "plt.scatter(df1[\"home_team_possession\"], df1[\"home_team_goal_count\"])"
   ]
  },
  {
   "cell_type": "code",
   "execution_count": 45,
   "metadata": {},
   "outputs": [
    {
     "data": {
      "text/plain": [
       "<matplotlib.collections.PathCollection at 0x155e68e0040>"
      ]
     },
     "execution_count": 45,
     "metadata": {},
     "output_type": "execute_result"
    },
    {
     "data": {
      "image/png": "[encoded data removed]",
      "text/plain": [
       "<Figure size 432x288 with 1 Axes>"
      ]
     },
     "metadata": {},
     "output_type": "display_data"
    }
   ],
   "source": [
    "plt.scatter(draw_possession, draw_shots)"
   ]
  },
  {
   "cell_type": "code",
   "execution_count": 46,
   "metadata": {},
   "outputs": [
    {
     "data": {
      "text/plain": [
       "<matplotlib.collections.PathCollection at 0x155e6a3bee0>"
      ]
     },
     "execution_count": 46,
     "metadata": {},
     "output_type": "execute_result"
    },
    {
     "data": {
      "image/png": "[encoded data removed]",
      "text/plain": [
       "<Figure size 432x288 with 1 Axes>"
      ]
     },
     "metadata": {},
     "output_type": "display_data"
    }
   ],
   "source": [
    "plt.scatter(draw_possession, draw_goal_count)"
   ]
  },
  {
   "cell_type": "code",
   "execution_count": 47,
   "metadata": {},
   "outputs": [
    {
     "data": {
      "text/plain": [
       "<matplotlib.collections.PathCollection at 0x155e6a965e0>"
      ]
     },
     "execution_count": 47,
     "metadata": {},
     "output_type": "execute_result"
    },
    {
     "data": {
      "image/png": "[encoded data removed]",
      "text/plain": [
       "<Figure size 432x288 with 1 Axes>"
      ]
     },
     "metadata": {},
     "output_type": "display_data"
    }
   ],
   "source": [
    "plt.scatter(draw_goal_count, draw_shots)"
   ]
  },
  {
   "cell_type": "code",
   "execution_count": 48,
   "metadata": {},
   "outputs": [
    {
     "data": {
      "text/plain": [
       "<matplotlib.collections.PathCollection at 0x155e6ae3ca0>"
      ]
     },
     "execution_count": 48,
     "metadata": {},
     "output_type": "execute_result"
    },
    {
     "data": {
      "image/png": "[encoded data removed]",
      "text/plain": [
       "<Figure size 432x288 with 1 Axes>"
      ]
     },
     "metadata": {},
     "output_type": "display_data"
    }
   ],
   "source": [
    "plt.scatter(lose_possession, lose_shots)"
   ]
  },
  {
   "cell_type": "code",
   "execution_count": 49,
   "metadata": {},
   "outputs": [
    {
     "data": {
      "text/plain": [
       "<matplotlib.collections.PathCollection at 0x155e6b3c370>"
      ]
     },
     "execution_count": 49,
     "metadata": {},
     "output_type": "execute_result"
    },
    {
     "data": {
      "image/png": "[encoded data removed]",
      "text/plain": [
       "<Figure size 432x288 with 1 Axes>"
      ]
     },
     "metadata": {},
     "output_type": "display_data"
    }
   ],
   "source": [
    "plt.scatter(lose_possession, lose_goal_count)"
   ]
  },
  {
   "cell_type": "code",
   "execution_count": 50,
   "metadata": {},
   "outputs": [
    {
     "data": {
      "text/plain": [
       "<matplotlib.collections.PathCollection at 0x155e7b59a90>"
      ]
     },
     "execution_count": 50,
     "metadata": {},
     "output_type": "execute_result"
    },
    {
     "data": {
      "image/png": "[encoded data removed]",
      "text/plain": [
       "<Figure size 432x288 with 1 Axes>"
      ]
     },
     "metadata": {},
     "output_type": "display_data"
    }
   ],
   "source": [
    "plt.scatter(lose_shots, lose_goal_count)"
   ]
  },
  {
   "cell_type": "code",
   "execution_count": 51,
   "metadata": {},
   "outputs": [
    {
     "data": {
      "text/plain": [
       "<matplotlib.collections.PathCollection at 0x155e7bae6a0>"
      ]
     },
     "execution_count": 51,
     "metadata": {},
     "output_type": "execute_result"
    },
    {
     "data": {
      "image/png": "[encoded data removed]",
      "text/plain": [
       "<Figure size 432x288 with 1 Axes>"
      ]
     },
     "metadata": {},
     "output_type": "display_data"
    }
   ],
   "source": [
    "plt.scatter(win_possession, win_goal_count)"
   ]
  },
  {
   "cell_type": "code",
   "execution_count": 52,
   "metadata": {},
   "outputs": [
    {
     "data": {
      "text/plain": [
       "<matplotlib.collections.PathCollection at 0x155e7bfcd60>"
      ]
     },
     "execution_count": 52,
     "metadata": {},
     "output_type": "execute_result"
    },
    {
     "data": {
      "image/png": "[encoded data removed]",
      "text/plain": [
       "<Figure size 432x288 with 1 Axes>"
      ]
     },
     "metadata": {},
     "output_type": "display_data"
    }
   ],
   "source": [
    "plt.scatter(win_possession, win_shots)"
   ]
  },
  {
   "cell_type": "code",
   "execution_count": 53,
   "metadata": {},
   "outputs": [
    {
     "data": {
      "text/plain": [
       "<matplotlib.collections.PathCollection at 0x155e7c4bee0>"
      ]
     },
     "execution_count": 53,
     "metadata": {},
     "output_type": "execute_result"
    },
    {
     "data": {
      "image/png": "[encoded data removed]",
      "text/plain": [
       "<Figure size 432x288 with 1 Axes>"
      ]
     },
     "metadata": {},
     "output_type": "display_data"
    }
   ],
   "source": [
    "plt.scatter(win_goal_count, win_shots)"
   ]
  },
  {
   "cell_type": "code",
   "execution_count": null,
   "metadata": {},
   "outputs": [],
   "source": []
  },
  {
   "cell_type": "code",
   "execution_count": null,
   "metadata": {},
   "outputs": [],
   "source": []
  },
  {
   "cell_type": "code",
   "execution_count": null,
   "metadata": {},
   "outputs": [],
   "source": []
  },
  {
   "cell_type": "markdown",
   "metadata": {},
   "source": [
    "##### 2.2.4 Comparing variables\n",
    "\n",
    "In order to generate as accurate a simulation as possible, \n",
    "\n",
    "Plotting the **goal count** for win, lose and draw on the same plot, we get a better overall view of the comparison between them. <br>\n",
    "\n",
    "First, I create a dataframe containing each of the three series (win_goal_count_distribution, lose_goal_count_distribution and draw_goal_count_distribution). This enables the generation of side-by-side visualisation of the bar plots. I used a combination of these two blog plosts to generate this plot [9], [10]:"
   ]
  },
  {
   "cell_type": "code",
   "execution_count": 54,
   "metadata": {},
   "outputs": [
    {
     "data": {
      "text/plain": [
       "Text(0, 0.5, 'No. of Matches')"
      ]
     },
     "execution_count": 54,
     "metadata": {},
     "output_type": "execute_result"
    },
    {
     "data": {
      "image/png": "[encoded data removed]",
      "text/plain": [
       "<Figure size 432x288 with 1 Axes>"
      ]
     },
     "metadata": {},
     "output_type": "display_data"
    }
   ],
   "source": [
    "# Create a dictionary so we can combine the meta data for the series\n",
    "goals_dict = { 'win': win_goal_count_distribution, 'lose': lose_goal_count_distribution, 'draw': draw_goal_count_distribution } \n",
    "\n",
    "# Create a dataframe and store it in \n",
    "goals_comparison = pd.DataFrame(goals_dict) \n",
    "goals_comparison.plot(kind=\"bar\")\n",
    "\n",
    "plt.title(\"Goals Scored\")\n",
    "plt.xlabel(\"No. of Goals\")\n",
    "plt.ylabel(\"No. of Matches\")"
   ]
  },
  {
   "cell_type": "markdown",
   "metadata": {},
   "source": [
    "This gives us a visualisation of the comparison between the goals scored depending on the result. Scoring 4 and above was guaranteed to result in a win, while 2 and 3 goals scored resulted in a high probability of victory. Unsurprisingly, scoring 0 goals increased a team's chances of losing significantly."
   ]
  },
  {
   "cell_type": "markdown",
   "metadata": {},
   "source": [
    "<br>\n",
    "\n"
   ]
  },
  {
   "cell_type": "code",
   "execution_count": 55,
   "metadata": {},
   "outputs": [
    {
     "data": {
      "text/plain": [
       "Text(0, 0.5, 'No. of Matches')"
      ]
     },
     "execution_count": 55,
     "metadata": {},
     "output_type": "execute_result"
    },
    {
     "data": {
      "image/png": "[encoded data removed]",
      "text/plain": [
       "<Figure size 432x288 with 1 Axes>"
      ]
     },
     "metadata": {},
     "output_type": "display_data"
    }
   ],
   "source": [
    "# Create a dictionary so we can combine the meta data for the series\n",
    "shots_dict = { 'win': win_shots_distribution, 'lose': lose_shots_distribution, 'draw': draw_shots_distribution } \n",
    "\n",
    "# Create a dataframe and store it in \n",
    "goals_comparison = pd.DataFrame(shots_dict) \n",
    "goals_comparison.plot(kind=\"bar\", stacked=True)\n",
    "\n",
    "plt.title(\"Shots Taken\")\n",
    "plt.xlabel(\"No. of Shots\")\n",
    "plt.ylabel(\"No. of Matches\")"
   ]
  },
  {
   "cell_type": "code",
   "execution_count": 56,
   "metadata": {},
   "outputs": [
    {
     "data": {
      "text/plain": [
       "<matplotlib.axes._subplots.AxesSubplot at 0x155e7ec84f0>"
      ]
     },
     "execution_count": 56,
     "metadata": {},
     "output_type": "execute_result"
    },
    {
     "data": {
      "image/png": "[encoded data removed]",
      "text/plain": [
       "<Figure size 2160x720 with 3 Axes>"
      ]
     },
     "metadata": {},
     "output_type": "display_data"
    }
   ],
   "source": [
    "# Create a dictionary so we can combine the meta data for the series\n",
    "possession_dict = { 'win': win_possession, 'lose': lose_possession, 'draw': draw_possession } \n",
    "\n",
    "# Create a dataframe and store it in \n",
    "possession_comparison = pd.DataFrame(possession_dict) \n",
    "# possession_comparison.plot(kind=\"bar\", stacked=True)\n",
    "\n",
    "# plot\n",
    "f, axes = plt.subplots(1, 3, figsize=(30, 10), sharex=True)\n",
    "sns.distplot( possession_comparison[\"win\"] , bins=10, color=\"skyblue\", ax=axes[0])\n",
    "sns.distplot( possession_comparison[\"lose\"] , bins=10, color=\"olive\", ax=axes[1])\n",
    "sns.distplot( possession_comparison[\"draw\"] , bins=10, color=\"gold\", ax=axes[2])"
   ]
  },
  {
   "cell_type": "code",
   "execution_count": null,
   "metadata": {},
   "outputs": [],
   "source": []
  },
  {
   "cell_type": "code",
   "execution_count": null,
   "metadata": {},
   "outputs": [],
   "source": []
  },
  {
   "cell_type": "code",
   "execution_count": null,
   "metadata": {},
   "outputs": [],
   "source": []
  },
  {
   "cell_type": "code",
   "execution_count": null,
   "metadata": {},
   "outputs": [],
   "source": []
  },
  {
   "cell_type": "code",
   "execution_count": null,
   "metadata": {
    "scrolled": false
   },
   "outputs": [],
   "source": []
  },
  {
   "cell_type": "code",
   "execution_count": null,
   "metadata": {},
   "outputs": [],
   "source": []
  },
  {
   "cell_type": "code",
   "execution_count": null,
   "metadata": {},
   "outputs": [],
   "source": []
  },
  {
   "cell_type": "code",
   "execution_count": null,
   "metadata": {},
   "outputs": [],
   "source": []
  },
  {
   "cell_type": "markdown",
   "metadata": {},
   "source": [
    "<br>\n",
    "\n"
   ]
  },
  {
   "cell_type": "code",
   "execution_count": null,
   "metadata": {},
   "outputs": [],
   "source": []
  },
  {
   "cell_type": "markdown",
   "metadata": {},
   "source": [
    "## 3. Simulation\n",
    "\n",
    "***"
   ]
  },
  {
   "cell_type": "markdown",
   "metadata": {},
   "source": [
    "In this section, I apply the variable properties established in section 2 to a simulated data set. Using the `numpy.random` package, I generate values for each variable according to the information extracted above. In order to populate the synthesised data set, it is once again necessary to divide the task into the 3 relevant sections - for win, lose and draw. "
   ]
  },
  {
   "cell_type": "markdown",
   "metadata": {},
   "source": [
    "<br>\n",
    "\n"
   ]
  },
  {
   "cell_type": "markdown",
   "metadata": {},
   "source": [
    "First of all, I construct a new Generator as recommended by the `numpy.random` documentation [8]. "
   ]
  },
  {
   "cell_type": "code",
   "execution_count": 57,
   "metadata": {},
   "outputs": [],
   "source": [
    "# Construct new Generator\n",
    "rng = np.random.default_rng()"
   ]
  },
  {
   "cell_type": "markdown",
   "metadata": {},
   "source": [
    "<br>\n",
    "\n"
   ]
  },
  {
   "cell_type": "markdown",
   "metadata": {},
   "source": [
    "The simulated data set will be populated according to the values corresponding to each categorical variable i.e win, lose and draw. It is this column therefore which will be the first added to the new dataframe:"
   ]
  },
  {
   "cell_type": "markdown",
   "metadata": {},
   "source": [
    "<br>\n",
    "\n"
   ]
  },
  {
   "cell_type": "markdown",
   "metadata": {},
   "source": [
    "I create a list containing each variable"
   ]
  },
  {
   "cell_type": "code",
   "execution_count": 58,
   "metadata": {},
   "outputs": [],
   "source": [
    "# Create a list containing each categorical variable\n",
    "sim_result = ['W', 'L', 'D']"
   ]
  },
  {
   "cell_type": "markdown",
   "metadata": {},
   "source": [
    "Next, I calculate the proportion of each one as they appear in the real world data set:"
   ]
  },
  {
   "cell_type": "code",
   "execution_count": 59,
   "metadata": {},
   "outputs": [],
   "source": [
    "# Calculate the proportion of each result in the real world data set\n",
    "W, L, D = 181/380, 128/380, 71/380"
   ]
  },
  {
   "cell_type": "code",
   "execution_count": 60,
   "metadata": {},
   "outputs": [
    {
     "name": "stdout",
     "output_type": "stream",
     "text": [
      "0.4763157894736842 0.3368421052631579 0.1868421052631579\n"
     ]
    }
   ],
   "source": [
    "# Output values to the screen\n",
    "print(W, L, D)"
   ]
  },
  {
   "cell_type": "markdown",
   "metadata": {},
   "source": [
    "These values will be passed to the probability parameter of the `random.choice` function in order to distribute them according to the real world data set:"
   ]
  },
  {
   "cell_type": "code",
   "execution_count": 61,
   "metadata": {},
   "outputs": [],
   "source": [
    "# Each of the categorical variables chosen at random and distributed according to the probability values \n",
    "# calculated above\n",
    "sim_results = rng.choice(sim_result, 200, p=[0.48, 0.34, 0.18])"
   ]
  },
  {
   "cell_type": "markdown",
   "metadata": {},
   "source": [
    "<br>\n",
    "\n"
   ]
  },
  {
   "cell_type": "markdown",
   "metadata": {},
   "source": [
    "Next, I create a new dataframe containing the simulated results column generated above:"
   ]
  },
  {
   "cell_type": "code",
   "execution_count": 62,
   "metadata": {},
   "outputs": [
    {
     "data": {
      "text/html": [
       "<div>\n",
       "<style scoped>\n",
       "    .dataframe tbody tr th:only-of-type {\n",
       "        vertical-align: middle;\n",
       "    }\n",
       "\n",
       "    .dataframe tbody tr th {\n",
       "        vertical-align: top;\n",
       "    }\n",
       "\n",
       "    .dataframe thead th {\n",
       "        text-align: right;\n",
       "    }\n",
       "</style>\n",
       "<table border=\"1\" class=\"dataframe\">\n",
       "  <thead>\n",
       "    <tr style=\"text-align: right;\">\n",
       "      <th></th>\n",
       "      <th>result</th>\n",
       "    </tr>\n",
       "  </thead>\n",
       "  <tbody>\n",
       "    <tr>\n",
       "      <th>0</th>\n",
       "      <td>L</td>\n",
       "    </tr>\n",
       "    <tr>\n",
       "      <th>1</th>\n",
       "      <td>D</td>\n",
       "    </tr>\n",
       "    <tr>\n",
       "      <th>2</th>\n",
       "      <td>W</td>\n",
       "    </tr>\n",
       "    <tr>\n",
       "      <th>3</th>\n",
       "      <td>L</td>\n",
       "    </tr>\n",
       "    <tr>\n",
       "      <th>4</th>\n",
       "      <td>D</td>\n",
       "    </tr>\n",
       "    <tr>\n",
       "      <th>5</th>\n",
       "      <td>L</td>\n",
       "    </tr>\n",
       "    <tr>\n",
       "      <th>6</th>\n",
       "      <td>L</td>\n",
       "    </tr>\n",
       "    <tr>\n",
       "      <th>7</th>\n",
       "      <td>L</td>\n",
       "    </tr>\n",
       "    <tr>\n",
       "      <th>8</th>\n",
       "      <td>L</td>\n",
       "    </tr>\n",
       "    <tr>\n",
       "      <th>9</th>\n",
       "      <td>L</td>\n",
       "    </tr>\n",
       "  </tbody>\n",
       "</table>\n",
       "</div>"
      ],
      "text/plain": [
       "  result\n",
       "0      L\n",
       "1      D\n",
       "2      W\n",
       "3      L\n",
       "4      D\n",
       "5      L\n",
       "6      L\n",
       "7      L\n",
       "8      L\n",
       "9      L"
      ]
     },
     "execution_count": 62,
     "metadata": {},
     "output_type": "execute_result"
    }
   ],
   "source": [
    "# Create new simulated dataframe with result column\n",
    "sim_df = pd.DataFrame(sim_results, columns = ['result']) \n",
    "\n",
    "# Output the new dataframe\n",
    "sim_df.head(10)"
   ]
  },
  {
   "cell_type": "markdown",
   "metadata": {},
   "source": [
    "<br>\n",
    "\n"
   ]
  },
  {
   "cell_type": "markdown",
   "metadata": {},
   "source": [
    "The next step is to populate the new dataframe with the simulated data. This will be done category by category and column by column. The first category will be 'W' (win).\n",
    "\n"
   ]
  },
  {
   "cell_type": "markdown",
   "metadata": {},
   "source": [
    "<br>\n",
    "\n"
   ]
  },
  {
   "cell_type": "markdown",
   "metadata": {},
   "source": [
    "### 3.1 Win\n",
    "\n",
    "For each of the three independent variables, I will generate data using `numpy.random`. For the two ordinal variables (goal_count and shots) I will apply the `random.choice` method, having calculated the probability distribution of each variable. For the possession variable, I will generate the simulated data using the distribution functions. \n",
    "<br>\n",
    "\n"
   ]
  },
  {
   "cell_type": "markdown",
   "metadata": {},
   "source": [
    "<br>\n"
   ]
  },
  {
   "cell_type": "markdown",
   "metadata": {},
   "source": [
    "##### 3.1.1 Goal count\n",
    "\n",
    "First, I calculate the frequency of each number of goals scored by the winning team. These values represent the probability distribution of the the goal_count variable."
   ]
  },
  {
   "cell_type": "code",
   "execution_count": 63,
   "metadata": {},
   "outputs": [
    {
     "data": {
      "text/plain": [
       "[0.16022099447513813,\n",
       " 0.40331491712707185,\n",
       " 0.2541436464088398,\n",
       " 0.12154696132596685,\n",
       " 0.04419889502762431,\n",
       " 0.016574585635359115]"
      ]
     },
     "execution_count": 63,
     "metadata": {},
     "output_type": "execute_result"
    }
   ],
   "source": [
    "# Divide the frequency of each goal scored by total number of matches won and add to list\n",
    "win_goal_count_prob = list(win_goal_count_distribution / 181)\n",
    "\n",
    "# Output list of probabilities\n",
    "win_goal_count_prob"
   ]
  },
  {
   "cell_type": "markdown",
   "metadata": {},
   "source": [
    "The `random.choice` method is very effective in closely simulating data according to the probability distribution of an ordinal variable such as goal_count. The 'p' parameter allows us to weight each value for goal_count and so accurately mirrors the real world data set. The sum of the probabilities must add to 1. At times, this can raise errors when dealing with floating point values. We will explore this later below."
   ]
  },
  {
   "cell_type": "code",
   "execution_count": 64,
   "metadata": {},
   "outputs": [
    {
     "data": {
      "text/plain": [
       "1.0"
      ]
     },
     "execution_count": 64,
     "metadata": {},
     "output_type": "execute_result"
    }
   ],
   "source": [
    "# Sum of probabilities to check if they add to exactly 1\n",
    "sum(win_goal_count_prob)"
   ]
  },
  {
   "cell_type": "markdown",
   "metadata": {},
   "source": [
    "Next, I generate a list containing each unique value in win_goal_count. I found useful code for executing this at w3resource.com [12]:"
   ]
  },
  {
   "cell_type": "code",
   "execution_count": 65,
   "metadata": {},
   "outputs": [
    {
     "name": "stdout",
     "output_type": "stream",
     "text": [
      "[1, 2, 3, 4, 5, 6]\n"
     ]
    }
   ],
   "source": [
    "# Get unique values from win_goal_count and store them in a set\n",
    "win_goal_count_set = set(win_goal_count)\n",
    "\n",
    "# Convert the set to a list \n",
    "win_goal_count_list = list(win_goal_count_set)\n",
    "\n",
    "# Output the list\n",
    "print(win_goal_count_list)"
   ]
  },
  {
   "cell_type": "markdown",
   "metadata": {},
   "source": [
    "We now have a list of unique goal count values and their corresponding probabilities. Using `random.choice`, I generate an array containing the goal count for each win:"
   ]
  },
  {
   "cell_type": "code",
   "execution_count": 66,
   "metadata": {},
   "outputs": [],
   "source": [
    "# Generate array of random values using probabilities calculated above\n",
    "win_goal_count_sim = rng.choice(win_goal_count_list, 200, p=win_goal_count_prob)"
   ]
  },
  {
   "cell_type": "markdown",
   "metadata": {},
   "source": [
    "<br>\n",
    "\n"
   ]
  },
  {
   "cell_type": "markdown",
   "metadata": {},
   "source": [
    "To check the accuracy of the simulation, I plot the real world data set against the simulated data set for the goal count. First, I prepare the data:"
   ]
  },
  {
   "cell_type": "code",
   "execution_count": 67,
   "metadata": {},
   "outputs": [],
   "source": [
    "# Convert array to pandas series\n",
    "win_goal_count_sim = pd.Series(win_goal_count_sim)\n",
    "\n",
    "# Count the frequency of each value in the series\n",
    "win_goal_count_sim_distribution = win_goal_count_sim.value_counts()\n",
    "\n",
    "# Sort the values\n",
    "win_goal_count_sim_distribution = win_goal_count_sim_distribution.sort_index()"
   ]
  },
  {
   "cell_type": "code",
   "execution_count": 68,
   "metadata": {},
   "outputs": [
    {
     "data": {
      "text/plain": [
       "Text(0, 0.5, 'No. of Matches')"
      ]
     },
     "execution_count": 68,
     "metadata": {},
     "output_type": "execute_result"
    },
    {
     "data": {
      "image/png": "[encoded data removed]",
      "text/plain": [
       "<Figure size 432x288 with 1 Axes>"
      ]
     },
     "metadata": {},
     "output_type": "display_data"
    }
   ],
   "source": [
    "# Create a dictionary so we can combine the meta data for the series\n",
    "sim_goals_dict = { 'win': win_goal_count_distribution, 'simulated win': win_goal_count_sim_distribution }\n",
    "\n",
    "# Create a dataframe and store it in \n",
    "sim_goals_comparison = pd.DataFrame(sim_goals_dict) \n",
    "sim_goals_comparison.plot(kind=\"bar\")\n",
    "\n",
    "plt.title(\"Goals Scored\")\n",
    "plt.xlabel(\"No. of Goals\")\n",
    "plt.ylabel(\"No. of Matches\")"
   ]
  },
  {
   "cell_type": "markdown",
   "metadata": {},
   "source": [
    "Through visualisation, this bar chart demonstrates the accuracy of the simulated data."
   ]
  },
  {
   "cell_type": "markdown",
   "metadata": {},
   "source": [
    "<br>\n",
    "\n"
   ]
  },
  {
   "cell_type": "markdown",
   "metadata": {},
   "source": [
    "##### 3.1.2 Shots\n",
    "\n",
    "<br>\n",
    "\n",
    "I will take a similar approach to generating the simulated data for the shots variable. As mentioned above, when using `random.choice`, the probability values (*p*) must add to 1. When I sum the probability values together below, we see the total is just under 1. The `random.choice` will not work unless this value is exactly 1. I found an informative discussion on stackoverflow.com dealing with this very issue [13]. I have implemented the solution below. "
   ]
  },
  {
   "cell_type": "code",
   "execution_count": 69,
   "metadata": {},
   "outputs": [
    {
     "data": {
      "text/plain": [
       "0.9999999999999998"
      ]
     },
     "execution_count": 69,
     "metadata": {},
     "output_type": "execute_result"
    }
   ],
   "source": [
    "# Divide the frequency of each number of shots taken by total number of matches won and add to list\n",
    "win_shots_prob = list(win_shots_distribution / 181)\n",
    "\n",
    "\n",
    "sum(win_shots_prob)"
   ]
  },
  {
   "cell_type": "code",
   "execution_count": 70,
   "metadata": {},
   "outputs": [
    {
     "data": {
      "text/plain": [
       "1.0"
      ]
     },
     "execution_count": 70,
     "metadata": {},
     "output_type": "execute_result"
    }
   ],
   "source": [
    "# Convert to array\n",
    "win_shots_prob = np.array(win_shots_prob)\n",
    "\n",
    "# Divide by the sum of its elements. This normalizes the probabilities.\n",
    "win_shots_prob /= win_shots_prob.sum()\n",
    "\n",
    "# Output sum of probabilities\n",
    "win_shots_prob.sum()"
   ]
  },
  {
   "cell_type": "markdown",
   "metadata": {},
   "source": [
    "<br>\n",
    "\n",
    "As above, I create a list of the unique values for win_shots:"
   ]
  },
  {
   "cell_type": "code",
   "execution_count": 71,
   "metadata": {},
   "outputs": [
    {
     "name": "stdout",
     "output_type": "stream",
     "text": [
      "[5, 6, 7, 8, 9, 10, 11, 12, 13, 14, 15, 16, 17, 18, 19, 20, 21, 22, 23, 24, 26]\n"
     ]
    }
   ],
   "source": [
    "# Get unique values from win_shots and store them in a set\n",
    "win_shots_set = set(win_shots)\n",
    "\n",
    "# Convert the set to a list \n",
    "win_shots_list = list(win_shots_set)\n",
    "\n",
    "# Output the list\n",
    "print(win_shots_list)"
   ]
  },
  {
   "cell_type": "markdown",
   "metadata": {},
   "source": [
    "<br>\n",
    "\n",
    "Now we are ready to generate our simulated values for the win_shots variable:"
   ]
  },
  {
   "cell_type": "code",
   "execution_count": 72,
   "metadata": {},
   "outputs": [],
   "source": [
    "# Generate array of simulated data for shots variable\n",
    "win_shots_sim = rng.choice(win_shots_list, 200, p=win_shots_prob)"
   ]
  },
  {
   "cell_type": "code",
   "execution_count": 73,
   "metadata": {},
   "outputs": [],
   "source": [
    "# Convert array to pandas series\n",
    "win_shots_sim = pd.Series(win_shots_sim)\n",
    "\n",
    "# Count the frequency of each value in the series\n",
    "win_shots_sim_distribution = win_shots_sim.value_counts()\n",
    "\n",
    "# Sort the values\n",
    "win_shots_sim_distribution = win_shots_sim_distribution.sort_index()"
   ]
  },
  {
   "cell_type": "code",
   "execution_count": 74,
   "metadata": {},
   "outputs": [
    {
     "data": {
      "text/plain": [
       "Text(0, 0.5, 'No. of Matches')"
      ]
     },
     "execution_count": 74,
     "metadata": {},
     "output_type": "execute_result"
    },
    {
     "data": {
      "image/png": "[encoded data removed]",
      "text/plain": [
       "<Figure size 432x288 with 1 Axes>"
      ]
     },
     "metadata": {},
     "output_type": "display_data"
    }
   ],
   "source": [
    "# Create a dictionary so we can combine the meta data for the series\n",
    "sim_shots_dict = { 'win': win_shots_distribution, 'simulated win': win_shots_sim_distribution }\n",
    "\n",
    "# Create a dataframe and store it in \n",
    "sim_shots_comparison = pd.DataFrame(sim_shots_dict) \n",
    "sim_shots_comparison.plot(kind=\"bar\")\n",
    "\n",
    "plt.title(\"Shots on Goal\")\n",
    "plt.xlabel(\"No. of Shots\")\n",
    "plt.ylabel(\"No. of Matches\")"
   ]
  },
  {
   "cell_type": "markdown",
   "metadata": {},
   "source": [
    "Once again, we see how closely the simulated data set resembles the real world data set."
   ]
  },
  {
   "cell_type": "markdown",
   "metadata": {},
   "source": [
    "<br>\n",
    "\n"
   ]
  },
  {
   "cell_type": "markdown",
   "metadata": {},
   "source": [
    "##### 3.1.3 Possession\n",
    "\n",
    "<br>\n",
    "\n",
    "To simulate the data for the possession variable, I will use the `random.normal` function to generate an array of values normally distributed. Using `pandas` `describe` function once again, we can see the mean $\\mu$ and standard deviation $\\sigma$ and apply these values to our simulated data. The `random.normal` function takes these two values as parameters in order to generate random data in the normal distribution."
   ]
  },
  {
   "cell_type": "code",
   "execution_count": 75,
   "metadata": {},
   "outputs": [
    {
     "data": {
      "text/plain": [
       "count    181.000000\n",
       "mean      53.867403\n",
       "std       13.482255\n",
       "min       23.000000\n",
       "25%       43.000000\n",
       "50%       55.000000\n",
       "75%       64.000000\n",
       "max       80.000000\n",
       "Name: home_team_possession, dtype: float64"
      ]
     },
     "execution_count": 75,
     "metadata": {},
     "output_type": "execute_result"
    }
   ],
   "source": [
    "win_possession.describe()"
   ]
  },
  {
   "cell_type": "code",
   "execution_count": 76,
   "metadata": {},
   "outputs": [],
   "source": [
    "# Assign values for mu and sigma based on real world data set\n",
    "mu, sigma = 53.867403, 13.482255\n",
    "\n",
    "# generate random values for simulated possession variable\n",
    "sim_possession_norm = np.random.default_rng().normal(mu, sigma, 200)"
   ]
  },
  {
   "cell_type": "markdown",
   "metadata": {},
   "source": [
    "<br>\n",
    "\n"
   ]
  },
  {
   "cell_type": "markdown",
   "metadata": {},
   "source": [
    "Let's plot this on a graph and compare with the real world data set. <br>\n",
    "\n",
    "First, I will convert *sim_possesion_norm* to a pandas series"
   ]
  },
  {
   "cell_type": "code",
   "execution_count": 77,
   "metadata": {},
   "outputs": [],
   "source": [
    "# Convert array to pandas series\n",
    "sim_possession_norm = pd.Series(sim_possession_norm)"
   ]
  },
  {
   "cell_type": "code",
   "execution_count": 78,
   "metadata": {},
   "outputs": [
    {
     "data": {
      "text/plain": [
       "<matplotlib.axes._subplots.AxesSubplot at 0x155e8be85b0>"
      ]
     },
     "execution_count": 78,
     "metadata": {},
     "output_type": "execute_result"
    },
    {
     "data": {
      "image/png": "[encoded data removed]",
      "text/plain": [
       "<Figure size 2160x720 with 2 Axes>"
      ]
     },
     "metadata": {},
     "output_type": "display_data"
    }
   ],
   "source": [
    "# Create a dictionary so we can combine the meta data for the series\n",
    "sim_possession_dict = { 'win': win_possession, 'win sim': sim_possession_norm } \n",
    "\n",
    "# Create a dataframe and store it in \n",
    "sim_possession_comparison = pd.DataFrame(sim_possession_dict) \n",
    "\n",
    "# plot\n",
    "f, axes = plt.subplots(1, 2, figsize=(30, 10), sharex=True)\n",
    "sns.distplot( sim_possession_comparison[\"win\"] , bins=10, color=\"skyblue\", ax=axes[0])\n",
    "sns.distplot( sim_possession_comparison[\"win sim\"] , bins=10, color=\"olive\", ax=axes[1])"
   ]
  },
  {
   "cell_type": "markdown",
   "metadata": {},
   "source": [
    "Viewed side by side, we can see there is a notable difference in the shape of both distributions. The simulated data clearly has a more pronounced bell-shaped curve. "
   ]
  },
  {
   "cell_type": "markdown",
   "metadata": {},
   "source": [
    "<br>\n",
    "\n"
   ]
  },
  {
   "cell_type": "markdown",
   "metadata": {},
   "source": [
    "We now have our simulated values for all our variables for the *win* subset. Let's populate our simulated data set with these values. Using a for loop, I populate each variable column for when *result = 'W'*. My idea for this code came from a blog post found on towardsdatascience.com [14]."
   ]
  },
  {
   "cell_type": "code",
   "execution_count": 79,
   "metadata": {},
   "outputs": [
    {
     "name": "stderr",
     "output_type": "stream",
     "text": [
      "<ipython-input-79-58a503a07a5e>:7: SettingWithCopyWarning: \n",
      "A value is trying to be set on a copy of a slice from a DataFrame\n",
      "\n",
      "See the caveats in the documentation: https://pandas.pydata.org/pandas-docs/stable/user_guide/indexing.html#returning-a-view-versus-a-copy\n",
      "  sim_df[\"goals scored\"][i]=rng.choice(win_goal_count_sim, 1)\n",
      "<ipython-input-79-58a503a07a5e>:8: SettingWithCopyWarning: \n",
      "A value is trying to be set on a copy of a slice from a DataFrame\n",
      "\n",
      "See the caveats in the documentation: https://pandas.pydata.org/pandas-docs/stable/user_guide/indexing.html#returning-a-view-versus-a-copy\n",
      "  sim_df[\"possession\"][i]=rng.choice(sim_possession_norm, 1)\n",
      "<ipython-input-79-58a503a07a5e>:9: SettingWithCopyWarning: \n",
      "A value is trying to be set on a copy of a slice from a DataFrame\n",
      "\n",
      "See the caveats in the documentation: https://pandas.pydata.org/pandas-docs/stable/user_guide/indexing.html#returning-a-view-versus-a-copy\n",
      "  sim_df[\"shots\"][i]=rng.choice(win_shots_sim, 1)\n"
     ]
    }
   ],
   "source": [
    "sim_df[\"goals scored\"] = 0\n",
    "sim_df[\"possession\"] = 0\n",
    "sim_df[\"shots\"] = 0\n",
    "\n",
    "for i in range(len(sim_df)):\n",
    "    if sim_df[\"result\"][i]==\"W\":\n",
    "        sim_df[\"goals scored\"][i]=rng.choice(win_goal_count_sim, 1)\n",
    "        sim_df[\"possession\"][i]=rng.choice(sim_possession_norm, 1)\n",
    "        sim_df[\"shots\"][i]=rng.choice(win_shots_sim, 1)\n",
    "        "
   ]
  },
  {
   "cell_type": "code",
   "execution_count": 80,
   "metadata": {},
   "outputs": [
    {
     "data": {
      "text/html": [
       "<div>\n",
       "<style scoped>\n",
       "    .dataframe tbody tr th:only-of-type {\n",
       "        vertical-align: middle;\n",
       "    }\n",
       "\n",
       "    .dataframe tbody tr th {\n",
       "        vertical-align: top;\n",
       "    }\n",
       "\n",
       "    .dataframe thead th {\n",
       "        text-align: right;\n",
       "    }\n",
       "</style>\n",
       "<table border=\"1\" class=\"dataframe\">\n",
       "  <thead>\n",
       "    <tr style=\"text-align: right;\">\n",
       "      <th></th>\n",
       "      <th>result</th>\n",
       "      <th>goals scored</th>\n",
       "      <th>possession</th>\n",
       "      <th>shots</th>\n",
       "    </tr>\n",
       "  </thead>\n",
       "  <tbody>\n",
       "    <tr>\n",
       "      <th>0</th>\n",
       "      <td>L</td>\n",
       "      <td>0</td>\n",
       "      <td>0</td>\n",
       "      <td>0</td>\n",
       "    </tr>\n",
       "    <tr>\n",
       "      <th>1</th>\n",
       "      <td>D</td>\n",
       "      <td>0</td>\n",
       "      <td>0</td>\n",
       "      <td>0</td>\n",
       "    </tr>\n",
       "    <tr>\n",
       "      <th>2</th>\n",
       "      <td>W</td>\n",
       "      <td>2</td>\n",
       "      <td>32</td>\n",
       "      <td>10</td>\n",
       "    </tr>\n",
       "    <tr>\n",
       "      <th>3</th>\n",
       "      <td>L</td>\n",
       "      <td>0</td>\n",
       "      <td>0</td>\n",
       "      <td>0</td>\n",
       "    </tr>\n",
       "    <tr>\n",
       "      <th>4</th>\n",
       "      <td>D</td>\n",
       "      <td>0</td>\n",
       "      <td>0</td>\n",
       "      <td>0</td>\n",
       "    </tr>\n",
       "    <tr>\n",
       "      <th>5</th>\n",
       "      <td>L</td>\n",
       "      <td>0</td>\n",
       "      <td>0</td>\n",
       "      <td>0</td>\n",
       "    </tr>\n",
       "    <tr>\n",
       "      <th>6</th>\n",
       "      <td>L</td>\n",
       "      <td>0</td>\n",
       "      <td>0</td>\n",
       "      <td>0</td>\n",
       "    </tr>\n",
       "    <tr>\n",
       "      <th>7</th>\n",
       "      <td>L</td>\n",
       "      <td>0</td>\n",
       "      <td>0</td>\n",
       "      <td>0</td>\n",
       "    </tr>\n",
       "    <tr>\n",
       "      <th>8</th>\n",
       "      <td>L</td>\n",
       "      <td>0</td>\n",
       "      <td>0</td>\n",
       "      <td>0</td>\n",
       "    </tr>\n",
       "    <tr>\n",
       "      <th>9</th>\n",
       "      <td>L</td>\n",
       "      <td>0</td>\n",
       "      <td>0</td>\n",
       "      <td>0</td>\n",
       "    </tr>\n",
       "    <tr>\n",
       "      <th>10</th>\n",
       "      <td>D</td>\n",
       "      <td>0</td>\n",
       "      <td>0</td>\n",
       "      <td>0</td>\n",
       "    </tr>\n",
       "    <tr>\n",
       "      <th>11</th>\n",
       "      <td>W</td>\n",
       "      <td>3</td>\n",
       "      <td>51</td>\n",
       "      <td>16</td>\n",
       "    </tr>\n",
       "    <tr>\n",
       "      <th>12</th>\n",
       "      <td>W</td>\n",
       "      <td>2</td>\n",
       "      <td>47</td>\n",
       "      <td>18</td>\n",
       "    </tr>\n",
       "    <tr>\n",
       "      <th>13</th>\n",
       "      <td>L</td>\n",
       "      <td>0</td>\n",
       "      <td>0</td>\n",
       "      <td>0</td>\n",
       "    </tr>\n",
       "    <tr>\n",
       "      <th>14</th>\n",
       "      <td>L</td>\n",
       "      <td>0</td>\n",
       "      <td>0</td>\n",
       "      <td>0</td>\n",
       "    </tr>\n",
       "    <tr>\n",
       "      <th>15</th>\n",
       "      <td>L</td>\n",
       "      <td>0</td>\n",
       "      <td>0</td>\n",
       "      <td>0</td>\n",
       "    </tr>\n",
       "    <tr>\n",
       "      <th>16</th>\n",
       "      <td>D</td>\n",
       "      <td>0</td>\n",
       "      <td>0</td>\n",
       "      <td>0</td>\n",
       "    </tr>\n",
       "    <tr>\n",
       "      <th>17</th>\n",
       "      <td>W</td>\n",
       "      <td>1</td>\n",
       "      <td>78</td>\n",
       "      <td>12</td>\n",
       "    </tr>\n",
       "    <tr>\n",
       "      <th>18</th>\n",
       "      <td>L</td>\n",
       "      <td>0</td>\n",
       "      <td>0</td>\n",
       "      <td>0</td>\n",
       "    </tr>\n",
       "    <tr>\n",
       "      <th>19</th>\n",
       "      <td>D</td>\n",
       "      <td>0</td>\n",
       "      <td>0</td>\n",
       "      <td>0</td>\n",
       "    </tr>\n",
       "  </tbody>\n",
       "</table>\n",
       "</div>"
      ],
      "text/plain": [
       "   result  goals scored  possession  shots\n",
       "0       L             0           0      0\n",
       "1       D             0           0      0\n",
       "2       W             2          32     10\n",
       "3       L             0           0      0\n",
       "4       D             0           0      0\n",
       "5       L             0           0      0\n",
       "6       L             0           0      0\n",
       "7       L             0           0      0\n",
       "8       L             0           0      0\n",
       "9       L             0           0      0\n",
       "10      D             0           0      0\n",
       "11      W             3          51     16\n",
       "12      W             2          47     18\n",
       "13      L             0           0      0\n",
       "14      L             0           0      0\n",
       "15      L             0           0      0\n",
       "16      D             0           0      0\n",
       "17      W             1          78     12\n",
       "18      L             0           0      0\n",
       "19      D             0           0      0"
      ]
     },
     "execution_count": 80,
     "metadata": {},
     "output_type": "execute_result"
    }
   ],
   "source": [
    "sim_df.head(20)"
   ]
  },
  {
   "cell_type": "markdown",
   "metadata": {},
   "source": [
    "Taking a quick look at the first twenty values of the simulated data set, they appear to match the real world data quite accurately."
   ]
  },
  {
   "cell_type": "markdown",
   "metadata": {},
   "source": [
    "<br>\n",
    "\n"
   ]
  },
  {
   "cell_type": "markdown",
   "metadata": {},
   "source": [
    "To populate the rest of the data set I will now perform the execute the same code for the *draw* and *lose* categorical variables:"
   ]
  },
  {
   "cell_type": "markdown",
   "metadata": {},
   "source": [
    "### 3.2 Lose\n",
    "\n",
    "<br>\n",
    "\n",
    "For each variable in the lose subset, the procedure is precisely the same as for the win subset: "
   ]
  },
  {
   "cell_type": "markdown",
   "metadata": {},
   "source": [
    "##### 3.2.1 Goal count"
   ]
  },
  {
   "cell_type": "code",
   "execution_count": 81,
   "metadata": {},
   "outputs": [
    {
     "data": {
      "text/plain": [
       "[0.515625, 0.4296875, 0.0546875]"
      ]
     },
     "execution_count": 81,
     "metadata": {},
     "output_type": "execute_result"
    }
   ],
   "source": [
    "# Divide the frequency of each goal scored by total number of matches won and add to list\n",
    "lose_goal_count_prob = list(lose_goal_count_distribution / 128)\n",
    "\n",
    "# Output list of probabilities\n",
    "lose_goal_count_prob"
   ]
  },
  {
   "cell_type": "code",
   "execution_count": 82,
   "metadata": {},
   "outputs": [
    {
     "data": {
      "text/plain": [
       "1.0"
      ]
     },
     "execution_count": 82,
     "metadata": {},
     "output_type": "execute_result"
    }
   ],
   "source": [
    "sum(lose_goal_count_prob)"
   ]
  },
  {
   "cell_type": "code",
   "execution_count": 83,
   "metadata": {},
   "outputs": [
    {
     "name": "stdout",
     "output_type": "stream",
     "text": [
      "[0, 1, 2]\n"
     ]
    }
   ],
   "source": [
    "# Get unique values from lose_goal_count and store them in a set\n",
    "lose_goal_count_set = set(lose_goal_count)\n",
    "\n",
    "# Convert the set to a list \n",
    "lose_goal_count_list = list(lose_goal_count_set)\n",
    "\n",
    "# Output the list\n",
    "print(lose_goal_count_list)"
   ]
  },
  {
   "cell_type": "code",
   "execution_count": 84,
   "metadata": {},
   "outputs": [],
   "source": [
    "# Generate array of random values using probabilities calculated above\n",
    "lose_goal_count_sim = rng.choice(lose_goal_count_list, 200, p=lose_goal_count_prob)"
   ]
  },
  {
   "cell_type": "code",
   "execution_count": 85,
   "metadata": {},
   "outputs": [],
   "source": [
    "# Convert array to pandas series\n",
    "lose_goal_count_sim = pd.Series(lose_goal_count_sim)\n",
    "\n",
    "# Count the frequency of each value in the series\n",
    "lose_goal_count_sim_distribution = lose_goal_count_sim.value_counts()\n",
    "\n",
    "# Sort the values\n",
    "lose_goal_count_sim_distribution = lose_goal_count_sim_distribution.sort_index()"
   ]
  },
  {
   "cell_type": "code",
   "execution_count": 86,
   "metadata": {},
   "outputs": [
    {
     "data": {
      "text/plain": [
       "Text(0, 0.5, 'No. of Matches')"
      ]
     },
     "execution_count": 86,
     "metadata": {},
     "output_type": "execute_result"
    },
    {
     "data": {
      "image/png": "[encoded data removed]",
      "text/plain": [
       "<Figure size 432x288 with 1 Axes>"
      ]
     },
     "metadata": {},
     "output_type": "display_data"
    }
   ],
   "source": [
    "# Create a dictionary so we can combine the meta data for the series\n",
    "lose_sim_goals_dict = { 'lose': lose_goal_count_distribution, 'simulated lose': lose_goal_count_sim_distribution }\n",
    "\n",
    "# Create a dataframe and store it in \n",
    "lose_sim_goals_comparison = pd.DataFrame(lose_sim_goals_dict) \n",
    "lose_sim_goals_comparison.plot(kind=\"bar\")\n",
    "\n",
    "plt.title(\"Goals Scored\")\n",
    "plt.xlabel(\"No. of Goals\")\n",
    "plt.ylabel(\"No. of Matches\")"
   ]
  },
  {
   "cell_type": "markdown",
   "metadata": {},
   "source": [
    "<br>\n",
    "\n"
   ]
  },
  {
   "cell_type": "markdown",
   "metadata": {},
   "source": [
    "##### 3.2.2 Shots"
   ]
  },
  {
   "cell_type": "code",
   "execution_count": 87,
   "metadata": {},
   "outputs": [
    {
     "data": {
      "text/plain": [
       "1.0"
      ]
     },
     "execution_count": 87,
     "metadata": {},
     "output_type": "execute_result"
    }
   ],
   "source": [
    "# Divide the frequency of each number of shots taken by total number of matches won and add to list\n",
    "lose_shots_prob = list(lose_shots_distribution / 128)\n",
    "\n",
    "\n",
    "sum(lose_shots_prob)"
   ]
  },
  {
   "cell_type": "code",
   "execution_count": 88,
   "metadata": {},
   "outputs": [
    {
     "name": "stdout",
     "output_type": "stream",
     "text": [
      "[0, 2, 3, 4, 5, 6, 7, 8, 9, 10, 11, 12, 13, 14, 15, 16, 18, 19, 21]\n"
     ]
    }
   ],
   "source": [
    "# Get unique values from win_shots and store them in a set\n",
    "lose_shots_set = set(lose_shots)\n",
    "\n",
    "# Convert the set to a list \n",
    "lose_shots_list = list(lose_shots_set)\n",
    "\n",
    "# Output the list\n",
    "print(lose_shots_list)"
   ]
  },
  {
   "cell_type": "code",
   "execution_count": 89,
   "metadata": {},
   "outputs": [],
   "source": [
    "# Generate array of simulated data for shots variable\n",
    "lose_shots_sim = rng.choice(lose_shots_list, 200, p=lose_shots_prob)"
   ]
  },
  {
   "cell_type": "code",
   "execution_count": 90,
   "metadata": {},
   "outputs": [],
   "source": [
    "# Convert array to pandas series\n",
    "lose_shots_sim = pd.Series(lose_shots_sim)\n",
    "\n",
    "# Count the frequency of each value in the series\n",
    "lose_shots_sim_distribution = lose_shots_sim.value_counts()\n",
    "\n",
    "# Sort the values\n",
    "lose_shots_sim_distribution = lose_shots_sim_distribution.sort_index()"
   ]
  },
  {
   "cell_type": "code",
   "execution_count": 91,
   "metadata": {},
   "outputs": [
    {
     "data": {
      "text/plain": [
       "Text(0, 0.5, 'No. of Matches')"
      ]
     },
     "execution_count": 91,
     "metadata": {},
     "output_type": "execute_result"
    },
    {
     "data": {
      "image/png": "[encoded data removed]",
      "text/plain": [
       "<Figure size 432x288 with 1 Axes>"
      ]
     },
     "metadata": {},
     "output_type": "display_data"
    }
   ],
   "source": [
    "# Create a dictionary so we can combine the meta data for the series\n",
    "lose_sim_shots_dict = { 'lose': lose_shots_distribution, 'simulated lose': lose_shots_sim_distribution }\n",
    "\n",
    "# Create a dataframe and store it in \n",
    "lose_sim_shots_comparison = pd.DataFrame(lose_sim_shots_dict) \n",
    "lose_sim_shots_comparison.plot(kind=\"bar\")\n",
    "\n",
    "plt.title(\"Shots on Goal\")\n",
    "plt.xlabel(\"No. of Shots\")\n",
    "plt.ylabel(\"No. of Matches\")"
   ]
  },
  {
   "cell_type": "markdown",
   "metadata": {},
   "source": [
    "<br>\n",
    "\n"
   ]
  },
  {
   "cell_type": "markdown",
   "metadata": {},
   "source": [
    "##### 3.2.3 Possession\n",
    "\n",
    "<br>"
   ]
  },
  {
   "cell_type": "code",
   "execution_count": 92,
   "metadata": {},
   "outputs": [
    {
     "data": {
      "text/plain": [
       "count    128.000000\n",
       "mean      46.445312\n",
       "std       13.953697\n",
       "min       18.000000\n",
       "25%       35.750000\n",
       "50%       47.000000\n",
       "75%       57.250000\n",
       "max       78.000000\n",
       "Name: home_team_possession, dtype: float64"
      ]
     },
     "execution_count": 92,
     "metadata": {},
     "output_type": "execute_result"
    }
   ],
   "source": [
    "lose_possession.describe()"
   ]
  },
  {
   "cell_type": "code",
   "execution_count": 93,
   "metadata": {},
   "outputs": [],
   "source": [
    "# Assign values for mu and sigma based on real world data set\n",
    "mu, sigma = 46.445312, 13.953697\n",
    "\n",
    "# generate random values for simulated possession variable\n",
    "lose_sim_possession_norm = np.random.default_rng().normal(mu, sigma, 200)"
   ]
  },
  {
   "cell_type": "code",
   "execution_count": 94,
   "metadata": {},
   "outputs": [],
   "source": [
    "# Convert array to pandas series\n",
    "lose_sim_possession_norm = pd.Series(lose_sim_possession_norm)"
   ]
  },
  {
   "cell_type": "code",
   "execution_count": 95,
   "metadata": {},
   "outputs": [
    {
     "data": {
      "text/plain": [
       "<matplotlib.axes._subplots.AxesSubplot at 0x155e98c8670>"
      ]
     },
     "execution_count": 95,
     "metadata": {},
     "output_type": "execute_result"
    },
    {
     "data": {
      "image/png": "[encoded data removed]",
      "text/plain": [
       "<Figure size 2160x720 with 2 Axes>"
      ]
     },
     "metadata": {},
     "output_type": "display_data"
    }
   ],
   "source": [
    "# Create a dictionary so we can combine the meta data for the series\n",
    "lose_sim_possession_dict = { 'lose': lose_possession, 'lose sim': lose_sim_possession_norm } \n",
    "\n",
    "# Create a dataframe and store it in \n",
    "lose_sim_possession_comparison = pd.DataFrame(lose_sim_possession_dict) \n",
    "\n",
    "# plot\n",
    "f, axes = plt.subplots(1, 2, figsize=(30, 10), sharex=True)\n",
    "sns.distplot( lose_sim_possession_comparison[\"lose\"] , bins=10, color=\"skyblue\", ax=axes[0])\n",
    "sns.distplot( lose_sim_possession_comparison[\"lose sim\"] , bins=10, color=\"olive\", ax=axes[1])"
   ]
  },
  {
   "cell_type": "markdown",
   "metadata": {},
   "source": [
    "<br>\n",
    "\n"
   ]
  },
  {
   "cell_type": "code",
   "execution_count": 96,
   "metadata": {},
   "outputs": [
    {
     "name": "stderr",
     "output_type": "stream",
     "text": [
      "<ipython-input-96-77b7288a69f1>:7: SettingWithCopyWarning: \n",
      "A value is trying to be set on a copy of a slice from a DataFrame\n",
      "\n",
      "See the caveats in the documentation: https://pandas.pydata.org/pandas-docs/stable/user_guide/indexing.html#returning-a-view-versus-a-copy\n",
      "  sim_df[\"goals scored\"][i]=rng.choice(lose_goal_count_sim, 1)\n",
      "<ipython-input-96-77b7288a69f1>:8: SettingWithCopyWarning: \n",
      "A value is trying to be set on a copy of a slice from a DataFrame\n",
      "\n",
      "See the caveats in the documentation: https://pandas.pydata.org/pandas-docs/stable/user_guide/indexing.html#returning-a-view-versus-a-copy\n",
      "  sim_df[\"possession\"][i]=rng.choice(lose_sim_possession_norm, 1)\n",
      "<ipython-input-96-77b7288a69f1>:9: SettingWithCopyWarning: \n",
      "A value is trying to be set on a copy of a slice from a DataFrame\n",
      "\n",
      "See the caveats in the documentation: https://pandas.pydata.org/pandas-docs/stable/user_guide/indexing.html#returning-a-view-versus-a-copy\n",
      "  sim_df[\"shots\"][i]=rng.choice(lose_shots_sim, 1)\n"
     ]
    }
   ],
   "source": [
    "# sim_df[\"goals scored\"] = 0\n",
    "# sim_df[\"possession\"] = 0\n",
    "# sim_df[\"shots\"] = 0\n",
    "\n",
    "for i in range(len(sim_df)):\n",
    "    if sim_df[\"result\"][i]==\"L\":\n",
    "        sim_df[\"goals scored\"][i]=rng.choice(lose_goal_count_sim, 1)\n",
    "        sim_df[\"possession\"][i]=rng.choice(lose_sim_possession_norm, 1)\n",
    "        sim_df[\"shots\"][i]=rng.choice(lose_shots_sim, 1)"
   ]
  },
  {
   "cell_type": "code",
   "execution_count": 97,
   "metadata": {},
   "outputs": [
    {
     "data": {
      "text/html": [
       "<div>\n",
       "<style scoped>\n",
       "    .dataframe tbody tr th:only-of-type {\n",
       "        vertical-align: middle;\n",
       "    }\n",
       "\n",
       "    .dataframe tbody tr th {\n",
       "        vertical-align: top;\n",
       "    }\n",
       "\n",
       "    .dataframe thead th {\n",
       "        text-align: right;\n",
       "    }\n",
       "</style>\n",
       "<table border=\"1\" class=\"dataframe\">\n",
       "  <thead>\n",
       "    <tr style=\"text-align: right;\">\n",
       "      <th></th>\n",
       "      <th>result</th>\n",
       "      <th>goals scored</th>\n",
       "      <th>possession</th>\n",
       "      <th>shots</th>\n",
       "    </tr>\n",
       "  </thead>\n",
       "  <tbody>\n",
       "    <tr>\n",
       "      <th>0</th>\n",
       "      <td>L</td>\n",
       "      <td>1</td>\n",
       "      <td>38</td>\n",
       "      <td>9</td>\n",
       "    </tr>\n",
       "    <tr>\n",
       "      <th>1</th>\n",
       "      <td>D</td>\n",
       "      <td>0</td>\n",
       "      <td>0</td>\n",
       "      <td>0</td>\n",
       "    </tr>\n",
       "    <tr>\n",
       "      <th>2</th>\n",
       "      <td>W</td>\n",
       "      <td>2</td>\n",
       "      <td>32</td>\n",
       "      <td>10</td>\n",
       "    </tr>\n",
       "    <tr>\n",
       "      <th>3</th>\n",
       "      <td>L</td>\n",
       "      <td>1</td>\n",
       "      <td>60</td>\n",
       "      <td>12</td>\n",
       "    </tr>\n",
       "    <tr>\n",
       "      <th>4</th>\n",
       "      <td>D</td>\n",
       "      <td>0</td>\n",
       "      <td>0</td>\n",
       "      <td>0</td>\n",
       "    </tr>\n",
       "    <tr>\n",
       "      <th>5</th>\n",
       "      <td>L</td>\n",
       "      <td>0</td>\n",
       "      <td>41</td>\n",
       "      <td>7</td>\n",
       "    </tr>\n",
       "    <tr>\n",
       "      <th>6</th>\n",
       "      <td>L</td>\n",
       "      <td>0</td>\n",
       "      <td>43</td>\n",
       "      <td>9</td>\n",
       "    </tr>\n",
       "    <tr>\n",
       "      <th>7</th>\n",
       "      <td>L</td>\n",
       "      <td>0</td>\n",
       "      <td>38</td>\n",
       "      <td>13</td>\n",
       "    </tr>\n",
       "    <tr>\n",
       "      <th>8</th>\n",
       "      <td>L</td>\n",
       "      <td>1</td>\n",
       "      <td>69</td>\n",
       "      <td>10</td>\n",
       "    </tr>\n",
       "    <tr>\n",
       "      <th>9</th>\n",
       "      <td>L</td>\n",
       "      <td>0</td>\n",
       "      <td>60</td>\n",
       "      <td>8</td>\n",
       "    </tr>\n",
       "    <tr>\n",
       "      <th>10</th>\n",
       "      <td>D</td>\n",
       "      <td>0</td>\n",
       "      <td>0</td>\n",
       "      <td>0</td>\n",
       "    </tr>\n",
       "    <tr>\n",
       "      <th>11</th>\n",
       "      <td>W</td>\n",
       "      <td>3</td>\n",
       "      <td>51</td>\n",
       "      <td>16</td>\n",
       "    </tr>\n",
       "    <tr>\n",
       "      <th>12</th>\n",
       "      <td>W</td>\n",
       "      <td>2</td>\n",
       "      <td>47</td>\n",
       "      <td>18</td>\n",
       "    </tr>\n",
       "    <tr>\n",
       "      <th>13</th>\n",
       "      <td>L</td>\n",
       "      <td>0</td>\n",
       "      <td>37</td>\n",
       "      <td>14</td>\n",
       "    </tr>\n",
       "    <tr>\n",
       "      <th>14</th>\n",
       "      <td>L</td>\n",
       "      <td>0</td>\n",
       "      <td>43</td>\n",
       "      <td>6</td>\n",
       "    </tr>\n",
       "    <tr>\n",
       "      <th>15</th>\n",
       "      <td>L</td>\n",
       "      <td>1</td>\n",
       "      <td>58</td>\n",
       "      <td>10</td>\n",
       "    </tr>\n",
       "    <tr>\n",
       "      <th>16</th>\n",
       "      <td>D</td>\n",
       "      <td>0</td>\n",
       "      <td>0</td>\n",
       "      <td>0</td>\n",
       "    </tr>\n",
       "    <tr>\n",
       "      <th>17</th>\n",
       "      <td>W</td>\n",
       "      <td>1</td>\n",
       "      <td>78</td>\n",
       "      <td>12</td>\n",
       "    </tr>\n",
       "    <tr>\n",
       "      <th>18</th>\n",
       "      <td>L</td>\n",
       "      <td>0</td>\n",
       "      <td>33</td>\n",
       "      <td>8</td>\n",
       "    </tr>\n",
       "    <tr>\n",
       "      <th>19</th>\n",
       "      <td>D</td>\n",
       "      <td>0</td>\n",
       "      <td>0</td>\n",
       "      <td>0</td>\n",
       "    </tr>\n",
       "  </tbody>\n",
       "</table>\n",
       "</div>"
      ],
      "text/plain": [
       "   result  goals scored  possession  shots\n",
       "0       L             1          38      9\n",
       "1       D             0           0      0\n",
       "2       W             2          32     10\n",
       "3       L             1          60     12\n",
       "4       D             0           0      0\n",
       "5       L             0          41      7\n",
       "6       L             0          43      9\n",
       "7       L             0          38     13\n",
       "8       L             1          69     10\n",
       "9       L             0          60      8\n",
       "10      D             0           0      0\n",
       "11      W             3          51     16\n",
       "12      W             2          47     18\n",
       "13      L             0          37     14\n",
       "14      L             0          43      6\n",
       "15      L             1          58     10\n",
       "16      D             0           0      0\n",
       "17      W             1          78     12\n",
       "18      L             0          33      8\n",
       "19      D             0           0      0"
      ]
     },
     "execution_count": 97,
     "metadata": {},
     "output_type": "execute_result"
    }
   ],
   "source": [
    "sim_df.head(20)"
   ]
  },
  {
   "cell_type": "markdown",
   "metadata": {},
   "source": [
    "<br>\n",
    "\n"
   ]
  },
  {
   "cell_type": "markdown",
   "metadata": {},
   "source": [
    "### 3.3 Draw\n",
    "\n",
    "<br>"
   ]
  },
  {
   "cell_type": "markdown",
   "metadata": {},
   "source": [
    "##### 3.3.1 Goal count"
   ]
  },
  {
   "cell_type": "code",
   "execution_count": 98,
   "metadata": {},
   "outputs": [
    {
     "data": {
      "text/plain": [
       "[0.30985915492957744,\n",
       " 0.4507042253521127,\n",
       " 0.2112676056338028,\n",
       " 0.028169014084507043]"
      ]
     },
     "execution_count": 98,
     "metadata": {},
     "output_type": "execute_result"
    }
   ],
   "source": [
    "# Divide the frequency of each goal scored by total number of matches won and add to list\n",
    "draw_goal_count_prob = list(draw_goal_count_distribution / 71)\n",
    "\n",
    "# Output list of probabilities\n",
    "draw_goal_count_prob"
   ]
  },
  {
   "cell_type": "code",
   "execution_count": 99,
   "metadata": {},
   "outputs": [
    {
     "data": {
      "text/plain": [
       "1.0"
      ]
     },
     "execution_count": 99,
     "metadata": {},
     "output_type": "execute_result"
    }
   ],
   "source": [
    "sum(draw_goal_count_prob)"
   ]
  },
  {
   "cell_type": "code",
   "execution_count": 100,
   "metadata": {},
   "outputs": [
    {
     "name": "stdout",
     "output_type": "stream",
     "text": [
      "[0, 1, 2, 3]\n"
     ]
    }
   ],
   "source": [
    "# Get unique values from lose_goal_count and store them in a set\n",
    "draw_goal_count_set = set(draw_goal_count)\n",
    "\n",
    "# Convert the set to a list \n",
    "draw_goal_count_list = list(draw_goal_count_set)\n",
    "\n",
    "# Output the list\n",
    "print(draw_goal_count_list)"
   ]
  },
  {
   "cell_type": "code",
   "execution_count": 101,
   "metadata": {},
   "outputs": [],
   "source": [
    "# Generate array of random values using probabilities calculated above\n",
    "draw_goal_count_sim = rng.choice(draw_goal_count_list, 200, p=draw_goal_count_prob)"
   ]
  },
  {
   "cell_type": "code",
   "execution_count": 102,
   "metadata": {},
   "outputs": [],
   "source": [
    "# Convert array to pandas series\n",
    "draw_goal_count_sim = pd.Series(draw_goal_count_sim)\n",
    "\n",
    "# Count the frequency of each value in the series\n",
    "draw_goal_count_sim_distribution = draw_goal_count_sim.value_counts()\n",
    "\n",
    "# Sort the values\n",
    "draw_goal_count_sim_distribution = draw_goal_count_sim_distribution.sort_index()"
   ]
  },
  {
   "cell_type": "code",
   "execution_count": 103,
   "metadata": {},
   "outputs": [
    {
     "data": {
      "text/plain": [
       "Text(0, 0.5, 'No. of Matches')"
      ]
     },
     "execution_count": 103,
     "metadata": {},
     "output_type": "execute_result"
    },
    {
     "data": {
      "image/png": "[encoded data removed]",
      "text/plain": [
       "<Figure size 432x288 with 1 Axes>"
      ]
     },
     "metadata": {},
     "output_type": "display_data"
    }
   ],
   "source": [
    "# Create a dictionary so we can combine the meta data for the series\n",
    "draw_sim_goals_dict = { 'draw': draw_goal_count_distribution, 'simulated draw': draw_goal_count_sim_distribution }\n",
    "\n",
    "# Create a dataframe and store it in \n",
    "draw_sim_goals_comparison = pd.DataFrame(draw_sim_goals_dict) \n",
    "draw_sim_goals_comparison.plot(kind=\"bar\")\n",
    "\n",
    "plt.title(\"Goals Scored\")\n",
    "plt.xlabel(\"No. of Goals\")\n",
    "plt.ylabel(\"No. of Matches\")"
   ]
  },
  {
   "cell_type": "markdown",
   "metadata": {},
   "source": [
    "<br>\n",
    "\n"
   ]
  },
  {
   "cell_type": "markdown",
   "metadata": {},
   "source": [
    "##### 3.3.2 Shots"
   ]
  },
  {
   "cell_type": "code",
   "execution_count": 104,
   "metadata": {},
   "outputs": [
    {
     "data": {
      "text/plain": [
       "1.0"
      ]
     },
     "execution_count": 104,
     "metadata": {},
     "output_type": "execute_result"
    }
   ],
   "source": [
    "# Divide the frequency of each number of shots taken by total number of matches won and add to list\n",
    "draw_shots_prob = list(draw_shots_distribution / 71)\n",
    "\n",
    "\n",
    "sum(draw_shots_prob)"
   ]
  },
  {
   "cell_type": "code",
   "execution_count": 105,
   "metadata": {},
   "outputs": [
    {
     "name": "stdout",
     "output_type": "stream",
     "text": [
      "[0, 4, 5, 6, 7, 8, 9, 10, 11, 12, 13, 14, 15, 16, 17, 18, 19, 20, 21]\n"
     ]
    }
   ],
   "source": [
    "# Get unique values from draw_shots and store them in a set\n",
    "draw_shots_set = set(draw_shots)\n",
    "\n",
    "# Convert the set to a list \n",
    "draw_shots_list = list(draw_shots_set)\n",
    "\n",
    "# Output the list\n",
    "print(draw_shots_list)"
   ]
  },
  {
   "cell_type": "code",
   "execution_count": 106,
   "metadata": {},
   "outputs": [],
   "source": [
    "# Generate array of simulated data for shots variable\n",
    "draw_shots_sim = rng.choice(draw_shots_list, 200, p=draw_shots_prob)"
   ]
  },
  {
   "cell_type": "code",
   "execution_count": 107,
   "metadata": {},
   "outputs": [],
   "source": [
    "# Convert array to pandas series\n",
    "draw_shots_sim = pd.Series(draw_shots_sim)\n",
    "\n",
    "# Count the frequency of each value in the series\n",
    "draw_shots_sim_distribution = draw_shots_sim.value_counts()\n",
    "\n",
    "# Sort the values\n",
    "draw_shots_sim_distribution = draw_shots_sim_distribution.sort_index()"
   ]
  },
  {
   "cell_type": "code",
   "execution_count": 108,
   "metadata": {},
   "outputs": [
    {
     "data": {
      "text/plain": [
       "Text(0, 0.5, 'No. of Matches')"
      ]
     },
     "execution_count": 108,
     "metadata": {},
     "output_type": "execute_result"
    },
    {
     "data": {
      "image/png": "[encoded data removed]",
      "text/plain": [
       "<Figure size 432x288 with 1 Axes>"
      ]
     },
     "metadata": {},
     "output_type": "display_data"
    }
   ],
   "source": [
    "# Create a dictionary so we can combine the meta data for the series\n",
    "draw_sim_shots_dict = { 'draw': draw_shots_distribution, 'simulated draw': draw_shots_sim_distribution }\n",
    "\n",
    "# Create a dataframe and store it in \n",
    "draw_sim_shots_comparison = pd.DataFrame(draw_sim_shots_dict) \n",
    "draw_sim_shots_comparison.plot(kind=\"bar\")\n",
    "\n",
    "plt.title(\"Shots on Goal\")\n",
    "plt.xlabel(\"No. of Shots\")\n",
    "plt.ylabel(\"No. of Matches\")"
   ]
  },
  {
   "cell_type": "markdown",
   "metadata": {},
   "source": [
    "<br>\n",
    "\n"
   ]
  },
  {
   "cell_type": "markdown",
   "metadata": {},
   "source": [
    "##### 3.3.3 Possession\n"
   ]
  },
  {
   "cell_type": "code",
   "execution_count": 109,
   "metadata": {},
   "outputs": [
    {
     "data": {
      "text/plain": [
       "count    71.000000\n",
       "mean     52.690141\n",
       "std      12.418410\n",
       "min      26.000000\n",
       "25%      44.000000\n",
       "50%      54.000000\n",
       "75%      61.000000\n",
       "max      76.000000\n",
       "Name: home_team_possession, dtype: float64"
      ]
     },
     "execution_count": 109,
     "metadata": {},
     "output_type": "execute_result"
    }
   ],
   "source": [
    "draw_possession.describe()"
   ]
  },
  {
   "cell_type": "code",
   "execution_count": 110,
   "metadata": {},
   "outputs": [],
   "source": [
    "# Assign values for mu and sigma based on real world data set\n",
    "mu, sigma = 52.690141, 12.418410\n",
    "\n",
    "# generate random values for simulated possession variable\n",
    "draw_sim_possession_norm = np.random.default_rng().normal(mu, sigma, 200)"
   ]
  },
  {
   "cell_type": "code",
   "execution_count": 111,
   "metadata": {},
   "outputs": [],
   "source": [
    "# Convert array to pandas series\n",
    "draw_sim_possession_norm = pd.Series(draw_sim_possession_norm)"
   ]
  },
  {
   "cell_type": "code",
   "execution_count": 112,
   "metadata": {},
   "outputs": [
    {
     "data": {
      "text/plain": [
       "<matplotlib.axes._subplots.AxesSubplot at 0x155ea5a0610>"
      ]
     },
     "execution_count": 112,
     "metadata": {},
     "output_type": "execute_result"
    },
    {
     "data": {
      "image/png": "[encoded data removed]",
      "text/plain": [
       "<Figure size 2160x720 with 2 Axes>"
      ]
     },
     "metadata": {},
     "output_type": "display_data"
    }
   ],
   "source": [
    "# Create a dictionary so we can combine the meta data for the series\n",
    "draw_sim_possession_dict = { 'draw': draw_possession, 'draw sim': draw_sim_possession_norm } \n",
    "\n",
    "# Create a dataframe and store it in \n",
    "draw_sim_possession_comparison = pd.DataFrame(draw_sim_possession_dict) \n",
    "\n",
    "# plot\n",
    "f, axes = plt.subplots(1, 2, figsize=(30, 10), sharex=True)\n",
    "sns.distplot( draw_sim_possession_comparison[\"draw\"] , bins=10, color=\"skyblue\", ax=axes[0])\n",
    "sns.distplot( draw_sim_possession_comparison[\"draw sim\"] , bins=10, color=\"olive\", ax=axes[1])"
   ]
  },
  {
   "cell_type": "code",
   "execution_count": 113,
   "metadata": {},
   "outputs": [
    {
     "data": {
      "text/plain": [
       "1.2"
      ]
     },
     "execution_count": 113,
     "metadata": {},
     "output_type": "execute_result"
    }
   ],
   "source": [
    "list = [1.2, 1.5, 3.6]\n",
    "rng.choice(list)"
   ]
  },
  {
   "cell_type": "code",
   "execution_count": 126,
   "metadata": {},
   "outputs": [
    {
     "name": "stderr",
     "output_type": "stream",
     "text": [
      "<ipython-input-126-5f248ef52e76>:9: SettingWithCopyWarning: \n",
      "A value is trying to be set on a copy of a slice from a DataFrame\n",
      "\n",
      "See the caveats in the documentation: https://pandas.pydata.org/pandas-docs/stable/user_guide/indexing.html#returning-a-view-versus-a-copy\n",
      "  sim_df[\"goals scored\"][i]=rng.choice(draw_goal_count_sim, 1)\n",
      "<ipython-input-126-5f248ef52e76>:10: SettingWithCopyWarning: \n",
      "A value is trying to be set on a copy of a slice from a DataFrame\n",
      "\n",
      "See the caveats in the documentation: https://pandas.pydata.org/pandas-docs/stable/user_guide/indexing.html#returning-a-view-versus-a-copy\n",
      "  sim_df[\"possession\"][i]=rng.choice(draw_sim_possession_norm, 1)\n",
      "<ipython-input-126-5f248ef52e76>:11: SettingWithCopyWarning: \n",
      "A value is trying to be set on a copy of a slice from a DataFrame\n",
      "\n",
      "See the caveats in the documentation: https://pandas.pydata.org/pandas-docs/stable/user_guide/indexing.html#returning-a-view-versus-a-copy\n",
      "  sim_df[\"shots\"][i]=rng.choice(draw_shots_sim, 1)\n",
      "<ipython-input-126-5f248ef52e76>:12: SettingWithCopyWarning: \n",
      "A value is trying to be set on a copy of a slice from a DataFrame\n",
      "\n",
      "See the caveats in the documentation: https://pandas.pydata.org/pandas-docs/stable/user_guide/indexing.html#returning-a-view-versus-a-copy\n",
      "  sim_df[\"alcohol intake\"][i]=rng.choice(alcohol_intake)\n"
     ]
    }
   ],
   "source": [
    "# sim_df[\"goals scored\"] = 0\n",
    "# sim_df[\"possession\"] = 0\n",
    "# sim_df[\"shots\"] = 0\n",
    "sim_df[\"alcohol intake\"] = 0.0\n",
    "pd.options.display.precision = 5\n",
    "\n",
    "for i in range(len(sim_df)):\n",
    "    if sim_df[\"result\"][i]==\"D\":\n",
    "        sim_df[\"goals scored\"][i]=rng.choice(draw_goal_count_sim, 1)\n",
    "        sim_df[\"possession\"][i]=rng.choice(draw_sim_possession_norm, 1)\n",
    "        sim_df[\"shots\"][i]=rng.choice(draw_shots_sim, 1)\n",
    "        sim_df[\"alcohol intake\"][i]=rng.choice(alcohol_intake)"
   ]
  },
  {
   "cell_type": "code",
   "execution_count": 127,
   "metadata": {},
   "outputs": [
    {
     "data": {
      "text/html": [
       "<div>\n",
       "<style scoped>\n",
       "    .dataframe tbody tr th:only-of-type {\n",
       "        vertical-align: middle;\n",
       "    }\n",
       "\n",
       "    .dataframe tbody tr th {\n",
       "        vertical-align: top;\n",
       "    }\n",
       "\n",
       "    .dataframe thead th {\n",
       "        text-align: right;\n",
       "    }\n",
       "</style>\n",
       "<table border=\"1\" class=\"dataframe\">\n",
       "  <thead>\n",
       "    <tr style=\"text-align: right;\">\n",
       "      <th></th>\n",
       "      <th>result</th>\n",
       "      <th>goals scored</th>\n",
       "      <th>possession</th>\n",
       "      <th>shots</th>\n",
       "      <th>alcohol intake</th>\n",
       "    </tr>\n",
       "  </thead>\n",
       "  <tbody>\n",
       "    <tr>\n",
       "      <th>0</th>\n",
       "      <td>L</td>\n",
       "      <td>1</td>\n",
       "      <td>38</td>\n",
       "      <td>9</td>\n",
       "      <td>0.00000</td>\n",
       "    </tr>\n",
       "    <tr>\n",
       "      <th>1</th>\n",
       "      <td>D</td>\n",
       "      <td>0</td>\n",
       "      <td>41</td>\n",
       "      <td>8</td>\n",
       "      <td>4.75934</td>\n",
       "    </tr>\n",
       "    <tr>\n",
       "      <th>2</th>\n",
       "      <td>W</td>\n",
       "      <td>2</td>\n",
       "      <td>32</td>\n",
       "      <td>10</td>\n",
       "      <td>0.00000</td>\n",
       "    </tr>\n",
       "    <tr>\n",
       "      <th>3</th>\n",
       "      <td>L</td>\n",
       "      <td>1</td>\n",
       "      <td>60</td>\n",
       "      <td>12</td>\n",
       "      <td>0.00000</td>\n",
       "    </tr>\n",
       "    <tr>\n",
       "      <th>4</th>\n",
       "      <td>D</td>\n",
       "      <td>1</td>\n",
       "      <td>52</td>\n",
       "      <td>12</td>\n",
       "      <td>1.66572</td>\n",
       "    </tr>\n",
       "  </tbody>\n",
       "</table>\n",
       "</div>"
      ],
      "text/plain": [
       "  result  goals scored  possession  shots  alcohol intake\n",
       "0      L             1          38      9         0.00000\n",
       "1      D             0          41      8         4.75934\n",
       "2      W             2          32     10         0.00000\n",
       "3      L             1          60     12         0.00000\n",
       "4      D             1          52     12         1.66572"
      ]
     },
     "execution_count": 127,
     "metadata": {},
     "output_type": "execute_result"
    }
   ],
   "source": [
    "sim_df.head()"
   ]
  },
  {
   "cell_type": "code",
   "execution_count": null,
   "metadata": {},
   "outputs": [],
   "source": []
  },
  {
   "cell_type": "code",
   "execution_count": null,
   "metadata": {},
   "outputs": [],
   "source": []
  },
  {
   "cell_type": "code",
   "execution_count": 130,
   "metadata": {},
   "outputs": [
    {
     "data": {
      "text/plain": [
       "array([1.        , 1.21052632, 1.42105263, 1.63157895, 1.84210526,\n",
       "       2.05263158, 2.26315789, 2.47368421, 2.68421053, 2.89473684,\n",
       "       3.10526316, 3.31578947, 3.52631579, 3.73684211, 3.94736842,\n",
       "       4.15789474, 4.36842105, 4.57894737, 4.78947368, 5.        ])"
      ]
     },
     "execution_count": 130,
     "metadata": {},
     "output_type": "execute_result"
    }
   ],
   "source": [
    "np.linspace(1, 5, 20)"
   ]
  },
  {
   "cell_type": "code",
   "execution_count": null,
   "metadata": {},
   "outputs": [],
   "source": []
  },
  {
   "cell_type": "code",
   "execution_count": null,
   "metadata": {},
   "outputs": [],
   "source": []
  },
  {
   "cell_type": "code",
   "execution_count": null,
   "metadata": {},
   "outputs": [],
   "source": []
  },
  {
   "cell_type": "code",
   "execution_count": 131,
   "metadata": {},
   "outputs": [
    {
     "ename": "TypeError",
     "evalue": "'list' object is not callable",
     "output_type": "error",
     "traceback": [
      "\u001b[1;31m---------------------------------------------------------------------------\u001b[0m",
      "\u001b[1;31mTypeError\u001b[0m                                 Traceback (most recent call last)",
      "\u001b[1;32m<ipython-input-131-4db922c9f3ad>\u001b[0m in \u001b[0;36m<module>\u001b[1;34m\u001b[0m\n\u001b[1;32m----> 1\u001b[1;33m \u001b[0maverage_category_premiums\u001b[0m\u001b[1;33m=\u001b[0m\u001b[0mlist\u001b[0m\u001b[1;33m(\u001b[0m\u001b[0mround\u001b[0m\u001b[1;33m(\u001b[0m\u001b[0msim_df\u001b[0m\u001b[1;33m.\u001b[0m\u001b[0mgroupby\u001b[0m\u001b[1;33m(\u001b[0m\u001b[1;34m\"result\"\u001b[0m\u001b[1;33m)\u001b[0m\u001b[1;33m[\u001b[0m\u001b[1;34m\"shots\"\u001b[0m\u001b[1;33m]\u001b[0m\u001b[1;33m.\u001b[0m\u001b[0mmean\u001b[0m\u001b[1;33m(\u001b[0m\u001b[1;33m)\u001b[0m\u001b[1;33m*\u001b[0m\u001b[1;36m8\u001b[0m\u001b[1;33m,\u001b[0m\u001b[1;36m0\u001b[0m\u001b[1;33m)\u001b[0m\u001b[1;33m)\u001b[0m\u001b[1;33m\u001b[0m\u001b[1;33m\u001b[0m\u001b[0m\n\u001b[0m\u001b[0;32m      2\u001b[0m \u001b[0maverage_category_premiums\u001b[0m\u001b[1;33m\u001b[0m\u001b[1;33m\u001b[0m\u001b[0m\n",
      "\u001b[1;31mTypeError\u001b[0m: 'list' object is not callable"
     ]
    }
   ],
   "source": [
    "average_category_premiums=list(round(sim_df.groupby(\"result\")[\"shots\"].mean()*8,0))\n",
    "average_category_premiums"
   ]
  },
  {
   "cell_type": "code",
   "execution_count": 120,
   "metadata": {},
   "outputs": [
    {
     "data": {
      "text/plain": [
       "2.142857142857143"
      ]
     },
     "execution_count": 120,
     "metadata": {},
     "output_type": "execute_result"
    }
   ],
   "source": [
    "15/7"
   ]
  },
  {
   "cell_type": "code",
   "execution_count": 121,
   "metadata": {},
   "outputs": [
    {
     "data": {
      "text/plain": [
       "1.04"
      ]
     },
     "execution_count": 121,
     "metadata": {},
     "output_type": "execute_result"
    }
   ],
   "source": [
    "5.2/5"
   ]
  },
  {
   "cell_type": "code",
   "execution_count": 122,
   "metadata": {},
   "outputs": [],
   "source": [
    "alcohol_intake = np.random.normal(3.5, 1.04, 200)"
   ]
  },
  {
   "cell_type": "code",
   "execution_count": 123,
   "metadata": {},
   "outputs": [
    {
     "data": {
      "text/plain": [
       "4.169316192409937"
      ]
     },
     "execution_count": 123,
     "metadata": {},
     "output_type": "execute_result"
    }
   ],
   "source": [
    "rng.choice(alcohol_intake)"
   ]
  },
  {
   "cell_type": "code",
   "execution_count": 124,
   "metadata": {},
   "outputs": [
    {
     "data": {
      "text/html": [
       "<div>\n",
       "<style scoped>\n",
       "    .dataframe tbody tr th:only-of-type {\n",
       "        vertical-align: middle;\n",
       "    }\n",
       "\n",
       "    .dataframe tbody tr th {\n",
       "        vertical-align: top;\n",
       "    }\n",
       "\n",
       "    .dataframe thead th {\n",
       "        text-align: right;\n",
       "    }\n",
       "</style>\n",
       "<table border=\"1\" class=\"dataframe\">\n",
       "  <thead>\n",
       "    <tr style=\"text-align: right;\">\n",
       "      <th></th>\n",
       "      <th>0</th>\n",
       "    </tr>\n",
       "  </thead>\n",
       "  <tbody>\n",
       "    <tr>\n",
       "      <th>0</th>\n",
       "      <td>3.63577</td>\n",
       "    </tr>\n",
       "    <tr>\n",
       "      <th>1</th>\n",
       "      <td>4.01056</td>\n",
       "    </tr>\n",
       "    <tr>\n",
       "      <th>2</th>\n",
       "      <td>3.01627</td>\n",
       "    </tr>\n",
       "    <tr>\n",
       "      <th>3</th>\n",
       "      <td>2.71292</td>\n",
       "    </tr>\n",
       "    <tr>\n",
       "      <th>4</th>\n",
       "      <td>4.61156</td>\n",
       "    </tr>\n",
       "    <tr>\n",
       "      <th>...</th>\n",
       "      <td>...</td>\n",
       "    </tr>\n",
       "    <tr>\n",
       "      <th>195</th>\n",
       "      <td>2.69248</td>\n",
       "    </tr>\n",
       "    <tr>\n",
       "      <th>196</th>\n",
       "      <td>3.80219</td>\n",
       "    </tr>\n",
       "    <tr>\n",
       "      <th>197</th>\n",
       "      <td>3.41774</td>\n",
       "    </tr>\n",
       "    <tr>\n",
       "      <th>198</th>\n",
       "      <td>4.70578</td>\n",
       "    </tr>\n",
       "    <tr>\n",
       "      <th>199</th>\n",
       "      <td>1.48995</td>\n",
       "    </tr>\n",
       "  </tbody>\n",
       "</table>\n",
       "<p>200 rows × 1 columns</p>\n",
       "</div>"
      ],
      "text/plain": [
       "           0\n",
       "0    3.63577\n",
       "1    4.01056\n",
       "2    3.01627\n",
       "3    2.71292\n",
       "4    4.61156\n",
       "..       ...\n",
       "195  2.69248\n",
       "196  3.80219\n",
       "197  3.41774\n",
       "198  4.70578\n",
       "199  1.48995\n",
       "\n",
       "[200 rows x 1 columns]"
      ]
     },
     "execution_count": 124,
     "metadata": {},
     "output_type": "execute_result"
    }
   ],
   "source": [
    "alcohol_intake = pd.Series(alcohol_intake, dtype=float)\n",
    "alcohol_intake = alcohol_intake.astype(float)\n",
    "df6 = pd.DataFrame(alcohol_intake)\n",
    "df6"
   ]
  },
  {
   "cell_type": "code",
   "execution_count": 125,
   "metadata": {},
   "outputs": [
    {
     "data": {
      "text/plain": [
       "(array([ 2.,  1.,  9., 14., 41., 36., 46., 32., 13.,  6.]),\n",
       " array([-0.25986702,  0.37238622,  1.00463945,  1.63689269,  2.26914592,\n",
       "         2.90139915,  3.53365239,  4.16590562,  4.79815885,  5.43041209,\n",
       "         6.06266532]),\n",
       " <a list of 10 Patch objects>)"
      ]
     },
     "execution_count": 125,
     "metadata": {},
     "output_type": "execute_result"
    },
    {
     "data": {
      "image/png": "[encoded data removed]",
      "text/plain": [
       "<Figure size 432x288 with 1 Axes>"
      ]
     },
     "metadata": {},
     "output_type": "display_data"
    }
   ],
   "source": [
    "plt.hist(alcohol_intake)"
   ]
  },
  {
   "cell_type": "code",
   "execution_count": null,
   "metadata": {},
   "outputs": [],
   "source": []
  },
  {
   "cell_type": "code",
   "execution_count": null,
   "metadata": {},
   "outputs": [],
   "source": []
  },
  {
   "cell_type": "code",
   "execution_count": null,
   "metadata": {},
   "outputs": [],
   "source": [
    "\n",
    "plt.hist(alcohol_intake)"
   ]
  },
  {
   "cell_type": "code",
   "execution_count": null,
   "metadata": {},
   "outputs": [],
   "source": []
  },
  {
   "cell_type": "code",
   "execution_count": null,
   "metadata": {},
   "outputs": [],
   "source": []
  },
  {
   "cell_type": "code",
   "execution_count": null,
   "metadata": {},
   "outputs": [],
   "source": []
  },
  {
   "cell_type": "code",
   "execution_count": null,
   "metadata": {},
   "outputs": [],
   "source": []
  },
  {
   "cell_type": "code",
   "execution_count": null,
   "metadata": {},
   "outputs": [],
   "source": []
  },
  {
   "cell_type": "code",
   "execution_count": null,
   "metadata": {},
   "outputs": [],
   "source": []
  },
  {
   "cell_type": "code",
   "execution_count": null,
   "metadata": {},
   "outputs": [],
   "source": [
    "sim_possession_uni = np.random.default_rng().uniform(30,80,200)"
   ]
  },
  {
   "cell_type": "code",
   "execution_count": null,
   "metadata": {},
   "outputs": [],
   "source": [
    "plt.hist(sim_possession_uni)"
   ]
  },
  {
   "cell_type": "code",
   "execution_count": null,
   "metadata": {},
   "outputs": [],
   "source": [
    "sim_possession_norm"
   ]
  },
  {
   "cell_type": "code",
   "execution_count": null,
   "metadata": {},
   "outputs": [],
   "source": []
  },
  {
   "cell_type": "code",
   "execution_count": null,
   "metadata": {},
   "outputs": [],
   "source": []
  },
  {
   "cell_type": "code",
   "execution_count": null,
   "metadata": {},
   "outputs": [],
   "source": []
  },
  {
   "cell_type": "code",
   "execution_count": null,
   "metadata": {},
   "outputs": [],
   "source": []
  },
  {
   "cell_type": "code",
   "execution_count": null,
   "metadata": {},
   "outputs": [],
   "source": []
  },
  {
   "cell_type": "code",
   "execution_count": null,
   "metadata": {},
   "outputs": [],
   "source": []
  },
  {
   "cell_type": "code",
   "execution_count": null,
   "metadata": {},
   "outputs": [],
   "source": []
  },
  {
   "cell_type": "code",
   "execution_count": null,
   "metadata": {},
   "outputs": [],
   "source": []
  },
  {
   "cell_type": "code",
   "execution_count": null,
   "metadata": {},
   "outputs": [],
   "source": []
  },
  {
   "cell_type": "code",
   "execution_count": null,
   "metadata": {},
   "outputs": [],
   "source": []
  },
  {
   "cell_type": "code",
   "execution_count": null,
   "metadata": {},
   "outputs": [],
   "source": []
  },
  {
   "cell_type": "markdown",
   "metadata": {},
   "source": [
    "### References\n",
    "[1] footystats.org; https://footystats.org/download-stats-csv <br>\n",
    "[2] How to get column names in Pandas dataframe; https://www.geeksforgeeks.org/how-to-get-column-names-in-pandas-dataframe/ <br>\n",
    "[3] note.nkmk.me; https://note.nkmk.me/en/python-numpy-where/ <br>\n",
    "[4] stackoverflow.com; https://stackoverflow.com/questions/39109045/numpy-where-with-multiple-conditions <br>\n",
    "[5] stackoverflow.com; https://stackoverflow.com/questions/17071871/how-to-select-rows-from-a-dataframe-based-on-column-values <br>\n",
    "[6] pydata.org; pandas.Series.value_counts; https://pandas.pydata.org/pandas-docs/stable/reference/api/pandas.Series.value_counts.html <br>\n",
    "[7] pydata.org; pandas.Series.sort_index; https://pandas.pydata.org/pandas-docs/stable/reference/api/pandas.Series.sort_index.html <br>\n",
    "[8] numpy.org; Random Generator; https://numpy.org/doc/stable/reference/random/generator.html#numpy.random.default_rng <br>\n",
    "[9] geeksforgeeks.org; Creating a dataframe from Pandas series; https://www.geeksforgeeks.org/creating-a-dataframe-from-pandas-series/ <br>\n",
    "[10] Lynn, S.; Bar Plots in Python using Pandas DataFrames; https://www.shanelynn.ie/bar-plots-in-python-using-pandas-dataframes/ <br>\n",
    "[11] The Python Graph Gallery; Histogram with several variables | Seaborn; https://python-graph-gallery.com/25-histogram-with-several-variables-seaborn/ <br>\n",
    "[12] w3resource.com; Python: Get unique values from a list; https://www.w3resource.com/python-exercises/list/python-data-type-list-exercise-29.php[11] <br>\n",
    "[13] stackoverflow.com; https://stackoverflow.com/questions/46539431/np-random-choice-probabilities-do-not-sum-to-1 <br>\n",
    "[14] Romani, E; How to generate pseudo-random datasets in Python: start from scratch with Numpy & Faker; https://towardsdatascience.com/how-to-generate-pseudo-random-datasets-in-python-start-from-scratch-with-numpy-faker-c5661e3bc58b <br>\n"
   ]
  },
  {
   "cell_type": "code",
   "execution_count": null,
   "metadata": {},
   "outputs": [],
   "source": []
  },
  {
   "cell_type": "code",
   "execution_count": null,
   "metadata": {},
   "outputs": [],
   "source": []
  },
  {
   "cell_type": "code",
   "execution_count": null,
   "metadata": {},
   "outputs": [],
   "source": []
  },
  {
   "cell_type": "code",
   "execution_count": null,
   "metadata": {},
   "outputs": [],
   "source": []
  },
  {
   "cell_type": "code",
   "execution_count": null,
   "metadata": {},
   "outputs": [],
   "source": []
  },
  {
   "cell_type": "code",
   "execution_count": null,
   "metadata": {},
   "outputs": [],
   "source": []
  },
  {
   "cell_type": "markdown",
   "metadata": {},
   "source": [
    "**I will need to also have data for away team for comparison e.g. shots on goal, goals scored.**\n",
    "* e.g. difference between winning team shots scored and losing team shots scored. Shots scored as a stand alone may not be enough info\n",
    "* random.choice is well and good, but what about 7 goals? Distributions might be better. Work on binomial for goals scored.\n",
    "* add labels to all plots\n",
    "* More commentry on the investigations, especially the visualisation\n",
    "* fill missing values for lose shots\n",
    "* use subplots in Section 3 to view simulated and real pots side by side\n",
    "* can you set a maximum and minimum value in random.normal?\n",
    "* If possession = 25, they shoudn't really have 25 shots on goal. Sort out these anomalies\n",
    "* 200 samples of each... sort that out maybe. Make it proportional to original data set\n",
    "* Calculate std of alcohol intake. 2 seems good at the moment."
   ]
  },
  {
   "cell_type": "code",
   "execution_count": null,
   "metadata": {},
   "outputs": [],
   "source": []
  }
 ],
 "metadata": {
  "kernelspec": {
   "display_name": "Python 3",
   "language": "python",
   "name": "python3"
  },
  "language_info": {
   "codemirror_mode": {
    "name": "ipython",
    "version": 3
   },
   "file_extension": ".py",
   "mimetype": "text/x-python",
   "name": "python",
   "nbconvert_exporter": "python",
   "pygments_lexer": "ipython3",
   "version": "3.8.3"
  }
 },
 "nbformat": 4,
 "nbformat_minor": 4
}
